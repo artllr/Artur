{
 "cells": [
  {
   "cell_type": "markdown",
   "metadata": {
    "toc": true
   },
   "source": [
    "<h1>Table of Contents<span class=\"tocSkip\"></span></h1>\n",
    "<div class=\"toc\"><ul class=\"toc-item\"><li><span><a href=\"#Вводная-часть\" data-toc-modified-id=\"Вводная-часть-1\"><span class=\"toc-item-num\">1&nbsp;&nbsp;</span>Вводная часть</a></span></li><li><span><a href=\"#Приоритизация-гипотез\" data-toc-modified-id=\"Приоритизация-гипотез-2\"><span class=\"toc-item-num\">2&nbsp;&nbsp;</span>Приоритизация гипотез</a></span><ul class=\"toc-item\"><li><span><a href=\"#Откроем-и-проверим-данные\" data-toc-modified-id=\"Откроем-и-проверим-данные-2.1\"><span class=\"toc-item-num\">2.1&nbsp;&nbsp;</span>Откроем и проверим данные</a></span></li><li><span><a href=\"#Применим-фреймворк-ICE-для-приоритизации-гипотез-и-отсортируем-их-по-убыванию-приоритета\" data-toc-modified-id=\"Применим-фреймворк-ICE-для-приоритизации-гипотез-и-отсортируем-их-по-убыванию-приоритета-2.2\"><span class=\"toc-item-num\">2.2&nbsp;&nbsp;</span>Применим фреймворк <code>ICE</code> для приоритизации гипотез и отсортируем их по убыванию приоритета</a></span></li><li><span><a href=\"#Применим-фреймворк-RICE-для-приоритизации-гипотез-и-отсортируем-их-по-убыванию-приоритета\" data-toc-modified-id=\"Применим-фреймворк-RICE-для-приоритизации-гипотез-и-отсортируем-их-по-убыванию-приоритета-2.3\"><span class=\"toc-item-num\">2.3&nbsp;&nbsp;</span>Применим фреймворк <code>RICE</code> для приоритизации гипотез и отсортируем их по убыванию приоритета</a></span></li><li><span><a href=\"#Как-изменилась-приоритизация-гипотез-при-применении-RICE-вместо-ICE\" data-toc-modified-id=\"Как-изменилась-приоритизация-гипотез-при-применении-RICE-вместо-ICE-2.4\"><span class=\"toc-item-num\">2.4&nbsp;&nbsp;</span>Как изменилась приоритизация гипотез при применении <code>RICE</code> вместо <code>ICE</code></a></span></li></ul></li><li><span><a href=\"#Анализ-A/B-теста\" data-toc-modified-id=\"Анализ-A/B-теста-3\"><span class=\"toc-item-num\">3&nbsp;&nbsp;</span>Анализ A/B-теста</a></span><ul class=\"toc-item\"><li><span><a href=\"#Откроем-и-проверим-данные\" data-toc-modified-id=\"Откроем-и-проверим-данные-3.1\"><span class=\"toc-item-num\">3.1&nbsp;&nbsp;</span>Откроем и проверим данные</a></span></li><li><span><a href=\"#Построим-график-кумулятивной-выручки-по-группам\" data-toc-modified-id=\"Построим-график-кумулятивной-выручки-по-группам-3.2\"><span class=\"toc-item-num\">3.2&nbsp;&nbsp;</span>Построим график кумулятивной выручки по группам</a></span></li><li><span><a href=\"#Построим-график-кумулятивного-среднего-чека-по-группам\" data-toc-modified-id=\"Построим-график-кумулятивного-среднего-чека-по-группам-3.3\"><span class=\"toc-item-num\">3.3&nbsp;&nbsp;</span>Построим график кумулятивного среднего чека по группам</a></span></li><li><span><a href=\"#Построим-график-относительного-изменения-кумулятивного-среднего-чека-группы-B-к-группе-A\" data-toc-modified-id=\"Построим-график-относительного-изменения-кумулятивного-среднего-чека-группы-B-к-группе-A-3.4\"><span class=\"toc-item-num\">3.4&nbsp;&nbsp;</span>Построим график относительного изменения кумулятивного среднего чека группы B к группе A</a></span></li><li><span><a href=\"#Построим-график-кумулятивной-конверсии-по-группам\" data-toc-modified-id=\"Построим-график-кумулятивной-конверсии-по-группам-3.5\"><span class=\"toc-item-num\">3.5&nbsp;&nbsp;</span>Построим график кумулятивной конверсии по группам</a></span></li><li><span><a href=\"#Построим-график-относительного-изменения-кумулятивной-конверсии-группы-B-к-группе-A\" data-toc-modified-id=\"Построим-график-относительного-изменения-кумулятивной-конверсии-группы-B-к-группе-A-3.6\"><span class=\"toc-item-num\">3.6&nbsp;&nbsp;</span>Построим график относительного изменения кумулятивной конверсии группы B к группе A</a></span></li><li><span><a href=\"#Построим-точечный-график-количества-заказов-по-пользователям\" data-toc-modified-id=\"Построим-точечный-график-количества-заказов-по-пользователям-3.7\"><span class=\"toc-item-num\">3.7&nbsp;&nbsp;</span>Построим точечный график количества заказов по пользователям</a></span></li><li><span><a href=\"#Посчитаем-95-й-и-99-й-перцентили-количества-заказов-на-пользователя\" data-toc-modified-id=\"Посчитаем-95-й-и-99-й-перцентили-количества-заказов-на-пользователя-3.8\"><span class=\"toc-item-num\">3.8&nbsp;&nbsp;</span>Посчитаем 95-й и 99-й перцентили количества заказов на пользователя</a></span></li><li><span><a href=\"#Построим-точечный-график-стоимостей-заказов\" data-toc-modified-id=\"Построим-точечный-график-стоимостей-заказов-3.9\"><span class=\"toc-item-num\">3.9&nbsp;&nbsp;</span>Построим точечный график стоимостей заказов</a></span></li><li><span><a href=\"#Посчитаем-95-й-и-99-й-перцентили-стоимости-заказов\" data-toc-modified-id=\"Посчитаем-95-й-и-99-й-перцентили-стоимости-заказов-3.10\"><span class=\"toc-item-num\">3.10&nbsp;&nbsp;</span>Посчитаем 95-й и 99-й перцентили стоимости заказов</a></span></li><li><span><a href=\"#Посчитаем-статистическую-значимость-различий-в-конверсии-между-группами-по-«сырым»-данным,-т.е.--без-удаления-аномальных-пользователей\" data-toc-modified-id=\"Посчитаем-статистическую-значимость-различий-в-конверсии-между-группами-по-«сырым»-данным,-т.е.--без-удаления-аномальных-пользователей-3.11\"><span class=\"toc-item-num\">3.11&nbsp;&nbsp;</span>Посчитаем статистическую значимость различий в конверсии между группами по «сырым» данным, т.е.  без удаления аномальных пользователей</a></span></li><li><span><a href=\"#Посчитаем-статистическую-значимость-различий-в-среднем-чеке-заказа-между-группами-по-«сырым»-данным\" data-toc-modified-id=\"Посчитаем-статистическую-значимость-различий-в-среднем-чеке-заказа-между-группами-по-«сырым»-данным-3.12\"><span class=\"toc-item-num\">3.12&nbsp;&nbsp;</span>Посчитаем статистическую значимость различий в среднем чеке заказа между группами по «сырым» данным</a></span></li><li><span><a href=\"#Посчитаем-статистическую-значимость-различий-в-конверсии-между-группами-по-«очищенным»-данным\" data-toc-modified-id=\"Посчитаем-статистическую-значимость-различий-в-конверсии-между-группами-по-«очищенным»-данным-3.13\"><span class=\"toc-item-num\">3.13&nbsp;&nbsp;</span>Посчитаем статистическую значимость различий в конверсии между группами по «очищенным» данным</a></span></li><li><span><a href=\"#Посчитаем-статистическую-значимость-различий-в-среднем-чеке-заказа-между-группами-по-«очищенным»-данным\" data-toc-modified-id=\"Посчитаем-статистическую-значимость-различий-в-среднем-чеке-заказа-между-группами-по-«очищенным»-данным-3.14\"><span class=\"toc-item-num\">3.14&nbsp;&nbsp;</span>Посчитаем статистическую значимость различий в среднем чеке заказа между группами по «очищенным» данным</a></span></li><li><span><a href=\"#Принимаем-решение-по-результатам-теста\" data-toc-modified-id=\"Принимаем-решение-по-результатам-теста-3.15\"><span class=\"toc-item-num\">3.15&nbsp;&nbsp;</span>Принимаем решение по результатам теста</a></span></li></ul></li></ul></div>"
   ]
  },
  {
   "cell_type": "markdown",
   "metadata": {},
   "source": [
    "## Вводная часть"
   ]
  },
  {
   "cell_type": "markdown",
   "metadata": {},
   "source": [
    "Вместе с отделом маркетинга крупного итнтернет-магазина был подготовлен список гипотез для увеличения выручки\n",
    "\n",
    "**Цель исследования:**\n",
    "\n",
    "Необходимо приоритизировать гипотезы, запустить A/B-тест и проанализировать получившиеся результаты\n",
    "<br><br><br>\n",
    "**Ход исследования:**\n",
    "\n",
    "Данное исследование будет разбито на две части:\n",
    "- В первой части исследования в файле /datasets/hypothesis.csv имеется 9 гипотез по увеличению выручки интернет-магазина. На данном этапе необходимо произвести приоритизацию предложенных гипотез;\n",
    "<br><br>\n",
    "- В второй части исследования необходимо после проведения A/B-теста и получения результатов, которые описаны в файлах /datasets/orders.csv и /datasets/visitors.csv, проанализировать получившиеся результаты\n",
    "<br><br>\n",
    "\n",
    "Перед началом работ неободимо проверить данные на ошибки и оценить их влияние на дальнейшее исследование, а уже на этапе предобработки найти возможность исправить самые критичные ошибки данных\n",
    "\n",
    "После каждого проделанного шага будут оставлены комментарии, а после каждой части исследования - необходимые выводы. В конце всего исследования будут даны необходимые рекомендации"
   ]
  },
  {
   "cell_type": "markdown",
   "metadata": {},
   "source": [
    "## Приоритизация гипотез"
   ]
  },
  {
   "cell_type": "markdown",
   "metadata": {},
   "source": [
    "### Откроем и проверим данные"
   ]
  },
  {
   "cell_type": "markdown",
   "metadata": {},
   "source": [
    "<br>*Откроем необходимые библиотеки:*"
   ]
  },
  {
   "cell_type": "code",
   "execution_count": 1,
   "metadata": {},
   "outputs": [],
   "source": [
    "import pandas as pd\n",
    "import datetime as dt\n",
    "import numpy as np\n",
    "import matplotlib.pyplot as plt\n",
    "from pandas.plotting import register_matplotlib_converters\n",
    "import warnings\n",
    "import scipy.stats as stats\n",
    "# конвертеры, которые позволяют использовать типы pandas в matplotlib  \n",
    "register_matplotlib_converters()"
   ]
  },
  {
   "cell_type": "markdown",
   "metadata": {},
   "source": [
    "<br>*Загрузим необходимые данные, выведим их на экран:*"
   ]
  },
  {
   "cell_type": "code",
   "execution_count": 2,
   "metadata": {
    "scrolled": true
   },
   "outputs": [
    {
     "data": {
      "text/html": [
       "<div>\n",
       "<style scoped>\n",
       "    .dataframe tbody tr th:only-of-type {\n",
       "        vertical-align: middle;\n",
       "    }\n",
       "\n",
       "    .dataframe tbody tr th {\n",
       "        vertical-align: top;\n",
       "    }\n",
       "\n",
       "    .dataframe thead th {\n",
       "        text-align: right;\n",
       "    }\n",
       "</style>\n",
       "<table border=\"1\" class=\"dataframe\">\n",
       "  <thead>\n",
       "    <tr style=\"text-align: right;\">\n",
       "      <th></th>\n",
       "      <th>Hypothesis</th>\n",
       "      <th>Reach</th>\n",
       "      <th>Impact</th>\n",
       "      <th>Confidence</th>\n",
       "      <th>Efforts</th>\n",
       "    </tr>\n",
       "  </thead>\n",
       "  <tbody>\n",
       "    <tr>\n",
       "      <th>0</th>\n",
       "      <td>Добавить два новых канала привлечения трафика,...</td>\n",
       "      <td>3</td>\n",
       "      <td>10</td>\n",
       "      <td>8</td>\n",
       "      <td>6</td>\n",
       "    </tr>\n",
       "    <tr>\n",
       "      <th>1</th>\n",
       "      <td>Запустить собственную службу доставки, что сок...</td>\n",
       "      <td>2</td>\n",
       "      <td>5</td>\n",
       "      <td>4</td>\n",
       "      <td>10</td>\n",
       "    </tr>\n",
       "    <tr>\n",
       "      <th>2</th>\n",
       "      <td>Добавить блоки рекомендаций товаров на сайт ин...</td>\n",
       "      <td>8</td>\n",
       "      <td>3</td>\n",
       "      <td>7</td>\n",
       "      <td>3</td>\n",
       "    </tr>\n",
       "    <tr>\n",
       "      <th>3</th>\n",
       "      <td>Изменить структура категорий, что увеличит кон...</td>\n",
       "      <td>8</td>\n",
       "      <td>3</td>\n",
       "      <td>3</td>\n",
       "      <td>8</td>\n",
       "    </tr>\n",
       "    <tr>\n",
       "      <th>4</th>\n",
       "      <td>Изменить цвет фона главной страницы, чтобы уве...</td>\n",
       "      <td>3</td>\n",
       "      <td>1</td>\n",
       "      <td>1</td>\n",
       "      <td>1</td>\n",
       "    </tr>\n",
       "    <tr>\n",
       "      <th>5</th>\n",
       "      <td>Добавить страницу отзывов клиентов о магазине,...</td>\n",
       "      <td>3</td>\n",
       "      <td>2</td>\n",
       "      <td>2</td>\n",
       "      <td>3</td>\n",
       "    </tr>\n",
       "    <tr>\n",
       "      <th>6</th>\n",
       "      <td>Показать на главной странице баннеры с актуаль...</td>\n",
       "      <td>5</td>\n",
       "      <td>3</td>\n",
       "      <td>8</td>\n",
       "      <td>3</td>\n",
       "    </tr>\n",
       "    <tr>\n",
       "      <th>7</th>\n",
       "      <td>Добавить форму подписки на все основные страни...</td>\n",
       "      <td>10</td>\n",
       "      <td>7</td>\n",
       "      <td>8</td>\n",
       "      <td>5</td>\n",
       "    </tr>\n",
       "    <tr>\n",
       "      <th>8</th>\n",
       "      <td>Запустить акцию, дающую скидку на товар в день...</td>\n",
       "      <td>1</td>\n",
       "      <td>9</td>\n",
       "      <td>9</td>\n",
       "      <td>5</td>\n",
       "    </tr>\n",
       "  </tbody>\n",
       "</table>\n",
       "</div>"
      ],
      "text/plain": [
       "                                          Hypothesis  Reach  Impact  \\\n",
       "0  Добавить два новых канала привлечения трафика,...      3      10   \n",
       "1  Запустить собственную службу доставки, что сок...      2       5   \n",
       "2  Добавить блоки рекомендаций товаров на сайт ин...      8       3   \n",
       "3  Изменить структура категорий, что увеличит кон...      8       3   \n",
       "4  Изменить цвет фона главной страницы, чтобы уве...      3       1   \n",
       "5  Добавить страницу отзывов клиентов о магазине,...      3       2   \n",
       "6  Показать на главной странице баннеры с актуаль...      5       3   \n",
       "7  Добавить форму подписки на все основные страни...     10       7   \n",
       "8  Запустить акцию, дающую скидку на товар в день...      1       9   \n",
       "\n",
       "   Confidence  Efforts  \n",
       "0           8        6  \n",
       "1           4       10  \n",
       "2           7        3  \n",
       "3           3        8  \n",
       "4           1        1  \n",
       "5           2        3  \n",
       "6           8        3  \n",
       "7           8        5  \n",
       "8           9        5  "
      ]
     },
     "metadata": {},
     "output_type": "display_data"
    },
    {
     "name": "stdout",
     "output_type": "stream",
     "text": [
      "<class 'pandas.core.frame.DataFrame'>\n",
      "RangeIndex: 9 entries, 0 to 8\n",
      "Data columns (total 5 columns):\n",
      " #   Column      Non-Null Count  Dtype \n",
      "---  ------      --------------  ----- \n",
      " 0   Hypothesis  9 non-null      object\n",
      " 1   Reach       9 non-null      int64 \n",
      " 2   Impact      9 non-null      int64 \n",
      " 3   Confidence  9 non-null      int64 \n",
      " 4   Efforts     9 non-null      int64 \n",
      "dtypes: int64(4), object(1)\n",
      "memory usage: 488.0+ bytes\n"
     ]
    }
   ],
   "source": [
    "ht = pd.read_csv('/datasets/hypothesis.csv')\n",
    "\n",
    "display (ht.head(10))\n",
    "ht.info()"
   ]
  },
  {
   "cell_type": "markdown",
   "metadata": {},
   "source": [
    "**Предварительные результаты после обзора данных:**\n",
    "- Дана таблица, состоящая из 5 столбов и 9 строк;\n",
    "- Тип данных: *int64(4)*, *object(1)*;\n",
    "- Размер данных: 488.0+ bytes;\n",
    "- Название и описание соддержания столбцов:\n",
    " - Hypothesis — краткое описание гипотезы;\n",
    " - Reach — охват пользователей по 10-балльной шкале;\n",
    " - Impact — влияние на пользователей по 10-балльной шкале;\n",
    " - Confidence — уверенность в гипотезе по 10-балльной шкале;\n",
    " - Efforts — затраты ресурсов на проверку гипотезы по 10-балльной шкале. Чем больше значение Efforts, тем дороже проверка гипотезы;\n",
    "\n",
    " \n",
    "**Необходимая предобработка заключается в следующем:**\n",
    "- Привести названия столбцов к нижнему регистру;\n",
    "- Вывести на экран полное оисание гипотез на экран с целью их изучения"
   ]
  },
  {
   "cell_type": "markdown",
   "metadata": {},
   "source": [
    "<br>*Заменим названия столбцов (приведем их все к нижнему регистру):*"
   ]
  },
  {
   "cell_type": "code",
   "execution_count": 3,
   "metadata": {},
   "outputs": [
    {
     "name": "stdout",
     "output_type": "stream",
     "text": [
      "Index(['hypothesis', 'reach', 'impact', 'confidence', 'efforts'], dtype='object')\n"
     ]
    }
   ],
   "source": [
    "ht.columns = ht.columns.str.lower()\n",
    "print(ht.columns)"
   ]
  },
  {
   "cell_type": "markdown",
   "metadata": {},
   "source": [
    "<br>*Выведем на экран полное оисание гипотез:*"
   ]
  },
  {
   "cell_type": "code",
   "execution_count": 4,
   "metadata": {},
   "outputs": [
    {
     "data": {
      "text/plain": [
       "array(['Добавить два новых канала привлечения трафика, что позволит привлекать на 30% больше пользователей',\n",
       "       'Запустить собственную службу доставки, что сократит срок доставки заказов',\n",
       "       'Добавить блоки рекомендаций товаров на сайт интернет магазина, чтобы повысить конверсию и средний чек заказа',\n",
       "       'Изменить структура категорий, что увеличит конверсию, т.к. пользователи быстрее найдут нужный товар',\n",
       "       'Изменить цвет фона главной страницы, чтобы увеличить вовлеченность пользователей',\n",
       "       'Добавить страницу отзывов клиентов о магазине, что позволит увеличить количество заказов',\n",
       "       'Показать на главной странице баннеры с актуальными акциями и распродажами, чтобы увеличить конверсию',\n",
       "       'Добавить форму подписки на все основные страницы, чтобы собрать базу клиентов для email-рассылок',\n",
       "       'Запустить акцию, дающую скидку на товар в день рождения'],\n",
       "      dtype=object)"
      ]
     },
     "execution_count": 4,
     "metadata": {},
     "output_type": "execute_result"
    }
   ],
   "source": [
    "ht['hypothesis'].unique()"
   ]
  },
  {
   "cell_type": "markdown",
   "metadata": {},
   "source": [
    "### Применим фреймворк `ICE` для приоритизации гипотез и отсортируем их по убыванию приоритета"
   ]
  },
  {
   "cell_type": "markdown",
   "metadata": {},
   "source": [
    "*ICE (от англ. impact, confidence, effort / ease «влияние, уверенность, усилия / простота») — один из самых популярных способов приоритизации задач* \n",
    "\n",
    "*Определим его для каждой предложенной гипотезы и отсортируем их по убыванию приоритета:*"
   ]
  },
  {
   "cell_type": "code",
   "execution_count": 5,
   "metadata": {
    "scrolled": true
   },
   "outputs": [
    {
     "data": {
      "text/html": [
       "<div>\n",
       "<style scoped>\n",
       "    .dataframe tbody tr th:only-of-type {\n",
       "        vertical-align: middle;\n",
       "    }\n",
       "\n",
       "    .dataframe tbody tr th {\n",
       "        vertical-align: top;\n",
       "    }\n",
       "\n",
       "    .dataframe thead th {\n",
       "        text-align: right;\n",
       "    }\n",
       "</style>\n",
       "<table border=\"1\" class=\"dataframe\">\n",
       "  <thead>\n",
       "    <tr style=\"text-align: right;\">\n",
       "      <th></th>\n",
       "      <th>hypothesis</th>\n",
       "      <th>ICE</th>\n",
       "    </tr>\n",
       "  </thead>\n",
       "  <tbody>\n",
       "    <tr>\n",
       "      <th>8</th>\n",
       "      <td>Запустить акцию, дающую скидку на товар в день...</td>\n",
       "      <td>16.200000</td>\n",
       "    </tr>\n",
       "    <tr>\n",
       "      <th>0</th>\n",
       "      <td>Добавить два новых канала привлечения трафика,...</td>\n",
       "      <td>13.333333</td>\n",
       "    </tr>\n",
       "    <tr>\n",
       "      <th>7</th>\n",
       "      <td>Добавить форму подписки на все основные страни...</td>\n",
       "      <td>11.200000</td>\n",
       "    </tr>\n",
       "    <tr>\n",
       "      <th>6</th>\n",
       "      <td>Показать на главной странице баннеры с актуаль...</td>\n",
       "      <td>8.000000</td>\n",
       "    </tr>\n",
       "    <tr>\n",
       "      <th>2</th>\n",
       "      <td>Добавить блоки рекомендаций товаров на сайт ин...</td>\n",
       "      <td>7.000000</td>\n",
       "    </tr>\n",
       "    <tr>\n",
       "      <th>1</th>\n",
       "      <td>Запустить собственную службу доставки, что сок...</td>\n",
       "      <td>2.000000</td>\n",
       "    </tr>\n",
       "    <tr>\n",
       "      <th>5</th>\n",
       "      <td>Добавить страницу отзывов клиентов о магазине,...</td>\n",
       "      <td>1.333333</td>\n",
       "    </tr>\n",
       "    <tr>\n",
       "      <th>3</th>\n",
       "      <td>Изменить структура категорий, что увеличит кон...</td>\n",
       "      <td>1.125000</td>\n",
       "    </tr>\n",
       "    <tr>\n",
       "      <th>4</th>\n",
       "      <td>Изменить цвет фона главной страницы, чтобы уве...</td>\n",
       "      <td>1.000000</td>\n",
       "    </tr>\n",
       "  </tbody>\n",
       "</table>\n",
       "</div>"
      ],
      "text/plain": [
       "                                          hypothesis        ICE\n",
       "8  Запустить акцию, дающую скидку на товар в день...  16.200000\n",
       "0  Добавить два новых канала привлечения трафика,...  13.333333\n",
       "7  Добавить форму подписки на все основные страни...  11.200000\n",
       "6  Показать на главной странице баннеры с актуаль...   8.000000\n",
       "2  Добавить блоки рекомендаций товаров на сайт ин...   7.000000\n",
       "1  Запустить собственную службу доставки, что сок...   2.000000\n",
       "5  Добавить страницу отзывов клиентов о магазине,...   1.333333\n",
       "3  Изменить структура категорий, что увеличит кон...   1.125000\n",
       "4  Изменить цвет фона главной страницы, чтобы уве...   1.000000"
      ]
     },
     "metadata": {},
     "output_type": "display_data"
    }
   ],
   "source": [
    "ht['ICE'] = ht['impact'] * ht['confidence'] / ht['efforts']\n",
    "\n",
    "display(ht[['hypothesis', 'ICE']].sort_values(by='ICE', ascending=False))"
   ]
  },
  {
   "cell_type": "markdown",
   "metadata": {},
   "source": [
    "**Вывод:** наиболее перспективные гипотезы по ICE: 8, 0, 7, 6, 2"
   ]
  },
  {
   "cell_type": "markdown",
   "metadata": {},
   "source": [
    "### Применим фреймворк `RICE` для приоритизации гипотез и отсортируем их по убыванию приоритета"
   ]
  },
  {
   "cell_type": "markdown",
   "metadata": {},
   "source": [
    "<br>*У метода ICE есть модификация RICE (R от англ. reach, «охват»)*\n",
    "\n",
    "*Так же определим его для каждой предложенной гипотезы и отсортируем их по убыванию приоритета:*"
   ]
  },
  {
   "cell_type": "code",
   "execution_count": 6,
   "metadata": {},
   "outputs": [
    {
     "name": "stdout",
     "output_type": "stream",
     "text": [
      "                                          hypothesis   RICE\n",
      "7  Добавить форму подписки на все основные страни...  112.0\n",
      "2  Добавить блоки рекомендаций товаров на сайт ин...   56.0\n",
      "0  Добавить два новых канала привлечения трафика,...   40.0\n",
      "6  Показать на главной странице баннеры с актуаль...   40.0\n",
      "8  Запустить акцию, дающую скидку на товар в день...   16.2\n",
      "3  Изменить структура категорий, что увеличит кон...    9.0\n",
      "1  Запустить собственную службу доставки, что сок...    4.0\n",
      "5  Добавить страницу отзывов клиентов о магазине,...    4.0\n",
      "4  Изменить цвет фона главной страницы, чтобы уве...    3.0\n"
     ]
    }
   ],
   "source": [
    "ht['RICE'] = ht['reach'] * ht['impact'] * ht['confidence'] / ht['efforts']\n",
    "\n",
    "print(ht[['hypothesis', 'RICE']].sort_values(by='RICE', ascending=False))"
   ]
  },
  {
   "cell_type": "markdown",
   "metadata": {},
   "source": [
    "**Вывод:** наиболее перспективные гипотезы по RICE: 7, 2, 0, 6, 8"
   ]
  },
  {
   "cell_type": "markdown",
   "metadata": {},
   "source": [
    "### Как изменилась приоритизация гипотез при применении `RICE` вместо `ICE`"
   ]
  },
  {
   "cell_type": "markdown",
   "metadata": {},
   "source": [
    "\n",
    "**После изучения двух способов приоритизации задач (ICE, RICE) можно сказать следующее:**\n",
    "- наиболее перспективные гипотезы по ICE: 8, 0, 7, 6, 2;\n",
    "- наиболее перспективные гипотезы по RICE: 7, 2, 0, 6, 8;\n",
    "- причина почему перспективные гипотезы поменяли приоритизацию при применении `RICE` вместо `ICE`: у метода `RICE` в числителе стоит значение \"reach\", т.е. охват. Поэтому кроме силы гипотезы необходимо следить за его охватом среди пользователей"
   ]
  },
  {
   "cell_type": "markdown",
   "metadata": {},
   "source": [
    "## Анализ A/B-теста"
   ]
  },
  {
   "cell_type": "markdown",
   "metadata": {},
   "source": [
    "### Откроем и проверим данные"
   ]
  },
  {
   "cell_type": "markdown",
   "metadata": {},
   "source": [
    "*Загрузим необходимые данные, выведим их на экран:*"
   ]
  },
  {
   "cell_type": "code",
   "execution_count": 7,
   "metadata": {},
   "outputs": [
    {
     "data": {
      "text/html": [
       "<div>\n",
       "<style scoped>\n",
       "    .dataframe tbody tr th:only-of-type {\n",
       "        vertical-align: middle;\n",
       "    }\n",
       "\n",
       "    .dataframe tbody tr th {\n",
       "        vertical-align: top;\n",
       "    }\n",
       "\n",
       "    .dataframe thead th {\n",
       "        text-align: right;\n",
       "    }\n",
       "</style>\n",
       "<table border=\"1\" class=\"dataframe\">\n",
       "  <thead>\n",
       "    <tr style=\"text-align: right;\">\n",
       "      <th></th>\n",
       "      <th>transactionId</th>\n",
       "      <th>visitorId</th>\n",
       "      <th>date</th>\n",
       "      <th>revenue</th>\n",
       "      <th>group</th>\n",
       "    </tr>\n",
       "  </thead>\n",
       "  <tbody>\n",
       "    <tr>\n",
       "      <th>0</th>\n",
       "      <td>3667963787</td>\n",
       "      <td>3312258926</td>\n",
       "      <td>2019-08-15</td>\n",
       "      <td>1650</td>\n",
       "      <td>B</td>\n",
       "    </tr>\n",
       "    <tr>\n",
       "      <th>1</th>\n",
       "      <td>2804400009</td>\n",
       "      <td>3642806036</td>\n",
       "      <td>2019-08-15</td>\n",
       "      <td>730</td>\n",
       "      <td>B</td>\n",
       "    </tr>\n",
       "    <tr>\n",
       "      <th>2</th>\n",
       "      <td>2961555356</td>\n",
       "      <td>4069496402</td>\n",
       "      <td>2019-08-15</td>\n",
       "      <td>400</td>\n",
       "      <td>A</td>\n",
       "    </tr>\n",
       "    <tr>\n",
       "      <th>3</th>\n",
       "      <td>3797467345</td>\n",
       "      <td>1196621759</td>\n",
       "      <td>2019-08-15</td>\n",
       "      <td>9759</td>\n",
       "      <td>B</td>\n",
       "    </tr>\n",
       "    <tr>\n",
       "      <th>4</th>\n",
       "      <td>2282983706</td>\n",
       "      <td>2322279887</td>\n",
       "      <td>2019-08-15</td>\n",
       "      <td>2308</td>\n",
       "      <td>B</td>\n",
       "    </tr>\n",
       "  </tbody>\n",
       "</table>\n",
       "</div>"
      ],
      "text/plain": [
       "   transactionId   visitorId        date  revenue group\n",
       "0     3667963787  3312258926  2019-08-15     1650     B\n",
       "1     2804400009  3642806036  2019-08-15      730     B\n",
       "2     2961555356  4069496402  2019-08-15      400     A\n",
       "3     3797467345  1196621759  2019-08-15     9759     B\n",
       "4     2282983706  2322279887  2019-08-15     2308     B"
      ]
     },
     "metadata": {},
     "output_type": "display_data"
    },
    {
     "data": {
      "text/html": [
       "<div>\n",
       "<style scoped>\n",
       "    .dataframe tbody tr th:only-of-type {\n",
       "        vertical-align: middle;\n",
       "    }\n",
       "\n",
       "    .dataframe tbody tr th {\n",
       "        vertical-align: top;\n",
       "    }\n",
       "\n",
       "    .dataframe thead th {\n",
       "        text-align: right;\n",
       "    }\n",
       "</style>\n",
       "<table border=\"1\" class=\"dataframe\">\n",
       "  <thead>\n",
       "    <tr style=\"text-align: right;\">\n",
       "      <th></th>\n",
       "      <th>date</th>\n",
       "      <th>group</th>\n",
       "      <th>visitors</th>\n",
       "    </tr>\n",
       "  </thead>\n",
       "  <tbody>\n",
       "    <tr>\n",
       "      <th>0</th>\n",
       "      <td>2019-08-01</td>\n",
       "      <td>A</td>\n",
       "      <td>719</td>\n",
       "    </tr>\n",
       "    <tr>\n",
       "      <th>1</th>\n",
       "      <td>2019-08-02</td>\n",
       "      <td>A</td>\n",
       "      <td>619</td>\n",
       "    </tr>\n",
       "    <tr>\n",
       "      <th>2</th>\n",
       "      <td>2019-08-03</td>\n",
       "      <td>A</td>\n",
       "      <td>507</td>\n",
       "    </tr>\n",
       "    <tr>\n",
       "      <th>3</th>\n",
       "      <td>2019-08-04</td>\n",
       "      <td>A</td>\n",
       "      <td>717</td>\n",
       "    </tr>\n",
       "    <tr>\n",
       "      <th>4</th>\n",
       "      <td>2019-08-05</td>\n",
       "      <td>A</td>\n",
       "      <td>756</td>\n",
       "    </tr>\n",
       "  </tbody>\n",
       "</table>\n",
       "</div>"
      ],
      "text/plain": [
       "         date group  visitors\n",
       "0  2019-08-01     A       719\n",
       "1  2019-08-02     A       619\n",
       "2  2019-08-03     A       507\n",
       "3  2019-08-04     A       717\n",
       "4  2019-08-05     A       756"
      ]
     },
     "metadata": {},
     "output_type": "display_data"
    },
    {
     "name": "stdout",
     "output_type": "stream",
     "text": [
      "<class 'pandas.core.frame.DataFrame'>\n",
      "RangeIndex: 1197 entries, 0 to 1196\n",
      "Data columns (total 5 columns):\n",
      " #   Column         Non-Null Count  Dtype \n",
      "---  ------         --------------  ----- \n",
      " 0   transactionId  1197 non-null   int64 \n",
      " 1   visitorId      1197 non-null   int64 \n",
      " 2   date           1197 non-null   object\n",
      " 3   revenue        1197 non-null   int64 \n",
      " 4   group          1197 non-null   object\n",
      "dtypes: int64(3), object(2)\n",
      "memory usage: 46.9+ KB\n",
      "<class 'pandas.core.frame.DataFrame'>\n",
      "RangeIndex: 62 entries, 0 to 61\n",
      "Data columns (total 3 columns):\n",
      " #   Column    Non-Null Count  Dtype \n",
      "---  ------    --------------  ----- \n",
      " 0   date      62 non-null     object\n",
      " 1   group     62 non-null     object\n",
      " 2   visitors  62 non-null     int64 \n",
      "dtypes: int64(1), object(2)\n",
      "memory usage: 1.6+ KB\n",
      "None None\n"
     ]
    }
   ],
   "source": [
    "orders = pd.read_csv('/datasets/orders.csv', sep=',')\n",
    "visitors = pd.read_csv('/datasets/visitors.csv', sep=',')\n",
    "\n",
    "display (orders.head(), visitors.head())\n",
    "print (orders.info(), visitors.info())"
   ]
  },
  {
   "cell_type": "markdown",
   "metadata": {},
   "source": [
    "**Предварительные результаты после обзора данных:**\n",
    "- Даны две таблицы, которым дали название `orders` (информация о заказах) и `visitors` (информация о проведенном А/В-тесте);\n",
    "- Название и описание соддержания столбцов:\n",
    " 1. `orders`:\n",
    "   - transactionId — идентификатор заказа;\n",
    "   - visitorId — идентификатор пользователя, совершившего заказ;\n",
    "   - date — дата, когда был совершён заказ;\n",
    "   - revenue — выручка заказа;\n",
    "   - group — группа A/B-теста, в которую попал заказ.\n",
    "<br>\n",
    " 2. `visitors`:\n",
    "   - date — дата;\n",
    "   - group — группа A/B-теста;\n",
    "   - visitors — количество пользователей в указанную дату в указанной группе A/B-теста \n",
    "\n",
    "\n",
    "**Неободимая предобработка заключается в следующем:**\n",
    "\n",
    "- привести названия столбцов `transactionId`, `visitorId` к нижнему, \"змеиному\" регистру;\n",
    "- преобразовать данные о времени;\n",
    "- проверить файлы на наличие дубликатов и пропусков по столбцам, в случае их нахождения - удалить"
   ]
  },
  {
   "cell_type": "markdown",
   "metadata": {},
   "source": [
    "<br>*Приведем названия столбцов* `transactionId`, `visitorId` *к нижнему, \"змеиному\" регистру:*"
   ]
  },
  {
   "cell_type": "code",
   "execution_count": 8,
   "metadata": {},
   "outputs": [
    {
     "name": "stdout",
     "output_type": "stream",
     "text": [
      "Index(['transaction_id', 'visitor_id', 'date', 'revenue', 'group'], dtype='object')\n"
     ]
    }
   ],
   "source": [
    "orders = orders.rename(columns={'transactionId': 'transaction_id', 'visitorId': 'visitor_id'})\n",
    "\n",
    "print(orders.columns)"
   ]
  },
  {
   "cell_type": "markdown",
   "metadata": {},
   "source": [
    "<br>*Преобразуем данные о времени:*"
   ]
  },
  {
   "cell_type": "code",
   "execution_count": 9,
   "metadata": {
    "scrolled": false
   },
   "outputs": [
    {
     "name": "stdout",
     "output_type": "stream",
     "text": [
      "datetime64[ns]\n",
      "datetime64[ns]\n"
     ]
    }
   ],
   "source": [
    "orders['date'] = orders['date'].map(lambda x: dt.datetime.strptime(x, '%Y-%m-%d'))\n",
    "visitors['date'] = visitors['date'].map(lambda x: dt.datetime.strptime(x, '%Y-%m-%d'))\n",
    "\n",
    "print(orders['date'].dtype)\n",
    "print(visitors['date'].dtype)"
   ]
  },
  {
   "cell_type": "markdown",
   "metadata": {},
   "source": [
    "<br>*Проверим файлы на наличие дубликатов и пропусков по столбцам:*"
   ]
  },
  {
   "cell_type": "code",
   "execution_count": 10,
   "metadata": {},
   "outputs": [
    {
     "name": "stdout",
     "output_type": "stream",
     "text": [
      "Количество дубликатов:\n",
      "0\n",
      "0\n",
      "Количество пропусков по столбцам:\n",
      "transaction_id    0\n",
      "visitor_id        0\n",
      "date              0\n",
      "revenue           0\n",
      "group             0\n",
      "dtype: int64\n",
      "date        0\n",
      "group       0\n",
      "visitors    0\n",
      "dtype: int64\n"
     ]
    }
   ],
   "source": [
    "print('Количество дубликатов:')\n",
    "print(orders.duplicated().sum())\n",
    "print(visitors.duplicated().sum())\n",
    "\n",
    "print('Количество пропусков по столбцам:')\n",
    "print(orders.isna().sum())\n",
    "print(visitors.isna().sum())"
   ]
  },
  {
   "cell_type": "markdown",
   "metadata": {},
   "source": [
    "### Построим график кумулятивной выручки по группам"
   ]
  },
  {
   "cell_type": "markdown",
   "metadata": {},
   "source": [
    "*Создадим датафрейм datesGroups с уникальными парами значений 'date' и 'group', таблицы `orders` без дубликатов:*"
   ]
  },
  {
   "cell_type": "code",
   "execution_count": 11,
   "metadata": {
    "scrolled": false
   },
   "outputs": [
    {
     "data": {
      "text/html": [
       "<div>\n",
       "<style scoped>\n",
       "    .dataframe tbody tr th:only-of-type {\n",
       "        vertical-align: middle;\n",
       "    }\n",
       "\n",
       "    .dataframe tbody tr th {\n",
       "        vertical-align: top;\n",
       "    }\n",
       "\n",
       "    .dataframe thead th {\n",
       "        text-align: right;\n",
       "    }\n",
       "</style>\n",
       "<table border=\"1\" class=\"dataframe\">\n",
       "  <thead>\n",
       "    <tr style=\"text-align: right;\">\n",
       "      <th></th>\n",
       "      <th>date</th>\n",
       "      <th>group</th>\n",
       "    </tr>\n",
       "  </thead>\n",
       "  <tbody>\n",
       "    <tr>\n",
       "      <th>0</th>\n",
       "      <td>2019-08-15</td>\n",
       "      <td>B</td>\n",
       "    </tr>\n",
       "    <tr>\n",
       "      <th>2</th>\n",
       "      <td>2019-08-15</td>\n",
       "      <td>A</td>\n",
       "    </tr>\n",
       "    <tr>\n",
       "      <th>45</th>\n",
       "      <td>2019-08-16</td>\n",
       "      <td>A</td>\n",
       "    </tr>\n",
       "    <tr>\n",
       "      <th>47</th>\n",
       "      <td>2019-08-16</td>\n",
       "      <td>B</td>\n",
       "    </tr>\n",
       "    <tr>\n",
       "      <th>55</th>\n",
       "      <td>2019-08-01</td>\n",
       "      <td>A</td>\n",
       "    </tr>\n",
       "  </tbody>\n",
       "</table>\n",
       "</div>"
      ],
      "text/plain": [
       "         date group\n",
       "0  2019-08-15     B\n",
       "2  2019-08-15     A\n",
       "45 2019-08-16     A\n",
       "47 2019-08-16     B\n",
       "55 2019-08-01     A"
      ]
     },
     "execution_count": 11,
     "metadata": {},
     "output_type": "execute_result"
    }
   ],
   "source": [
    "datesGroups = orders[['date','group']].drop_duplicates()\n",
    "datesGroups.head()"
   ]
  },
  {
   "cell_type": "markdown",
   "metadata": {},
   "source": [
    " <br>*Объявим переменную* `ordersAggregated`, *содержащую:*\n",
    "- *дату;*\n",
    "- *группу A/B-теста;*\n",
    "- *число уникальных заказов в группе теста по указанную дату включительно;*\n",
    "- *число уникальных пользователей, совершивших хотя бы 1 заказ в группе теста по указанную дату включительно;*\n",
    "- *суммарную выручку заказов в группе теста по указанную дату включительно*"
   ]
  },
  {
   "cell_type": "code",
   "execution_count": 12,
   "metadata": {
    "scrolled": true
   },
   "outputs": [
    {
     "data": {
      "text/html": [
       "<div>\n",
       "<style scoped>\n",
       "    .dataframe tbody tr th:only-of-type {\n",
       "        vertical-align: middle;\n",
       "    }\n",
       "\n",
       "    .dataframe tbody tr th {\n",
       "        vertical-align: top;\n",
       "    }\n",
       "\n",
       "    .dataframe thead th {\n",
       "        text-align: right;\n",
       "    }\n",
       "</style>\n",
       "<table border=\"1\" class=\"dataframe\">\n",
       "  <thead>\n",
       "    <tr style=\"text-align: right;\">\n",
       "      <th></th>\n",
       "      <th>date</th>\n",
       "      <th>group</th>\n",
       "      <th>transaction_id</th>\n",
       "      <th>visitor_id</th>\n",
       "      <th>revenue</th>\n",
       "    </tr>\n",
       "  </thead>\n",
       "  <tbody>\n",
       "    <tr>\n",
       "      <th>55</th>\n",
       "      <td>2019-08-01</td>\n",
       "      <td>A</td>\n",
       "      <td>24</td>\n",
       "      <td>20</td>\n",
       "      <td>148579</td>\n",
       "    </tr>\n",
       "    <tr>\n",
       "      <th>66</th>\n",
       "      <td>2019-08-01</td>\n",
       "      <td>B</td>\n",
       "      <td>21</td>\n",
       "      <td>20</td>\n",
       "      <td>101217</td>\n",
       "    </tr>\n",
       "    <tr>\n",
       "      <th>175</th>\n",
       "      <td>2019-08-02</td>\n",
       "      <td>A</td>\n",
       "      <td>44</td>\n",
       "      <td>38</td>\n",
       "      <td>242401</td>\n",
       "    </tr>\n",
       "    <tr>\n",
       "      <th>173</th>\n",
       "      <td>2019-08-02</td>\n",
       "      <td>B</td>\n",
       "      <td>45</td>\n",
       "      <td>43</td>\n",
       "      <td>266748</td>\n",
       "    </tr>\n",
       "    <tr>\n",
       "      <th>291</th>\n",
       "      <td>2019-08-03</td>\n",
       "      <td>A</td>\n",
       "      <td>68</td>\n",
       "      <td>62</td>\n",
       "      <td>354874</td>\n",
       "    </tr>\n",
       "    <tr>\n",
       "      <th>...</th>\n",
       "      <td>...</td>\n",
       "      <td>...</td>\n",
       "      <td>...</td>\n",
       "      <td>...</td>\n",
       "      <td>...</td>\n",
       "    </tr>\n",
       "    <tr>\n",
       "      <th>496</th>\n",
       "      <td>2019-08-29</td>\n",
       "      <td>B</td>\n",
       "      <td>596</td>\n",
       "      <td>544</td>\n",
       "      <td>5559398</td>\n",
       "    </tr>\n",
       "    <tr>\n",
       "      <th>730</th>\n",
       "      <td>2019-08-30</td>\n",
       "      <td>A</td>\n",
       "      <td>545</td>\n",
       "      <td>493</td>\n",
       "      <td>4022970</td>\n",
       "    </tr>\n",
       "    <tr>\n",
       "      <th>690</th>\n",
       "      <td>2019-08-30</td>\n",
       "      <td>B</td>\n",
       "      <td>620</td>\n",
       "      <td>567</td>\n",
       "      <td>5774631</td>\n",
       "    </tr>\n",
       "    <tr>\n",
       "      <th>958</th>\n",
       "      <td>2019-08-31</td>\n",
       "      <td>A</td>\n",
       "      <td>557</td>\n",
       "      <td>503</td>\n",
       "      <td>4084803</td>\n",
       "    </tr>\n",
       "    <tr>\n",
       "      <th>930</th>\n",
       "      <td>2019-08-31</td>\n",
       "      <td>B</td>\n",
       "      <td>640</td>\n",
       "      <td>586</td>\n",
       "      <td>5907760</td>\n",
       "    </tr>\n",
       "  </tbody>\n",
       "</table>\n",
       "<p>62 rows × 5 columns</p>\n",
       "</div>"
      ],
      "text/plain": [
       "          date group  transaction_id  visitor_id  revenue\n",
       "55  2019-08-01     A              24          20   148579\n",
       "66  2019-08-01     B              21          20   101217\n",
       "175 2019-08-02     A              44          38   242401\n",
       "173 2019-08-02     B              45          43   266748\n",
       "291 2019-08-03     A              68          62   354874\n",
       "..         ...   ...             ...         ...      ...\n",
       "496 2019-08-29     B             596         544  5559398\n",
       "730 2019-08-30     A             545         493  4022970\n",
       "690 2019-08-30     B             620         567  5774631\n",
       "958 2019-08-31     A             557         503  4084803\n",
       "930 2019-08-31     B             640         586  5907760\n",
       "\n",
       "[62 rows x 5 columns]"
      ]
     },
     "execution_count": 12,
     "metadata": {},
     "output_type": "execute_result"
    }
   ],
   "source": [
    "ordersAggregated = datesGroups.apply(\n",
    "    lambda x: orders[np.logical_and(orders['date'] <= x['date'], orders['group'] == x['group'])].agg({\n",
    "'date' : 'max',\n",
    "'group' : 'max',\n",
    "'transaction_id' : pd.Series.nunique,\n",
    "'visitor_id' : pd.Series.nunique,\n",
    "'revenue' : 'sum'}), axis=1).sort_values(by=['date','group']) \n",
    "\n",
    "ordersAggregated"
   ]
  },
  {
   "cell_type": "markdown",
   "metadata": {},
   "source": [
    "<br>*Объявим переменную* `visitorsAggregated`, *содержащую:*\n",
    "- *дату;*\n",
    "- *группу A/B-теста;*\n",
    "- *количество уникальных посетителей в группе теста по указанную дату включительно.*"
   ]
  },
  {
   "cell_type": "code",
   "execution_count": 13,
   "metadata": {},
   "outputs": [
    {
     "data": {
      "text/html": [
       "<div>\n",
       "<style scoped>\n",
       "    .dataframe tbody tr th:only-of-type {\n",
       "        vertical-align: middle;\n",
       "    }\n",
       "\n",
       "    .dataframe tbody tr th {\n",
       "        vertical-align: top;\n",
       "    }\n",
       "\n",
       "    .dataframe thead th {\n",
       "        text-align: right;\n",
       "    }\n",
       "</style>\n",
       "<table border=\"1\" class=\"dataframe\">\n",
       "  <thead>\n",
       "    <tr style=\"text-align: right;\">\n",
       "      <th></th>\n",
       "      <th>date</th>\n",
       "      <th>group</th>\n",
       "      <th>visitors</th>\n",
       "    </tr>\n",
       "  </thead>\n",
       "  <tbody>\n",
       "    <tr>\n",
       "      <th>55</th>\n",
       "      <td>2019-08-01</td>\n",
       "      <td>A</td>\n",
       "      <td>719</td>\n",
       "    </tr>\n",
       "    <tr>\n",
       "      <th>66</th>\n",
       "      <td>2019-08-01</td>\n",
       "      <td>B</td>\n",
       "      <td>713</td>\n",
       "    </tr>\n",
       "    <tr>\n",
       "      <th>175</th>\n",
       "      <td>2019-08-02</td>\n",
       "      <td>A</td>\n",
       "      <td>1338</td>\n",
       "    </tr>\n",
       "    <tr>\n",
       "      <th>173</th>\n",
       "      <td>2019-08-02</td>\n",
       "      <td>B</td>\n",
       "      <td>1294</td>\n",
       "    </tr>\n",
       "    <tr>\n",
       "      <th>291</th>\n",
       "      <td>2019-08-03</td>\n",
       "      <td>A</td>\n",
       "      <td>1845</td>\n",
       "    </tr>\n",
       "    <tr>\n",
       "      <th>...</th>\n",
       "      <td>...</td>\n",
       "      <td>...</td>\n",
       "      <td>...</td>\n",
       "    </tr>\n",
       "    <tr>\n",
       "      <th>496</th>\n",
       "      <td>2019-08-29</td>\n",
       "      <td>B</td>\n",
       "      <td>17708</td>\n",
       "    </tr>\n",
       "    <tr>\n",
       "      <th>730</th>\n",
       "      <td>2019-08-30</td>\n",
       "      <td>A</td>\n",
       "      <td>18037</td>\n",
       "    </tr>\n",
       "    <tr>\n",
       "      <th>690</th>\n",
       "      <td>2019-08-30</td>\n",
       "      <td>B</td>\n",
       "      <td>18198</td>\n",
       "    </tr>\n",
       "    <tr>\n",
       "      <th>958</th>\n",
       "      <td>2019-08-31</td>\n",
       "      <td>A</td>\n",
       "      <td>18736</td>\n",
       "    </tr>\n",
       "    <tr>\n",
       "      <th>930</th>\n",
       "      <td>2019-08-31</td>\n",
       "      <td>B</td>\n",
       "      <td>18916</td>\n",
       "    </tr>\n",
       "  </tbody>\n",
       "</table>\n",
       "<p>62 rows × 3 columns</p>\n",
       "</div>"
      ],
      "text/plain": [
       "          date group  visitors\n",
       "55  2019-08-01     A       719\n",
       "66  2019-08-01     B       713\n",
       "175 2019-08-02     A      1338\n",
       "173 2019-08-02     B      1294\n",
       "291 2019-08-03     A      1845\n",
       "..         ...   ...       ...\n",
       "496 2019-08-29     B     17708\n",
       "730 2019-08-30     A     18037\n",
       "690 2019-08-30     B     18198\n",
       "958 2019-08-31     A     18736\n",
       "930 2019-08-31     B     18916\n",
       "\n",
       "[62 rows x 3 columns]"
      ]
     },
     "execution_count": 13,
     "metadata": {},
     "output_type": "execute_result"
    }
   ],
   "source": [
    "visitorsAggregated = datesGroups.apply(\n",
    "    lambda x: visitors[np.logical_and(visitors['date'] <= x['date'], visitors['group'] == x['group'])].agg({\n",
    "'date' : 'max', \n",
    "'group' : 'max', \n",
    "'visitors' : 'sum'}), axis=1).sort_values(by=['date','group'])\n",
    "\n",
    "visitorsAggregated"
   ]
  },
  {
   "cell_type": "markdown",
   "metadata": {},
   "source": [
    "<br> *Объявим переменную* `visitorsAggregated`, *содержащую:*\n",
    "- *дату;*\n",
    "- *группу A/B-теста;*\n",
    "- *количество уникальных посетителей в группе теста по указанную дату включительно.*\n",
    "\n",
    "*Затем данную переменную отсортируем по столбцам 'date', 'group'*"
   ]
  },
  {
   "cell_type": "code",
   "execution_count": 14,
   "metadata": {
    "scrolled": true
   },
   "outputs": [
    {
     "data": {
      "text/html": [
       "<div>\n",
       "<style scoped>\n",
       "    .dataframe tbody tr th:only-of-type {\n",
       "        vertical-align: middle;\n",
       "    }\n",
       "\n",
       "    .dataframe tbody tr th {\n",
       "        vertical-align: top;\n",
       "    }\n",
       "\n",
       "    .dataframe thead th {\n",
       "        text-align: right;\n",
       "    }\n",
       "</style>\n",
       "<table border=\"1\" class=\"dataframe\">\n",
       "  <thead>\n",
       "    <tr style=\"text-align: right;\">\n",
       "      <th></th>\n",
       "      <th>date</th>\n",
       "      <th>group</th>\n",
       "      <th>visitors</th>\n",
       "    </tr>\n",
       "  </thead>\n",
       "  <tbody>\n",
       "    <tr>\n",
       "      <th>55</th>\n",
       "      <td>2019-08-01</td>\n",
       "      <td>A</td>\n",
       "      <td>719</td>\n",
       "    </tr>\n",
       "    <tr>\n",
       "      <th>66</th>\n",
       "      <td>2019-08-01</td>\n",
       "      <td>B</td>\n",
       "      <td>713</td>\n",
       "    </tr>\n",
       "    <tr>\n",
       "      <th>175</th>\n",
       "      <td>2019-08-02</td>\n",
       "      <td>A</td>\n",
       "      <td>1338</td>\n",
       "    </tr>\n",
       "    <tr>\n",
       "      <th>173</th>\n",
       "      <td>2019-08-02</td>\n",
       "      <td>B</td>\n",
       "      <td>1294</td>\n",
       "    </tr>\n",
       "    <tr>\n",
       "      <th>291</th>\n",
       "      <td>2019-08-03</td>\n",
       "      <td>A</td>\n",
       "      <td>1845</td>\n",
       "    </tr>\n",
       "    <tr>\n",
       "      <th>...</th>\n",
       "      <td>...</td>\n",
       "      <td>...</td>\n",
       "      <td>...</td>\n",
       "    </tr>\n",
       "    <tr>\n",
       "      <th>496</th>\n",
       "      <td>2019-08-29</td>\n",
       "      <td>B</td>\n",
       "      <td>17708</td>\n",
       "    </tr>\n",
       "    <tr>\n",
       "      <th>730</th>\n",
       "      <td>2019-08-30</td>\n",
       "      <td>A</td>\n",
       "      <td>18037</td>\n",
       "    </tr>\n",
       "    <tr>\n",
       "      <th>690</th>\n",
       "      <td>2019-08-30</td>\n",
       "      <td>B</td>\n",
       "      <td>18198</td>\n",
       "    </tr>\n",
       "    <tr>\n",
       "      <th>958</th>\n",
       "      <td>2019-08-31</td>\n",
       "      <td>A</td>\n",
       "      <td>18736</td>\n",
       "    </tr>\n",
       "    <tr>\n",
       "      <th>930</th>\n",
       "      <td>2019-08-31</td>\n",
       "      <td>B</td>\n",
       "      <td>18916</td>\n",
       "    </tr>\n",
       "  </tbody>\n",
       "</table>\n",
       "<p>62 rows × 3 columns</p>\n",
       "</div>"
      ],
      "text/plain": [
       "          date group  visitors\n",
       "55  2019-08-01     A       719\n",
       "66  2019-08-01     B       713\n",
       "175 2019-08-02     A      1338\n",
       "173 2019-08-02     B      1294\n",
       "291 2019-08-03     A      1845\n",
       "..         ...   ...       ...\n",
       "496 2019-08-29     B     17708\n",
       "730 2019-08-30     A     18037\n",
       "690 2019-08-30     B     18198\n",
       "958 2019-08-31     A     18736\n",
       "930 2019-08-31     B     18916\n",
       "\n",
       "[62 rows x 3 columns]"
      ]
     },
     "execution_count": 14,
     "metadata": {},
     "output_type": "execute_result"
    }
   ],
   "source": [
    "visitorsAggregated = datesGroups.apply(\n",
    "    lambda x: visitors[np.logical_and(visitors['date'] <= x['date'], visitors['group'] == x['group'])].agg({\n",
    "'date' : 'max', \n",
    "'group' : 'max', \n",
    "'visitors' : 'sum'}), axis=1).sort_values(by=['date','group'])\n",
    "\n",
    "visitorsAggregated"
   ]
  },
  {
   "cell_type": "markdown",
   "metadata": {},
   "source": [
    "<br> *Определим переменную* `cumulativeData`, *объединив* `ordersAggregated` и `visitorsAggregated`*по колонкам 'date', 'group' методом merge():*"
   ]
  },
  {
   "cell_type": "code",
   "execution_count": 15,
   "metadata": {
    "scrolled": false
   },
   "outputs": [
    {
     "data": {
      "text/html": [
       "<div>\n",
       "<style scoped>\n",
       "    .dataframe tbody tr th:only-of-type {\n",
       "        vertical-align: middle;\n",
       "    }\n",
       "\n",
       "    .dataframe tbody tr th {\n",
       "        vertical-align: top;\n",
       "    }\n",
       "\n",
       "    .dataframe thead th {\n",
       "        text-align: right;\n",
       "    }\n",
       "</style>\n",
       "<table border=\"1\" class=\"dataframe\">\n",
       "  <thead>\n",
       "    <tr style=\"text-align: right;\">\n",
       "      <th></th>\n",
       "      <th>date</th>\n",
       "      <th>group</th>\n",
       "      <th>orders</th>\n",
       "      <th>buyers</th>\n",
       "      <th>revenue</th>\n",
       "      <th>visitors</th>\n",
       "    </tr>\n",
       "  </thead>\n",
       "  <tbody>\n",
       "    <tr>\n",
       "      <th>0</th>\n",
       "      <td>2019-08-01</td>\n",
       "      <td>A</td>\n",
       "      <td>24</td>\n",
       "      <td>20</td>\n",
       "      <td>148579</td>\n",
       "      <td>719</td>\n",
       "    </tr>\n",
       "    <tr>\n",
       "      <th>1</th>\n",
       "      <td>2019-08-01</td>\n",
       "      <td>B</td>\n",
       "      <td>21</td>\n",
       "      <td>20</td>\n",
       "      <td>101217</td>\n",
       "      <td>713</td>\n",
       "    </tr>\n",
       "    <tr>\n",
       "      <th>2</th>\n",
       "      <td>2019-08-02</td>\n",
       "      <td>A</td>\n",
       "      <td>44</td>\n",
       "      <td>38</td>\n",
       "      <td>242401</td>\n",
       "      <td>1338</td>\n",
       "    </tr>\n",
       "    <tr>\n",
       "      <th>3</th>\n",
       "      <td>2019-08-02</td>\n",
       "      <td>B</td>\n",
       "      <td>45</td>\n",
       "      <td>43</td>\n",
       "      <td>266748</td>\n",
       "      <td>1294</td>\n",
       "    </tr>\n",
       "    <tr>\n",
       "      <th>4</th>\n",
       "      <td>2019-08-03</td>\n",
       "      <td>A</td>\n",
       "      <td>68</td>\n",
       "      <td>62</td>\n",
       "      <td>354874</td>\n",
       "      <td>1845</td>\n",
       "    </tr>\n",
       "    <tr>\n",
       "      <th>5</th>\n",
       "      <td>2019-08-03</td>\n",
       "      <td>B</td>\n",
       "      <td>61</td>\n",
       "      <td>59</td>\n",
       "      <td>380996</td>\n",
       "      <td>1803</td>\n",
       "    </tr>\n",
       "    <tr>\n",
       "      <th>6</th>\n",
       "      <td>2019-08-04</td>\n",
       "      <td>A</td>\n",
       "      <td>84</td>\n",
       "      <td>77</td>\n",
       "      <td>425699</td>\n",
       "      <td>2562</td>\n",
       "    </tr>\n",
       "    <tr>\n",
       "      <th>7</th>\n",
       "      <td>2019-08-04</td>\n",
       "      <td>B</td>\n",
       "      <td>78</td>\n",
       "      <td>75</td>\n",
       "      <td>489567</td>\n",
       "      <td>2573</td>\n",
       "    </tr>\n",
       "    <tr>\n",
       "      <th>8</th>\n",
       "      <td>2019-08-05</td>\n",
       "      <td>A</td>\n",
       "      <td>109</td>\n",
       "      <td>100</td>\n",
       "      <td>549917</td>\n",
       "      <td>3318</td>\n",
       "    </tr>\n",
       "    <tr>\n",
       "      <th>9</th>\n",
       "      <td>2019-08-05</td>\n",
       "      <td>B</td>\n",
       "      <td>101</td>\n",
       "      <td>98</td>\n",
       "      <td>581995</td>\n",
       "      <td>3280</td>\n",
       "    </tr>\n",
       "  </tbody>\n",
       "</table>\n",
       "</div>"
      ],
      "text/plain": [
       "        date group  orders  buyers  revenue  visitors\n",
       "0 2019-08-01     A      24      20   148579       719\n",
       "1 2019-08-01     B      21      20   101217       713\n",
       "2 2019-08-02     A      44      38   242401      1338\n",
       "3 2019-08-02     B      45      43   266748      1294\n",
       "4 2019-08-03     A      68      62   354874      1845\n",
       "5 2019-08-03     B      61      59   380996      1803\n",
       "6 2019-08-04     A      84      77   425699      2562\n",
       "7 2019-08-04     B      78      75   489567      2573\n",
       "8 2019-08-05     A     109     100   549917      3318\n",
       "9 2019-08-05     B     101      98   581995      3280"
      ]
     },
     "execution_count": 15,
     "metadata": {},
     "output_type": "execute_result"
    }
   ],
   "source": [
    "cumulativeData = ordersAggregated.merge(visitorsAggregated, left_on=['date', 'group'], right_on=['date', 'group']) \n",
    "\n",
    "\n",
    "# Присвойте столбцам более подходящие назвния:\n",
    "cumulativeData.columns = ['date', 'group', 'orders', 'buyers', 'revenue', 'visitors']\n",
    "\n",
    "cumulativeData.head(10)"
   ]
  },
  {
   "cell_type": "markdown",
   "metadata": {},
   "source": [
    "<br>*Объявим переменные `cumulativeRevenueA` и `cumulativeRevenueB`, в которых сохраним данные о датах, выручке и числе заказов в \n",
    "группах A и B:*"
   ]
  },
  {
   "cell_type": "code",
   "execution_count": 16,
   "metadata": {
    "scrolled": true
   },
   "outputs": [
    {
     "data": {
      "text/html": [
       "<div>\n",
       "<style scoped>\n",
       "    .dataframe tbody tr th:only-of-type {\n",
       "        vertical-align: middle;\n",
       "    }\n",
       "\n",
       "    .dataframe tbody tr th {\n",
       "        vertical-align: top;\n",
       "    }\n",
       "\n",
       "    .dataframe thead th {\n",
       "        text-align: right;\n",
       "    }\n",
       "</style>\n",
       "<table border=\"1\" class=\"dataframe\">\n",
       "  <thead>\n",
       "    <tr style=\"text-align: right;\">\n",
       "      <th></th>\n",
       "      <th>date</th>\n",
       "      <th>revenue</th>\n",
       "      <th>orders</th>\n",
       "    </tr>\n",
       "  </thead>\n",
       "  <tbody>\n",
       "    <tr>\n",
       "      <th>0</th>\n",
       "      <td>2019-08-01</td>\n",
       "      <td>148579</td>\n",
       "      <td>24</td>\n",
       "    </tr>\n",
       "    <tr>\n",
       "      <th>2</th>\n",
       "      <td>2019-08-02</td>\n",
       "      <td>242401</td>\n",
       "      <td>44</td>\n",
       "    </tr>\n",
       "    <tr>\n",
       "      <th>4</th>\n",
       "      <td>2019-08-03</td>\n",
       "      <td>354874</td>\n",
       "      <td>68</td>\n",
       "    </tr>\n",
       "    <tr>\n",
       "      <th>6</th>\n",
       "      <td>2019-08-04</td>\n",
       "      <td>425699</td>\n",
       "      <td>84</td>\n",
       "    </tr>\n",
       "    <tr>\n",
       "      <th>8</th>\n",
       "      <td>2019-08-05</td>\n",
       "      <td>549917</td>\n",
       "      <td>109</td>\n",
       "    </tr>\n",
       "  </tbody>\n",
       "</table>\n",
       "</div>"
      ],
      "text/plain": [
       "        date  revenue  orders\n",
       "0 2019-08-01   148579      24\n",
       "2 2019-08-02   242401      44\n",
       "4 2019-08-03   354874      68\n",
       "6 2019-08-04   425699      84\n",
       "8 2019-08-05   549917     109"
      ]
     },
     "metadata": {},
     "output_type": "display_data"
    },
    {
     "data": {
      "text/html": [
       "<div>\n",
       "<style scoped>\n",
       "    .dataframe tbody tr th:only-of-type {\n",
       "        vertical-align: middle;\n",
       "    }\n",
       "\n",
       "    .dataframe tbody tr th {\n",
       "        vertical-align: top;\n",
       "    }\n",
       "\n",
       "    .dataframe thead th {\n",
       "        text-align: right;\n",
       "    }\n",
       "</style>\n",
       "<table border=\"1\" class=\"dataframe\">\n",
       "  <thead>\n",
       "    <tr style=\"text-align: right;\">\n",
       "      <th></th>\n",
       "      <th>date</th>\n",
       "      <th>revenue</th>\n",
       "      <th>orders</th>\n",
       "    </tr>\n",
       "  </thead>\n",
       "  <tbody>\n",
       "    <tr>\n",
       "      <th>1</th>\n",
       "      <td>2019-08-01</td>\n",
       "      <td>101217</td>\n",
       "      <td>21</td>\n",
       "    </tr>\n",
       "    <tr>\n",
       "      <th>3</th>\n",
       "      <td>2019-08-02</td>\n",
       "      <td>266748</td>\n",
       "      <td>45</td>\n",
       "    </tr>\n",
       "    <tr>\n",
       "      <th>5</th>\n",
       "      <td>2019-08-03</td>\n",
       "      <td>380996</td>\n",
       "      <td>61</td>\n",
       "    </tr>\n",
       "    <tr>\n",
       "      <th>7</th>\n",
       "      <td>2019-08-04</td>\n",
       "      <td>489567</td>\n",
       "      <td>78</td>\n",
       "    </tr>\n",
       "    <tr>\n",
       "      <th>9</th>\n",
       "      <td>2019-08-05</td>\n",
       "      <td>581995</td>\n",
       "      <td>101</td>\n",
       "    </tr>\n",
       "  </tbody>\n",
       "</table>\n",
       "</div>"
      ],
      "text/plain": [
       "        date  revenue  orders\n",
       "1 2019-08-01   101217      21\n",
       "3 2019-08-02   266748      45\n",
       "5 2019-08-03   380996      61\n",
       "7 2019-08-04   489567      78\n",
       "9 2019-08-05   581995     101"
      ]
     },
     "metadata": {},
     "output_type": "display_data"
    }
   ],
   "source": [
    "cumulativeRevenueA = cumulativeData[cumulativeData['group']=='A'][['date','revenue', 'orders']]\n",
    "\n",
    "cumulativeRevenueB = cumulativeData[cumulativeData['group']=='B'][['date','revenue', 'orders']]\n",
    "\n",
    "display(cumulativeRevenueA.head(), cumulativeRevenueB.head())"
   ]
  },
  {
   "cell_type": "markdown",
   "metadata": {},
   "source": [
    "<br>*Построим график выручки группы А и В*"
   ]
  },
  {
   "cell_type": "code",
   "execution_count": 17,
   "metadata": {},
   "outputs": [
    {
     "data": {
      "text/plain": [
       "<matplotlib.legend.Legend at 0x7f50a2e84070>"
      ]
     },
     "execution_count": 17,
     "metadata": {},
     "output_type": "execute_result"
    },
    {
     "data": {
      "image/png": "[encoded data removed]",
      "text/plain": [
       "<Figure size 1080x720 with 1 Axes>"
      ]
     },
     "metadata": {
      "needs_background": "light"
     },
     "output_type": "display_data"
    }
   ],
   "source": [
    "plt.figure(figsize=(15,10))\n",
    "\n",
    "plt.plot(cumulativeRevenueA['date'], cumulativeRevenueA['revenue'], label='A')\n",
    "plt.plot(cumulativeRevenueB['date'], cumulativeRevenueB['revenue'], label='B')\n",
    "\n",
    "plt.ylabel(\"выручка с заказов, млн. руб\",fontsize = 12)\n",
    "plt.xlabel(\"дата заказа\",fontsize = 12)\n",
    "plt.xticks(cumulativeRevenueA['date'][::3], rotation = 45,fontsize = 7.5)\n",
    "\n",
    "plt.title('График кумулятивной выручки по группам', fontsize=15)\n",
    "\n",
    "plt.legend() "
   ]
  },
  {
   "cell_type": "markdown",
   "metadata": {},
   "source": [
    "**Вывод по полученным данным:** В середине теста сегмент В вырвался вперед и продолжал лидировать весь остаток теста. Возможно, у сегмента В есть аномально большие заказы, которые сильно искажают результат"
   ]
  },
  {
   "cell_type": "markdown",
   "metadata": {},
   "source": [
    "### Построим график кумулятивного среднего чека по группам"
   ]
  },
  {
   "cell_type": "code",
   "execution_count": 18,
   "metadata": {},
   "outputs": [
    {
     "data": {
      "text/plain": [
       "<matplotlib.legend.Legend at 0x7f50a2e3d2e0>"
      ]
     },
     "execution_count": 18,
     "metadata": {},
     "output_type": "execute_result"
    },
    {
     "data": {
      "image/png": "[encoded data removed]",
      "text/plain": [
       "<Figure size 1080x720 with 1 Axes>"
      ]
     },
     "metadata": {
      "needs_background": "light"
     },
     "output_type": "display_data"
    }
   ],
   "source": [
    "plt.figure(figsize=(15,10))\n",
    "\n",
    "plt.plot(cumulativeRevenueA['date'], cumulativeRevenueA['revenue']/cumulativeRevenueA['orders'], label='A')\n",
    "plt.plot(cumulativeRevenueB['date'], cumulativeRevenueB['revenue']/cumulativeRevenueB['orders'], label='B')\n",
    "\n",
    "plt.ylabel(\"размер среднего чека, руб\",fontsize = 12)\n",
    "plt.xlabel(\"дата заказов\",fontsize = 12)\n",
    "\n",
    "plt.xticks(cumulativeRevenueA['date'][::3], rotation = 45,fontsize = 7.5)\n",
    "plt.title('График кумулятивного среднего чека по группам', fontsize=15\n",
    "         )\n",
    "\n",
    "plt.legend() "
   ]
  },
  {
   "cell_type": "markdown",
   "metadata": {},
   "source": [
    "**Вывод по полученным данным:** Кумулятивное значение среднего чека продолжает колебаться. Скорее всего, принимать решение по этой метрике рано. Или требуется дополнительный анализ выбросов, которые так сильно искажают результаты"
   ]
  },
  {
   "cell_type": "markdown",
   "metadata": {},
   "source": [
    "### Построим график относительного изменения кумулятивного среднего чека группы B к группе A"
   ]
  },
  {
   "cell_type": "markdown",
   "metadata": {},
   "source": [
    "*Объединим таблицы* `cumulativeRevenueA` *и* `cumulativeRevenueB`:"
   ]
  },
  {
   "cell_type": "code",
   "execution_count": 19,
   "metadata": {},
   "outputs": [],
   "source": [
    "mergedCumulativeRevenue = cumulativeRevenueA.merge(cumulativeRevenueB, left_on='date', \n",
    "                                                   right_on='date', how='left', suffixes=['A', 'B']) "
   ]
  },
  {
   "cell_type": "markdown",
   "metadata": {},
   "source": [
    "*Построим график:*"
   ]
  },
  {
   "cell_type": "code",
   "execution_count": 20,
   "metadata": {
    "scrolled": false
   },
   "outputs": [
    {
     "data": {
      "text/plain": [
       "<matplotlib.lines.Line2D at 0x7f50a2dd6310>"
      ]
     },
     "execution_count": 20,
     "metadata": {},
     "output_type": "execute_result"
    },
    {
     "data": {
      "image/png": "[encoded data removed]",
      "text/plain": [
       "<Figure size 1080x720 with 1 Axes>"
      ]
     },
     "metadata": {
      "needs_background": "light"
     },
     "output_type": "display_data"
    }
   ],
   "source": [
    "plt.figure(figsize=(15,10))\n",
    "\n",
    "plt.plot(mergedCumulativeRevenue['date'], (mergedCumulativeRevenue['revenueB']/mergedCumulativeRevenue['ordersB'])\n",
    "         /(mergedCumulativeRevenue['revenueA']/mergedCumulativeRevenue['ordersA'])-1)\n",
    "plt.xticks(mergedCumulativeRevenue['date'][::3], rotation = 45,fontsize = 7.5)\n",
    "plt.title('График относительного изменения кумулятивного среднего чека группы B к группе A', fontsize=15)\n",
    "\n",
    "\n",
    "plt.ylabel(\"отношение ср. чека группы В к А\",fontsize = 10)\n",
    "plt.xlabel(\"дата заказов\",fontsize = 12)\n",
    "\n",
    "# добавляем ось X\n",
    "plt.axhline(y=0, color='black', linestyle='--') "
   ]
  },
  {
   "cell_type": "markdown",
   "metadata": {},
   "source": [
    "**Вывод по полученным данным:** В нескольких точках график различия между сегментами резко «скачет», следовательно, в исходных данных точно имеются крупные заказы и выбросы"
   ]
  },
  {
   "cell_type": "markdown",
   "metadata": {},
   "source": [
    "### Построим график кумулятивной конверсии по группам"
   ]
  },
  {
   "cell_type": "markdown",
   "metadata": {},
   "source": [
    "*Добавим в* `cumulativeData` *столбец 'conversion' c отношением числа заказов к количеству пользователей в указанной группе в указанный день*"
   ]
  },
  {
   "cell_type": "code",
   "execution_count": 21,
   "metadata": {},
   "outputs": [],
   "source": [
    "cumulativeData['conversion'] = cumulativeData['orders']/cumulativeData['visitors']"
   ]
  },
  {
   "cell_type": "markdown",
   "metadata": {},
   "source": [
    "<br>*Объявите переменные* `cumulativeDataA` и `cumulativeDataB`, *в которых сохраните данные о заказах в сегментах A и B соответственно:*"
   ]
  },
  {
   "cell_type": "code",
   "execution_count": 22,
   "metadata": {},
   "outputs": [
    {
     "data": {
      "text/html": [
       "<div>\n",
       "<style scoped>\n",
       "    .dataframe tbody tr th:only-of-type {\n",
       "        vertical-align: middle;\n",
       "    }\n",
       "\n",
       "    .dataframe tbody tr th {\n",
       "        vertical-align: top;\n",
       "    }\n",
       "\n",
       "    .dataframe thead th {\n",
       "        text-align: right;\n",
       "    }\n",
       "</style>\n",
       "<table border=\"1\" class=\"dataframe\">\n",
       "  <thead>\n",
       "    <tr style=\"text-align: right;\">\n",
       "      <th></th>\n",
       "      <th>date</th>\n",
       "      <th>group</th>\n",
       "      <th>orders</th>\n",
       "      <th>buyers</th>\n",
       "      <th>revenue</th>\n",
       "      <th>visitors</th>\n",
       "      <th>conversion</th>\n",
       "    </tr>\n",
       "  </thead>\n",
       "  <tbody>\n",
       "    <tr>\n",
       "      <th>0</th>\n",
       "      <td>2019-08-01</td>\n",
       "      <td>A</td>\n",
       "      <td>24</td>\n",
       "      <td>20</td>\n",
       "      <td>148579</td>\n",
       "      <td>719</td>\n",
       "      <td>0.033380</td>\n",
       "    </tr>\n",
       "    <tr>\n",
       "      <th>2</th>\n",
       "      <td>2019-08-02</td>\n",
       "      <td>A</td>\n",
       "      <td>44</td>\n",
       "      <td>38</td>\n",
       "      <td>242401</td>\n",
       "      <td>1338</td>\n",
       "      <td>0.032885</td>\n",
       "    </tr>\n",
       "    <tr>\n",
       "      <th>4</th>\n",
       "      <td>2019-08-03</td>\n",
       "      <td>A</td>\n",
       "      <td>68</td>\n",
       "      <td>62</td>\n",
       "      <td>354874</td>\n",
       "      <td>1845</td>\n",
       "      <td>0.036856</td>\n",
       "    </tr>\n",
       "    <tr>\n",
       "      <th>6</th>\n",
       "      <td>2019-08-04</td>\n",
       "      <td>A</td>\n",
       "      <td>84</td>\n",
       "      <td>77</td>\n",
       "      <td>425699</td>\n",
       "      <td>2562</td>\n",
       "      <td>0.032787</td>\n",
       "    </tr>\n",
       "    <tr>\n",
       "      <th>8</th>\n",
       "      <td>2019-08-05</td>\n",
       "      <td>A</td>\n",
       "      <td>109</td>\n",
       "      <td>100</td>\n",
       "      <td>549917</td>\n",
       "      <td>3318</td>\n",
       "      <td>0.032851</td>\n",
       "    </tr>\n",
       "  </tbody>\n",
       "</table>\n",
       "</div>"
      ],
      "text/plain": [
       "        date group  orders  buyers  revenue  visitors  conversion\n",
       "0 2019-08-01     A      24      20   148579       719    0.033380\n",
       "2 2019-08-02     A      44      38   242401      1338    0.032885\n",
       "4 2019-08-03     A      68      62   354874      1845    0.036856\n",
       "6 2019-08-04     A      84      77   425699      2562    0.032787\n",
       "8 2019-08-05     A     109     100   549917      3318    0.032851"
      ]
     },
     "metadata": {},
     "output_type": "display_data"
    },
    {
     "data": {
      "text/html": [
       "<div>\n",
       "<style scoped>\n",
       "    .dataframe tbody tr th:only-of-type {\n",
       "        vertical-align: middle;\n",
       "    }\n",
       "\n",
       "    .dataframe tbody tr th {\n",
       "        vertical-align: top;\n",
       "    }\n",
       "\n",
       "    .dataframe thead th {\n",
       "        text-align: right;\n",
       "    }\n",
       "</style>\n",
       "<table border=\"1\" class=\"dataframe\">\n",
       "  <thead>\n",
       "    <tr style=\"text-align: right;\">\n",
       "      <th></th>\n",
       "      <th>date</th>\n",
       "      <th>group</th>\n",
       "      <th>orders</th>\n",
       "      <th>buyers</th>\n",
       "      <th>revenue</th>\n",
       "      <th>visitors</th>\n",
       "      <th>conversion</th>\n",
       "    </tr>\n",
       "  </thead>\n",
       "  <tbody>\n",
       "    <tr>\n",
       "      <th>1</th>\n",
       "      <td>2019-08-01</td>\n",
       "      <td>B</td>\n",
       "      <td>21</td>\n",
       "      <td>20</td>\n",
       "      <td>101217</td>\n",
       "      <td>713</td>\n",
       "      <td>0.029453</td>\n",
       "    </tr>\n",
       "    <tr>\n",
       "      <th>3</th>\n",
       "      <td>2019-08-02</td>\n",
       "      <td>B</td>\n",
       "      <td>45</td>\n",
       "      <td>43</td>\n",
       "      <td>266748</td>\n",
       "      <td>1294</td>\n",
       "      <td>0.034776</td>\n",
       "    </tr>\n",
       "    <tr>\n",
       "      <th>5</th>\n",
       "      <td>2019-08-03</td>\n",
       "      <td>B</td>\n",
       "      <td>61</td>\n",
       "      <td>59</td>\n",
       "      <td>380996</td>\n",
       "      <td>1803</td>\n",
       "      <td>0.033833</td>\n",
       "    </tr>\n",
       "    <tr>\n",
       "      <th>7</th>\n",
       "      <td>2019-08-04</td>\n",
       "      <td>B</td>\n",
       "      <td>78</td>\n",
       "      <td>75</td>\n",
       "      <td>489567</td>\n",
       "      <td>2573</td>\n",
       "      <td>0.030315</td>\n",
       "    </tr>\n",
       "    <tr>\n",
       "      <th>9</th>\n",
       "      <td>2019-08-05</td>\n",
       "      <td>B</td>\n",
       "      <td>101</td>\n",
       "      <td>98</td>\n",
       "      <td>581995</td>\n",
       "      <td>3280</td>\n",
       "      <td>0.030793</td>\n",
       "    </tr>\n",
       "  </tbody>\n",
       "</table>\n",
       "</div>"
      ],
      "text/plain": [
       "        date group  orders  buyers  revenue  visitors  conversion\n",
       "1 2019-08-01     B      21      20   101217       713    0.029453\n",
       "3 2019-08-02     B      45      43   266748      1294    0.034776\n",
       "5 2019-08-03     B      61      59   380996      1803    0.033833\n",
       "7 2019-08-04     B      78      75   489567      2573    0.030315\n",
       "9 2019-08-05     B     101      98   581995      3280    0.030793"
      ]
     },
     "metadata": {},
     "output_type": "display_data"
    },
    {
     "data": {
      "text/plain": [
       "Timestamp('2019-08-01 00:00:00')"
      ]
     },
     "metadata": {},
     "output_type": "display_data"
    },
    {
     "data": {
      "text/plain": [
       "Timestamp('2019-08-31 00:00:00')"
      ]
     },
     "metadata": {},
     "output_type": "display_data"
    }
   ],
   "source": [
    "# отделяем данные по группе A\n",
    "cumulativeDataA = cumulativeData[cumulativeData['group']=='A']\n",
    "\n",
    "# отделяем данные по группе B\n",
    "cumulativeDataB = cumulativeData[cumulativeData['group']=='B']\n",
    "\n",
    "display(cumulativeDataA.head(), cumulativeDataB.head())\n",
    "display(cumulativeDataA['date'].min(), cumulativeDataB['date'].max())"
   ]
  },
  {
   "cell_type": "markdown",
   "metadata": {},
   "source": [
    "<br>*Строим график:*"
   ]
  },
  {
   "cell_type": "code",
   "execution_count": 23,
   "metadata": {
    "scrolled": false
   },
   "outputs": [
    {
     "data": {
      "text/plain": [
       "<matplotlib.legend.Legend at 0x7f50a2d5a040>"
      ]
     },
     "execution_count": 23,
     "metadata": {},
     "output_type": "execute_result"
    },
    {
     "data": {
      "image/png": "[encoded data removed]",
      "text/plain": [
       "<Figure size 1080x720 with 1 Axes>"
      ]
     },
     "metadata": {
      "needs_background": "light"
     },
     "output_type": "display_data"
    }
   ],
   "source": [
    "plt.figure(figsize=(15,10))\n",
    "\n",
    "plt.plot(cumulativeDataA['date'], cumulativeDataA['conversion'], label='A')\n",
    "plt.plot(cumulativeDataB['date'], cumulativeDataB['conversion'], label='B')\n",
    "\n",
    "plt.xticks(mergedCumulativeRevenue['date'][::3], rotation = 45,fontsize = 7.5)\n",
    "plt.title('График кумулятивной конверсии по группам', fontsize=15)\n",
    "\n",
    "plt.ylabel(\"кумулятивная конверсия\",fontsize = 12)\n",
    "plt.xlabel(\"дата заказов\",fontsize = 12)\n",
    "\n",
    "# задаем масштаб осей\n",
    "plt.axis([\"2019-08-01\", '2019-08-31', 0, 0.06]) \n",
    "plt.legend()"
   ]
  },
  {
   "cell_type": "markdown",
   "metadata": {},
   "source": [
    "**Вывод по полученным данным:** Группы колебались около одного значения, но затем конверсия группы B вырвалась вперёд и зафиксировалась, а конверсия группы A просела и также зафиксировалась"
   ]
  },
  {
   "cell_type": "markdown",
   "metadata": {},
   "source": [
    "### Построим график относительного изменения кумулятивной конверсии группы B к группе A"
   ]
  },
  {
   "cell_type": "markdown",
   "metadata": {},
   "source": [
    "<br>*Объединим таблицы* `cumulativeDataA` и `cumulativeDataB` так, чтобы она содержала столбцы: `['date', 'conversionA', 'conversionB']`:"
   ]
  },
  {
   "cell_type": "code",
   "execution_count": 24,
   "metadata": {
    "scrolled": true
   },
   "outputs": [
    {
     "data": {
      "text/html": [
       "<div>\n",
       "<style scoped>\n",
       "    .dataframe tbody tr th:only-of-type {\n",
       "        vertical-align: middle;\n",
       "    }\n",
       "\n",
       "    .dataframe tbody tr th {\n",
       "        vertical-align: top;\n",
       "    }\n",
       "\n",
       "    .dataframe thead th {\n",
       "        text-align: right;\n",
       "    }\n",
       "</style>\n",
       "<table border=\"1\" class=\"dataframe\">\n",
       "  <thead>\n",
       "    <tr style=\"text-align: right;\">\n",
       "      <th></th>\n",
       "      <th>date</th>\n",
       "      <th>conversionA</th>\n",
       "      <th>conversionB</th>\n",
       "    </tr>\n",
       "  </thead>\n",
       "  <tbody>\n",
       "    <tr>\n",
       "      <th>0</th>\n",
       "      <td>2019-08-01</td>\n",
       "      <td>0.033380</td>\n",
       "      <td>0.029453</td>\n",
       "    </tr>\n",
       "    <tr>\n",
       "      <th>1</th>\n",
       "      <td>2019-08-02</td>\n",
       "      <td>0.032885</td>\n",
       "      <td>0.034776</td>\n",
       "    </tr>\n",
       "    <tr>\n",
       "      <th>2</th>\n",
       "      <td>2019-08-03</td>\n",
       "      <td>0.036856</td>\n",
       "      <td>0.033833</td>\n",
       "    </tr>\n",
       "    <tr>\n",
       "      <th>3</th>\n",
       "      <td>2019-08-04</td>\n",
       "      <td>0.032787</td>\n",
       "      <td>0.030315</td>\n",
       "    </tr>\n",
       "    <tr>\n",
       "      <th>4</th>\n",
       "      <td>2019-08-05</td>\n",
       "      <td>0.032851</td>\n",
       "      <td>0.030793</td>\n",
       "    </tr>\n",
       "  </tbody>\n",
       "</table>\n",
       "</div>"
      ],
      "text/plain": [
       "        date  conversionA  conversionB\n",
       "0 2019-08-01     0.033380     0.029453\n",
       "1 2019-08-02     0.032885     0.034776\n",
       "2 2019-08-03     0.036856     0.033833\n",
       "3 2019-08-04     0.032787     0.030315\n",
       "4 2019-08-05     0.032851     0.030793"
      ]
     },
     "execution_count": 24,
     "metadata": {},
     "output_type": "execute_result"
    }
   ],
   "source": [
    "mergedCumulativeConversions = cumulativeDataA[['date','conversion']].merge(cumulativeDataB[['date','conversion']],\n",
    "left_on='date', right_on='date', how='left', suffixes=['A', 'B'])\n",
    "\n",
    "mergedCumulativeConversions.head()"
   ]
  },
  {
   "cell_type": "markdown",
   "metadata": {},
   "source": [
    "<br>*Строим график:*"
   ]
  },
  {
   "cell_type": "code",
   "execution_count": 25,
   "metadata": {},
   "outputs": [
    {
     "data": {
      "text/plain": [
       "(18109.0, 18139.0, -0.5, 0.5)"
      ]
     },
     "execution_count": 25,
     "metadata": {},
     "output_type": "execute_result"
    },
    {
     "data": {
      "image/png": "[encoded data removed]",
      "text/plain": [
       "<Figure size 1080x720 with 1 Axes>"
      ]
     },
     "metadata": {
      "needs_background": "light"
     },
     "output_type": "display_data"
    }
   ],
   "source": [
    "plt.figure(figsize=(15,10))\n",
    "\n",
    "plt.plot(mergedCumulativeConversions['date'], mergedCumulativeConversions['conversionB']/\n",
    "         mergedCumulativeConversions['conversionA']-1)\n",
    "\n",
    "plt.title('График относительного изменения кумулятивной конверсии группы B к группе A', fontsize=15)\n",
    "plt.xticks(mergedCumulativeRevenue['date'][::3], rotation = 45,fontsize = 7.5)\n",
    "\n",
    "plt.ylabel(\"изменение кумулятивной конверсии группы В к А\",fontsize = 13)\n",
    "plt.xlabel(\"дата заказов\",fontsize = 12)\n",
    "\n",
    "plt.axhline(y=0, color='black', linestyle='--')\n",
    "plt.axhline(y=0.2, color='grey', linestyle='--')\n",
    "\n",
    "plt.axis([\"2019-08-01\", '2019-08-31', -0.5, 0.5])"
   ]
  },
  {
   "cell_type": "markdown",
   "metadata": {},
   "source": [
    "**Вывод по полученным данным:** В начале теста группа B не значительно проигрывала группе A, затем вырвалась вперёд и зафексировалась на значении прироста примерно в 15% относительно группы А"
   ]
  },
  {
   "cell_type": "markdown",
   "metadata": {},
   "source": [
    "### Построим точечный график количества заказов по пользователям"
   ]
  },
  {
   "cell_type": "markdown",
   "metadata": {},
   "source": [
    "*Найдем число заказов по пользователям:*"
   ]
  },
  {
   "cell_type": "code",
   "execution_count": 26,
   "metadata": {},
   "outputs": [
    {
     "data": {
      "text/html": [
       "<div>\n",
       "<style scoped>\n",
       "    .dataframe tbody tr th:only-of-type {\n",
       "        vertical-align: middle;\n",
       "    }\n",
       "\n",
       "    .dataframe tbody tr th {\n",
       "        vertical-align: top;\n",
       "    }\n",
       "\n",
       "    .dataframe thead th {\n",
       "        text-align: right;\n",
       "    }\n",
       "</style>\n",
       "<table border=\"1\" class=\"dataframe\">\n",
       "  <thead>\n",
       "    <tr style=\"text-align: right;\">\n",
       "      <th></th>\n",
       "      <th>userId</th>\n",
       "      <th>group</th>\n",
       "      <th>orders</th>\n",
       "    </tr>\n",
       "  </thead>\n",
       "  <tbody>\n",
       "    <tr>\n",
       "      <th>0</th>\n",
       "      <td>5114589</td>\n",
       "      <td>B</td>\n",
       "      <td>1</td>\n",
       "    </tr>\n",
       "    <tr>\n",
       "      <th>1</th>\n",
       "      <td>6958315</td>\n",
       "      <td>B</td>\n",
       "      <td>1</td>\n",
       "    </tr>\n",
       "    <tr>\n",
       "      <th>2</th>\n",
       "      <td>8300375</td>\n",
       "      <td>A</td>\n",
       "      <td>1</td>\n",
       "    </tr>\n",
       "    <tr>\n",
       "      <th>3</th>\n",
       "      <td>8300375</td>\n",
       "      <td>B</td>\n",
       "      <td>1</td>\n",
       "    </tr>\n",
       "    <tr>\n",
       "      <th>4</th>\n",
       "      <td>11685486</td>\n",
       "      <td>A</td>\n",
       "      <td>1</td>\n",
       "    </tr>\n",
       "  </tbody>\n",
       "</table>\n",
       "</div>"
      ],
      "text/plain": [
       "     userId group  orders\n",
       "0   5114589     B       1\n",
       "1   6958315     B       1\n",
       "2   8300375     A       1\n",
       "3   8300375     B       1\n",
       "4  11685486     A       1"
      ]
     },
     "execution_count": 26,
     "metadata": {},
     "output_type": "execute_result"
    }
   ],
   "source": [
    "ordersByUsers = (\n",
    "    orders.groupby(['visitor_id', 'group'], as_index=False)\n",
    "    .agg({'transaction_id': 'nunique'})\n",
    ")\n",
    "\n",
    "ordersByUsers.columns = ['userId', 'group', 'orders']\n",
    "\n",
    "ordersByUsers.head()"
   ]
  },
  {
   "cell_type": "markdown",
   "metadata": {},
   "source": [
    "<br> *Построим график*:"
   ]
  },
  {
   "cell_type": "code",
   "execution_count": 27,
   "metadata": {
    "scrolled": false
   },
   "outputs": [
    {
     "data": {
      "image/png": "[encoded data removed]",
      "text/plain": [
       "<Figure size 1080x720 with 1 Axes>"
      ]
     },
     "metadata": {
      "needs_background": "light"
     },
     "output_type": "display_data"
    }
   ],
   "source": [
    "x_values = pd.Series(range(0, len(ordersByUsers))) # сгенерированные номера наблюдений\n",
    "\n",
    "plt.figure(figsize=(15,10))\n",
    "plt.scatter(x_values, ordersByUsers['orders'], alpha=0.5) \n",
    "plt.title('Точечный график количества заказов по пользователям', fontsize=16)\n",
    "\n",
    "plt.ylabel(\"количество заказов, шт\",fontsize = 12)\n",
    "plt.xlabel(\"номер наблюдения\",fontsize = 12)\n",
    "\n",
    "plt.show()"
   ]
  },
  {
   "cell_type": "markdown",
   "metadata": {},
   "source": [
    "**Вывод по полученным данным:** много пользователей с 1-2 заказами, все что больше могут быть аномалиями"
   ]
  },
  {
   "cell_type": "markdown",
   "metadata": {},
   "source": [
    "### Посчитаем 95-й и 99-й перцентили количества заказов на пользователя"
   ]
  },
  {
   "cell_type": "markdown",
   "metadata": {},
   "source": [
    "*Выведем необходимый результат на экран:*"
   ]
  },
  {
   "cell_type": "code",
   "execution_count": 28,
   "metadata": {},
   "outputs": [
    {
     "name": "stdout",
     "output_type": "stream",
     "text": [
      "[2. 4.]\n"
     ]
    }
   ],
   "source": [
    "print(np.percentile(ordersByUsers['orders'], [95, 99]))"
   ]
  },
  {
   "cell_type": "markdown",
   "metadata": {},
   "source": [
    "**Вывод по полученным данным:** Не более 5% пользователей оформляли больше чем 2 заказов. И 1% пользователей заказывали более четырех раз.\n",
    "Разумно выбрать 2 заказа на одного пользователя за верхнюю границу числа заказов, и отсеять аномальных пользователей, которые превысели это значение"
   ]
  },
  {
   "cell_type": "markdown",
   "metadata": {},
   "source": [
    "### Построим точечный график стоимостей заказов"
   ]
  },
  {
   "cell_type": "code",
   "execution_count": 29,
   "metadata": {
    "scrolled": false
   },
   "outputs": [
    {
     "data": {
      "image/png": "[encoded data removed]",
      "text/plain": [
       "<Figure size 1080x720 with 1 Axes>"
      ]
     },
     "metadata": {
      "needs_background": "light"
     },
     "output_type": "display_data"
    }
   ],
   "source": [
    "x_values = pd.Series(range(0, len(orders))) # сгенерированные номера наблюдений\n",
    "\n",
    "plt.figure(figsize=(15,10))\n",
    "plt.scatter(x_values, orders['revenue']) \n",
    "plt.title('Точечный график количества заказов по пользователям', fontsize=16)\n",
    "\n",
    "plt.ylabel(\"стоимость заказов, млн. руб.\",fontsize = 12)\n",
    "plt.xlabel(\"номер наблюдения\",fontsize = 12)\n",
    "\n",
    "plt.show()"
   ]
  },
  {
   "cell_type": "markdown",
   "metadata": {},
   "source": [
    "<br> *Получив данные с графика, отрегулируем диапозон значений стоимости заказов (ось Y) для опредления более точной границы аномалий:*"
   ]
  },
  {
   "cell_type": "code",
   "execution_count": 30,
   "metadata": {},
   "outputs": [
    {
     "data": {
      "image/png": "[encoded data removed]",
      "text/plain": [
       "<Figure size 1080x720 with 1 Axes>"
      ]
     },
     "metadata": {
      "needs_background": "light"
     },
     "output_type": "display_data"
    }
   ],
   "source": [
    "x_values = pd.Series(range(0, len(orders)))\n",
    "\n",
    "plt.figure(figsize=(15,10))\n",
    "plt.scatter(x_values, orders['revenue']) \n",
    "plt.title('Точечный график количества заказов по пользователям (отрегулированный по оси Y)', fontsize=16)\n",
    "plt.ylabel(\"стоимость заказов, млн. руб.\",fontsize = 12)\n",
    "\n",
    "plt.ylim(0, 125000)\n",
    "\n",
    "plt.show()"
   ]
  },
  {
   "cell_type": "markdown",
   "metadata": {},
   "source": [
    "**Вывод по полученным данным:** Есть немного дорогих заказов. По графику можно выбрать границу аномальных заказов в районе 60 000 рублей"
   ]
  },
  {
   "cell_type": "markdown",
   "metadata": {},
   "source": [
    "### Посчитаем 95-й и 99-й перцентили стоимости заказов"
   ]
  },
  {
   "cell_type": "markdown",
   "metadata": {},
   "source": [
    "*Выведем необходимый результат на экран:*"
   ]
  },
  {
   "cell_type": "code",
   "execution_count": 31,
   "metadata": {},
   "outputs": [
    {
     "name": "stdout",
     "output_type": "stream",
     "text": [
      "[28000.  58233.2]\n"
     ]
    }
   ],
   "source": [
    "print(np.percentile(orders['revenue'], [95, 99]))"
   ]
  },
  {
   "cell_type": "markdown",
   "metadata": {},
   "source": [
    "**Вывод по полученным данным:** Не более 5% заказов дороже 28 000 рублей и не более 1% дороже 58 233 рублей. Границу для определения аномальных заказов выберем по значению 99-го перцентиля - 58 233 руб"
   ]
  },
  {
   "cell_type": "markdown",
   "metadata": {},
   "source": [
    "### Посчитаем статистическую значимость различий в конверсии между группами по «сырым» данным, т.е.  без удаления аномальных пользователей"
   ]
  },
  {
   "cell_type": "markdown",
   "metadata": {},
   "source": [
    "*Выборки двух параллельных тестов не должны смешиваться. В противном случае одно изменение может повлиять на восприятие второго*\n",
    "\n",
    "*Поэтому выпешем всех пользователей, которые участвовали в двух группах:*"
   ]
  },
  {
   "cell_type": "code",
   "execution_count": 32,
   "metadata": {
    "scrolled": false
   },
   "outputs": [
    {
     "name": "stdout",
     "output_type": "stream",
     "text": [
      "количество покупателей, которые участвовали в двух группах: 35\n",
      "всего количество покупателей: 1031\n"
     ]
    }
   ],
   "source": [
    "# сгруппируем покупателей по группам:\n",
    "multi_visitors = orders.groupby('visitor_id')['group'].sum()\n",
    "\n",
    "# оставим покупателей только с \"двойной\" группой:\n",
    "multi_visitors = multi_visitors[(multi_visitors=='AB') | (multi_visitors=='BA')].to_frame()\n",
    "\n",
    "# сделаем дата-фрейм:\n",
    "multi_visitors = multi_visitors.merge(multi_visitors, on=['visitor_id', 'group'], how='left').reset_index()\n",
    "\n",
    "# выпишем id покупателей, которые участвовали в двух группах:\n",
    "multi_visitors = multi_visitors['visitor_id'].unique()\n",
    "\n",
    "print('количество покупателей, которые участвовали в двух группах:', len(multi_visitors))\n",
    "print('всего количество покупателей:', orders['visitor_id'].nunique())"
   ]
  },
  {
   "cell_type": "markdown",
   "metadata": {},
   "source": [
    "<br>*Количество покупателей, которые участвовали в двух группах, немного относительно всего количества покупателей в выборке, поэтому удалим их данные из изначального дата-фрейма:*"
   ]
  },
  {
   "cell_type": "code",
   "execution_count": 33,
   "metadata": {},
   "outputs": [
    {
     "data": {
      "text/html": [
       "<div>\n",
       "<style scoped>\n",
       "    .dataframe tbody tr th:only-of-type {\n",
       "        vertical-align: middle;\n",
       "    }\n",
       "\n",
       "    .dataframe tbody tr th {\n",
       "        vertical-align: top;\n",
       "    }\n",
       "\n",
       "    .dataframe thead th {\n",
       "        text-align: right;\n",
       "    }\n",
       "</style>\n",
       "<table border=\"1\" class=\"dataframe\">\n",
       "  <thead>\n",
       "    <tr style=\"text-align: right;\">\n",
       "      <th></th>\n",
       "      <th>transaction_id</th>\n",
       "      <th>visitor_id</th>\n",
       "      <th>date</th>\n",
       "      <th>revenue</th>\n",
       "      <th>group</th>\n",
       "    </tr>\n",
       "  </thead>\n",
       "  <tbody>\n",
       "    <tr>\n",
       "      <th>0</th>\n",
       "      <td>3667963787</td>\n",
       "      <td>3312258926</td>\n",
       "      <td>2019-08-15</td>\n",
       "      <td>1650</td>\n",
       "      <td>B</td>\n",
       "    </tr>\n",
       "    <tr>\n",
       "      <th>1</th>\n",
       "      <td>2804400009</td>\n",
       "      <td>3642806036</td>\n",
       "      <td>2019-08-15</td>\n",
       "      <td>730</td>\n",
       "      <td>B</td>\n",
       "    </tr>\n",
       "    <tr>\n",
       "      <th>3</th>\n",
       "      <td>3797467345</td>\n",
       "      <td>1196621759</td>\n",
       "      <td>2019-08-15</td>\n",
       "      <td>9759</td>\n",
       "      <td>B</td>\n",
       "    </tr>\n",
       "    <tr>\n",
       "      <th>4</th>\n",
       "      <td>2282983706</td>\n",
       "      <td>2322279887</td>\n",
       "      <td>2019-08-15</td>\n",
       "      <td>2308</td>\n",
       "      <td>B</td>\n",
       "    </tr>\n",
       "    <tr>\n",
       "      <th>5</th>\n",
       "      <td>182168103</td>\n",
       "      <td>935554773</td>\n",
       "      <td>2019-08-15</td>\n",
       "      <td>2210</td>\n",
       "      <td>B</td>\n",
       "    </tr>\n",
       "  </tbody>\n",
       "</table>\n",
       "</div>"
      ],
      "text/plain": [
       "   transaction_id  visitor_id       date  revenue group\n",
       "0      3667963787  3312258926 2019-08-15     1650     B\n",
       "1      2804400009  3642806036 2019-08-15      730     B\n",
       "3      3797467345  1196621759 2019-08-15     9759     B\n",
       "4      2282983706  2322279887 2019-08-15     2308     B\n",
       "5       182168103   935554773 2019-08-15     2210     B"
      ]
     },
     "execution_count": 33,
     "metadata": {},
     "output_type": "execute_result"
    }
   ],
   "source": [
    "orders = orders[~orders['visitor_id'].isin(multi_visitors)]\n",
    "orders.head()"
   ]
  },
  {
   "cell_type": "markdown",
   "metadata": {},
   "source": [
    "Сформулируем гипотезы: \n",
    "- **Нулевая**: различий в конверсии по дням между группами нет\n",
    "- **Альтернативная**: различия в конверсии по дням между группами есть"
   ]
  },
  {
   "cell_type": "markdown",
   "metadata": {},
   "source": [
    "<br> *Опеделим количество пользователей в выбранную дату в группе A и В:*"
   ]
  },
  {
   "cell_type": "code",
   "execution_count": 34,
   "metadata": {
    "scrolled": true
   },
   "outputs": [
    {
     "data": {
      "text/html": [
       "<div>\n",
       "<style scoped>\n",
       "    .dataframe tbody tr th:only-of-type {\n",
       "        vertical-align: middle;\n",
       "    }\n",
       "\n",
       "    .dataframe tbody tr th {\n",
       "        vertical-align: top;\n",
       "    }\n",
       "\n",
       "    .dataframe thead th {\n",
       "        text-align: right;\n",
       "    }\n",
       "</style>\n",
       "<table border=\"1\" class=\"dataframe\">\n",
       "  <thead>\n",
       "    <tr style=\"text-align: right;\">\n",
       "      <th></th>\n",
       "      <th>date</th>\n",
       "      <th>visit</th>\n",
       "    </tr>\n",
       "  </thead>\n",
       "  <tbody>\n",
       "    <tr>\n",
       "      <th>0</th>\n",
       "      <td>2019-08-01</td>\n",
       "      <td>20</td>\n",
       "    </tr>\n",
       "    <tr>\n",
       "      <th>1</th>\n",
       "      <td>2019-08-02</td>\n",
       "      <td>18</td>\n",
       "    </tr>\n",
       "    <tr>\n",
       "      <th>2</th>\n",
       "      <td>2019-08-03</td>\n",
       "      <td>24</td>\n",
       "    </tr>\n",
       "    <tr>\n",
       "      <th>3</th>\n",
       "      <td>2019-08-04</td>\n",
       "      <td>15</td>\n",
       "    </tr>\n",
       "    <tr>\n",
       "      <th>4</th>\n",
       "      <td>2019-08-05</td>\n",
       "      <td>23</td>\n",
       "    </tr>\n",
       "  </tbody>\n",
       "</table>\n",
       "</div>"
      ],
      "text/plain": [
       "        date  visit\n",
       "0 2019-08-01     20\n",
       "1 2019-08-02     18\n",
       "2 2019-08-03     24\n",
       "3 2019-08-04     15\n",
       "4 2019-08-05     23"
      ]
     },
     "metadata": {},
     "output_type": "display_data"
    },
    {
     "data": {
      "text/html": [
       "<div>\n",
       "<style scoped>\n",
       "    .dataframe tbody tr th:only-of-type {\n",
       "        vertical-align: middle;\n",
       "    }\n",
       "\n",
       "    .dataframe tbody tr th {\n",
       "        vertical-align: top;\n",
       "    }\n",
       "\n",
       "    .dataframe thead th {\n",
       "        text-align: right;\n",
       "    }\n",
       "</style>\n",
       "<table border=\"1\" class=\"dataframe\">\n",
       "  <thead>\n",
       "    <tr style=\"text-align: right;\">\n",
       "      <th></th>\n",
       "      <th>date</th>\n",
       "      <th>visit</th>\n",
       "    </tr>\n",
       "  </thead>\n",
       "  <tbody>\n",
       "    <tr>\n",
       "      <th>0</th>\n",
       "      <td>2019-08-01</td>\n",
       "      <td>18</td>\n",
       "    </tr>\n",
       "    <tr>\n",
       "      <th>1</th>\n",
       "      <td>2019-08-02</td>\n",
       "      <td>23</td>\n",
       "    </tr>\n",
       "    <tr>\n",
       "      <th>2</th>\n",
       "      <td>2019-08-03</td>\n",
       "      <td>16</td>\n",
       "    </tr>\n",
       "    <tr>\n",
       "      <th>3</th>\n",
       "      <td>2019-08-04</td>\n",
       "      <td>15</td>\n",
       "    </tr>\n",
       "    <tr>\n",
       "      <th>4</th>\n",
       "      <td>2019-08-05</td>\n",
       "      <td>22</td>\n",
       "    </tr>\n",
       "  </tbody>\n",
       "</table>\n",
       "</div>"
      ],
      "text/plain": [
       "        date  visit\n",
       "0 2019-08-01     18\n",
       "1 2019-08-02     23\n",
       "2 2019-08-03     16\n",
       "3 2019-08-04     15\n",
       "4 2019-08-05     22"
      ]
     },
     "metadata": {},
     "output_type": "display_data"
    }
   ],
   "source": [
    "visitorsPerDateA = (\n",
    "    orders[orders['group'] == 'A']\n",
    "    .groupby('date', as_index=False)\n",
    "    .agg({'visitor_id': pd.Series.nunique})\n",
    ")\n",
    "visitorsPerDateA.columns = ['date', 'visit']\n",
    "\n",
    "visitorsPerDateB = (\n",
    "    orders[orders['group'] == 'B']\n",
    "    .groupby('date', as_index=False)\n",
    "    .agg({'visitor_id': pd.Series.nunique})\n",
    ")\n",
    "visitorsPerDateB.columns = ['date', 'visit']\n",
    "    \n",
    "display(visitorsPerDateA.head(), visitorsPerDateB.head())    "
   ]
  },
  {
   "cell_type": "markdown",
   "metadata": {},
   "source": [
    "<br> *Опеделим количество заказов в выбранную дату в группе A и В:*"
   ]
  },
  {
   "cell_type": "code",
   "execution_count": 35,
   "metadata": {},
   "outputs": [
    {
     "data": {
      "text/html": [
       "<div>\n",
       "<style scoped>\n",
       "    .dataframe tbody tr th:only-of-type {\n",
       "        vertical-align: middle;\n",
       "    }\n",
       "\n",
       "    .dataframe tbody tr th {\n",
       "        vertical-align: top;\n",
       "    }\n",
       "\n",
       "    .dataframe thead th {\n",
       "        text-align: right;\n",
       "    }\n",
       "</style>\n",
       "<table border=\"1\" class=\"dataframe\">\n",
       "  <thead>\n",
       "    <tr style=\"text-align: right;\">\n",
       "      <th></th>\n",
       "      <th>date</th>\n",
       "      <th>order</th>\n",
       "    </tr>\n",
       "  </thead>\n",
       "  <tbody>\n",
       "    <tr>\n",
       "      <th>0</th>\n",
       "      <td>2019-08-01</td>\n",
       "      <td>24</td>\n",
       "    </tr>\n",
       "    <tr>\n",
       "      <th>1</th>\n",
       "      <td>2019-08-02</td>\n",
       "      <td>19</td>\n",
       "    </tr>\n",
       "    <tr>\n",
       "      <th>2</th>\n",
       "      <td>2019-08-03</td>\n",
       "      <td>24</td>\n",
       "    </tr>\n",
       "    <tr>\n",
       "      <th>3</th>\n",
       "      <td>2019-08-04</td>\n",
       "      <td>16</td>\n",
       "    </tr>\n",
       "    <tr>\n",
       "      <th>4</th>\n",
       "      <td>2019-08-05</td>\n",
       "      <td>23</td>\n",
       "    </tr>\n",
       "  </tbody>\n",
       "</table>\n",
       "</div>"
      ],
      "text/plain": [
       "        date  order\n",
       "0 2019-08-01     24\n",
       "1 2019-08-02     19\n",
       "2 2019-08-03     24\n",
       "3 2019-08-04     16\n",
       "4 2019-08-05     23"
      ]
     },
     "metadata": {},
     "output_type": "display_data"
    },
    {
     "data": {
      "text/html": [
       "<div>\n",
       "<style scoped>\n",
       "    .dataframe tbody tr th:only-of-type {\n",
       "        vertical-align: middle;\n",
       "    }\n",
       "\n",
       "    .dataframe tbody tr th {\n",
       "        vertical-align: top;\n",
       "    }\n",
       "\n",
       "    .dataframe thead th {\n",
       "        text-align: right;\n",
       "    }\n",
       "</style>\n",
       "<table border=\"1\" class=\"dataframe\">\n",
       "  <thead>\n",
       "    <tr style=\"text-align: right;\">\n",
       "      <th></th>\n",
       "      <th>date</th>\n",
       "      <th>order</th>\n",
       "    </tr>\n",
       "  </thead>\n",
       "  <tbody>\n",
       "    <tr>\n",
       "      <th>0</th>\n",
       "      <td>2019-08-01</td>\n",
       "      <td>19</td>\n",
       "    </tr>\n",
       "    <tr>\n",
       "      <th>1</th>\n",
       "      <td>2019-08-02</td>\n",
       "      <td>24</td>\n",
       "    </tr>\n",
       "    <tr>\n",
       "      <th>2</th>\n",
       "      <td>2019-08-03</td>\n",
       "      <td>16</td>\n",
       "    </tr>\n",
       "    <tr>\n",
       "      <th>3</th>\n",
       "      <td>2019-08-04</td>\n",
       "      <td>16</td>\n",
       "    </tr>\n",
       "    <tr>\n",
       "      <th>4</th>\n",
       "      <td>2019-08-05</td>\n",
       "      <td>22</td>\n",
       "    </tr>\n",
       "  </tbody>\n",
       "</table>\n",
       "</div>"
      ],
      "text/plain": [
       "        date  order\n",
       "0 2019-08-01     19\n",
       "1 2019-08-02     24\n",
       "2 2019-08-03     16\n",
       "3 2019-08-04     16\n",
       "4 2019-08-05     22"
      ]
     },
     "metadata": {},
     "output_type": "display_data"
    }
   ],
   "source": [
    "ordersPerDateA = (\n",
    "    orders[orders['group'] == 'A']\n",
    "    .groupby('date', as_index=False)\n",
    "    .agg({'transaction_id': pd.Series.nunique})\n",
    ")\n",
    "ordersPerDateA.columns = ['date', 'order']\n",
    "\n",
    "ordersPerDateB = (\n",
    "    orders[orders['group'] == 'B']\n",
    "    .groupby('date', as_index=False)\n",
    "    .agg({'transaction_id': pd.Series.nunique})\n",
    ")\n",
    "ordersPerDateB.columns = ['date', 'order']\n",
    "    \n",
    "display(ordersPerDateA.head(), ordersPerDateB.head())    "
   ]
  },
  {
   "cell_type": "markdown",
   "metadata": {},
   "source": [
    "<br> *Посчитаем конверсию по группам:*"
   ]
  },
  {
   "cell_type": "code",
   "execution_count": 36,
   "metadata": {
    "scrolled": true
   },
   "outputs": [
    {
     "data": {
      "text/plain": [
       "0    0.200000\n",
       "1    0.055556\n",
       "2    0.000000\n",
       "3    0.066667\n",
       "4    0.000000\n",
       "dtype: float64"
      ]
     },
     "metadata": {},
     "output_type": "display_data"
    },
    {
     "data": {
      "text/plain": [
       "0    0.055556\n",
       "1    0.043478\n",
       "2    0.000000\n",
       "3    0.066667\n",
       "4    0.000000\n",
       "dtype: float64"
      ]
     },
     "metadata": {},
     "output_type": "display_data"
    }
   ],
   "source": [
    "conversionA = ordersPerDateA['order'] / visitorsPerDateA ['visit'] - 1 \n",
    "conversionB = ordersPerDateB['order'] / visitorsPerDateB ['visit'] - 1\n",
    "\n",
    "display(conversionA.head(), conversionB.head())"
   ]
  },
  {
   "cell_type": "markdown",
   "metadata": {},
   "source": [
    "<br>*Выведем необходимые данные на экран:*"
   ]
  },
  {
   "cell_type": "code",
   "execution_count": 37,
   "metadata": {
    "scrolled": true
   },
   "outputs": [
    {
     "name": "stdout",
     "output_type": "stream",
     "text": [
      "0.83603\n",
      "-0.007\n"
     ]
    }
   ],
   "source": [
    "# определим статистическую значимость между коверсиями:\n",
    "print(\"{0:.5f}\".format(stats.mannwhitneyu(conversionA, conversionB)[1]))\n",
    "\n",
    "# определим отншение конверсии группы В к А:\n",
    "print(\"{0:.3f}\".format((ordersPerDateB['order'].sum()/visitorsPerDateB['visit'].sum())\n",
    "/(ordersPerDateA['order'].sum()/visitorsPerDateA['visit'].sum())-1)) "
   ]
  },
  {
   "cell_type": "markdown",
   "metadata": {},
   "source": [
    "**Вывод по полученным данным:** P-value значительно больше 0.05. Значит, причин отвергать нулевую гипотезу и считать, что в конверсиях друх групп есть различия, нет. Относительное падение конверсии группы В к конверсии группы А равен 0.7%"
   ]
  },
  {
   "cell_type": "markdown",
   "metadata": {},
   "source": [
    "### Посчитаем статистическую значимость различий в среднем чеке заказа между группами по «сырым» данным"
   ]
  },
  {
   "cell_type": "markdown",
   "metadata": {},
   "source": [
    "Сформулируем гипотезы: \n",
    "- **Нулевая**: различий в среднем чеке между группами нет\n",
    "- **Альтернативная**: различия в среднем чеке между группами есть"
   ]
  },
  {
   "cell_type": "code",
   "execution_count": 38,
   "metadata": {},
   "outputs": [
    {
     "name": "stdout",
     "output_type": "stream",
     "text": [
      "0.677\n",
      "0.303\n"
     ]
    }
   ],
   "source": [
    "# определим статистическую значимость между средними чеками в двух наблюдаемых группах:\n",
    "print('{0:.3f}'.format(stats.mannwhitneyu(orders[orders['group']=='A']['revenue'], orders[orders['group']=='B']['revenue'])[1]))\n",
    "\n",
    "# определим отншение среднего чека группы В к А:\n",
    "print('{0:.3f}'.format(orders[orders['group']=='B']['revenue'].mean()/orders[orders['group']=='A']['revenue'].mean()-1)) "
   ]
  },
  {
   "cell_type": "markdown",
   "metadata": {},
   "source": [
    "**Вывод по полученным данным:** P-value значительно больше 0.05. Значит, причин отвергать нулевую гипотезу и считать, что в среднем чеке есть различия, нет. Впрочем, средний чек группы B значительно выше среднего чека группы A на 30,3%"
   ]
  },
  {
   "cell_type": "markdown",
   "metadata": {},
   "source": [
    "### Посчитаем статистическую значимость различий в конверсии между группами по «очищенным» данным"
   ]
  },
  {
   "cell_type": "markdown",
   "metadata": {},
   "source": [
    "*Раннее было определено, что \"аномальные\" пользователи это:*\n",
    "- кто совершил 3 заказа и более (1% от всех пользователей);\n",
    "- совершил заказ на сумму свыше 30 000 рублей (от 1% до 5% от всех пользователей)"
   ]
  },
  {
   "cell_type": "markdown",
   "metadata": {},
   "source": [
    "<br> *Определим, кто делал больше двух заказов:*"
   ]
  },
  {
   "cell_type": "code",
   "execution_count": 39,
   "metadata": {
    "scrolled": true
   },
   "outputs": [
    {
     "data": {
      "text/html": [
       "<div>\n",
       "<style scoped>\n",
       "    .dataframe tbody tr th:only-of-type {\n",
       "        vertical-align: middle;\n",
       "    }\n",
       "\n",
       "    .dataframe tbody tr th {\n",
       "        vertical-align: top;\n",
       "    }\n",
       "\n",
       "    .dataframe thead th {\n",
       "        text-align: right;\n",
       "    }\n",
       "</style>\n",
       "<table border=\"1\" class=\"dataframe\">\n",
       "  <thead>\n",
       "    <tr style=\"text-align: right;\">\n",
       "      <th></th>\n",
       "      <th>visitor_id</th>\n",
       "      <th>group</th>\n",
       "      <th>orders</th>\n",
       "    </tr>\n",
       "  </thead>\n",
       "  <tbody>\n",
       "    <tr>\n",
       "      <th>45</th>\n",
       "      <td>199603092</td>\n",
       "      <td>A</td>\n",
       "      <td>4</td>\n",
       "    </tr>\n",
       "    <tr>\n",
       "      <th>58</th>\n",
       "      <td>237748145</td>\n",
       "      <td>A</td>\n",
       "      <td>4</td>\n",
       "    </tr>\n",
       "    <tr>\n",
       "      <th>63</th>\n",
       "      <td>249864742</td>\n",
       "      <td>B</td>\n",
       "      <td>3</td>\n",
       "    </tr>\n",
       "    <tr>\n",
       "      <th>122</th>\n",
       "      <td>457167155</td>\n",
       "      <td>B</td>\n",
       "      <td>3</td>\n",
       "    </tr>\n",
       "    <tr>\n",
       "      <th>158</th>\n",
       "      <td>611059232</td>\n",
       "      <td>A</td>\n",
       "      <td>3</td>\n",
       "    </tr>\n",
       "  </tbody>\n",
       "</table>\n",
       "</div>"
      ],
      "text/plain": [
       "     visitor_id group  orders\n",
       "45    199603092     A       4\n",
       "58    237748145     A       4\n",
       "63    249864742     B       3\n",
       "122   457167155     B       3\n",
       "158   611059232     A       3"
      ]
     },
     "execution_count": 39,
     "metadata": {},
     "output_type": "execute_result"
    }
   ],
   "source": [
    "usersWithManyOrders = pd.concat(\n",
    "    [\n",
    "        ordersByUsers[ordersByUsers['orders'] > 2]\n",
    "    ],\n",
    "    axis=0,\n",
    ")\n",
    "usersWithManyOrders = usersWithManyOrders.rename(columns={'userId': 'visitor_id'})\n",
    "\n",
    "usersWithManyOrders.head()"
   ]
  },
  {
   "cell_type": "markdown",
   "metadata": {},
   "source": [
    "<br> *Определим, кто совершил заказ на сумму свыше 30 000:*"
   ]
  },
  {
   "cell_type": "code",
   "execution_count": 40,
   "metadata": {
    "scrolled": false
   },
   "outputs": [
    {
     "data": {
      "text/html": [
       "<div>\n",
       "<style scoped>\n",
       "    .dataframe tbody tr th:only-of-type {\n",
       "        vertical-align: middle;\n",
       "    }\n",
       "\n",
       "    .dataframe tbody tr th {\n",
       "        vertical-align: top;\n",
       "    }\n",
       "\n",
       "    .dataframe thead th {\n",
       "        text-align: right;\n",
       "    }\n",
       "</style>\n",
       "<table border=\"1\" class=\"dataframe\">\n",
       "  <thead>\n",
       "    <tr style=\"text-align: right;\">\n",
       "      <th></th>\n",
       "      <th>transaction_id</th>\n",
       "      <th>visitor_id</th>\n",
       "      <th>date</th>\n",
       "      <th>revenue</th>\n",
       "      <th>group</th>\n",
       "    </tr>\n",
       "  </thead>\n",
       "  <tbody>\n",
       "    <tr>\n",
       "      <th>60</th>\n",
       "      <td>1421016313</td>\n",
       "      <td>4256040402</td>\n",
       "      <td>2019-08-16</td>\n",
       "      <td>56650</td>\n",
       "      <td>B</td>\n",
       "    </tr>\n",
       "    <tr>\n",
       "      <th>77</th>\n",
       "      <td>2619374735</td>\n",
       "      <td>787824685</td>\n",
       "      <td>2019-08-16</td>\n",
       "      <td>32350</td>\n",
       "      <td>A</td>\n",
       "    </tr>\n",
       "    <tr>\n",
       "      <th>78</th>\n",
       "      <td>773663763</td>\n",
       "      <td>3288820196</td>\n",
       "      <td>2019-08-16</td>\n",
       "      <td>40740</td>\n",
       "      <td>B</td>\n",
       "    </tr>\n",
       "    <tr>\n",
       "      <th>131</th>\n",
       "      <td>3163614039</td>\n",
       "      <td>2254586615</td>\n",
       "      <td>2019-08-22</td>\n",
       "      <td>53904</td>\n",
       "      <td>A</td>\n",
       "    </tr>\n",
       "    <tr>\n",
       "      <th>173</th>\n",
       "      <td>1192036073</td>\n",
       "      <td>2953427180</td>\n",
       "      <td>2019-08-02</td>\n",
       "      <td>38160</td>\n",
       "      <td>B</td>\n",
       "    </tr>\n",
       "  </tbody>\n",
       "</table>\n",
       "</div>"
      ],
      "text/plain": [
       "     transaction_id  visitor_id       date  revenue group\n",
       "60       1421016313  4256040402 2019-08-16    56650     B\n",
       "77       2619374735   787824685 2019-08-16    32350     A\n",
       "78        773663763  3288820196 2019-08-16    40740     B\n",
       "131      3163614039  2254586615 2019-08-22    53904     A\n",
       "173      1192036073  2953427180 2019-08-02    38160     B"
      ]
     },
     "execution_count": 40,
     "metadata": {},
     "output_type": "execute_result"
    }
   ],
   "source": [
    "usersWithExpensiveOrders = orders[orders['revenue'] > 30000]\n",
    "usersWithExpensiveOrders.head()"
   ]
  },
  {
   "cell_type": "markdown",
   "metadata": {},
   "source": [
    "<br> *Выпешем \"аномальных\" пользователей:*"
   ]
  },
  {
   "cell_type": "code",
   "execution_count": 41,
   "metadata": {
    "scrolled": false
   },
   "outputs": [
    {
     "data": {
      "text/plain": [
       "array([ 199603092,  237748145,  249864742,  457167155,  611059232,\n",
       "       1230306981, 1614305549, 2038680547, 2108163459, 2378935119,\n",
       "       2458001652, 2587333274, 2742574263, 2988190573, 3062433592,\n",
       "       3717692402, 3803269165, 3908431265, 3967698036, 4256040402,\n",
       "        787824685, 3288820196, 2254586615, 2953427180, 3118156181,\n",
       "       2278620397, 2254456485,  834731816, 1606766439, 1357170471,\n",
       "       1920142716, 3177790019, 2837914161, 2912540959, 1367935136,\n",
       "       1452540367,  935349363, 2247666522, 3931967268,  382846391,\n",
       "        816783716,  358944393,  950626008, 4133034833,  888512513,\n",
       "       3321013705,  689129267, 2279926127, 3372131337, 2853587382,\n",
       "       2840985286,  204675465, 4003628586,  887908475, 2261934787,\n",
       "       3590655705,  148427295, 1164614297, 1307669133,  759473111,\n",
       "       2606908679,  393266494, 2108080724])"
      ]
     },
     "execution_count": 41,
     "metadata": {},
     "output_type": "execute_result"
    }
   ],
   "source": [
    "abnormalUsers = usersWithManyOrders.merge(usersWithExpensiveOrders, on='visitor_id', how='outer')\n",
    "\n",
    "abnormalUsers = abnormalUsers['visitor_id'].unique()\n",
    "abnormalUsers"
   ]
  },
  {
   "cell_type": "markdown",
   "metadata": {},
   "source": [
    "<br> *Избавимся от \"аномальных\" пользователей:*"
   ]
  },
  {
   "cell_type": "code",
   "execution_count": 42,
   "metadata": {
    "scrolled": false
   },
   "outputs": [
    {
     "data": {
      "text/html": [
       "<div>\n",
       "<style scoped>\n",
       "    .dataframe tbody tr th:only-of-type {\n",
       "        vertical-align: middle;\n",
       "    }\n",
       "\n",
       "    .dataframe tbody tr th {\n",
       "        vertical-align: top;\n",
       "    }\n",
       "\n",
       "    .dataframe thead th {\n",
       "        text-align: right;\n",
       "    }\n",
       "</style>\n",
       "<table border=\"1\" class=\"dataframe\">\n",
       "  <thead>\n",
       "    <tr style=\"text-align: right;\">\n",
       "      <th></th>\n",
       "      <th>transaction_id</th>\n",
       "      <th>visitor_id</th>\n",
       "      <th>date</th>\n",
       "      <th>revenue</th>\n",
       "      <th>group</th>\n",
       "    </tr>\n",
       "  </thead>\n",
       "  <tbody>\n",
       "    <tr>\n",
       "      <th>0</th>\n",
       "      <td>3667963787</td>\n",
       "      <td>3312258926</td>\n",
       "      <td>2019-08-15</td>\n",
       "      <td>1650</td>\n",
       "      <td>B</td>\n",
       "    </tr>\n",
       "    <tr>\n",
       "      <th>1</th>\n",
       "      <td>2804400009</td>\n",
       "      <td>3642806036</td>\n",
       "      <td>2019-08-15</td>\n",
       "      <td>730</td>\n",
       "      <td>B</td>\n",
       "    </tr>\n",
       "    <tr>\n",
       "      <th>3</th>\n",
       "      <td>3797467345</td>\n",
       "      <td>1196621759</td>\n",
       "      <td>2019-08-15</td>\n",
       "      <td>9759</td>\n",
       "      <td>B</td>\n",
       "    </tr>\n",
       "    <tr>\n",
       "      <th>4</th>\n",
       "      <td>2282983706</td>\n",
       "      <td>2322279887</td>\n",
       "      <td>2019-08-15</td>\n",
       "      <td>2308</td>\n",
       "      <td>B</td>\n",
       "    </tr>\n",
       "    <tr>\n",
       "      <th>5</th>\n",
       "      <td>182168103</td>\n",
       "      <td>935554773</td>\n",
       "      <td>2019-08-15</td>\n",
       "      <td>2210</td>\n",
       "      <td>B</td>\n",
       "    </tr>\n",
       "    <tr>\n",
       "      <th>...</th>\n",
       "      <td>...</td>\n",
       "      <td>...</td>\n",
       "      <td>...</td>\n",
       "      <td>...</td>\n",
       "      <td>...</td>\n",
       "    </tr>\n",
       "    <tr>\n",
       "      <th>1190</th>\n",
       "      <td>38478481</td>\n",
       "      <td>1197745035</td>\n",
       "      <td>2019-08-14</td>\n",
       "      <td>8600</td>\n",
       "      <td>B</td>\n",
       "    </tr>\n",
       "    <tr>\n",
       "      <th>1191</th>\n",
       "      <td>3592955527</td>\n",
       "      <td>608641596</td>\n",
       "      <td>2019-08-14</td>\n",
       "      <td>16490</td>\n",
       "      <td>B</td>\n",
       "    </tr>\n",
       "    <tr>\n",
       "      <th>1192</th>\n",
       "      <td>2662137336</td>\n",
       "      <td>3733762160</td>\n",
       "      <td>2019-08-14</td>\n",
       "      <td>6490</td>\n",
       "      <td>B</td>\n",
       "    </tr>\n",
       "    <tr>\n",
       "      <th>1193</th>\n",
       "      <td>2203539145</td>\n",
       "      <td>370388673</td>\n",
       "      <td>2019-08-14</td>\n",
       "      <td>3190</td>\n",
       "      <td>A</td>\n",
       "    </tr>\n",
       "    <tr>\n",
       "      <th>1194</th>\n",
       "      <td>1807773912</td>\n",
       "      <td>573423106</td>\n",
       "      <td>2019-08-14</td>\n",
       "      <td>10550</td>\n",
       "      <td>A</td>\n",
       "    </tr>\n",
       "  </tbody>\n",
       "</table>\n",
       "<p>979 rows × 5 columns</p>\n",
       "</div>"
      ],
      "text/plain": [
       "      transaction_id  visitor_id       date  revenue group\n",
       "0         3667963787  3312258926 2019-08-15     1650     B\n",
       "1         2804400009  3642806036 2019-08-15      730     B\n",
       "3         3797467345  1196621759 2019-08-15     9759     B\n",
       "4         2282983706  2322279887 2019-08-15     2308     B\n",
       "5          182168103   935554773 2019-08-15     2210     B\n",
       "...              ...         ...        ...      ...   ...\n",
       "1190        38478481  1197745035 2019-08-14     8600     B\n",
       "1191      3592955527   608641596 2019-08-14    16490     B\n",
       "1192      2662137336  3733762160 2019-08-14     6490     B\n",
       "1193      2203539145   370388673 2019-08-14     3190     A\n",
       "1194      1807773912   573423106 2019-08-14    10550     A\n",
       "\n",
       "[979 rows x 5 columns]"
      ]
     },
     "execution_count": 42,
     "metadata": {},
     "output_type": "execute_result"
    }
   ],
   "source": [
    "orders_filtered = orders[~orders['visitor_id'].isin(abnormalUsers)]\n",
    "orders_filtered"
   ]
  },
  {
   "cell_type": "markdown",
   "metadata": {},
   "source": [
    "<br> *Определим количество посещений по дням из \"очищенных\" данных:*"
   ]
  },
  {
   "cell_type": "code",
   "execution_count": 43,
   "metadata": {
    "scrolled": true
   },
   "outputs": [
    {
     "data": {
      "text/html": [
       "<div>\n",
       "<style scoped>\n",
       "    .dataframe tbody tr th:only-of-type {\n",
       "        vertical-align: middle;\n",
       "    }\n",
       "\n",
       "    .dataframe tbody tr th {\n",
       "        vertical-align: top;\n",
       "    }\n",
       "\n",
       "    .dataframe thead th {\n",
       "        text-align: right;\n",
       "    }\n",
       "</style>\n",
       "<table border=\"1\" class=\"dataframe\">\n",
       "  <thead>\n",
       "    <tr style=\"text-align: right;\">\n",
       "      <th></th>\n",
       "      <th>date</th>\n",
       "      <th>visit</th>\n",
       "    </tr>\n",
       "  </thead>\n",
       "  <tbody>\n",
       "    <tr>\n",
       "      <th>0</th>\n",
       "      <td>2019-08-01</td>\n",
       "      <td>17</td>\n",
       "    </tr>\n",
       "    <tr>\n",
       "      <th>1</th>\n",
       "      <td>2019-08-02</td>\n",
       "      <td>17</td>\n",
       "    </tr>\n",
       "    <tr>\n",
       "      <th>2</th>\n",
       "      <td>2019-08-03</td>\n",
       "      <td>24</td>\n",
       "    </tr>\n",
       "    <tr>\n",
       "      <th>3</th>\n",
       "      <td>2019-08-04</td>\n",
       "      <td>13</td>\n",
       "    </tr>\n",
       "    <tr>\n",
       "      <th>4</th>\n",
       "      <td>2019-08-05</td>\n",
       "      <td>23</td>\n",
       "    </tr>\n",
       "  </tbody>\n",
       "</table>\n",
       "</div>"
      ],
      "text/plain": [
       "        date  visit\n",
       "0 2019-08-01     17\n",
       "1 2019-08-02     17\n",
       "2 2019-08-03     24\n",
       "3 2019-08-04     13\n",
       "4 2019-08-05     23"
      ]
     },
     "metadata": {},
     "output_type": "display_data"
    },
    {
     "data": {
      "text/html": [
       "<div>\n",
       "<style scoped>\n",
       "    .dataframe tbody tr th:only-of-type {\n",
       "        vertical-align: middle;\n",
       "    }\n",
       "\n",
       "    .dataframe tbody tr th {\n",
       "        vertical-align: top;\n",
       "    }\n",
       "\n",
       "    .dataframe thead th {\n",
       "        text-align: right;\n",
       "    }\n",
       "</style>\n",
       "<table border=\"1\" class=\"dataframe\">\n",
       "  <thead>\n",
       "    <tr style=\"text-align: right;\">\n",
       "      <th></th>\n",
       "      <th>date</th>\n",
       "      <th>visit</th>\n",
       "    </tr>\n",
       "  </thead>\n",
       "  <tbody>\n",
       "    <tr>\n",
       "      <th>0</th>\n",
       "      <td>2019-08-01</td>\n",
       "      <td>17</td>\n",
       "    </tr>\n",
       "    <tr>\n",
       "      <th>1</th>\n",
       "      <td>2019-08-02</td>\n",
       "      <td>20</td>\n",
       "    </tr>\n",
       "    <tr>\n",
       "      <th>2</th>\n",
       "      <td>2019-08-03</td>\n",
       "      <td>16</td>\n",
       "    </tr>\n",
       "    <tr>\n",
       "      <th>3</th>\n",
       "      <td>2019-08-04</td>\n",
       "      <td>13</td>\n",
       "    </tr>\n",
       "    <tr>\n",
       "      <th>4</th>\n",
       "      <td>2019-08-05</td>\n",
       "      <td>21</td>\n",
       "    </tr>\n",
       "  </tbody>\n",
       "</table>\n",
       "</div>"
      ],
      "text/plain": [
       "        date  visit\n",
       "0 2019-08-01     17\n",
       "1 2019-08-02     20\n",
       "2 2019-08-03     16\n",
       "3 2019-08-04     13\n",
       "4 2019-08-05     21"
      ]
     },
     "metadata": {},
     "output_type": "display_data"
    }
   ],
   "source": [
    "visitorsPerDateA_filtered = (\n",
    "    orders_filtered[orders_filtered['group'] == 'A']\n",
    "    .groupby('date', as_index=False)\n",
    "    .agg({'visitor_id': pd.Series.nunique})\n",
    ")\n",
    "visitorsPerDateA_filtered.columns = ['date', 'visit']\n",
    "\n",
    "visitorsPerDateB_filtered = (\n",
    "    orders_filtered[orders_filtered['group'] == 'B']\n",
    "    .groupby('date', as_index=False)\n",
    "    .agg({'visitor_id': pd.Series.nunique})\n",
    ")\n",
    "visitorsPerDateB_filtered.columns = ['date', 'visit']\n",
    "    \n",
    "display(visitorsPerDateA_filtered.head(), visitorsPerDateB_filtered.head())    "
   ]
  },
  {
   "cell_type": "markdown",
   "metadata": {},
   "source": [
    "<br> *Определим количество заказов по дням из \"очищенных\" данных:*"
   ]
  },
  {
   "cell_type": "code",
   "execution_count": 44,
   "metadata": {
    "scrolled": true
   },
   "outputs": [
    {
     "data": {
      "text/html": [
       "<div>\n",
       "<style scoped>\n",
       "    .dataframe tbody tr th:only-of-type {\n",
       "        vertical-align: middle;\n",
       "    }\n",
       "\n",
       "    .dataframe tbody tr th {\n",
       "        vertical-align: top;\n",
       "    }\n",
       "\n",
       "    .dataframe thead th {\n",
       "        text-align: right;\n",
       "    }\n",
       "</style>\n",
       "<table border=\"1\" class=\"dataframe\">\n",
       "  <thead>\n",
       "    <tr style=\"text-align: right;\">\n",
       "      <th></th>\n",
       "      <th>date</th>\n",
       "      <th>order</th>\n",
       "    </tr>\n",
       "  </thead>\n",
       "  <tbody>\n",
       "    <tr>\n",
       "      <th>0</th>\n",
       "      <td>2019-08-01</td>\n",
       "      <td>18</td>\n",
       "    </tr>\n",
       "    <tr>\n",
       "      <th>1</th>\n",
       "      <td>2019-08-02</td>\n",
       "      <td>18</td>\n",
       "    </tr>\n",
       "    <tr>\n",
       "      <th>2</th>\n",
       "      <td>2019-08-03</td>\n",
       "      <td>24</td>\n",
       "    </tr>\n",
       "    <tr>\n",
       "      <th>3</th>\n",
       "      <td>2019-08-04</td>\n",
       "      <td>13</td>\n",
       "    </tr>\n",
       "    <tr>\n",
       "      <th>4</th>\n",
       "      <td>2019-08-05</td>\n",
       "      <td>23</td>\n",
       "    </tr>\n",
       "  </tbody>\n",
       "</table>\n",
       "</div>"
      ],
      "text/plain": [
       "        date  order\n",
       "0 2019-08-01     18\n",
       "1 2019-08-02     18\n",
       "2 2019-08-03     24\n",
       "3 2019-08-04     13\n",
       "4 2019-08-05     23"
      ]
     },
     "metadata": {},
     "output_type": "display_data"
    },
    {
     "data": {
      "text/html": [
       "<div>\n",
       "<style scoped>\n",
       "    .dataframe tbody tr th:only-of-type {\n",
       "        vertical-align: middle;\n",
       "    }\n",
       "\n",
       "    .dataframe tbody tr th {\n",
       "        vertical-align: top;\n",
       "    }\n",
       "\n",
       "    .dataframe thead th {\n",
       "        text-align: right;\n",
       "    }\n",
       "</style>\n",
       "<table border=\"1\" class=\"dataframe\">\n",
       "  <thead>\n",
       "    <tr style=\"text-align: right;\">\n",
       "      <th></th>\n",
       "      <th>date</th>\n",
       "      <th>order</th>\n",
       "    </tr>\n",
       "  </thead>\n",
       "  <tbody>\n",
       "    <tr>\n",
       "      <th>0</th>\n",
       "      <td>2019-08-01</td>\n",
       "      <td>17</td>\n",
       "    </tr>\n",
       "    <tr>\n",
       "      <th>1</th>\n",
       "      <td>2019-08-02</td>\n",
       "      <td>21</td>\n",
       "    </tr>\n",
       "    <tr>\n",
       "      <th>2</th>\n",
       "      <td>2019-08-03</td>\n",
       "      <td>16</td>\n",
       "    </tr>\n",
       "    <tr>\n",
       "      <th>3</th>\n",
       "      <td>2019-08-04</td>\n",
       "      <td>14</td>\n",
       "    </tr>\n",
       "    <tr>\n",
       "      <th>4</th>\n",
       "      <td>2019-08-05</td>\n",
       "      <td>21</td>\n",
       "    </tr>\n",
       "  </tbody>\n",
       "</table>\n",
       "</div>"
      ],
      "text/plain": [
       "        date  order\n",
       "0 2019-08-01     17\n",
       "1 2019-08-02     21\n",
       "2 2019-08-03     16\n",
       "3 2019-08-04     14\n",
       "4 2019-08-05     21"
      ]
     },
     "metadata": {},
     "output_type": "display_data"
    }
   ],
   "source": [
    "ordersPerDateA_filtered = (\n",
    "    orders_filtered[orders_filtered['group'] == 'A']\n",
    "    .groupby('date', as_index=False)\n",
    "    .agg({'transaction_id': pd.Series.nunique})\n",
    ")\n",
    "ordersPerDateA_filtered.columns = ['date', 'order']\n",
    "\n",
    "ordersPerDateB_filtered = (\n",
    "    orders_filtered[orders_filtered['group'] == 'B']\n",
    "    .groupby('date', as_index=False)\n",
    "    .agg({'transaction_id': pd.Series.nunique})\n",
    ")\n",
    "ordersPerDateB_filtered.columns = ['date', 'order']\n",
    "    \n",
    "display(ordersPerDateA_filtered.head(), ordersPerDateB_filtered.head())    "
   ]
  },
  {
   "cell_type": "markdown",
   "metadata": {},
   "source": [
    "<br> *Определим значение конверсии по \"очищенным\" данным:*"
   ]
  },
  {
   "cell_type": "code",
   "execution_count": 45,
   "metadata": {
    "scrolled": true
   },
   "outputs": [
    {
     "data": {
      "text/plain": [
       "0    0.058824\n",
       "1    0.058824\n",
       "2    0.000000\n",
       "3    0.000000\n",
       "4    0.000000\n",
       "dtype: float64"
      ]
     },
     "metadata": {},
     "output_type": "display_data"
    },
    {
     "data": {
      "text/plain": [
       "0    0.000000\n",
       "1    0.050000\n",
       "2    0.000000\n",
       "3    0.076923\n",
       "4    0.000000\n",
       "dtype: float64"
      ]
     },
     "metadata": {},
     "output_type": "display_data"
    }
   ],
   "source": [
    "conversionA_filtered = ordersPerDateA_filtered['order'] / visitorsPerDateA_filtered ['visit'] - 1 \n",
    "conversionB_filtered = ordersPerDateB_filtered['order'] / visitorsPerDateB_filtered ['visit'] - 1\n",
    "\n",
    "display(conversionA_filtered.head(), conversionB_filtered.head())"
   ]
  },
  {
   "cell_type": "markdown",
   "metadata": {},
   "source": [
    "<br>Сформулируем гипотезы: \n",
    "- **Нулевая**: различий в конверсии по дням между группами нет\n",
    "- **Альтернативная**: различия в конверсии по дням между группами есть"
   ]
  },
  {
   "cell_type": "code",
   "execution_count": 46,
   "metadata": {},
   "outputs": [
    {
     "name": "stdout",
     "output_type": "stream",
     "text": [
      "0.85175\n",
      "-0.002\n"
     ]
    }
   ],
   "source": [
    "# определим статистическую значимость между коверсиями:\n",
    "print(\"{0:.5f}\".format(stats.mannwhitneyu(conversionA_filtered, conversionB_filtered)[1]))\n",
    "\n",
    "# определим отншение конверсии группы В к А:\n",
    "print(\"{0:.3f}\".format((ordersPerDateB_filtered['order'].sum()/visitorsPerDateB_filtered['visit'].sum())\n",
    "/(ordersPerDateA_filtered['order'].sum()/visitorsPerDateA_filtered['visit'].sum())-1)) "
   ]
  },
  {
   "cell_type": "markdown",
   "metadata": {},
   "source": [
    "**Вывод по полученным данным:** статистическая значимость конверсии по \"очищенным\" данным чуть уменьшилась относительно конверсии по сырым данным, но она все также значительно больше значения 0.05. Значит также не отвергаем нулевую гипотезу. Относительное падение конверсии В уменьшилось и почти приблизилось к значению конверсии А"
   ]
  },
  {
   "cell_type": "markdown",
   "metadata": {},
   "source": [
    "### Посчитаем статистическую значимость различий в среднем чеке заказа между группами по «очищенным» данным"
   ]
  },
  {
   "cell_type": "markdown",
   "metadata": {},
   "source": [
    "<br>Сформулируем гипотезы: \n",
    "- **Нулевая**: различий в среднем чеке заказа по дням между группами нет\n",
    "- **Альтернативная**: различия в среднем чеке заказа по дням между группами есть"
   ]
  },
  {
   "cell_type": "markdown",
   "metadata": {},
   "source": [
    "*Выведем необходимые данные на экран:*"
   ]
  },
  {
   "cell_type": "code",
   "execution_count": 47,
   "metadata": {},
   "outputs": [
    {
     "name": "stdout",
     "output_type": "stream",
     "text": [
      "0.726\n",
      "-0.024\n"
     ]
    }
   ],
   "source": [
    "# определим статистическую значимость между средними чеками в двух наблюдаемых группах:\n",
    "print('{0:.3f}'.format(stats.mannwhitneyu(orders_filtered[orders_filtered['group']=='A']['revenue'],\n",
    "                                          orders_filtered[orders_filtered['group']=='B']['revenue'])[1]))\n",
    "\n",
    "# определим отншение среднего чека группы В к А:\n",
    "print('{0:.3f}'.format(orders_filtered[orders_filtered['group']=='B']['revenue'].mean()/\n",
    "                       orders_filtered[orders_filtered['group']=='A']['revenue'].mean()-1)) "
   ]
  },
  {
   "cell_type": "markdown",
   "metadata": {},
   "source": [
    "**Вывод по полученным данным:** \n",
    "- P-value остается также значительно больше 0.05. Значит, причин отвергать нулевую гипотезу и считать, что в среднем чеке есть различия, также нет;\n",
    "- Средний чек группы B остается больше чем у группы А, но разница стала на почти на 30% меньше чем по \"сырым\" данным. Видимо, основное количество аномальных заказов (те, которые превышали значение 30 000) были совершенны в группе В"
   ]
  },
  {
   "cell_type": "markdown",
   "metadata": {},
   "source": [
    "**Вот результаты решённых в этом курсе задач в сборе:**\n",
    "- Нет статистически значимых различий по конверсии между группами как по сырым данным, так и после фильтрации аномалий;\n",
    "- Нет статистически значимых различий по среднему чеку между группами как по сырым данным, так и после фильтрации аномалий;\n",
    "- График различия конверсии между группами сообщает, что результаты группы B лучше группы A. Отношение между двумя конверсиями в конце рассматриваемого интервала зафиксировалась;\n",
    "- График различия среднего чека колеблется: он-то и позволил догадаться, что в данных имеются аномалии. Не смотря на это, положительные тенденции к увеличению среднего чека для группы В есть, даже после удаления аномалий, хоть и не большой\n",
    "\n",
    "**Исходя из всего выше сказанного, делается вывод о том, что тест нужно закончить и признать неудачным, т.к. ощутимого результата по значению конверсии и среднего чека группа В относительно группы А не продемонстрировала**"
   ]
  }
 ],
 "metadata": {
  "ExecuteTimeLog": [
   {
    "duration": 49,
    "start_time": "2022-06-23T15:37:29.789Z"
   },
   {
    "duration": 773,
    "start_time": "2022-06-23T15:37:35.490Z"
   },
   {
    "duration": 82,
    "start_time": "2022-06-23T15:37:38.430Z"
   },
   {
    "duration": 35,
    "start_time": "2022-06-23T15:37:58.789Z"
   },
   {
    "duration": 40,
    "start_time": "2022-06-23T15:38:05.992Z"
   },
   {
    "duration": 5,
    "start_time": "2022-06-23T15:38:44.491Z"
   },
   {
    "duration": 39,
    "start_time": "2022-06-23T15:40:35.929Z"
   },
   {
    "duration": 41,
    "start_time": "2022-06-23T15:40:39.437Z"
   },
   {
    "duration": 4,
    "start_time": "2022-06-23T15:40:42.000Z"
   },
   {
    "duration": 47,
    "start_time": "2022-06-23T15:41:56.091Z"
   },
   {
    "duration": 60,
    "start_time": "2022-06-25T15:52:35.282Z"
   },
   {
    "duration": 6,
    "start_time": "2022-06-25T15:52:45.649Z"
   },
   {
    "duration": 837,
    "start_time": "2022-06-25T15:52:51.665Z"
   },
   {
    "duration": 151,
    "start_time": "2022-06-25T15:52:52.505Z"
   },
   {
    "duration": 0,
    "start_time": "2022-06-25T15:52:52.657Z"
   },
   {
    "duration": 0,
    "start_time": "2022-06-25T15:52:52.659Z"
   },
   {
    "duration": 5,
    "start_time": "2022-06-25T15:53:00.198Z"
   },
   {
    "duration": 836,
    "start_time": "2022-06-25T16:01:08.295Z"
   },
   {
    "duration": 4,
    "start_time": "2022-06-25T16:01:27.563Z"
   },
   {
    "duration": 21,
    "start_time": "2022-06-25T16:01:30.559Z"
   },
   {
    "duration": 12,
    "start_time": "2022-06-25T16:01:51.549Z"
   },
   {
    "duration": 9,
    "start_time": "2022-06-25T16:12:23.367Z"
   },
   {
    "duration": 47,
    "start_time": "2022-06-25T16:17:22.243Z"
   },
   {
    "duration": 34,
    "start_time": "2022-06-25T16:39:27.426Z"
   },
   {
    "duration": 37,
    "start_time": "2022-06-25T16:39:37.668Z"
   },
   {
    "duration": 200,
    "start_time": "2022-06-25T16:42:34.269Z"
   },
   {
    "duration": 5,
    "start_time": "2022-06-25T16:58:20.901Z"
   },
   {
    "duration": 6,
    "start_time": "2022-06-25T17:01:48.124Z"
   },
   {
    "duration": 8,
    "start_time": "2022-06-25T17:02:08.921Z"
   },
   {
    "duration": 15,
    "start_time": "2022-06-25T17:02:33.356Z"
   },
   {
    "duration": 9,
    "start_time": "2022-06-25T17:02:41.634Z"
   },
   {
    "duration": 11,
    "start_time": "2022-06-25T17:05:33.107Z"
   },
   {
    "duration": 6,
    "start_time": "2022-06-25T18:55:21.955Z"
   },
   {
    "duration": 14,
    "start_time": "2022-06-25T18:55:27.834Z"
   },
   {
    "duration": 22,
    "start_time": "2022-06-25T18:59:39.673Z"
   },
   {
    "duration": 20,
    "start_time": "2022-06-25T19:00:01.842Z"
   },
   {
    "duration": 20,
    "start_time": "2022-06-25T19:00:09.451Z"
   },
   {
    "duration": 169,
    "start_time": "2022-06-25T19:01:49.274Z"
   },
   {
    "duration": 178,
    "start_time": "2022-06-25T19:02:01.593Z"
   },
   {
    "duration": 115,
    "start_time": "2022-06-25T19:03:12.094Z"
   },
   {
    "duration": 120,
    "start_time": "2022-06-25T19:03:19.953Z"
   },
   {
    "duration": 116,
    "start_time": "2022-06-25T19:05:40.603Z"
   },
   {
    "duration": 114,
    "start_time": "2022-06-25T19:05:46.566Z"
   },
   {
    "duration": 50,
    "start_time": "2022-06-25T19:07:22.682Z"
   },
   {
    "duration": 62,
    "start_time": "2022-06-25T19:07:30.073Z"
   },
   {
    "duration": 74,
    "start_time": "2022-06-25T19:07:34.802Z"
   },
   {
    "duration": 46,
    "start_time": "2022-06-25T19:07:43.212Z"
   },
   {
    "duration": 91,
    "start_time": "2022-06-25T19:07:54.665Z"
   },
   {
    "duration": 54,
    "start_time": "2022-06-25T19:07:58.155Z"
   },
   {
    "duration": 141,
    "start_time": "2022-06-25T19:09:33.047Z"
   },
   {
    "duration": 6,
    "start_time": "2022-06-25T19:11:37.168Z"
   },
   {
    "duration": 15,
    "start_time": "2022-06-25T19:11:42.095Z"
   },
   {
    "duration": 13,
    "start_time": "2022-06-25T19:11:54.948Z"
   },
   {
    "duration": 12,
    "start_time": "2022-06-25T19:13:02.924Z"
   },
   {
    "duration": 13,
    "start_time": "2022-06-25T19:13:16.033Z"
   },
   {
    "duration": 11,
    "start_time": "2022-06-25T19:15:34.927Z"
   },
   {
    "duration": 10,
    "start_time": "2022-06-25T19:15:51.188Z"
   },
   {
    "duration": 14,
    "start_time": "2022-06-25T19:16:01.712Z"
   },
   {
    "duration": 211,
    "start_time": "2022-06-25T19:16:22.724Z"
   },
   {
    "duration": 147,
    "start_time": "2022-06-25T19:17:15.062Z"
   },
   {
    "duration": 59,
    "start_time": "2022-06-25T19:17:49.863Z"
   },
   {
    "duration": 573,
    "start_time": "2022-06-25T19:17:56.312Z"
   },
   {
    "duration": 41,
    "start_time": "2022-06-25T19:17:56.887Z"
   },
   {
    "duration": 4,
    "start_time": "2022-06-25T19:17:56.929Z"
   },
   {
    "duration": 883,
    "start_time": "2022-06-25T19:17:56.934Z"
   },
   {
    "duration": 0,
    "start_time": "2022-06-25T19:17:57.819Z"
   },
   {
    "duration": 0,
    "start_time": "2022-06-25T19:17:57.821Z"
   },
   {
    "duration": 1,
    "start_time": "2022-06-25T19:17:57.821Z"
   },
   {
    "duration": 0,
    "start_time": "2022-06-25T19:17:57.823Z"
   },
   {
    "duration": 0,
    "start_time": "2022-06-25T19:17:57.825Z"
   },
   {
    "duration": 0,
    "start_time": "2022-06-25T19:17:57.826Z"
   },
   {
    "duration": 0,
    "start_time": "2022-06-25T19:17:57.827Z"
   },
   {
    "duration": 0,
    "start_time": "2022-06-25T19:17:57.829Z"
   },
   {
    "duration": 0,
    "start_time": "2022-06-25T19:17:57.830Z"
   },
   {
    "duration": 0,
    "start_time": "2022-06-25T19:17:57.831Z"
   },
   {
    "duration": 0,
    "start_time": "2022-06-25T19:17:57.833Z"
   },
   {
    "duration": 0,
    "start_time": "2022-06-25T19:17:57.834Z"
   },
   {
    "duration": 0,
    "start_time": "2022-06-25T19:17:57.836Z"
   },
   {
    "duration": 8,
    "start_time": "2022-06-25T19:18:02.961Z"
   },
   {
    "duration": 625,
    "start_time": "2022-06-25T19:18:10.126Z"
   },
   {
    "duration": 43,
    "start_time": "2022-06-25T19:18:10.753Z"
   },
   {
    "duration": 4,
    "start_time": "2022-06-25T19:18:10.797Z"
   },
   {
    "duration": 762,
    "start_time": "2022-06-25T19:18:10.803Z"
   },
   {
    "duration": 0,
    "start_time": "2022-06-25T19:18:11.568Z"
   },
   {
    "duration": 0,
    "start_time": "2022-06-25T19:18:11.569Z"
   },
   {
    "duration": 0,
    "start_time": "2022-06-25T19:18:11.570Z"
   },
   {
    "duration": 0,
    "start_time": "2022-06-25T19:18:11.571Z"
   },
   {
    "duration": 0,
    "start_time": "2022-06-25T19:18:11.573Z"
   },
   {
    "duration": 0,
    "start_time": "2022-06-25T19:18:11.574Z"
   },
   {
    "duration": 0,
    "start_time": "2022-06-25T19:18:11.575Z"
   },
   {
    "duration": 0,
    "start_time": "2022-06-25T19:18:11.576Z"
   },
   {
    "duration": 0,
    "start_time": "2022-06-25T19:18:11.577Z"
   },
   {
    "duration": 0,
    "start_time": "2022-06-25T19:18:11.578Z"
   },
   {
    "duration": 0,
    "start_time": "2022-06-25T19:18:11.578Z"
   },
   {
    "duration": 0,
    "start_time": "2022-06-25T19:18:11.579Z"
   },
   {
    "duration": 0,
    "start_time": "2022-06-25T19:18:11.580Z"
   },
   {
    "duration": 5,
    "start_time": "2022-06-25T19:18:29.466Z"
   },
   {
    "duration": 593,
    "start_time": "2022-06-25T19:18:33.908Z"
   },
   {
    "duration": 42,
    "start_time": "2022-06-25T19:18:34.503Z"
   },
   {
    "duration": 4,
    "start_time": "2022-06-25T19:18:34.546Z"
   },
   {
    "duration": 11,
    "start_time": "2022-06-25T19:18:34.552Z"
   },
   {
    "duration": 14,
    "start_time": "2022-06-25T19:18:34.565Z"
   },
   {
    "duration": 8,
    "start_time": "2022-06-25T19:18:34.581Z"
   },
   {
    "duration": 72,
    "start_time": "2022-06-25T19:18:34.590Z"
   },
   {
    "duration": 4,
    "start_time": "2022-06-25T19:18:34.663Z"
   },
   {
    "duration": 13,
    "start_time": "2022-06-25T19:18:34.669Z"
   },
   {
    "duration": 20,
    "start_time": "2022-06-25T19:18:34.683Z"
   },
   {
    "duration": 14,
    "start_time": "2022-06-25T19:18:34.705Z"
   },
   {
    "duration": 210,
    "start_time": "2022-06-25T19:18:34.721Z"
   },
   {
    "duration": 139,
    "start_time": "2022-06-25T19:18:34.932Z"
   },
   {
    "duration": 157,
    "start_time": "2022-06-25T19:18:35.073Z"
   },
   {
    "duration": 25,
    "start_time": "2022-06-25T19:18:35.232Z"
   },
   {
    "duration": 17,
    "start_time": "2022-06-25T19:18:35.259Z"
   },
   {
    "duration": 262,
    "start_time": "2022-06-25T19:18:35.277Z"
   },
   {
    "duration": 205,
    "start_time": "2022-06-25T19:19:50.308Z"
   },
   {
    "duration": 145,
    "start_time": "2022-06-25T19:20:02.687Z"
   },
   {
    "duration": 200,
    "start_time": "2022-06-25T19:20:14.879Z"
   },
   {
    "duration": 156,
    "start_time": "2022-06-25T19:20:26.708Z"
   },
   {
    "duration": 48,
    "start_time": "2022-06-25T19:21:08.827Z"
   },
   {
    "duration": 52,
    "start_time": "2022-06-25T19:21:22.548Z"
   },
   {
    "duration": 67,
    "start_time": "2022-06-25T19:21:54.813Z"
   },
   {
    "duration": 47,
    "start_time": "2022-06-25T19:21:58.843Z"
   },
   {
    "duration": 74,
    "start_time": "2022-06-25T19:23:12.505Z"
   },
   {
    "duration": 184,
    "start_time": "2022-06-25T19:23:39.281Z"
   },
   {
    "duration": 242,
    "start_time": "2022-06-25T19:23:51.874Z"
   },
   {
    "duration": 196,
    "start_time": "2022-06-25T19:24:05.374Z"
   },
   {
    "duration": 630,
    "start_time": "2022-06-25T19:24:54.116Z"
   },
   {
    "duration": 40,
    "start_time": "2022-06-25T19:24:54.748Z"
   },
   {
    "duration": 4,
    "start_time": "2022-06-25T19:24:54.790Z"
   },
   {
    "duration": 13,
    "start_time": "2022-06-25T19:24:54.796Z"
   },
   {
    "duration": 18,
    "start_time": "2022-06-25T19:24:54.811Z"
   },
   {
    "duration": 8,
    "start_time": "2022-06-25T19:24:54.830Z"
   },
   {
    "duration": 73,
    "start_time": "2022-06-25T19:24:54.840Z"
   },
   {
    "duration": 5,
    "start_time": "2022-06-25T19:24:54.914Z"
   },
   {
    "duration": 11,
    "start_time": "2022-06-25T19:24:54.920Z"
   },
   {
    "duration": 11,
    "start_time": "2022-06-25T19:24:54.933Z"
   },
   {
    "duration": 13,
    "start_time": "2022-06-25T19:24:54.945Z"
   },
   {
    "duration": 200,
    "start_time": "2022-06-25T19:24:54.960Z"
   },
   {
    "duration": 151,
    "start_time": "2022-06-25T19:24:55.162Z"
   },
   {
    "duration": 142,
    "start_time": "2022-06-25T19:24:55.316Z"
   },
   {
    "duration": 13,
    "start_time": "2022-06-25T19:24:55.459Z"
   },
   {
    "duration": 36,
    "start_time": "2022-06-25T19:24:55.474Z"
   },
   {
    "duration": 238,
    "start_time": "2022-06-25T19:24:55.512Z"
   },
   {
    "duration": 280,
    "start_time": "2022-06-25T19:25:34.868Z"
   },
   {
    "duration": 195,
    "start_time": "2022-06-25T19:25:52.067Z"
   },
   {
    "duration": 204,
    "start_time": "2022-06-25T19:26:17.507Z"
   },
   {
    "duration": 8,
    "start_time": "2022-06-25T19:26:44.008Z"
   },
   {
    "duration": 243,
    "start_time": "2022-06-25T19:32:35.181Z"
   },
   {
    "duration": 200,
    "start_time": "2022-06-25T19:35:32.884Z"
   },
   {
    "duration": 78,
    "start_time": "2022-06-25T19:36:06.689Z"
   },
   {
    "duration": 76,
    "start_time": "2022-06-25T19:36:10.128Z"
   },
   {
    "duration": 195,
    "start_time": "2022-06-25T19:36:15.832Z"
   },
   {
    "duration": 228,
    "start_time": "2022-06-25T19:36:30.169Z"
   },
   {
    "duration": 196,
    "start_time": "2022-06-25T19:36:58.592Z"
   },
   {
    "duration": 183,
    "start_time": "2022-06-25T19:37:15.832Z"
   },
   {
    "duration": 213,
    "start_time": "2022-06-25T19:37:53.920Z"
   },
   {
    "duration": 174,
    "start_time": "2022-06-25T19:37:57.512Z"
   },
   {
    "duration": 11,
    "start_time": "2022-06-25T19:38:08.198Z"
   },
   {
    "duration": 275,
    "start_time": "2022-06-25T19:38:29.864Z"
   },
   {
    "duration": 74,
    "start_time": "2022-06-25T19:38:38.672Z"
   },
   {
    "duration": 260,
    "start_time": "2022-06-25T19:38:47.353Z"
   },
   {
    "duration": 42,
    "start_time": "2022-06-25T19:39:21.722Z"
   },
   {
    "duration": 210,
    "start_time": "2022-06-25T19:39:38.670Z"
   },
   {
    "duration": 191,
    "start_time": "2022-06-25T19:39:42.600Z"
   },
   {
    "duration": 561,
    "start_time": "2022-06-25T19:39:57.081Z"
   },
   {
    "duration": 40,
    "start_time": "2022-06-25T19:39:57.644Z"
   },
   {
    "duration": 3,
    "start_time": "2022-06-25T19:39:57.686Z"
   },
   {
    "duration": 9,
    "start_time": "2022-06-25T19:39:57.691Z"
   },
   {
    "duration": 15,
    "start_time": "2022-06-25T19:39:57.701Z"
   },
   {
    "duration": 8,
    "start_time": "2022-06-25T19:39:57.717Z"
   },
   {
    "duration": 69,
    "start_time": "2022-06-25T19:39:57.726Z"
   },
   {
    "duration": 4,
    "start_time": "2022-06-25T19:39:57.796Z"
   },
   {
    "duration": 262,
    "start_time": "2022-06-25T19:39:57.801Z"
   },
   {
    "duration": 1,
    "start_time": "2022-06-25T19:39:58.064Z"
   },
   {
    "duration": 0,
    "start_time": "2022-06-25T19:39:58.066Z"
   },
   {
    "duration": 0,
    "start_time": "2022-06-25T19:39:58.067Z"
   },
   {
    "duration": 0,
    "start_time": "2022-06-25T19:39:58.068Z"
   },
   {
    "duration": 0,
    "start_time": "2022-06-25T19:39:58.069Z"
   },
   {
    "duration": 0,
    "start_time": "2022-06-25T19:39:58.070Z"
   },
   {
    "duration": 0,
    "start_time": "2022-06-25T19:39:58.071Z"
   },
   {
    "duration": 0,
    "start_time": "2022-06-25T19:39:58.072Z"
   },
   {
    "duration": 218,
    "start_time": "2022-06-25T19:40:17.690Z"
   },
   {
    "duration": 209,
    "start_time": "2022-06-25T19:40:31.250Z"
   },
   {
    "duration": 252,
    "start_time": "2022-06-25T19:40:50.581Z"
   },
   {
    "duration": 82,
    "start_time": "2022-06-25T19:41:01.130Z"
   },
   {
    "duration": 11,
    "start_time": "2022-06-25T19:41:05.600Z"
   },
   {
    "duration": 201,
    "start_time": "2022-06-25T19:41:31.278Z"
   },
   {
    "duration": 84,
    "start_time": "2022-06-25T19:41:42.874Z"
   },
   {
    "duration": 14,
    "start_time": "2022-06-25T19:41:46.600Z"
   },
   {
    "duration": 10,
    "start_time": "2022-06-25T19:41:50.905Z"
   },
   {
    "duration": 588,
    "start_time": "2022-06-25T19:41:57.186Z"
   },
   {
    "duration": 38,
    "start_time": "2022-06-25T19:41:57.776Z"
   },
   {
    "duration": 3,
    "start_time": "2022-06-25T19:41:57.816Z"
   },
   {
    "duration": 8,
    "start_time": "2022-06-25T19:41:57.820Z"
   },
   {
    "duration": 11,
    "start_time": "2022-06-25T19:41:57.830Z"
   },
   {
    "duration": 7,
    "start_time": "2022-06-25T19:41:57.842Z"
   },
   {
    "duration": 69,
    "start_time": "2022-06-25T19:41:57.851Z"
   },
   {
    "duration": 3,
    "start_time": "2022-06-25T19:41:57.922Z"
   },
   {
    "duration": 19,
    "start_time": "2022-06-25T19:41:57.927Z"
   },
   {
    "duration": 15,
    "start_time": "2022-06-25T19:41:57.947Z"
   },
   {
    "duration": 12,
    "start_time": "2022-06-25T19:41:57.963Z"
   },
   {
    "duration": 184,
    "start_time": "2022-06-25T19:41:57.976Z"
   },
   {
    "duration": 131,
    "start_time": "2022-06-25T19:41:58.162Z"
   },
   {
    "duration": 123,
    "start_time": "2022-06-25T19:41:58.296Z"
   },
   {
    "duration": 11,
    "start_time": "2022-06-25T19:41:58.420Z"
   },
   {
    "duration": 24,
    "start_time": "2022-06-25T19:41:58.433Z"
   },
   {
    "duration": 244,
    "start_time": "2022-06-25T19:41:58.459Z"
   },
   {
    "duration": 199,
    "start_time": "2022-06-25T19:43:06.994Z"
   },
   {
    "duration": 133,
    "start_time": "2022-06-25T19:43:20.570Z"
   },
   {
    "duration": 180,
    "start_time": "2022-06-25T19:43:36.903Z"
   },
   {
    "duration": 160,
    "start_time": "2022-06-25T19:43:48.562Z"
   },
   {
    "duration": 157,
    "start_time": "2022-06-25T19:45:18.186Z"
   },
   {
    "duration": 161,
    "start_time": "2022-06-25T19:45:25.408Z"
   },
   {
    "duration": 166,
    "start_time": "2022-06-25T19:45:45.552Z"
   },
   {
    "duration": 132,
    "start_time": "2022-06-25T19:48:46.811Z"
   },
   {
    "duration": 135,
    "start_time": "2022-06-25T19:48:50.467Z"
   },
   {
    "duration": 125,
    "start_time": "2022-06-25T19:49:23.641Z"
   },
   {
    "duration": 142,
    "start_time": "2022-06-25T19:51:27.522Z"
   },
   {
    "duration": 141,
    "start_time": "2022-06-25T19:52:38.923Z"
   },
   {
    "duration": 126,
    "start_time": "2022-06-25T19:52:48.241Z"
   },
   {
    "duration": 190,
    "start_time": "2022-06-25T19:53:51.356Z"
   },
   {
    "duration": 134,
    "start_time": "2022-06-25T19:53:58.531Z"
   },
   {
    "duration": 128,
    "start_time": "2022-06-25T19:54:49.602Z"
   },
   {
    "duration": 141,
    "start_time": "2022-06-25T19:54:57.147Z"
   },
   {
    "duration": 125,
    "start_time": "2022-06-25T19:55:03.923Z"
   },
   {
    "duration": 393,
    "start_time": "2022-06-25T19:55:13.442Z"
   },
   {
    "duration": 244,
    "start_time": "2022-06-25T19:55:20.635Z"
   },
   {
    "duration": 226,
    "start_time": "2022-06-25T19:55:29.436Z"
   },
   {
    "duration": 348,
    "start_time": "2022-06-25T19:55:37.201Z"
   },
   {
    "duration": 133,
    "start_time": "2022-06-25T19:55:51.754Z"
   },
   {
    "duration": 231,
    "start_time": "2022-06-25T19:56:08.322Z"
   },
   {
    "duration": 149,
    "start_time": "2022-06-25T19:56:13.477Z"
   },
   {
    "duration": 140,
    "start_time": "2022-06-25T19:57:01.234Z"
   },
   {
    "duration": 156,
    "start_time": "2022-06-25T19:57:35.986Z"
   },
   {
    "duration": 226,
    "start_time": "2022-06-25T19:58:43.795Z"
   },
   {
    "duration": 145,
    "start_time": "2022-06-25T19:58:50.265Z"
   },
   {
    "duration": 165,
    "start_time": "2022-06-25T20:00:12.569Z"
   },
   {
    "duration": 143,
    "start_time": "2022-06-25T20:00:16.833Z"
   },
   {
    "duration": 146,
    "start_time": "2022-06-25T20:00:25.402Z"
   },
   {
    "duration": 145,
    "start_time": "2022-06-25T20:00:29.226Z"
   },
   {
    "duration": 161,
    "start_time": "2022-06-25T20:00:32.921Z"
   },
   {
    "duration": 149,
    "start_time": "2022-06-25T20:00:38.770Z"
   },
   {
    "duration": 592,
    "start_time": "2022-06-25T20:01:54.561Z"
   },
   {
    "duration": 43,
    "start_time": "2022-06-25T20:01:55.155Z"
   },
   {
    "duration": 4,
    "start_time": "2022-06-25T20:01:55.200Z"
   },
   {
    "duration": 13,
    "start_time": "2022-06-25T20:01:55.206Z"
   },
   {
    "duration": 20,
    "start_time": "2022-06-25T20:01:55.221Z"
   },
   {
    "duration": 13,
    "start_time": "2022-06-25T20:01:55.243Z"
   },
   {
    "duration": 75,
    "start_time": "2022-06-25T20:01:55.257Z"
   },
   {
    "duration": 4,
    "start_time": "2022-06-25T20:01:55.333Z"
   },
   {
    "duration": 17,
    "start_time": "2022-06-25T20:01:55.339Z"
   },
   {
    "duration": 14,
    "start_time": "2022-06-25T20:01:55.357Z"
   },
   {
    "duration": 12,
    "start_time": "2022-06-25T20:01:55.372Z"
   },
   {
    "duration": 202,
    "start_time": "2022-06-25T20:01:55.385Z"
   },
   {
    "duration": 131,
    "start_time": "2022-06-25T20:01:55.589Z"
   },
   {
    "duration": 133,
    "start_time": "2022-06-25T20:01:55.722Z"
   },
   {
    "duration": 11,
    "start_time": "2022-06-25T20:01:55.857Z"
   },
   {
    "duration": 21,
    "start_time": "2022-06-25T20:01:55.870Z"
   },
   {
    "duration": 243,
    "start_time": "2022-06-25T20:01:55.892Z"
   },
   {
    "duration": 146,
    "start_time": "2022-06-25T20:02:12.838Z"
   },
   {
    "duration": 75,
    "start_time": "2022-06-25T20:04:55.449Z"
   },
   {
    "duration": 135,
    "start_time": "2022-06-25T20:05:25.580Z"
   },
   {
    "duration": 352,
    "start_time": "2022-06-25T20:06:23.206Z"
   },
   {
    "duration": 144,
    "start_time": "2022-06-25T20:07:26.236Z"
   },
   {
    "duration": 147,
    "start_time": "2022-06-25T20:08:12.666Z"
   },
   {
    "duration": 55,
    "start_time": "2022-06-25T20:09:02.706Z"
   },
   {
    "duration": 172,
    "start_time": "2022-06-25T20:09:06.236Z"
   },
   {
    "duration": 185,
    "start_time": "2022-06-25T20:09:35.224Z"
   },
   {
    "duration": 160,
    "start_time": "2022-06-25T20:09:39.086Z"
   },
   {
    "duration": 156,
    "start_time": "2022-06-25T20:09:44.694Z"
   },
   {
    "duration": 175,
    "start_time": "2022-06-25T20:09:52.764Z"
   },
   {
    "duration": 170,
    "start_time": "2022-06-25T20:09:58.163Z"
   },
   {
    "duration": 161,
    "start_time": "2022-06-25T20:10:03.703Z"
   },
   {
    "duration": 144,
    "start_time": "2022-06-25T20:10:08.548Z"
   },
   {
    "duration": 194,
    "start_time": "2022-06-25T20:10:15.871Z"
   },
   {
    "duration": 135,
    "start_time": "2022-06-25T20:10:24.870Z"
   },
   {
    "duration": 135,
    "start_time": "2022-06-25T20:10:31.143Z"
   },
   {
    "duration": 124,
    "start_time": "2022-06-25T20:10:36.662Z"
   },
   {
    "duration": 126,
    "start_time": "2022-06-25T20:10:53.728Z"
   },
   {
    "duration": 138,
    "start_time": "2022-06-25T20:11:00.309Z"
   },
   {
    "duration": 127,
    "start_time": "2022-06-25T20:11:04.022Z"
   },
   {
    "duration": 145,
    "start_time": "2022-06-25T20:13:00.444Z"
   },
   {
    "duration": 139,
    "start_time": "2022-06-25T20:13:10.470Z"
   },
   {
    "duration": 123,
    "start_time": "2022-06-25T20:13:17.366Z"
   },
   {
    "duration": 130,
    "start_time": "2022-06-25T20:13:21.726Z"
   },
   {
    "duration": 131,
    "start_time": "2022-06-25T20:16:39.926Z"
   },
   {
    "duration": 129,
    "start_time": "2022-06-25T20:16:49.350Z"
   },
   {
    "duration": 236,
    "start_time": "2022-06-25T20:23:41.809Z"
   },
   {
    "duration": 157,
    "start_time": "2022-06-25T20:24:04.048Z"
   },
   {
    "duration": 127,
    "start_time": "2022-06-25T20:24:17.269Z"
   },
   {
    "duration": 140,
    "start_time": "2022-06-25T20:24:29.708Z"
   },
   {
    "duration": 143,
    "start_time": "2022-06-25T20:25:27.519Z"
   },
   {
    "duration": 158,
    "start_time": "2022-06-25T20:26:56.579Z"
   },
   {
    "duration": 147,
    "start_time": "2022-06-25T20:27:11.299Z"
   },
   {
    "duration": 144,
    "start_time": "2022-06-25T20:27:30.147Z"
   },
   {
    "duration": 226,
    "start_time": "2022-06-25T20:28:16.541Z"
   },
   {
    "duration": 281,
    "start_time": "2022-06-25T20:28:27.020Z"
   },
   {
    "duration": 304,
    "start_time": "2022-06-25T20:28:35.912Z"
   },
   {
    "duration": 294,
    "start_time": "2022-06-25T20:28:41.549Z"
   },
   {
    "duration": 301,
    "start_time": "2022-06-25T20:28:51.101Z"
   },
   {
    "duration": 315,
    "start_time": "2022-06-25T20:28:57.548Z"
   },
   {
    "duration": 485,
    "start_time": "2022-06-25T20:29:07.537Z"
   },
   {
    "duration": 299,
    "start_time": "2022-06-25T20:29:18.415Z"
   },
   {
    "duration": 307,
    "start_time": "2022-06-25T20:29:24.590Z"
   },
   {
    "duration": 284,
    "start_time": "2022-06-25T20:29:41.097Z"
   },
   {
    "duration": 300,
    "start_time": "2022-06-25T20:29:54.697Z"
   },
   {
    "duration": 153,
    "start_time": "2022-06-25T20:30:03.639Z"
   },
   {
    "duration": 6,
    "start_time": "2022-06-25T21:23:14.951Z"
   },
   {
    "duration": 6,
    "start_time": "2022-06-25T21:23:25.809Z"
   },
   {
    "duration": 243,
    "start_time": "2022-06-25T21:24:19.183Z"
   },
   {
    "duration": 274,
    "start_time": "2022-06-25T21:24:25.059Z"
   },
   {
    "duration": 234,
    "start_time": "2022-06-25T21:24:56.662Z"
   },
   {
    "duration": 53,
    "start_time": "2022-06-25T21:27:52.460Z"
   },
   {
    "duration": 4,
    "start_time": "2022-06-25T21:37:15.934Z"
   },
   {
    "duration": 4,
    "start_time": "2022-06-25T21:38:24.386Z"
   },
   {
    "duration": 145,
    "start_time": "2022-06-25T21:39:08.747Z"
   },
   {
    "duration": 173,
    "start_time": "2022-06-25T21:41:06.021Z"
   },
   {
    "duration": 147,
    "start_time": "2022-06-25T21:41:24.530Z"
   },
   {
    "duration": 204,
    "start_time": "2022-06-25T21:42:39.703Z"
   },
   {
    "duration": 272,
    "start_time": "2022-06-25T21:42:54.235Z"
   },
   {
    "duration": 231,
    "start_time": "2022-06-25T21:43:02.492Z"
   },
   {
    "duration": 224,
    "start_time": "2022-06-25T21:43:06.093Z"
   },
   {
    "duration": 247,
    "start_time": "2022-06-25T21:43:12.171Z"
   },
   {
    "duration": 220,
    "start_time": "2022-06-25T21:43:27.184Z"
   },
   {
    "duration": 278,
    "start_time": "2022-06-25T21:43:33.523Z"
   },
   {
    "duration": 282,
    "start_time": "2022-06-25T21:43:59.986Z"
   },
   {
    "duration": 162,
    "start_time": "2022-06-25T21:44:37.856Z"
   },
   {
    "duration": 117,
    "start_time": "2022-06-25T21:46:28.836Z"
   },
   {
    "duration": 21,
    "start_time": "2022-06-25T21:47:07.673Z"
   },
   {
    "duration": 18,
    "start_time": "2022-06-25T21:47:19.159Z"
   },
   {
    "duration": 31,
    "start_time": "2022-06-25T21:48:33.531Z"
   },
   {
    "duration": 23,
    "start_time": "2022-06-25T21:49:12.384Z"
   },
   {
    "duration": 19,
    "start_time": "2022-06-25T21:49:28.180Z"
   },
   {
    "duration": 19,
    "start_time": "2022-06-25T21:49:45.742Z"
   },
   {
    "duration": 148,
    "start_time": "2022-06-25T21:49:56.331Z"
   },
   {
    "duration": 144,
    "start_time": "2022-06-25T21:50:09.801Z"
   },
   {
    "duration": 141,
    "start_time": "2022-06-25T21:50:14.971Z"
   },
   {
    "duration": 138,
    "start_time": "2022-06-25T21:51:08.516Z"
   },
   {
    "duration": 148,
    "start_time": "2022-06-25T21:51:16.987Z"
   },
   {
    "duration": 174,
    "start_time": "2022-06-25T21:51:24.017Z"
   },
   {
    "duration": 203,
    "start_time": "2022-06-25T21:51:37.257Z"
   },
   {
    "duration": 201,
    "start_time": "2022-06-25T21:51:52.766Z"
   },
   {
    "duration": 190,
    "start_time": "2022-06-25T21:52:30.342Z"
   },
   {
    "duration": 176,
    "start_time": "2022-06-25T21:52:38.701Z"
   },
   {
    "duration": 186,
    "start_time": "2022-06-25T21:52:47.532Z"
   },
   {
    "duration": 207,
    "start_time": "2022-06-25T21:52:55.091Z"
   },
   {
    "duration": 182,
    "start_time": "2022-06-25T21:53:02.831Z"
   },
   {
    "duration": 189,
    "start_time": "2022-06-25T21:53:07.180Z"
   },
   {
    "duration": 203,
    "start_time": "2022-06-25T21:53:13.611Z"
   },
   {
    "duration": 184,
    "start_time": "2022-06-25T21:53:17.188Z"
   },
   {
    "duration": 313,
    "start_time": "2022-06-25T21:53:21.561Z"
   },
   {
    "duration": 192,
    "start_time": "2022-06-25T21:53:25.600Z"
   },
   {
    "duration": 181,
    "start_time": "2022-06-25T21:53:31.060Z"
   },
   {
    "duration": 196,
    "start_time": "2022-06-25T21:53:36.341Z"
   },
   {
    "duration": 178,
    "start_time": "2022-06-25T21:53:41.180Z"
   },
   {
    "duration": 7,
    "start_time": "2022-06-25T21:57:20.686Z"
   },
   {
    "duration": 45,
    "start_time": "2022-06-25T21:57:29.427Z"
   },
   {
    "duration": 46,
    "start_time": "2022-06-25T21:57:44.553Z"
   },
   {
    "duration": 7,
    "start_time": "2022-06-25T21:58:00.236Z"
   },
   {
    "duration": 14,
    "start_time": "2022-06-25T21:58:11.185Z"
   },
   {
    "duration": 13,
    "start_time": "2022-06-25T21:58:17.717Z"
   },
   {
    "duration": 216,
    "start_time": "2022-06-25T21:59:49.705Z"
   },
   {
    "duration": 184,
    "start_time": "2022-06-25T22:00:19.528Z"
   },
   {
    "duration": 71,
    "start_time": "2022-06-25T22:00:48.218Z"
   },
   {
    "duration": 286,
    "start_time": "2022-06-25T22:00:53.437Z"
   },
   {
    "duration": 240,
    "start_time": "2022-06-25T22:01:17.017Z"
   },
   {
    "duration": 257,
    "start_time": "2022-06-25T22:01:41.027Z"
   },
   {
    "duration": 253,
    "start_time": "2022-06-25T22:01:48.337Z"
   },
   {
    "duration": 267,
    "start_time": "2022-06-25T22:02:39.935Z"
   },
   {
    "duration": 277,
    "start_time": "2022-06-25T22:03:47.049Z"
   },
   {
    "duration": 228,
    "start_time": "2022-06-25T22:03:53.489Z"
   },
   {
    "duration": 158,
    "start_time": "2022-06-25T22:04:07.898Z"
   },
   {
    "duration": 266,
    "start_time": "2022-06-25T22:04:18.343Z"
   },
   {
    "duration": 151,
    "start_time": "2022-06-25T22:04:25.698Z"
   },
   {
    "duration": 189,
    "start_time": "2022-06-25T22:04:32.423Z"
   },
   {
    "duration": 7,
    "start_time": "2022-06-25T22:11:42.800Z"
   },
   {
    "duration": 8,
    "start_time": "2022-06-25T22:12:16.219Z"
   },
   {
    "duration": 9,
    "start_time": "2022-06-25T22:13:17.939Z"
   },
   {
    "duration": 8,
    "start_time": "2022-06-25T22:13:32.770Z"
   },
   {
    "duration": 111,
    "start_time": "2022-06-25T22:13:34.970Z"
   },
   {
    "duration": 11,
    "start_time": "2022-06-25T22:13:47.370Z"
   },
   {
    "duration": 10,
    "start_time": "2022-06-25T22:13:55.129Z"
   },
   {
    "duration": 10,
    "start_time": "2022-06-25T22:14:50.994Z"
   },
   {
    "duration": 106,
    "start_time": "2022-06-25T22:14:53.925Z"
   },
   {
    "duration": 150,
    "start_time": "2022-06-25T22:16:20.464Z"
   },
   {
    "duration": 130,
    "start_time": "2022-06-25T22:17:09.930Z"
   },
   {
    "duration": 52,
    "start_time": "2022-06-25T22:18:24.910Z"
   },
   {
    "duration": 7,
    "start_time": "2022-06-25T22:18:33.510Z"
   },
   {
    "duration": 93,
    "start_time": "2022-06-25T22:18:47.486Z"
   },
   {
    "duration": 148,
    "start_time": "2022-06-25T22:19:34.105Z"
   },
   {
    "duration": 96,
    "start_time": "2022-06-25T22:20:46.917Z"
   },
   {
    "duration": 3,
    "start_time": "2022-06-25T22:22:10.737Z"
   },
   {
    "duration": 4,
    "start_time": "2022-06-25T22:22:17.133Z"
   },
   {
    "duration": 47,
    "start_time": "2022-06-25T22:24:35.227Z"
   },
   {
    "duration": 935,
    "start_time": "2022-06-25T22:25:53.545Z"
   },
   {
    "duration": 913,
    "start_time": "2022-06-25T22:26:37.366Z"
   },
   {
    "duration": 3,
    "start_time": "2022-06-25T22:27:32.868Z"
   },
   {
    "duration": 98,
    "start_time": "2022-06-25T22:27:44.317Z"
   },
   {
    "duration": 95,
    "start_time": "2022-06-25T22:28:26.646Z"
   },
   {
    "duration": 108,
    "start_time": "2022-06-25T22:28:32.116Z"
   },
   {
    "duration": 101,
    "start_time": "2022-06-25T22:28:55.560Z"
   },
   {
    "duration": 103,
    "start_time": "2022-06-25T22:29:23.450Z"
   },
   {
    "duration": 104,
    "start_time": "2022-06-25T22:29:58.749Z"
   },
   {
    "duration": 113,
    "start_time": "2022-06-25T22:30:05.159Z"
   },
   {
    "duration": 104,
    "start_time": "2022-06-25T22:30:47.089Z"
   },
   {
    "duration": 101,
    "start_time": "2022-06-25T22:31:05.351Z"
   },
   {
    "duration": 124,
    "start_time": "2022-06-25T22:31:20.209Z"
   },
   {
    "duration": 133,
    "start_time": "2022-06-25T22:31:28.050Z"
   },
   {
    "duration": 100,
    "start_time": "2022-06-25T22:37:09.391Z"
   },
   {
    "duration": 119,
    "start_time": "2022-06-25T22:37:43.905Z"
   },
   {
    "duration": 119,
    "start_time": "2022-06-25T22:38:05.513Z"
   },
   {
    "duration": 196,
    "start_time": "2022-06-25T22:38:46.705Z"
   },
   {
    "duration": 106,
    "start_time": "2022-06-25T22:39:06.873Z"
   },
   {
    "duration": 96,
    "start_time": "2022-06-25T22:39:15.900Z"
   },
   {
    "duration": 195,
    "start_time": "2022-06-25T22:40:18.866Z"
   },
   {
    "duration": 129,
    "start_time": "2022-06-25T22:40:27.271Z"
   },
   {
    "duration": 129,
    "start_time": "2022-06-25T22:40:41.071Z"
   },
   {
    "duration": 5,
    "start_time": "2022-06-25T22:41:04.303Z"
   },
   {
    "duration": 136,
    "start_time": "2022-06-25T22:44:40.640Z"
   },
   {
    "duration": 407,
    "start_time": "2022-06-25T22:44:44.898Z"
   },
   {
    "duration": 47,
    "start_time": "2022-06-26T11:07:12.574Z"
   },
   {
    "duration": 784,
    "start_time": "2022-06-26T11:07:19.871Z"
   },
   {
    "duration": 108,
    "start_time": "2022-06-26T11:07:20.659Z"
   },
   {
    "duration": 6,
    "start_time": "2022-06-26T11:07:20.775Z"
   },
   {
    "duration": 15,
    "start_time": "2022-06-26T11:07:20.782Z"
   },
   {
    "duration": 13,
    "start_time": "2022-06-26T11:07:20.799Z"
   },
   {
    "duration": 15,
    "start_time": "2022-06-26T11:07:20.814Z"
   },
   {
    "duration": 179,
    "start_time": "2022-06-26T11:07:20.831Z"
   },
   {
    "duration": 4,
    "start_time": "2022-06-26T11:07:21.012Z"
   },
   {
    "duration": 30,
    "start_time": "2022-06-26T11:07:21.017Z"
   },
   {
    "duration": 30,
    "start_time": "2022-06-26T11:07:21.049Z"
   },
   {
    "duration": 17,
    "start_time": "2022-06-26T11:07:21.081Z"
   },
   {
    "duration": 194,
    "start_time": "2022-06-26T11:07:21.100Z"
   },
   {
    "duration": 130,
    "start_time": "2022-06-26T11:07:21.295Z"
   },
   {
    "duration": 120,
    "start_time": "2022-06-26T11:07:21.428Z"
   },
   {
    "duration": 30,
    "start_time": "2022-06-26T11:07:21.550Z"
   },
   {
    "duration": 15,
    "start_time": "2022-06-26T11:07:21.582Z"
   },
   {
    "duration": 273,
    "start_time": "2022-06-26T11:07:21.599Z"
   },
   {
    "duration": 172,
    "start_time": "2022-06-26T11:07:21.874Z"
   },
   {
    "duration": 6,
    "start_time": "2022-06-26T11:07:22.047Z"
   },
   {
    "duration": 316,
    "start_time": "2022-06-26T11:07:22.058Z"
   },
   {
    "duration": 4,
    "start_time": "2022-06-26T11:07:22.376Z"
   },
   {
    "duration": 24,
    "start_time": "2022-06-26T11:07:22.381Z"
   },
   {
    "duration": 245,
    "start_time": "2022-06-26T11:07:22.406Z"
   },
   {
    "duration": 23,
    "start_time": "2022-06-26T11:07:22.653Z"
   },
   {
    "duration": 259,
    "start_time": "2022-06-26T11:07:22.678Z"
   },
   {
    "duration": 30,
    "start_time": "2022-06-26T11:07:22.940Z"
   },
   {
    "duration": 179,
    "start_time": "2022-06-26T11:07:22.975Z"
   },
   {
    "duration": 14,
    "start_time": "2022-06-26T11:07:23.156Z"
   },
   {
    "duration": 76,
    "start_time": "2022-06-26T11:17:42.650Z"
   },
   {
    "duration": 7,
    "start_time": "2022-06-26T11:18:53.479Z"
   },
   {
    "duration": 126,
    "start_time": "2022-06-26T11:19:30.518Z"
   },
   {
    "duration": 119,
    "start_time": "2022-06-26T11:21:03.976Z"
   },
   {
    "duration": 49,
    "start_time": "2022-06-26T12:20:58.085Z"
   },
   {
    "duration": 922,
    "start_time": "2022-06-26T12:21:13.298Z"
   },
   {
    "duration": 89,
    "start_time": "2022-06-26T12:21:14.222Z"
   },
   {
    "duration": 5,
    "start_time": "2022-06-26T12:21:14.313Z"
   },
   {
    "duration": 29,
    "start_time": "2022-06-26T12:21:14.320Z"
   },
   {
    "duration": 14,
    "start_time": "2022-06-26T12:21:14.351Z"
   },
   {
    "duration": 13,
    "start_time": "2022-06-26T12:21:14.367Z"
   },
   {
    "duration": 164,
    "start_time": "2022-06-26T12:21:14.382Z"
   },
   {
    "duration": 5,
    "start_time": "2022-06-26T12:21:14.547Z"
   },
   {
    "duration": 19,
    "start_time": "2022-06-26T12:21:14.554Z"
   },
   {
    "duration": 15,
    "start_time": "2022-06-26T12:21:14.576Z"
   },
   {
    "duration": 37,
    "start_time": "2022-06-26T12:21:14.593Z"
   },
   {
    "duration": 206,
    "start_time": "2022-06-26T12:21:14.631Z"
   },
   {
    "duration": 151,
    "start_time": "2022-06-26T12:21:14.839Z"
   },
   {
    "duration": 164,
    "start_time": "2022-06-26T12:21:14.992Z"
   },
   {
    "duration": 21,
    "start_time": "2022-06-26T12:21:15.158Z"
   },
   {
    "duration": 44,
    "start_time": "2022-06-26T12:21:15.181Z"
   },
   {
    "duration": 350,
    "start_time": "2022-06-26T12:21:15.228Z"
   },
   {
    "duration": 239,
    "start_time": "2022-06-26T12:21:15.581Z"
   },
   {
    "duration": 9,
    "start_time": "2022-06-26T12:21:15.825Z"
   },
   {
    "duration": 299,
    "start_time": "2022-06-26T12:21:15.836Z"
   },
   {
    "duration": 4,
    "start_time": "2022-06-26T12:21:16.137Z"
   },
   {
    "duration": 21,
    "start_time": "2022-06-26T12:21:16.142Z"
   },
   {
    "duration": 239,
    "start_time": "2022-06-26T12:21:16.164Z"
   },
   {
    "duration": 21,
    "start_time": "2022-06-26T12:21:16.405Z"
   },
   {
    "duration": 303,
    "start_time": "2022-06-26T12:21:16.428Z"
   },
   {
    "duration": 11,
    "start_time": "2022-06-26T12:21:16.734Z"
   },
   {
    "duration": 183,
    "start_time": "2022-06-26T12:21:16.747Z"
   },
   {
    "duration": 5,
    "start_time": "2022-06-26T12:21:16.933Z"
   },
   {
    "duration": 197,
    "start_time": "2022-06-26T12:21:16.940Z"
   },
   {
    "duration": 215,
    "start_time": "2022-06-26T12:21:42.325Z"
   },
   {
    "duration": 5,
    "start_time": "2022-06-26T12:22:24.778Z"
   },
   {
    "duration": 141,
    "start_time": "2022-06-26T12:22:33.529Z"
   },
   {
    "duration": 1699,
    "start_time": "2022-06-26T12:22:49.460Z"
   },
   {
    "duration": 1317,
    "start_time": "2022-06-26T12:22:53.389Z"
   },
   {
    "duration": 128,
    "start_time": "2022-06-26T12:23:17.921Z"
   },
   {
    "duration": 143,
    "start_time": "2022-06-26T12:23:33.002Z"
   },
   {
    "duration": 5,
    "start_time": "2022-06-26T12:23:40.842Z"
   },
   {
    "duration": 143,
    "start_time": "2022-06-26T12:24:25.504Z"
   },
   {
    "duration": 177,
    "start_time": "2022-06-26T12:24:39.425Z"
   },
   {
    "duration": 149,
    "start_time": "2022-06-26T12:24:44.079Z"
   },
   {
    "duration": 274,
    "start_time": "2022-06-26T12:25:14.471Z"
   },
   {
    "duration": 183,
    "start_time": "2022-06-26T12:25:26.384Z"
   },
   {
    "duration": 159,
    "start_time": "2022-06-26T12:25:44.091Z"
   },
   {
    "duration": 183,
    "start_time": "2022-06-26T12:27:08.744Z"
   },
   {
    "duration": 4,
    "start_time": "2022-06-26T12:29:22.411Z"
   },
   {
    "duration": 182,
    "start_time": "2022-06-26T12:31:23.753Z"
   },
   {
    "duration": 3,
    "start_time": "2022-06-26T12:33:58.264Z"
   },
   {
    "duration": 9,
    "start_time": "2022-06-26T12:39:15.765Z"
   },
   {
    "duration": 14,
    "start_time": "2022-06-26T12:39:51.687Z"
   },
   {
    "duration": 137,
    "start_time": "2022-06-26T12:41:08.360Z"
   },
   {
    "duration": 9,
    "start_time": "2022-06-26T12:41:11.897Z"
   },
   {
    "duration": 1535,
    "start_time": "2022-06-26T12:41:47.644Z"
   },
   {
    "duration": 142,
    "start_time": "2022-06-26T12:51:38.363Z"
   },
   {
    "duration": 139,
    "start_time": "2022-06-26T12:52:10.608Z"
   },
   {
    "duration": 117,
    "start_time": "2022-06-26T12:53:55.745Z"
   },
   {
    "duration": 23,
    "start_time": "2022-06-26T12:54:02.314Z"
   },
   {
    "duration": 19,
    "start_time": "2022-06-26T12:54:52.545Z"
   },
   {
    "duration": 14,
    "start_time": "2022-06-26T12:55:42.002Z"
   },
   {
    "duration": 14,
    "start_time": "2022-06-26T12:55:50.801Z"
   },
   {
    "duration": 21,
    "start_time": "2022-06-26T12:57:25.277Z"
   },
   {
    "duration": 150,
    "start_time": "2022-06-26T12:59:51.258Z"
   },
   {
    "duration": 157,
    "start_time": "2022-06-26T13:00:00.140Z"
   },
   {
    "duration": 165,
    "start_time": "2022-06-26T13:00:15.488Z"
   },
   {
    "duration": 1528,
    "start_time": "2022-06-26T13:01:07.785Z"
   },
   {
    "duration": 1575,
    "start_time": "2022-06-26T13:01:54.319Z"
   },
   {
    "duration": 1395,
    "start_time": "2022-06-26T13:02:00.086Z"
   },
   {
    "duration": 23,
    "start_time": "2022-06-26T13:03:08.195Z"
   },
   {
    "duration": 14,
    "start_time": "2022-06-26T13:03:26.114Z"
   },
   {
    "duration": 7,
    "start_time": "2022-06-26T13:04:04.531Z"
   },
   {
    "duration": 10,
    "start_time": "2022-06-26T13:04:22.015Z"
   },
   {
    "duration": 9,
    "start_time": "2022-06-26T13:08:18.182Z"
   },
   {
    "duration": 1168,
    "start_time": "2022-06-26T13:09:15.935Z"
   },
   {
    "duration": 47,
    "start_time": "2022-06-26T13:09:17.105Z"
   },
   {
    "duration": 4,
    "start_time": "2022-06-26T13:09:17.154Z"
   },
   {
    "duration": 7,
    "start_time": "2022-06-26T13:09:17.160Z"
   },
   {
    "duration": 16,
    "start_time": "2022-06-26T13:09:17.169Z"
   },
   {
    "duration": 8,
    "start_time": "2022-06-26T13:09:17.187Z"
   },
   {
    "duration": 86,
    "start_time": "2022-06-26T13:09:17.196Z"
   },
   {
    "duration": 4,
    "start_time": "2022-06-26T13:09:17.283Z"
   },
   {
    "duration": 22,
    "start_time": "2022-06-26T13:09:17.288Z"
   },
   {
    "duration": 31,
    "start_time": "2022-06-26T13:09:17.312Z"
   },
   {
    "duration": 26,
    "start_time": "2022-06-26T13:09:17.346Z"
   },
   {
    "duration": 235,
    "start_time": "2022-06-26T13:09:17.374Z"
   },
   {
    "duration": 140,
    "start_time": "2022-06-26T13:09:17.611Z"
   },
   {
    "duration": 131,
    "start_time": "2022-06-26T13:09:17.753Z"
   },
   {
    "duration": 22,
    "start_time": "2022-06-26T13:09:17.886Z"
   },
   {
    "duration": 61,
    "start_time": "2022-06-26T13:09:17.910Z"
   },
   {
    "duration": 315,
    "start_time": "2022-06-26T13:09:17.973Z"
   },
   {
    "duration": 195,
    "start_time": "2022-06-26T13:09:18.290Z"
   },
   {
    "duration": 6,
    "start_time": "2022-06-26T13:09:18.487Z"
   },
   {
    "duration": 333,
    "start_time": "2022-06-26T13:09:18.494Z"
   },
   {
    "duration": 5,
    "start_time": "2022-06-26T13:09:18.829Z"
   },
   {
    "duration": 35,
    "start_time": "2022-06-26T13:09:18.836Z"
   },
   {
    "duration": 195,
    "start_time": "2022-06-26T13:09:18.873Z"
   },
   {
    "duration": 15,
    "start_time": "2022-06-26T13:09:19.070Z"
   },
   {
    "duration": 317,
    "start_time": "2022-06-26T13:09:19.087Z"
   },
   {
    "duration": 28,
    "start_time": "2022-06-26T13:09:19.406Z"
   },
   {
    "duration": 141,
    "start_time": "2022-06-26T13:09:19.436Z"
   },
   {
    "duration": 4,
    "start_time": "2022-06-26T13:09:19.580Z"
   },
   {
    "duration": 176,
    "start_time": "2022-06-26T13:09:19.585Z"
   },
   {
    "duration": 4,
    "start_time": "2022-06-26T13:09:19.763Z"
   },
   {
    "duration": 25,
    "start_time": "2022-06-26T13:09:19.768Z"
   },
   {
    "duration": 175,
    "start_time": "2022-06-26T13:09:19.795Z"
   },
   {
    "duration": 11,
    "start_time": "2022-06-26T13:09:19.971Z"
   },
   {
    "duration": 8,
    "start_time": "2022-06-26T13:09:19.983Z"
   },
   {
    "duration": 8,
    "start_time": "2022-06-26T13:09:45.644Z"
   },
   {
    "duration": 24,
    "start_time": "2022-06-26T13:16:25.945Z"
   },
   {
    "duration": 11,
    "start_time": "2022-06-26T13:16:56.480Z"
   },
   {
    "duration": 7,
    "start_time": "2022-06-26T13:17:22.587Z"
   },
   {
    "duration": 27,
    "start_time": "2022-06-26T13:17:56.354Z"
   },
   {
    "duration": 29,
    "start_time": "2022-06-26T13:18:00.353Z"
   },
   {
    "duration": 8,
    "start_time": "2022-06-26T13:18:06.490Z"
   },
   {
    "duration": 7,
    "start_time": "2022-06-26T13:18:33.680Z"
   },
   {
    "duration": 6,
    "start_time": "2022-06-26T13:38:02.917Z"
   },
   {
    "duration": 13,
    "start_time": "2022-06-26T13:42:48.516Z"
   },
   {
    "duration": 94,
    "start_time": "2022-06-26T13:52:25.610Z"
   },
   {
    "duration": 86,
    "start_time": "2022-06-26T13:52:45.359Z"
   },
   {
    "duration": 7,
    "start_time": "2022-06-26T13:52:52.060Z"
   },
   {
    "duration": 6,
    "start_time": "2022-06-26T13:53:39.358Z"
   },
   {
    "duration": 6,
    "start_time": "2022-06-26T13:54:09.455Z"
   },
   {
    "duration": 28,
    "start_time": "2022-06-26T13:56:40.227Z"
   },
   {
    "duration": 3,
    "start_time": "2022-06-26T13:57:43.517Z"
   },
   {
    "duration": 8,
    "start_time": "2022-06-26T13:58:02.768Z"
   },
   {
    "duration": 7,
    "start_time": "2022-06-26T13:58:37.839Z"
   },
   {
    "duration": 7,
    "start_time": "2022-06-26T13:59:51.188Z"
   },
   {
    "duration": 7,
    "start_time": "2022-06-26T14:00:05.087Z"
   },
   {
    "duration": 9,
    "start_time": "2022-06-26T14:00:27.807Z"
   },
   {
    "duration": 7,
    "start_time": "2022-06-26T14:00:41.528Z"
   },
   {
    "duration": 10,
    "start_time": "2022-06-26T14:04:15.068Z"
   },
   {
    "duration": 9,
    "start_time": "2022-06-26T14:04:20.790Z"
   },
   {
    "duration": 6,
    "start_time": "2022-06-26T14:04:25.457Z"
   },
   {
    "duration": 7,
    "start_time": "2022-06-26T14:05:59.887Z"
   },
   {
    "duration": 9,
    "start_time": "2022-06-26T14:07:58.301Z"
   },
   {
    "duration": 53,
    "start_time": "2022-06-27T16:36:00.072Z"
   },
   {
    "duration": 1344,
    "start_time": "2022-06-27T16:36:06.211Z"
   },
   {
    "duration": 109,
    "start_time": "2022-06-27T16:36:07.558Z"
   },
   {
    "duration": 4,
    "start_time": "2022-06-27T16:36:07.668Z"
   },
   {
    "duration": 8,
    "start_time": "2022-06-27T16:36:07.674Z"
   },
   {
    "duration": 14,
    "start_time": "2022-06-27T16:36:07.683Z"
   },
   {
    "duration": 8,
    "start_time": "2022-06-27T16:36:07.699Z"
   },
   {
    "duration": 190,
    "start_time": "2022-06-27T16:36:07.709Z"
   },
   {
    "duration": 4,
    "start_time": "2022-06-27T16:36:07.901Z"
   },
   {
    "duration": 16,
    "start_time": "2022-06-27T16:36:07.906Z"
   },
   {
    "duration": 11,
    "start_time": "2022-06-27T16:36:07.925Z"
   },
   {
    "duration": 17,
    "start_time": "2022-06-27T16:36:07.937Z"
   },
   {
    "duration": 214,
    "start_time": "2022-06-27T16:36:07.957Z"
   },
   {
    "duration": 157,
    "start_time": "2022-06-27T16:36:08.173Z"
   },
   {
    "duration": 179,
    "start_time": "2022-06-27T16:36:08.332Z"
   },
   {
    "duration": 17,
    "start_time": "2022-06-27T16:36:08.514Z"
   },
   {
    "duration": 36,
    "start_time": "2022-06-27T16:36:08.534Z"
   },
   {
    "duration": 278,
    "start_time": "2022-06-27T16:36:08.572Z"
   },
   {
    "duration": 193,
    "start_time": "2022-06-27T16:36:08.852Z"
   },
   {
    "duration": 7,
    "start_time": "2022-06-27T16:36:09.046Z"
   },
   {
    "duration": 331,
    "start_time": "2022-06-27T16:36:09.054Z"
   },
   {
    "duration": 5,
    "start_time": "2022-06-27T16:36:09.387Z"
   },
   {
    "duration": 23,
    "start_time": "2022-06-27T16:36:09.393Z"
   },
   {
    "duration": 211,
    "start_time": "2022-06-27T16:36:09.418Z"
   },
   {
    "duration": 24,
    "start_time": "2022-06-27T16:36:09.631Z"
   },
   {
    "duration": 277,
    "start_time": "2022-06-27T16:36:09.657Z"
   },
   {
    "duration": 22,
    "start_time": "2022-06-27T16:36:09.935Z"
   },
   {
    "duration": 160,
    "start_time": "2022-06-27T16:36:09.959Z"
   },
   {
    "duration": 4,
    "start_time": "2022-06-27T16:36:10.122Z"
   },
   {
    "duration": 175,
    "start_time": "2022-06-27T16:36:10.129Z"
   },
   {
    "duration": 5,
    "start_time": "2022-06-27T16:36:10.306Z"
   },
   {
    "duration": 46,
    "start_time": "2022-06-27T16:36:10.312Z"
   },
   {
    "duration": 29,
    "start_time": "2022-06-27T16:36:10.360Z"
   },
   {
    "duration": 12,
    "start_time": "2022-06-27T16:36:10.391Z"
   },
   {
    "duration": 9,
    "start_time": "2022-06-27T16:36:10.405Z"
   },
   {
    "duration": 44,
    "start_time": "2022-06-27T16:36:10.416Z"
   },
   {
    "duration": 118,
    "start_time": "2022-06-27T16:36:10.462Z"
   },
   {
    "duration": 6,
    "start_time": "2022-06-27T16:45:32.421Z"
   },
   {
    "duration": 6,
    "start_time": "2022-06-27T16:45:39.934Z"
   },
   {
    "duration": 7,
    "start_time": "2022-06-27T16:45:53.602Z"
   },
   {
    "duration": 9,
    "start_time": "2022-06-27T16:48:40.842Z"
   },
   {
    "duration": 7,
    "start_time": "2022-06-27T16:48:47.314Z"
   },
   {
    "duration": 6,
    "start_time": "2022-06-27T16:51:29.603Z"
   },
   {
    "duration": 10,
    "start_time": "2022-06-27T16:51:34.415Z"
   },
   {
    "duration": 8,
    "start_time": "2022-06-27T16:51:42.655Z"
   },
   {
    "duration": 8,
    "start_time": "2022-06-27T16:52:48.700Z"
   },
   {
    "duration": 1143,
    "start_time": "2022-06-27T16:53:22.154Z"
   },
   {
    "duration": 4,
    "start_time": "2022-06-27T16:54:14.556Z"
   },
   {
    "duration": 7,
    "start_time": "2022-06-27T16:54:19.587Z"
   },
   {
    "duration": 6,
    "start_time": "2022-06-27T16:54:28.200Z"
   },
   {
    "duration": 11,
    "start_time": "2022-06-27T16:54:35.940Z"
   },
   {
    "duration": 6,
    "start_time": "2022-06-27T16:54:49.120Z"
   },
   {
    "duration": 6,
    "start_time": "2022-06-27T16:54:54.613Z"
   },
   {
    "duration": 8,
    "start_time": "2022-06-27T16:55:06.912Z"
   },
   {
    "duration": 7,
    "start_time": "2022-06-27T16:55:11.175Z"
   },
   {
    "duration": 6,
    "start_time": "2022-06-27T16:55:31.083Z"
   },
   {
    "duration": 7,
    "start_time": "2022-06-27T16:55:43.450Z"
   },
   {
    "duration": 6,
    "start_time": "2022-06-27T16:55:49.879Z"
   },
   {
    "duration": 5,
    "start_time": "2022-06-27T16:56:07.243Z"
   },
   {
    "duration": 8,
    "start_time": "2022-06-27T16:56:15.981Z"
   },
   {
    "duration": 7,
    "start_time": "2022-06-27T16:56:18.710Z"
   },
   {
    "duration": 8,
    "start_time": "2022-06-27T17:09:09.825Z"
   },
   {
    "duration": 10,
    "start_time": "2022-06-27T17:09:22.269Z"
   },
   {
    "duration": 109,
    "start_time": "2022-06-27T17:17:44.141Z"
   },
   {
    "duration": 1250,
    "start_time": "2022-06-27T17:17:52.565Z"
   },
   {
    "duration": 1345,
    "start_time": "2022-06-27T17:18:03.937Z"
   },
   {
    "duration": 101,
    "start_time": "2022-06-27T17:18:35.765Z"
   },
   {
    "duration": 1301,
    "start_time": "2022-06-27T17:18:47.629Z"
   },
   {
    "duration": 16,
    "start_time": "2022-06-27T17:19:56.401Z"
   },
   {
    "duration": 15,
    "start_time": "2022-06-27T17:20:25.353Z"
   },
   {
    "duration": 20,
    "start_time": "2022-06-27T17:20:36.543Z"
   },
   {
    "duration": 7,
    "start_time": "2022-06-27T17:20:43.350Z"
   },
   {
    "duration": 8,
    "start_time": "2022-06-27T17:20:50.402Z"
   },
   {
    "duration": 14,
    "start_time": "2022-06-27T17:20:53.659Z"
   },
   {
    "duration": 16,
    "start_time": "2022-06-27T17:21:13.586Z"
   },
   {
    "duration": 1253,
    "start_time": "2022-06-27T17:22:33.114Z"
   },
   {
    "duration": 1257,
    "start_time": "2022-06-27T17:22:36.112Z"
   },
   {
    "duration": 13,
    "start_time": "2022-06-27T17:22:46.218Z"
   },
   {
    "duration": 8,
    "start_time": "2022-06-27T17:24:16.341Z"
   },
   {
    "duration": 12,
    "start_time": "2022-06-27T17:24:22.998Z"
   },
   {
    "duration": 12,
    "start_time": "2022-06-27T17:24:50.085Z"
   },
   {
    "duration": 11,
    "start_time": "2022-06-27T17:24:52.667Z"
   },
   {
    "duration": 11,
    "start_time": "2022-06-27T17:24:59.763Z"
   },
   {
    "duration": 13,
    "start_time": "2022-06-27T17:25:22.353Z"
   },
   {
    "duration": 13,
    "start_time": "2022-06-27T17:28:17.553Z"
   },
   {
    "duration": 5,
    "start_time": "2022-06-27T17:28:40.705Z"
   },
   {
    "duration": 17,
    "start_time": "2022-06-27T17:28:46.753Z"
   },
   {
    "duration": 1179,
    "start_time": "2022-06-27T17:29:25.604Z"
   },
   {
    "duration": 6,
    "start_time": "2022-06-27T17:29:32.880Z"
   },
   {
    "duration": 10,
    "start_time": "2022-06-27T17:29:40.229Z"
   },
   {
    "duration": 10,
    "start_time": "2022-06-27T17:29:50.315Z"
   },
   {
    "duration": 10,
    "start_time": "2022-06-27T17:31:05.123Z"
   },
   {
    "duration": 11,
    "start_time": "2022-06-27T17:31:14.733Z"
   },
   {
    "duration": 10,
    "start_time": "2022-06-27T17:31:57.607Z"
   },
   {
    "duration": 10,
    "start_time": "2022-06-27T17:32:02.372Z"
   },
   {
    "duration": 8,
    "start_time": "2022-06-27T17:32:11.125Z"
   },
   {
    "duration": 12,
    "start_time": "2022-06-27T17:33:08.026Z"
   },
   {
    "duration": 7,
    "start_time": "2022-06-27T17:33:14.796Z"
   },
   {
    "duration": 9,
    "start_time": "2022-06-27T17:33:17.906Z"
   },
   {
    "duration": 9,
    "start_time": "2022-06-27T17:33:23.179Z"
   },
   {
    "duration": 9,
    "start_time": "2022-06-27T17:33:35.766Z"
   },
   {
    "duration": 12,
    "start_time": "2022-06-27T17:37:25.065Z"
   },
   {
    "duration": 12,
    "start_time": "2022-06-27T17:38:52.637Z"
   },
   {
    "duration": 13,
    "start_time": "2022-06-27T17:39:03.649Z"
   },
   {
    "duration": 28,
    "start_time": "2022-06-27T17:39:23.938Z"
   },
   {
    "duration": 11,
    "start_time": "2022-06-27T17:41:30.268Z"
   },
   {
    "duration": 14,
    "start_time": "2022-06-27T17:41:50.638Z"
   },
   {
    "duration": 17,
    "start_time": "2022-06-27T17:41:53.903Z"
   },
   {
    "duration": 16,
    "start_time": "2022-06-27T17:42:02.879Z"
   },
   {
    "duration": 12,
    "start_time": "2022-06-27T17:42:25.928Z"
   },
   {
    "duration": 5,
    "start_time": "2022-06-27T17:42:53.829Z"
   },
   {
    "duration": 7,
    "start_time": "2022-06-27T17:42:59.017Z"
   },
   {
    "duration": 11,
    "start_time": "2022-06-27T17:43:06.783Z"
   },
   {
    "duration": 12,
    "start_time": "2022-06-27T17:43:20.381Z"
   },
   {
    "duration": 13,
    "start_time": "2022-06-27T17:43:40.921Z"
   },
   {
    "duration": 12,
    "start_time": "2022-06-27T17:43:53.975Z"
   },
   {
    "duration": 1158,
    "start_time": "2022-06-27T17:44:00.634Z"
   },
   {
    "duration": 43,
    "start_time": "2022-06-27T17:44:01.796Z"
   },
   {
    "duration": 4,
    "start_time": "2022-06-27T17:44:01.840Z"
   },
   {
    "duration": 17,
    "start_time": "2022-06-27T17:44:01.846Z"
   },
   {
    "duration": 12,
    "start_time": "2022-06-27T17:44:01.869Z"
   },
   {
    "duration": 9,
    "start_time": "2022-06-27T17:44:01.883Z"
   },
   {
    "duration": 88,
    "start_time": "2022-06-27T17:44:01.894Z"
   },
   {
    "duration": 5,
    "start_time": "2022-06-27T17:44:01.983Z"
   },
   {
    "duration": 21,
    "start_time": "2022-06-27T17:44:01.990Z"
   },
   {
    "duration": 13,
    "start_time": "2022-06-27T17:44:02.012Z"
   },
   {
    "duration": 33,
    "start_time": "2022-06-27T17:44:02.026Z"
   },
   {
    "duration": 187,
    "start_time": "2022-06-27T17:44:02.060Z"
   },
   {
    "duration": 135,
    "start_time": "2022-06-27T17:44:02.253Z"
   },
   {
    "duration": 145,
    "start_time": "2022-06-27T17:44:02.392Z"
   },
   {
    "duration": 26,
    "start_time": "2022-06-27T17:44:02.539Z"
   },
   {
    "duration": 16,
    "start_time": "2022-06-27T17:44:02.567Z"
   },
   {
    "duration": 294,
    "start_time": "2022-06-27T17:44:02.584Z"
   },
   {
    "duration": 185,
    "start_time": "2022-06-27T17:44:02.879Z"
   },
   {
    "duration": 7,
    "start_time": "2022-06-27T17:44:03.066Z"
   },
   {
    "duration": 295,
    "start_time": "2022-06-27T17:44:03.075Z"
   },
   {
    "duration": 4,
    "start_time": "2022-06-27T17:44:03.372Z"
   },
   {
    "duration": 21,
    "start_time": "2022-06-27T17:44:03.377Z"
   },
   {
    "duration": 198,
    "start_time": "2022-06-27T17:44:03.399Z"
   },
   {
    "duration": 15,
    "start_time": "2022-06-27T17:44:03.599Z"
   },
   {
    "duration": 307,
    "start_time": "2022-06-27T17:44:03.616Z"
   },
   {
    "duration": 9,
    "start_time": "2022-06-27T17:44:03.924Z"
   },
   {
    "duration": 163,
    "start_time": "2022-06-27T17:44:03.935Z"
   },
   {
    "duration": 4,
    "start_time": "2022-06-27T17:44:04.100Z"
   },
   {
    "duration": 164,
    "start_time": "2022-06-27T17:44:04.105Z"
   },
   {
    "duration": 4,
    "start_time": "2022-06-27T17:44:04.272Z"
   },
   {
    "duration": 27,
    "start_time": "2022-06-27T17:44:04.278Z"
   },
   {
    "duration": 61,
    "start_time": "2022-06-27T17:44:04.306Z"
   },
   {
    "duration": 9,
    "start_time": "2022-06-27T17:44:04.369Z"
   },
   {
    "duration": 6,
    "start_time": "2022-06-27T17:44:04.379Z"
   },
   {
    "duration": 10,
    "start_time": "2022-06-27T17:44:04.387Z"
   },
   {
    "duration": 8,
    "start_time": "2022-06-27T17:44:04.399Z"
   },
   {
    "duration": 8,
    "start_time": "2022-06-27T17:44:04.408Z"
   },
   {
    "duration": 132,
    "start_time": "2022-06-27T17:44:04.418Z"
   },
   {
    "duration": 0,
    "start_time": "2022-06-27T17:44:04.552Z"
   },
   {
    "duration": 7,
    "start_time": "2022-06-27T17:44:19.833Z"
   },
   {
    "duration": 1258,
    "start_time": "2022-06-27T17:44:26.346Z"
   },
   {
    "duration": 8,
    "start_time": "2022-06-27T17:45:08.620Z"
   },
   {
    "duration": 7,
    "start_time": "2022-06-27T17:45:13.820Z"
   },
   {
    "duration": 6,
    "start_time": "2022-06-27T17:45:20.337Z"
   },
   {
    "duration": 11,
    "start_time": "2022-06-27T17:45:34.665Z"
   },
   {
    "duration": 10,
    "start_time": "2022-06-27T17:46:36.168Z"
   },
   {
    "duration": 18,
    "start_time": "2022-06-27T17:47:48.244Z"
   },
   {
    "duration": 7,
    "start_time": "2022-06-27T17:47:54.037Z"
   },
   {
    "duration": 8,
    "start_time": "2022-06-27T17:48:16.220Z"
   },
   {
    "duration": 13,
    "start_time": "2022-06-27T17:48:27.593Z"
   },
   {
    "duration": 7,
    "start_time": "2022-06-27T17:48:54.271Z"
   },
   {
    "duration": 15,
    "start_time": "2022-06-27T17:49:07.701Z"
   },
   {
    "duration": 15,
    "start_time": "2022-06-27T17:49:34.028Z"
   },
   {
    "duration": 6,
    "start_time": "2022-06-27T17:52:02.165Z"
   },
   {
    "duration": 14,
    "start_time": "2022-06-27T17:52:07.117Z"
   },
   {
    "duration": 25,
    "start_time": "2022-06-27T19:05:20.639Z"
   },
   {
    "duration": 13,
    "start_time": "2022-06-27T19:05:36.821Z"
   },
   {
    "duration": 18,
    "start_time": "2022-06-27T19:07:20.279Z"
   },
   {
    "duration": 31,
    "start_time": "2022-06-27T19:07:26.575Z"
   },
   {
    "duration": 38,
    "start_time": "2022-06-27T19:07:43.962Z"
   },
   {
    "duration": 27,
    "start_time": "2022-06-27T19:07:51.989Z"
   },
   {
    "duration": 26,
    "start_time": "2022-06-27T19:08:02.665Z"
   },
   {
    "duration": 20,
    "start_time": "2022-06-27T19:08:22.850Z"
   },
   {
    "duration": 30,
    "start_time": "2022-06-27T19:08:33.339Z"
   },
   {
    "duration": 29,
    "start_time": "2022-06-27T19:08:52.194Z"
   },
   {
    "duration": 31,
    "start_time": "2022-06-27T19:10:39.311Z"
   },
   {
    "duration": 31,
    "start_time": "2022-06-27T19:11:03.361Z"
   },
   {
    "duration": 32,
    "start_time": "2022-06-27T19:11:14.649Z"
   },
   {
    "duration": 27,
    "start_time": "2022-06-27T19:11:51.667Z"
   },
   {
    "duration": 28,
    "start_time": "2022-06-27T19:11:54.881Z"
   },
   {
    "duration": 27,
    "start_time": "2022-06-27T19:12:21.662Z"
   },
   {
    "duration": 29,
    "start_time": "2022-06-27T19:12:26.743Z"
   },
   {
    "duration": 30,
    "start_time": "2022-06-27T19:12:30.637Z"
   },
   {
    "duration": 35,
    "start_time": "2022-06-27T19:13:18.321Z"
   },
   {
    "duration": 29,
    "start_time": "2022-06-27T19:13:31.767Z"
   },
   {
    "duration": 1100,
    "start_time": "2022-06-27T19:17:51.753Z"
   },
   {
    "duration": 42,
    "start_time": "2022-06-27T19:17:52.856Z"
   },
   {
    "duration": 4,
    "start_time": "2022-06-27T19:17:52.900Z"
   },
   {
    "duration": 13,
    "start_time": "2022-06-27T19:17:52.905Z"
   },
   {
    "duration": 17,
    "start_time": "2022-06-27T19:17:52.921Z"
   },
   {
    "duration": 9,
    "start_time": "2022-06-27T19:17:52.940Z"
   },
   {
    "duration": 77,
    "start_time": "2022-06-27T19:17:52.951Z"
   },
   {
    "duration": 4,
    "start_time": "2022-06-27T19:17:53.030Z"
   },
   {
    "duration": 16,
    "start_time": "2022-06-27T19:17:53.037Z"
   },
   {
    "duration": 13,
    "start_time": "2022-06-27T19:17:53.054Z"
   },
   {
    "duration": 13,
    "start_time": "2022-06-27T19:17:53.068Z"
   },
   {
    "duration": 203,
    "start_time": "2022-06-27T19:17:53.082Z"
   },
   {
    "duration": 127,
    "start_time": "2022-06-27T19:17:53.286Z"
   },
   {
    "duration": 141,
    "start_time": "2022-06-27T19:17:53.416Z"
   },
   {
    "duration": 13,
    "start_time": "2022-06-27T19:17:53.559Z"
   },
   {
    "duration": 19,
    "start_time": "2022-06-27T19:17:53.573Z"
   },
   {
    "duration": 263,
    "start_time": "2022-06-27T19:17:53.594Z"
   },
   {
    "duration": 175,
    "start_time": "2022-06-27T19:17:53.859Z"
   },
   {
    "duration": 6,
    "start_time": "2022-06-27T19:17:54.036Z"
   },
   {
    "duration": 302,
    "start_time": "2022-06-27T19:17:54.054Z"
   },
   {
    "duration": 4,
    "start_time": "2022-06-27T19:17:54.357Z"
   },
   {
    "duration": 24,
    "start_time": "2022-06-27T19:17:54.363Z"
   },
   {
    "duration": 230,
    "start_time": "2022-06-27T19:17:54.389Z"
   },
   {
    "duration": 15,
    "start_time": "2022-06-27T19:17:54.621Z"
   },
   {
    "duration": 287,
    "start_time": "2022-06-27T19:17:54.637Z"
   },
   {
    "duration": 11,
    "start_time": "2022-06-27T19:17:54.926Z"
   },
   {
    "duration": 188,
    "start_time": "2022-06-27T19:17:54.938Z"
   },
   {
    "duration": 4,
    "start_time": "2022-06-27T19:17:55.128Z"
   },
   {
    "duration": 184,
    "start_time": "2022-06-27T19:17:55.135Z"
   },
   {
    "duration": 3,
    "start_time": "2022-06-27T19:17:55.321Z"
   },
   {
    "duration": 45,
    "start_time": "2022-06-27T19:17:55.326Z"
   },
   {
    "duration": 34,
    "start_time": "2022-06-27T19:17:55.372Z"
   },
   {
    "duration": 15,
    "start_time": "2022-06-27T19:17:55.408Z"
   },
   {
    "duration": 30,
    "start_time": "2022-06-27T19:17:55.425Z"
   },
   {
    "duration": 11,
    "start_time": "2022-06-27T19:17:55.457Z"
   },
   {
    "duration": 15,
    "start_time": "2022-06-27T19:17:55.470Z"
   },
   {
    "duration": 16,
    "start_time": "2022-06-27T19:17:55.486Z"
   },
   {
    "duration": 14,
    "start_time": "2022-06-27T19:17:55.504Z"
   },
   {
    "duration": 58,
    "start_time": "2022-06-27T19:17:55.520Z"
   },
   {
    "duration": 35,
    "start_time": "2022-06-27T19:17:55.580Z"
   },
   {
    "duration": 13,
    "start_time": "2022-06-27T19:18:13.825Z"
   },
   {
    "duration": 32,
    "start_time": "2022-06-27T19:18:21.192Z"
   },
   {
    "duration": 16,
    "start_time": "2022-06-27T19:19:01.684Z"
   },
   {
    "duration": 14,
    "start_time": "2022-06-27T19:22:57.568Z"
   },
   {
    "duration": 14,
    "start_time": "2022-06-27T19:23:10.476Z"
   },
   {
    "duration": 12,
    "start_time": "2022-06-27T19:23:15.646Z"
   },
   {
    "duration": 23,
    "start_time": "2022-06-27T19:24:28.923Z"
   },
   {
    "duration": 33,
    "start_time": "2022-06-27T19:24:41.474Z"
   },
   {
    "duration": 32,
    "start_time": "2022-06-27T19:25:15.955Z"
   },
   {
    "duration": 32,
    "start_time": "2022-06-27T19:25:18.785Z"
   },
   {
    "duration": 11,
    "start_time": "2022-06-27T19:25:24.368Z"
   },
   {
    "duration": 38,
    "start_time": "2022-06-27T19:25:29.277Z"
   },
   {
    "duration": 34,
    "start_time": "2022-06-27T19:25:42.327Z"
   },
   {
    "duration": 27,
    "start_time": "2022-06-27T19:25:46.448Z"
   },
   {
    "duration": 34,
    "start_time": "2022-06-27T19:26:16.045Z"
   },
   {
    "duration": 25,
    "start_time": "2022-06-27T19:26:30.246Z"
   },
   {
    "duration": 31,
    "start_time": "2022-06-27T19:26:36.527Z"
   },
   {
    "duration": 1534,
    "start_time": "2022-06-27T19:26:48.436Z"
   },
   {
    "duration": 32,
    "start_time": "2022-06-27T19:26:56.645Z"
   },
   {
    "duration": 30,
    "start_time": "2022-06-27T19:28:26.586Z"
   },
   {
    "duration": 39,
    "start_time": "2022-06-27T19:28:48.877Z"
   },
   {
    "duration": 31,
    "start_time": "2022-06-27T19:30:57.864Z"
   },
   {
    "duration": 9,
    "start_time": "2022-06-27T19:31:19.554Z"
   },
   {
    "duration": 6,
    "start_time": "2022-06-27T19:31:37.092Z"
   },
   {
    "duration": 8,
    "start_time": "2022-06-27T19:31:51.035Z"
   },
   {
    "duration": 1108,
    "start_time": "2022-06-27T19:31:59.300Z"
   },
   {
    "duration": 43,
    "start_time": "2022-06-27T19:32:00.410Z"
   },
   {
    "duration": 4,
    "start_time": "2022-06-27T19:32:00.454Z"
   },
   {
    "duration": 27,
    "start_time": "2022-06-27T19:32:00.460Z"
   },
   {
    "duration": 32,
    "start_time": "2022-06-27T19:32:00.489Z"
   },
   {
    "duration": 10,
    "start_time": "2022-06-27T19:32:00.523Z"
   },
   {
    "duration": 76,
    "start_time": "2022-06-27T19:32:00.534Z"
   },
   {
    "duration": 5,
    "start_time": "2022-06-27T19:32:00.612Z"
   },
   {
    "duration": 40,
    "start_time": "2022-06-27T19:32:00.619Z"
   },
   {
    "duration": 22,
    "start_time": "2022-06-27T19:32:00.662Z"
   },
   {
    "duration": 26,
    "start_time": "2022-06-27T19:32:00.686Z"
   },
   {
    "duration": 212,
    "start_time": "2022-06-27T19:32:00.714Z"
   },
   {
    "duration": 145,
    "start_time": "2022-06-27T19:32:00.928Z"
   },
   {
    "duration": 154,
    "start_time": "2022-06-27T19:32:01.075Z"
   },
   {
    "duration": 23,
    "start_time": "2022-06-27T19:32:01.231Z"
   },
   {
    "duration": 29,
    "start_time": "2022-06-27T19:32:01.256Z"
   },
   {
    "duration": 292,
    "start_time": "2022-06-27T19:32:01.287Z"
   },
   {
    "duration": 213,
    "start_time": "2022-06-27T19:32:01.581Z"
   },
   {
    "duration": 7,
    "start_time": "2022-06-27T19:32:01.795Z"
   },
   {
    "duration": 317,
    "start_time": "2022-06-27T19:32:01.804Z"
   },
   {
    "duration": 4,
    "start_time": "2022-06-27T19:32:02.122Z"
   },
   {
    "duration": 35,
    "start_time": "2022-06-27T19:32:02.128Z"
   },
   {
    "duration": 196,
    "start_time": "2022-06-27T19:32:02.164Z"
   },
   {
    "duration": 13,
    "start_time": "2022-06-27T19:32:02.362Z"
   },
   {
    "duration": 278,
    "start_time": "2022-06-27T19:32:02.377Z"
   },
   {
    "duration": 11,
    "start_time": "2022-06-27T19:32:02.656Z"
   },
   {
    "duration": 154,
    "start_time": "2022-06-27T19:32:02.668Z"
   },
   {
    "duration": 4,
    "start_time": "2022-06-27T19:32:02.825Z"
   },
   {
    "duration": 166,
    "start_time": "2022-06-27T19:32:02.830Z"
   },
   {
    "duration": 4,
    "start_time": "2022-06-27T19:32:02.998Z"
   },
   {
    "duration": 29,
    "start_time": "2022-06-27T19:32:03.004Z"
   },
   {
    "duration": 46,
    "start_time": "2022-06-27T19:32:03.035Z"
   },
   {
    "duration": 8,
    "start_time": "2022-06-27T19:32:03.083Z"
   },
   {
    "duration": 5,
    "start_time": "2022-06-27T19:32:03.093Z"
   },
   {
    "duration": 10,
    "start_time": "2022-06-27T19:32:03.100Z"
   },
   {
    "duration": 45,
    "start_time": "2022-06-27T19:32:03.111Z"
   },
   {
    "duration": 12,
    "start_time": "2022-06-27T19:32:03.158Z"
   },
   {
    "duration": 23,
    "start_time": "2022-06-27T19:32:03.172Z"
   },
   {
    "duration": 12,
    "start_time": "2022-06-27T19:32:03.197Z"
   },
   {
    "duration": 59,
    "start_time": "2022-06-27T19:32:03.211Z"
   },
   {
    "duration": 30,
    "start_time": "2022-06-27T19:32:03.271Z"
   },
   {
    "duration": 50,
    "start_time": "2022-06-27T19:32:03.303Z"
   },
   {
    "duration": 9,
    "start_time": "2022-06-27T19:32:03.355Z"
   },
   {
    "duration": 8,
    "start_time": "2022-06-27T19:32:03.366Z"
   },
   {
    "duration": 1113,
    "start_time": "2022-06-27T19:34:42.035Z"
   },
   {
    "duration": 51,
    "start_time": "2022-06-27T19:34:43.150Z"
   },
   {
    "duration": 4,
    "start_time": "2022-06-27T19:34:43.203Z"
   },
   {
    "duration": 5,
    "start_time": "2022-06-27T19:34:43.210Z"
   },
   {
    "duration": 14,
    "start_time": "2022-06-27T19:34:43.218Z"
   },
   {
    "duration": 11,
    "start_time": "2022-06-27T19:34:43.234Z"
   },
   {
    "duration": 89,
    "start_time": "2022-06-27T19:34:43.262Z"
   },
   {
    "duration": 16,
    "start_time": "2022-06-27T19:34:43.353Z"
   },
   {
    "duration": 27,
    "start_time": "2022-06-27T19:34:43.372Z"
   },
   {
    "duration": 13,
    "start_time": "2022-06-27T19:34:43.403Z"
   },
   {
    "duration": 18,
    "start_time": "2022-06-27T19:34:43.418Z"
   },
   {
    "duration": 234,
    "start_time": "2022-06-27T19:34:43.438Z"
   },
   {
    "duration": 151,
    "start_time": "2022-06-27T19:34:43.675Z"
   },
   {
    "duration": 157,
    "start_time": "2022-06-27T19:34:43.827Z"
   },
   {
    "duration": 15,
    "start_time": "2022-06-27T19:34:43.985Z"
   },
   {
    "duration": 18,
    "start_time": "2022-06-27T19:34:44.002Z"
   },
   {
    "duration": 334,
    "start_time": "2022-06-27T19:34:44.022Z"
   },
   {
    "duration": 221,
    "start_time": "2022-06-27T19:34:44.358Z"
   },
   {
    "duration": 7,
    "start_time": "2022-06-27T19:34:44.581Z"
   },
   {
    "duration": 296,
    "start_time": "2022-06-27T19:34:44.589Z"
   },
   {
    "duration": 3,
    "start_time": "2022-06-27T19:34:44.887Z"
   },
   {
    "duration": 24,
    "start_time": "2022-06-27T19:34:44.892Z"
   },
   {
    "duration": 206,
    "start_time": "2022-06-27T19:34:44.918Z"
   },
   {
    "duration": 13,
    "start_time": "2022-06-27T19:34:45.126Z"
   },
   {
    "duration": 311,
    "start_time": "2022-06-27T19:34:45.152Z"
   },
   {
    "duration": 11,
    "start_time": "2022-06-27T19:34:45.470Z"
   },
   {
    "duration": 157,
    "start_time": "2022-06-27T19:34:45.483Z"
   },
   {
    "duration": 11,
    "start_time": "2022-06-27T19:34:45.643Z"
   },
   {
    "duration": 184,
    "start_time": "2022-06-27T19:34:45.656Z"
   },
   {
    "duration": 17,
    "start_time": "2022-06-27T19:34:45.843Z"
   },
   {
    "duration": 34,
    "start_time": "2022-06-27T19:34:45.868Z"
   },
   {
    "duration": 37,
    "start_time": "2022-06-27T19:34:45.904Z"
   },
   {
    "duration": 24,
    "start_time": "2022-06-27T19:34:45.943Z"
   },
   {
    "duration": 11,
    "start_time": "2022-06-27T19:34:45.968Z"
   },
   {
    "duration": 10,
    "start_time": "2022-06-27T19:34:45.981Z"
   },
   {
    "duration": 12,
    "start_time": "2022-06-27T19:34:45.993Z"
   },
   {
    "duration": 12,
    "start_time": "2022-06-27T19:34:46.008Z"
   },
   {
    "duration": 52,
    "start_time": "2022-06-27T19:34:46.021Z"
   },
   {
    "duration": 12,
    "start_time": "2022-06-27T19:34:46.075Z"
   },
   {
    "duration": 36,
    "start_time": "2022-06-27T19:34:46.088Z"
   },
   {
    "duration": 55,
    "start_time": "2022-06-27T19:34:46.126Z"
   },
   {
    "duration": 30,
    "start_time": "2022-06-27T19:34:46.183Z"
   },
   {
    "duration": 9,
    "start_time": "2022-06-27T19:34:46.215Z"
   },
   {
    "duration": 35,
    "start_time": "2022-06-27T19:34:46.225Z"
   },
   {
    "duration": 8,
    "start_time": "2022-06-27T19:35:57.554Z"
   },
   {
    "duration": 10,
    "start_time": "2022-06-27T19:36:17.118Z"
   },
   {
    "duration": 8,
    "start_time": "2022-06-27T19:36:20.679Z"
   },
   {
    "duration": 7,
    "start_time": "2022-06-27T19:38:42.959Z"
   },
   {
    "duration": 7,
    "start_time": "2022-06-27T19:38:47.957Z"
   },
   {
    "duration": 7,
    "start_time": "2022-06-27T19:38:53.909Z"
   },
   {
    "duration": 1050,
    "start_time": "2022-06-27T19:39:01.675Z"
   },
   {
    "duration": 42,
    "start_time": "2022-06-27T19:39:02.727Z"
   },
   {
    "duration": 3,
    "start_time": "2022-06-27T19:39:02.771Z"
   },
   {
    "duration": 8,
    "start_time": "2022-06-27T19:39:02.776Z"
   },
   {
    "duration": 14,
    "start_time": "2022-06-27T19:39:02.786Z"
   },
   {
    "duration": 9,
    "start_time": "2022-06-27T19:39:02.801Z"
   },
   {
    "duration": 76,
    "start_time": "2022-06-27T19:39:02.812Z"
   },
   {
    "duration": 5,
    "start_time": "2022-06-27T19:39:02.890Z"
   },
   {
    "duration": 23,
    "start_time": "2022-06-27T19:39:02.896Z"
   },
   {
    "duration": 20,
    "start_time": "2022-06-27T19:39:02.921Z"
   },
   {
    "duration": 15,
    "start_time": "2022-06-27T19:39:02.943Z"
   },
   {
    "duration": 194,
    "start_time": "2022-06-27T19:39:02.960Z"
   },
   {
    "duration": 141,
    "start_time": "2022-06-27T19:39:03.155Z"
   },
   {
    "duration": 132,
    "start_time": "2022-06-27T19:39:03.299Z"
   },
   {
    "duration": 40,
    "start_time": "2022-06-27T19:39:03.433Z"
   },
   {
    "duration": 14,
    "start_time": "2022-06-27T19:39:03.475Z"
   },
   {
    "duration": 281,
    "start_time": "2022-06-27T19:39:03.491Z"
   },
   {
    "duration": 212,
    "start_time": "2022-06-27T19:39:03.773Z"
   },
   {
    "duration": 7,
    "start_time": "2022-06-27T19:39:03.987Z"
   },
   {
    "duration": 346,
    "start_time": "2022-06-27T19:39:03.996Z"
   },
   {
    "duration": 10,
    "start_time": "2022-06-27T19:39:04.344Z"
   },
   {
    "duration": 48,
    "start_time": "2022-06-27T19:39:04.356Z"
   },
   {
    "duration": 200,
    "start_time": "2022-06-27T19:39:04.405Z"
   },
   {
    "duration": 13,
    "start_time": "2022-06-27T19:39:04.606Z"
   },
   {
    "duration": 302,
    "start_time": "2022-06-27T19:39:04.621Z"
   },
   {
    "duration": 10,
    "start_time": "2022-06-27T19:39:04.924Z"
   },
   {
    "duration": 167,
    "start_time": "2022-06-27T19:39:04.935Z"
   },
   {
    "duration": 4,
    "start_time": "2022-06-27T19:39:05.103Z"
   },
   {
    "duration": 186,
    "start_time": "2022-06-27T19:39:05.108Z"
   },
   {
    "duration": 5,
    "start_time": "2022-06-27T19:39:05.296Z"
   },
   {
    "duration": 31,
    "start_time": "2022-06-27T19:39:05.302Z"
   },
   {
    "duration": 47,
    "start_time": "2022-06-27T19:39:05.335Z"
   },
   {
    "duration": 7,
    "start_time": "2022-06-27T19:39:05.384Z"
   },
   {
    "duration": 5,
    "start_time": "2022-06-27T19:39:05.393Z"
   },
   {
    "duration": 13,
    "start_time": "2022-06-27T19:39:05.400Z"
   },
   {
    "duration": 8,
    "start_time": "2022-06-27T19:39:05.415Z"
   },
   {
    "duration": 14,
    "start_time": "2022-06-27T19:39:05.454Z"
   },
   {
    "duration": 28,
    "start_time": "2022-06-27T19:39:05.471Z"
   },
   {
    "duration": 10,
    "start_time": "2022-06-27T19:39:05.501Z"
   },
   {
    "duration": 63,
    "start_time": "2022-06-27T19:39:05.513Z"
   },
   {
    "duration": 30,
    "start_time": "2022-06-27T19:39:05.580Z"
   },
   {
    "duration": 55,
    "start_time": "2022-06-27T19:39:05.612Z"
   },
   {
    "duration": 9,
    "start_time": "2022-06-27T19:39:05.669Z"
   },
   {
    "duration": 10,
    "start_time": "2022-06-27T19:39:05.680Z"
   },
   {
    "duration": 9,
    "start_time": "2022-06-27T19:41:18.467Z"
   },
   {
    "duration": 8,
    "start_time": "2022-06-27T19:41:27.213Z"
   },
   {
    "duration": 7,
    "start_time": "2022-06-27T19:41:31.745Z"
   },
   {
    "duration": 7,
    "start_time": "2022-06-27T19:41:42.338Z"
   },
   {
    "duration": 9,
    "start_time": "2022-06-27T19:41:48.104Z"
   },
   {
    "duration": 25,
    "start_time": "2022-06-27T19:41:55.214Z"
   },
   {
    "duration": 9,
    "start_time": "2022-06-27T19:43:15.313Z"
   },
   {
    "duration": 13,
    "start_time": "2022-06-27T19:43:18.205Z"
   },
   {
    "duration": 10,
    "start_time": "2022-06-27T19:43:20.666Z"
   },
   {
    "duration": 8,
    "start_time": "2022-06-27T19:44:24.339Z"
   },
   {
    "duration": 20,
    "start_time": "2022-06-27T19:45:17.578Z"
   },
   {
    "duration": 17,
    "start_time": "2022-06-27T19:45:27.512Z"
   },
   {
    "duration": 14,
    "start_time": "2022-06-27T19:48:13.967Z"
   },
   {
    "duration": 74,
    "start_time": "2022-06-27T19:48:28.584Z"
   },
   {
    "duration": 1226,
    "start_time": "2022-06-27T19:48:35.036Z"
   },
   {
    "duration": 1183,
    "start_time": "2022-06-27T19:49:33.505Z"
   },
   {
    "duration": 18,
    "start_time": "2022-06-27T19:50:32.302Z"
   },
   {
    "duration": 19,
    "start_time": "2022-06-27T19:50:51.046Z"
   },
   {
    "duration": 9,
    "start_time": "2022-06-27T19:50:57.379Z"
   },
   {
    "duration": 19,
    "start_time": "2022-06-27T19:51:10.401Z"
   },
   {
    "duration": 19,
    "start_time": "2022-06-27T19:51:19.542Z"
   },
   {
    "duration": 9,
    "start_time": "2022-06-27T19:51:27.908Z"
   },
   {
    "duration": 14,
    "start_time": "2022-06-27T19:51:39.264Z"
   },
   {
    "duration": 14,
    "start_time": "2022-06-27T19:51:43.593Z"
   },
   {
    "duration": 14,
    "start_time": "2022-06-27T19:51:52.523Z"
   },
   {
    "duration": 14,
    "start_time": "2022-06-27T19:51:59.362Z"
   },
   {
    "duration": 14,
    "start_time": "2022-06-27T19:52:04.510Z"
   },
   {
    "duration": 12,
    "start_time": "2022-06-27T19:52:08.799Z"
   },
   {
    "duration": 11,
    "start_time": "2022-06-27T19:52:22.333Z"
   },
   {
    "duration": 9,
    "start_time": "2022-06-27T19:52:42.951Z"
   },
   {
    "duration": 9,
    "start_time": "2022-06-27T19:52:48.464Z"
   },
   {
    "duration": 8,
    "start_time": "2022-06-27T19:53:06.955Z"
   },
   {
    "duration": 9,
    "start_time": "2022-06-27T19:53:10.422Z"
   },
   {
    "duration": 8,
    "start_time": "2022-06-27T19:53:56.323Z"
   },
   {
    "duration": 17,
    "start_time": "2022-06-27T19:54:06.676Z"
   },
   {
    "duration": 14,
    "start_time": "2022-06-27T19:54:12.245Z"
   },
   {
    "duration": 13,
    "start_time": "2022-06-27T19:54:21.327Z"
   },
   {
    "duration": 14,
    "start_time": "2022-06-27T19:54:29.032Z"
   },
   {
    "duration": 17,
    "start_time": "2022-06-27T19:54:34.848Z"
   },
   {
    "duration": 13,
    "start_time": "2022-06-27T19:55:48.400Z"
   },
   {
    "duration": 1167,
    "start_time": "2022-06-27T19:56:16.461Z"
   },
   {
    "duration": 33,
    "start_time": "2022-06-27T19:56:30.521Z"
   },
   {
    "duration": 25,
    "start_time": "2022-06-27T19:56:37.230Z"
   },
   {
    "duration": 34,
    "start_time": "2022-06-27T19:56:40.771Z"
   },
   {
    "duration": 22,
    "start_time": "2022-06-27T19:57:00.000Z"
   },
   {
    "duration": 13,
    "start_time": "2022-06-27T19:57:09.640Z"
   },
   {
    "duration": 18,
    "start_time": "2022-06-27T19:57:15.882Z"
   },
   {
    "duration": 24,
    "start_time": "2022-06-27T19:57:50.062Z"
   },
   {
    "duration": 22,
    "start_time": "2022-06-27T19:58:25.009Z"
   },
   {
    "duration": 26,
    "start_time": "2022-06-27T19:58:32.465Z"
   },
   {
    "duration": 29,
    "start_time": "2022-06-27T19:58:42.896Z"
   },
   {
    "duration": 11,
    "start_time": "2022-06-27T19:59:00.216Z"
   },
   {
    "duration": 10,
    "start_time": "2022-06-27T19:59:20.635Z"
   },
   {
    "duration": 8,
    "start_time": "2022-06-27T19:59:31.294Z"
   },
   {
    "duration": 11,
    "start_time": "2022-06-27T20:00:00.248Z"
   },
   {
    "duration": 8,
    "start_time": "2022-06-27T20:00:14.148Z"
   },
   {
    "duration": 8,
    "start_time": "2022-06-27T20:00:57.474Z"
   },
   {
    "duration": 12,
    "start_time": "2022-06-27T20:02:03.623Z"
   },
   {
    "duration": 285,
    "start_time": "2022-06-27T20:02:14.427Z"
   },
   {
    "duration": 334,
    "start_time": "2022-06-27T20:03:37.925Z"
   },
   {
    "duration": 13,
    "start_time": "2022-06-27T20:03:55.095Z"
   },
   {
    "duration": 12,
    "start_time": "2022-06-27T20:04:17.725Z"
   },
   {
    "duration": 136,
    "start_time": "2022-06-27T20:04:21.475Z"
   },
   {
    "duration": 4,
    "start_time": "2022-06-27T20:04:24.966Z"
   },
   {
    "duration": 10,
    "start_time": "2022-06-27T20:05:13.345Z"
   },
   {
    "duration": 11,
    "start_time": "2022-06-27T20:05:18.184Z"
   },
   {
    "duration": 24,
    "start_time": "2022-06-27T20:05:21.464Z"
   },
   {
    "duration": 24,
    "start_time": "2022-06-27T20:06:21.513Z"
   },
   {
    "duration": 23,
    "start_time": "2022-06-27T20:07:22.263Z"
   },
   {
    "duration": 8,
    "start_time": "2022-06-27T20:08:04.351Z"
   },
   {
    "duration": 24,
    "start_time": "2022-06-27T20:08:37.701Z"
   },
   {
    "duration": 21,
    "start_time": "2022-06-27T20:08:50.010Z"
   },
   {
    "duration": 9,
    "start_time": "2022-06-27T20:09:39.614Z"
   },
   {
    "duration": 10,
    "start_time": "2022-06-27T20:10:47.395Z"
   },
   {
    "duration": 91,
    "start_time": "2022-06-27T20:11:03.702Z"
   },
   {
    "duration": 10,
    "start_time": "2022-06-27T20:11:56.849Z"
   },
   {
    "duration": 9,
    "start_time": "2022-06-27T20:12:52.220Z"
   },
   {
    "duration": 12,
    "start_time": "2022-06-27T20:12:58.077Z"
   },
   {
    "duration": 29,
    "start_time": "2022-06-27T20:13:01.461Z"
   },
   {
    "duration": 10,
    "start_time": "2022-06-27T20:13:54.428Z"
   },
   {
    "duration": 23,
    "start_time": "2022-06-27T20:14:11.746Z"
   },
   {
    "duration": 9,
    "start_time": "2022-06-27T20:14:52.267Z"
   },
   {
    "duration": 72,
    "start_time": "2022-06-27T20:14:57.536Z"
   },
   {
    "duration": 8,
    "start_time": "2022-06-27T20:15:01.833Z"
   },
   {
    "duration": 8,
    "start_time": "2022-06-27T20:15:12.598Z"
   },
   {
    "duration": 10,
    "start_time": "2022-06-27T20:15:18.989Z"
   },
   {
    "duration": 14,
    "start_time": "2022-06-27T20:15:28.882Z"
   },
   {
    "duration": 10,
    "start_time": "2022-06-27T20:15:41.888Z"
   },
   {
    "duration": 10,
    "start_time": "2022-06-27T20:15:51.800Z"
   },
   {
    "duration": 7,
    "start_time": "2022-06-27T20:18:58.668Z"
   },
   {
    "duration": 29,
    "start_time": "2022-06-27T20:19:09.444Z"
   },
   {
    "duration": 8,
    "start_time": "2022-06-27T20:19:12.265Z"
   },
   {
    "duration": 6,
    "start_time": "2022-06-27T20:19:14.586Z"
   },
   {
    "duration": 25,
    "start_time": "2022-06-27T20:19:23.056Z"
   },
   {
    "duration": 32,
    "start_time": "2022-06-27T20:19:28.526Z"
   },
   {
    "duration": 28,
    "start_time": "2022-06-27T20:19:33.648Z"
   },
   {
    "duration": 39,
    "start_time": "2022-06-27T20:19:36.865Z"
   },
   {
    "duration": 10,
    "start_time": "2022-06-27T20:19:39.186Z"
   },
   {
    "duration": 7,
    "start_time": "2022-06-27T20:19:41.507Z"
   },
   {
    "duration": 48,
    "start_time": "2022-06-29T16:16:28.192Z"
   },
   {
    "duration": 1403,
    "start_time": "2022-06-29T16:16:33.041Z"
   },
   {
    "duration": 60,
    "start_time": "2022-06-29T16:16:34.446Z"
   },
   {
    "duration": 4,
    "start_time": "2022-06-29T16:16:34.508Z"
   },
   {
    "duration": 12,
    "start_time": "2022-06-29T16:16:34.514Z"
   },
   {
    "duration": 14,
    "start_time": "2022-06-29T16:16:34.528Z"
   },
   {
    "duration": 9,
    "start_time": "2022-06-29T16:16:34.543Z"
   },
   {
    "duration": 159,
    "start_time": "2022-06-29T16:16:34.554Z"
   },
   {
    "duration": 4,
    "start_time": "2022-06-29T16:16:34.714Z"
   },
   {
    "duration": 17,
    "start_time": "2022-06-29T16:16:34.720Z"
   },
   {
    "duration": 11,
    "start_time": "2022-06-29T16:16:34.739Z"
   },
   {
    "duration": 19,
    "start_time": "2022-06-29T16:16:34.753Z"
   },
   {
    "duration": 232,
    "start_time": "2022-06-29T16:16:34.774Z"
   },
   {
    "duration": 164,
    "start_time": "2022-06-29T16:16:35.008Z"
   },
   {
    "duration": 184,
    "start_time": "2022-06-29T16:16:35.181Z"
   },
   {
    "duration": 26,
    "start_time": "2022-06-29T16:16:35.368Z"
   },
   {
    "duration": 28,
    "start_time": "2022-06-29T16:16:35.396Z"
   },
   {
    "duration": 355,
    "start_time": "2022-06-29T16:16:35.427Z"
   },
   {
    "duration": 220,
    "start_time": "2022-06-29T16:16:35.784Z"
   },
   {
    "duration": 7,
    "start_time": "2022-06-29T16:16:36.006Z"
   },
   {
    "duration": 405,
    "start_time": "2022-06-29T16:16:36.015Z"
   },
   {
    "duration": 4,
    "start_time": "2022-06-29T16:16:36.422Z"
   },
   {
    "duration": 47,
    "start_time": "2022-06-29T16:16:36.428Z"
   },
   {
    "duration": 234,
    "start_time": "2022-06-29T16:16:36.478Z"
   },
   {
    "duration": 17,
    "start_time": "2022-06-29T16:16:36.714Z"
   },
   {
    "duration": 324,
    "start_time": "2022-06-29T16:16:36.733Z"
   },
   {
    "duration": 18,
    "start_time": "2022-06-29T16:16:37.060Z"
   },
   {
    "duration": 207,
    "start_time": "2022-06-29T16:16:37.080Z"
   },
   {
    "duration": 5,
    "start_time": "2022-06-29T16:16:37.289Z"
   },
   {
    "duration": 222,
    "start_time": "2022-06-29T16:16:37.296Z"
   },
   {
    "duration": 6,
    "start_time": "2022-06-29T16:16:37.520Z"
   },
   {
    "duration": 53,
    "start_time": "2022-06-29T16:16:37.528Z"
   },
   {
    "duration": 37,
    "start_time": "2022-06-29T16:16:37.583Z"
   },
   {
    "duration": 38,
    "start_time": "2022-06-29T16:16:37.622Z"
   },
   {
    "duration": 23,
    "start_time": "2022-06-29T16:16:37.662Z"
   },
   {
    "duration": 14,
    "start_time": "2022-06-29T16:16:37.687Z"
   },
   {
    "duration": 13,
    "start_time": "2022-06-29T16:16:37.703Z"
   },
   {
    "duration": 49,
    "start_time": "2022-06-29T16:16:37.718Z"
   },
   {
    "duration": 45,
    "start_time": "2022-06-29T16:16:37.771Z"
   },
   {
    "duration": 18,
    "start_time": "2022-06-29T16:16:37.818Z"
   },
   {
    "duration": 54,
    "start_time": "2022-06-29T16:16:37.838Z"
   },
   {
    "duration": 60,
    "start_time": "2022-06-29T16:16:37.896Z"
   },
   {
    "duration": 38,
    "start_time": "2022-06-29T16:16:37.959Z"
   },
   {
    "duration": 10,
    "start_time": "2022-06-29T16:16:37.999Z"
   },
   {
    "duration": 11,
    "start_time": "2022-06-29T16:16:38.011Z"
   },
   {
    "duration": 11,
    "start_time": "2022-06-29T16:35:16.133Z"
   },
   {
    "duration": 448,
    "start_time": "2022-06-29T16:40:21.759Z"
   },
   {
    "duration": 10,
    "start_time": "2022-06-29T16:40:53.697Z"
   },
   {
    "duration": 10,
    "start_time": "2022-06-29T16:40:57.398Z"
   },
   {
    "duration": 9,
    "start_time": "2022-06-29T16:43:35.685Z"
   },
   {
    "duration": 202,
    "start_time": "2022-06-29T16:43:39.277Z"
   },
   {
    "duration": 9,
    "start_time": "2022-06-29T16:44:13.297Z"
   },
   {
    "duration": 8,
    "start_time": "2022-06-29T16:44:39.698Z"
   },
   {
    "duration": 11,
    "start_time": "2022-06-29T16:44:44.277Z"
   },
   {
    "duration": 10,
    "start_time": "2022-06-29T16:44:53.188Z"
   },
   {
    "duration": 13,
    "start_time": "2022-06-29T16:45:01.458Z"
   },
   {
    "duration": 1121,
    "start_time": "2022-06-29T16:47:07.521Z"
   },
   {
    "duration": 4,
    "start_time": "2022-06-29T16:47:30.088Z"
   },
   {
    "duration": 5,
    "start_time": "2022-06-29T16:47:56.254Z"
   },
   {
    "duration": 4,
    "start_time": "2022-06-29T16:48:03.303Z"
   },
   {
    "duration": 4,
    "start_time": "2022-06-29T16:48:11.853Z"
   },
   {
    "duration": 67,
    "start_time": "2022-06-29T16:48:15.414Z"
   },
   {
    "duration": 13,
    "start_time": "2022-06-29T16:48:41.940Z"
   },
   {
    "duration": 11,
    "start_time": "2022-06-29T16:51:12.239Z"
   },
   {
    "duration": 19,
    "start_time": "2022-06-29T16:51:22.869Z"
   },
   {
    "duration": 26,
    "start_time": "2022-06-29T16:53:22.341Z"
   },
   {
    "duration": 23,
    "start_time": "2022-06-29T16:54:00.585Z"
   },
   {
    "duration": 28,
    "start_time": "2022-06-29T16:54:08.129Z"
   },
   {
    "duration": 27,
    "start_time": "2022-06-29T16:54:27.727Z"
   },
   {
    "duration": 38,
    "start_time": "2022-06-29T16:54:45.651Z"
   },
   {
    "duration": 28,
    "start_time": "2022-06-29T16:54:57.799Z"
   },
   {
    "duration": 28,
    "start_time": "2022-06-29T16:55:02.440Z"
   },
   {
    "duration": 32,
    "start_time": "2022-06-29T16:55:10.556Z"
   },
   {
    "duration": 33,
    "start_time": "2022-06-29T16:55:24.127Z"
   },
   {
    "duration": 25,
    "start_time": "2022-06-29T16:56:13.969Z"
   },
   {
    "duration": 29,
    "start_time": "2022-06-29T16:57:58.528Z"
   },
   {
    "duration": 28,
    "start_time": "2022-06-29T16:58:33.746Z"
   },
   {
    "duration": 34,
    "start_time": "2022-06-29T16:58:51.014Z"
   },
   {
    "duration": 30,
    "start_time": "2022-06-29T16:58:59.622Z"
   },
   {
    "duration": 29,
    "start_time": "2022-06-29T16:59:24.808Z"
   },
   {
    "duration": 188,
    "start_time": "2022-06-29T17:00:55.152Z"
   },
   {
    "duration": 657,
    "start_time": "2022-06-29T17:02:20.574Z"
   },
   {
    "duration": 16,
    "start_time": "2022-06-29T17:02:32.643Z"
   },
   {
    "duration": 15,
    "start_time": "2022-06-29T17:02:42.410Z"
   },
   {
    "duration": 14,
    "start_time": "2022-06-29T17:17:36.906Z"
   },
   {
    "duration": 16,
    "start_time": "2022-06-29T17:18:33.200Z"
   },
   {
    "duration": 14,
    "start_time": "2022-06-29T17:19:16.698Z"
   },
   {
    "duration": 9,
    "start_time": "2022-06-29T17:23:41.803Z"
   },
   {
    "duration": 8,
    "start_time": "2022-06-29T17:23:47.482Z"
   },
   {
    "duration": 9,
    "start_time": "2022-06-29T17:24:06.552Z"
   },
   {
    "duration": 9,
    "start_time": "2022-06-29T17:24:13.974Z"
   },
   {
    "duration": 8,
    "start_time": "2022-06-29T17:24:22.593Z"
   },
   {
    "duration": 14,
    "start_time": "2022-06-29T17:24:25.619Z"
   },
   {
    "duration": 17,
    "start_time": "2022-06-29T17:24:27.906Z"
   },
   {
    "duration": 13,
    "start_time": "2022-06-29T17:24:36.320Z"
   },
   {
    "duration": 95,
    "start_time": "2022-06-29T17:24:49.871Z"
   },
   {
    "duration": 13,
    "start_time": "2022-06-29T17:25:04.188Z"
   },
   {
    "duration": 20,
    "start_time": "2022-06-29T17:25:19.752Z"
   },
   {
    "duration": 12,
    "start_time": "2022-06-29T17:25:22.621Z"
   },
   {
    "duration": 1040,
    "start_time": "2022-06-29T17:25:32.292Z"
   },
   {
    "duration": 40,
    "start_time": "2022-06-29T17:25:33.334Z"
   },
   {
    "duration": 3,
    "start_time": "2022-06-29T17:25:33.376Z"
   },
   {
    "duration": 8,
    "start_time": "2022-06-29T17:25:33.381Z"
   },
   {
    "duration": 11,
    "start_time": "2022-06-29T17:25:33.391Z"
   },
   {
    "duration": 7,
    "start_time": "2022-06-29T17:25:33.403Z"
   },
   {
    "duration": 68,
    "start_time": "2022-06-29T17:25:33.411Z"
   },
   {
    "duration": 4,
    "start_time": "2022-06-29T17:25:33.481Z"
   },
   {
    "duration": 17,
    "start_time": "2022-06-29T17:25:33.486Z"
   },
   {
    "duration": 13,
    "start_time": "2022-06-29T17:25:33.504Z"
   },
   {
    "duration": 11,
    "start_time": "2022-06-29T17:25:33.518Z"
   },
   {
    "duration": 202,
    "start_time": "2022-06-29T17:25:33.530Z"
   },
   {
    "duration": 132,
    "start_time": "2022-06-29T17:25:33.733Z"
   },
   {
    "duration": 132,
    "start_time": "2022-06-29T17:25:33.868Z"
   },
   {
    "duration": 12,
    "start_time": "2022-06-29T17:25:34.001Z"
   },
   {
    "duration": 16,
    "start_time": "2022-06-29T17:25:34.014Z"
   },
   {
    "duration": 263,
    "start_time": "2022-06-29T17:25:34.059Z"
   },
   {
    "duration": 193,
    "start_time": "2022-06-29T17:25:34.324Z"
   },
   {
    "duration": 6,
    "start_time": "2022-06-29T17:25:34.520Z"
   },
   {
    "duration": 332,
    "start_time": "2022-06-29T17:25:34.528Z"
   },
   {
    "duration": 9,
    "start_time": "2022-06-29T17:25:34.861Z"
   },
   {
    "duration": 31,
    "start_time": "2022-06-29T17:25:34.872Z"
   },
   {
    "duration": 192,
    "start_time": "2022-06-29T17:25:34.905Z"
   },
   {
    "duration": 15,
    "start_time": "2022-06-29T17:25:35.099Z"
   },
   {
    "duration": 351,
    "start_time": "2022-06-29T17:25:35.116Z"
   },
   {
    "duration": 16,
    "start_time": "2022-06-29T17:25:35.469Z"
   },
   {
    "duration": 158,
    "start_time": "2022-06-29T17:25:35.487Z"
   },
   {
    "duration": 12,
    "start_time": "2022-06-29T17:25:35.647Z"
   },
   {
    "duration": 152,
    "start_time": "2022-06-29T17:25:35.664Z"
   },
   {
    "duration": 4,
    "start_time": "2022-06-29T17:25:35.818Z"
   },
   {
    "duration": 48,
    "start_time": "2022-06-29T17:25:35.824Z"
   },
   {
    "duration": 26,
    "start_time": "2022-06-29T17:25:35.873Z"
   },
   {
    "duration": 8,
    "start_time": "2022-06-29T17:25:35.901Z"
   },
   {
    "duration": 10,
    "start_time": "2022-06-29T17:25:35.910Z"
   },
   {
    "duration": 18,
    "start_time": "2022-06-29T17:25:35.922Z"
   },
   {
    "duration": 21,
    "start_time": "2022-06-29T17:25:35.954Z"
   },
   {
    "duration": 107,
    "start_time": "2022-06-29T17:25:35.976Z"
   },
   {
    "duration": 0,
    "start_time": "2022-06-29T17:25:36.085Z"
   },
   {
    "duration": 0,
    "start_time": "2022-06-29T17:25:36.086Z"
   },
   {
    "duration": 0,
    "start_time": "2022-06-29T17:25:36.087Z"
   },
   {
    "duration": 0,
    "start_time": "2022-06-29T17:25:36.088Z"
   },
   {
    "duration": 0,
    "start_time": "2022-06-29T17:25:36.089Z"
   },
   {
    "duration": 0,
    "start_time": "2022-06-29T17:25:36.091Z"
   },
   {
    "duration": 9,
    "start_time": "2022-06-29T17:25:44.717Z"
   },
   {
    "duration": 17,
    "start_time": "2022-06-29T17:26:24.247Z"
   },
   {
    "duration": 12,
    "start_time": "2022-06-29T17:26:39.819Z"
   },
   {
    "duration": 14,
    "start_time": "2022-06-29T17:26:45.510Z"
   },
   {
    "duration": 7,
    "start_time": "2022-06-29T17:26:47.785Z"
   },
   {
    "duration": 18,
    "start_time": "2022-06-29T17:26:53.105Z"
   },
   {
    "duration": 9,
    "start_time": "2022-06-29T17:31:07.567Z"
   },
   {
    "duration": 10,
    "start_time": "2022-06-29T17:31:30.029Z"
   },
   {
    "duration": 9,
    "start_time": "2022-06-29T17:32:06.599Z"
   },
   {
    "duration": 9,
    "start_time": "2022-06-29T17:32:23.551Z"
   },
   {
    "duration": 5,
    "start_time": "2022-06-29T17:32:43.487Z"
   },
   {
    "duration": 20,
    "start_time": "2022-06-29T17:32:49.431Z"
   },
   {
    "duration": 21,
    "start_time": "2022-06-29T17:33:01.013Z"
   },
   {
    "duration": 15,
    "start_time": "2022-06-29T17:34:49.202Z"
   },
   {
    "duration": 13,
    "start_time": "2022-06-29T17:36:00.461Z"
   },
   {
    "duration": 275,
    "start_time": "2022-06-29T17:36:18.106Z"
   },
   {
    "duration": 16,
    "start_time": "2022-06-29T17:36:47.003Z"
   },
   {
    "duration": 17,
    "start_time": "2022-06-29T17:38:27.944Z"
   },
   {
    "duration": 117,
    "start_time": "2022-06-29T17:38:45.242Z"
   },
   {
    "duration": 87,
    "start_time": "2022-06-29T17:38:57.200Z"
   },
   {
    "duration": 64,
    "start_time": "2022-06-29T17:39:09.901Z"
   },
   {
    "duration": 88,
    "start_time": "2022-06-29T17:39:19.712Z"
   },
   {
    "duration": 64,
    "start_time": "2022-06-29T17:39:27.278Z"
   },
   {
    "duration": 97,
    "start_time": "2022-06-29T17:40:00.692Z"
   },
   {
    "duration": 14,
    "start_time": "2022-06-29T17:40:26.856Z"
   },
   {
    "duration": 352,
    "start_time": "2022-06-29T17:40:40.300Z"
   },
   {
    "duration": 21,
    "start_time": "2022-06-29T17:40:48.323Z"
   },
   {
    "duration": 15,
    "start_time": "2022-06-29T17:41:02.733Z"
   },
   {
    "duration": 16,
    "start_time": "2022-06-29T17:42:47.025Z"
   },
   {
    "duration": 20,
    "start_time": "2022-06-29T17:42:55.672Z"
   },
   {
    "duration": 15,
    "start_time": "2022-06-29T17:44:06.964Z"
   },
   {
    "duration": 17,
    "start_time": "2022-06-29T17:44:46.702Z"
   },
   {
    "duration": 11,
    "start_time": "2022-06-29T17:44:53.311Z"
   },
   {
    "duration": 19,
    "start_time": "2022-06-29T17:45:12.518Z"
   },
   {
    "duration": 4,
    "start_time": "2022-06-29T17:47:21.323Z"
   },
   {
    "duration": 5,
    "start_time": "2022-06-29T17:47:42.230Z"
   },
   {
    "duration": 5,
    "start_time": "2022-06-29T17:47:57.774Z"
   },
   {
    "duration": 5,
    "start_time": "2022-06-29T17:48:04.916Z"
   },
   {
    "duration": 12,
    "start_time": "2022-06-29T17:49:44.517Z"
   },
   {
    "duration": 5,
    "start_time": "2022-06-29T17:49:46.886Z"
   },
   {
    "duration": 12,
    "start_time": "2022-06-29T17:49:56.170Z"
   },
   {
    "duration": 5,
    "start_time": "2022-06-29T17:49:57.736Z"
   },
   {
    "duration": 13,
    "start_time": "2022-06-29T17:50:17.563Z"
   },
   {
    "duration": 6,
    "start_time": "2022-06-29T17:50:21.007Z"
   },
   {
    "duration": 16,
    "start_time": "2022-06-29T17:50:36.987Z"
   },
   {
    "duration": 17,
    "start_time": "2022-06-29T17:50:41.526Z"
   },
   {
    "duration": 15,
    "start_time": "2022-06-29T17:50:56.798Z"
   },
   {
    "duration": 15,
    "start_time": "2022-06-29T17:51:57.051Z"
   },
   {
    "duration": 16,
    "start_time": "2022-06-29T17:52:20.169Z"
   },
   {
    "duration": 14,
    "start_time": "2022-06-29T17:52:32.666Z"
   },
   {
    "duration": 1044,
    "start_time": "2022-06-29T17:52:38.465Z"
   },
   {
    "duration": 31,
    "start_time": "2022-06-29T17:52:39.511Z"
   },
   {
    "duration": 8,
    "start_time": "2022-06-29T17:52:39.544Z"
   },
   {
    "duration": 4,
    "start_time": "2022-06-29T17:52:39.553Z"
   },
   {
    "duration": 12,
    "start_time": "2022-06-29T17:52:39.559Z"
   },
   {
    "duration": 8,
    "start_time": "2022-06-29T17:52:39.573Z"
   },
   {
    "duration": 54,
    "start_time": "2022-06-29T17:52:39.582Z"
   },
   {
    "duration": 4,
    "start_time": "2022-06-29T17:52:39.653Z"
   },
   {
    "duration": 21,
    "start_time": "2022-06-29T17:52:39.659Z"
   },
   {
    "duration": 13,
    "start_time": "2022-06-29T17:52:39.681Z"
   },
   {
    "duration": 11,
    "start_time": "2022-06-29T17:52:39.696Z"
   },
   {
    "duration": 232,
    "start_time": "2022-06-29T17:52:39.709Z"
   },
   {
    "duration": 160,
    "start_time": "2022-06-29T17:52:39.942Z"
   },
   {
    "duration": 165,
    "start_time": "2022-06-29T17:52:40.105Z"
   },
   {
    "duration": 14,
    "start_time": "2022-06-29T17:52:40.272Z"
   },
   {
    "duration": 22,
    "start_time": "2022-06-29T17:52:40.288Z"
   },
   {
    "duration": 311,
    "start_time": "2022-06-29T17:52:40.312Z"
   },
   {
    "duration": 195,
    "start_time": "2022-06-29T17:52:40.625Z"
   },
   {
    "duration": 7,
    "start_time": "2022-06-29T17:52:40.821Z"
   },
   {
    "duration": 299,
    "start_time": "2022-06-29T17:52:40.829Z"
   },
   {
    "duration": 4,
    "start_time": "2022-06-29T17:52:41.130Z"
   },
   {
    "duration": 32,
    "start_time": "2022-06-29T17:52:41.136Z"
   },
   {
    "duration": 177,
    "start_time": "2022-06-29T17:52:41.169Z"
   },
   {
    "duration": 14,
    "start_time": "2022-06-29T17:52:41.347Z"
   },
   {
    "duration": 259,
    "start_time": "2022-06-29T17:52:41.362Z"
   },
   {
    "duration": 13,
    "start_time": "2022-06-29T17:52:41.623Z"
   },
   {
    "duration": 157,
    "start_time": "2022-06-29T17:52:41.637Z"
   },
   {
    "duration": 4,
    "start_time": "2022-06-29T17:52:41.795Z"
   },
   {
    "duration": 169,
    "start_time": "2022-06-29T17:52:41.801Z"
   },
   {
    "duration": 3,
    "start_time": "2022-06-29T17:52:41.972Z"
   },
   {
    "duration": 29,
    "start_time": "2022-06-29T17:52:41.977Z"
   },
   {
    "duration": 46,
    "start_time": "2022-06-29T17:52:42.007Z"
   },
   {
    "duration": 10,
    "start_time": "2022-06-29T17:52:42.054Z"
   },
   {
    "duration": 6,
    "start_time": "2022-06-29T17:52:42.066Z"
   },
   {
    "duration": 10,
    "start_time": "2022-06-29T17:52:42.074Z"
   },
   {
    "duration": 127,
    "start_time": "2022-06-29T17:52:42.086Z"
   },
   {
    "duration": 0,
    "start_time": "2022-06-29T17:52:42.215Z"
   },
   {
    "duration": 0,
    "start_time": "2022-06-29T17:52:42.216Z"
   },
   {
    "duration": 0,
    "start_time": "2022-06-29T17:52:42.217Z"
   },
   {
    "duration": 0,
    "start_time": "2022-06-29T17:52:42.218Z"
   },
   {
    "duration": 0,
    "start_time": "2022-06-29T17:52:42.219Z"
   },
   {
    "duration": 0,
    "start_time": "2022-06-29T17:52:42.219Z"
   },
   {
    "duration": 0,
    "start_time": "2022-06-29T17:52:42.220Z"
   },
   {
    "duration": 11,
    "start_time": "2022-06-29T17:52:50.552Z"
   },
   {
    "duration": 14,
    "start_time": "2022-06-29T17:53:20.391Z"
   },
   {
    "duration": 13,
    "start_time": "2022-06-29T17:53:51.453Z"
   },
   {
    "duration": 12,
    "start_time": "2022-06-29T17:54:02.299Z"
   },
   {
    "duration": 16,
    "start_time": "2022-06-29T17:54:21.069Z"
   },
   {
    "duration": 17,
    "start_time": "2022-06-29T17:54:32.705Z"
   },
   {
    "duration": 18,
    "start_time": "2022-06-29T17:55:11.056Z"
   },
   {
    "duration": 15,
    "start_time": "2022-06-29T17:55:23.436Z"
   },
   {
    "duration": 4,
    "start_time": "2022-06-29T17:55:30.330Z"
   },
   {
    "duration": 4,
    "start_time": "2022-06-29T17:55:39.702Z"
   },
   {
    "duration": 19,
    "start_time": "2022-06-29T17:56:04.129Z"
   },
   {
    "duration": 8,
    "start_time": "2022-06-29T17:56:17.821Z"
   },
   {
    "duration": 12,
    "start_time": "2022-06-29T17:57:11.601Z"
   },
   {
    "duration": 8,
    "start_time": "2022-06-29T17:57:13.452Z"
   },
   {
    "duration": 6,
    "start_time": "2022-06-29T17:57:28.996Z"
   },
   {
    "duration": 9,
    "start_time": "2022-06-29T17:58:05.533Z"
   },
   {
    "duration": 11,
    "start_time": "2022-06-29T17:59:31.628Z"
   },
   {
    "duration": 7,
    "start_time": "2022-06-29T18:02:12.091Z"
   },
   {
    "duration": 8,
    "start_time": "2022-06-29T18:02:25.909Z"
   },
   {
    "duration": 8,
    "start_time": "2022-06-29T18:03:17.141Z"
   },
   {
    "duration": 12,
    "start_time": "2022-06-29T18:03:20.992Z"
   },
   {
    "duration": 4,
    "start_time": "2022-06-29T18:03:22.593Z"
   },
   {
    "duration": 9,
    "start_time": "2022-06-29T18:03:36.262Z"
   },
   {
    "duration": 10,
    "start_time": "2022-06-29T18:04:37.488Z"
   },
   {
    "duration": 8,
    "start_time": "2022-06-29T18:06:18.221Z"
   },
   {
    "duration": 11,
    "start_time": "2022-06-29T18:07:25.189Z"
   },
   {
    "duration": 9,
    "start_time": "2022-06-29T18:08:18.705Z"
   },
   {
    "duration": 14,
    "start_time": "2022-06-29T18:08:22.127Z"
   },
   {
    "duration": 4,
    "start_time": "2022-06-29T18:08:23.812Z"
   },
   {
    "duration": 9,
    "start_time": "2022-06-29T18:08:27.488Z"
   },
   {
    "duration": 10,
    "start_time": "2022-06-29T18:08:37.740Z"
   },
   {
    "duration": 13,
    "start_time": "2022-06-29T18:08:39.508Z"
   },
   {
    "duration": 3,
    "start_time": "2022-06-29T18:08:41.191Z"
   },
   {
    "duration": 5,
    "start_time": "2022-06-29T18:08:43.823Z"
   },
   {
    "duration": 5,
    "start_time": "2022-06-29T18:08:52.840Z"
   },
   {
    "duration": 5,
    "start_time": "2022-06-29T18:08:57.607Z"
   },
   {
    "duration": 9,
    "start_time": "2022-06-29T18:09:10.388Z"
   },
   {
    "duration": 3,
    "start_time": "2022-06-29T18:09:45.680Z"
   },
   {
    "duration": 3,
    "start_time": "2022-06-29T18:10:15.649Z"
   },
   {
    "duration": 5,
    "start_time": "2022-06-29T18:10:19.996Z"
   },
   {
    "duration": 9,
    "start_time": "2022-06-29T18:10:32.855Z"
   },
   {
    "duration": 9,
    "start_time": "2022-06-29T18:12:32.525Z"
   },
   {
    "duration": 9,
    "start_time": "2022-06-29T18:13:00.371Z"
   },
   {
    "duration": 3,
    "start_time": "2022-06-29T18:13:08.727Z"
   },
   {
    "duration": 5,
    "start_time": "2022-06-29T18:13:15.609Z"
   },
   {
    "duration": 3,
    "start_time": "2022-06-29T18:13:21.953Z"
   },
   {
    "duration": 3,
    "start_time": "2022-06-29T18:14:56.867Z"
   },
   {
    "duration": 15,
    "start_time": "2022-06-29T18:15:02.579Z"
   },
   {
    "duration": 11,
    "start_time": "2022-06-29T18:15:12.752Z"
   },
   {
    "duration": 3,
    "start_time": "2022-06-29T18:15:15.079Z"
   },
   {
    "duration": 3,
    "start_time": "2022-06-29T18:15:16.702Z"
   },
   {
    "duration": 12,
    "start_time": "2022-06-29T18:15:17.700Z"
   },
   {
    "duration": 12,
    "start_time": "2022-06-29T18:15:31.530Z"
   },
   {
    "duration": 18,
    "start_time": "2022-06-29T18:17:17.882Z"
   },
   {
    "duration": 11,
    "start_time": "2022-06-29T18:19:08.247Z"
   },
   {
    "duration": 13,
    "start_time": "2022-06-29T18:19:17.187Z"
   },
   {
    "duration": 3,
    "start_time": "2022-06-29T18:19:18.797Z"
   },
   {
    "duration": 12,
    "start_time": "2022-06-29T18:19:20.619Z"
   },
   {
    "duration": 20,
    "start_time": "2022-06-29T18:19:56.397Z"
   },
   {
    "duration": 12,
    "start_time": "2022-06-29T18:23:25.032Z"
   },
   {
    "duration": 12,
    "start_time": "2022-06-29T18:23:39.175Z"
   },
   {
    "duration": 6,
    "start_time": "2022-06-29T18:25:28.585Z"
   },
   {
    "duration": 4,
    "start_time": "2022-06-29T18:25:43.835Z"
   },
   {
    "duration": 10,
    "start_time": "2022-06-29T18:27:08.256Z"
   },
   {
    "duration": 9,
    "start_time": "2022-06-29T18:28:35.634Z"
   },
   {
    "duration": 6,
    "start_time": "2022-06-29T18:28:57.249Z"
   },
   {
    "duration": 5,
    "start_time": "2022-06-29T18:29:13.356Z"
   },
   {
    "duration": 7,
    "start_time": "2022-06-29T18:29:22.446Z"
   },
   {
    "duration": 1317,
    "start_time": "2022-06-29T18:29:37.569Z"
   },
   {
    "duration": 4,
    "start_time": "2022-06-29T18:29:50.309Z"
   },
   {
    "duration": 7,
    "start_time": "2022-06-29T18:29:55.825Z"
   },
   {
    "duration": 7,
    "start_time": "2022-06-29T18:30:01.365Z"
   },
   {
    "duration": 73,
    "start_time": "2022-06-29T18:30:23.567Z"
   },
   {
    "duration": 320,
    "start_time": "2022-06-29T18:31:22.813Z"
   },
   {
    "duration": 9,
    "start_time": "2022-06-29T18:31:36.381Z"
   },
   {
    "duration": 11,
    "start_time": "2022-06-29T18:31:49.031Z"
   },
   {
    "duration": 7,
    "start_time": "2022-06-29T18:32:04.846Z"
   },
   {
    "duration": 9,
    "start_time": "2022-06-29T18:32:15.211Z"
   },
   {
    "duration": 8,
    "start_time": "2022-06-29T18:32:21.369Z"
   },
   {
    "duration": 230,
    "start_time": "2022-06-29T18:32:24.112Z"
   },
   {
    "duration": 5,
    "start_time": "2022-06-29T18:32:30.728Z"
   },
   {
    "duration": 7,
    "start_time": "2022-06-29T18:32:35.740Z"
   },
   {
    "duration": 7,
    "start_time": "2022-06-29T18:32:43.373Z"
   },
   {
    "duration": 7,
    "start_time": "2022-06-29T18:34:43.667Z"
   },
   {
    "duration": 6,
    "start_time": "2022-06-29T18:34:50.705Z"
   },
   {
    "duration": 12,
    "start_time": "2022-06-29T18:34:58.375Z"
   },
   {
    "duration": 12,
    "start_time": "2022-06-29T18:35:00.692Z"
   },
   {
    "duration": 17,
    "start_time": "2022-06-29T18:35:03.857Z"
   },
   {
    "duration": 18,
    "start_time": "2022-06-29T18:35:11.697Z"
   },
   {
    "duration": 17,
    "start_time": "2022-06-29T18:35:56.404Z"
   },
   {
    "duration": 20,
    "start_time": "2022-06-29T18:36:35.325Z"
   },
   {
    "duration": 14,
    "start_time": "2022-06-29T18:36:42.513Z"
   },
   {
    "duration": 11,
    "start_time": "2022-06-29T18:36:45.529Z"
   },
   {
    "duration": 13,
    "start_time": "2022-06-29T18:36:50.424Z"
   },
   {
    "duration": 11,
    "start_time": "2022-06-29T18:38:18.860Z"
   },
   {
    "duration": 15,
    "start_time": "2022-06-29T18:38:21.859Z"
   },
   {
    "duration": 25,
    "start_time": "2022-06-29T18:38:34.824Z"
   },
   {
    "duration": 14,
    "start_time": "2022-06-29T18:38:49.394Z"
   },
   {
    "duration": 16,
    "start_time": "2022-06-29T18:38:52.644Z"
   },
   {
    "duration": 15,
    "start_time": "2022-06-29T18:38:54.314Z"
   },
   {
    "duration": 10,
    "start_time": "2022-06-29T18:38:57.526Z"
   },
   {
    "duration": 10,
    "start_time": "2022-06-29T18:38:58.495Z"
   },
   {
    "duration": 10,
    "start_time": "2022-06-29T18:38:59.068Z"
   },
   {
    "duration": 14,
    "start_time": "2022-06-29T18:38:59.783Z"
   },
   {
    "duration": 15,
    "start_time": "2022-06-29T18:39:09.884Z"
   },
   {
    "duration": 7,
    "start_time": "2022-06-29T18:39:11.789Z"
   },
   {
    "duration": 6,
    "start_time": "2022-06-29T18:39:13.893Z"
   },
   {
    "duration": 15,
    "start_time": "2022-06-29T18:39:15.449Z"
   },
   {
    "duration": 8,
    "start_time": "2022-06-29T18:39:22.489Z"
   },
   {
    "duration": 7,
    "start_time": "2022-06-29T18:39:26.287Z"
   },
   {
    "duration": 10,
    "start_time": "2022-06-29T18:39:48.996Z"
   },
   {
    "duration": 6,
    "start_time": "2022-06-29T18:39:51.041Z"
   },
   {
    "duration": 13,
    "start_time": "2022-06-29T18:39:55.243Z"
   },
   {
    "duration": 15,
    "start_time": "2022-06-29T18:39:57.415Z"
   },
   {
    "duration": 4,
    "start_time": "2022-06-29T18:41:06.425Z"
   },
   {
    "duration": 14,
    "start_time": "2022-06-29T18:41:13.444Z"
   },
   {
    "duration": 11,
    "start_time": "2022-06-29T18:41:20.822Z"
   },
   {
    "duration": 16,
    "start_time": "2022-06-29T18:41:26.444Z"
   },
   {
    "duration": 11,
    "start_time": "2022-06-29T18:41:40.172Z"
   },
   {
    "duration": 19,
    "start_time": "2022-06-29T18:41:52.490Z"
   },
   {
    "duration": 12,
    "start_time": "2022-06-29T18:43:44.431Z"
   },
   {
    "duration": 1103,
    "start_time": "2022-06-29T18:43:49.870Z"
   },
   {
    "duration": 11,
    "start_time": "2022-06-29T18:44:01.829Z"
   },
   {
    "duration": 12,
    "start_time": "2022-06-29T18:44:13.870Z"
   },
   {
    "duration": 1227,
    "start_time": "2022-06-29T18:44:23.752Z"
   },
   {
    "duration": 1252,
    "start_time": "2022-06-29T18:44:37.247Z"
   },
   {
    "duration": 1076,
    "start_time": "2022-06-29T18:46:01.563Z"
   },
   {
    "duration": 81,
    "start_time": "2022-06-29T18:48:09.649Z"
   },
   {
    "duration": 15,
    "start_time": "2022-06-29T18:48:15.237Z"
   },
   {
    "duration": 13,
    "start_time": "2022-06-29T18:48:35.899Z"
   },
   {
    "duration": 8,
    "start_time": "2022-06-29T18:49:41.995Z"
   },
   {
    "duration": 11,
    "start_time": "2022-06-29T18:49:44.587Z"
   },
   {
    "duration": 12,
    "start_time": "2022-06-29T18:50:00.916Z"
   },
   {
    "duration": 23,
    "start_time": "2022-06-29T18:50:13.636Z"
   },
   {
    "duration": 12,
    "start_time": "2022-06-29T18:50:29.785Z"
   },
   {
    "duration": 10,
    "start_time": "2022-06-29T18:51:58.915Z"
   },
   {
    "duration": 10,
    "start_time": "2022-06-29T18:52:04.936Z"
   },
   {
    "duration": 33,
    "start_time": "2022-06-29T18:52:08.837Z"
   },
   {
    "duration": 906,
    "start_time": "2022-06-29T18:52:29.684Z"
   },
   {
    "duration": 12,
    "start_time": "2022-06-29T18:52:36.861Z"
   },
   {
    "duration": 14,
    "start_time": "2022-06-29T18:52:43.545Z"
   },
   {
    "duration": 12,
    "start_time": "2022-06-29T18:52:57.460Z"
   },
   {
    "duration": 6,
    "start_time": "2022-06-29T18:52:59.993Z"
   },
   {
    "duration": 28,
    "start_time": "2022-06-29T18:54:07.747Z"
   },
   {
    "duration": 13,
    "start_time": "2022-06-29T18:56:38.847Z"
   },
   {
    "duration": 4,
    "start_time": "2022-06-29T18:57:03.317Z"
   },
   {
    "duration": 5,
    "start_time": "2022-06-29T18:57:14.619Z"
   },
   {
    "duration": 18,
    "start_time": "2022-06-29T18:57:18.047Z"
   },
   {
    "duration": 11,
    "start_time": "2022-06-29T18:57:33.317Z"
   },
   {
    "duration": 10,
    "start_time": "2022-06-29T18:57:38.024Z"
   },
   {
    "duration": 15,
    "start_time": "2022-06-29T18:57:45.917Z"
   },
   {
    "duration": 16,
    "start_time": "2022-06-29T18:58:07.516Z"
   },
   {
    "duration": 6,
    "start_time": "2022-06-29T18:59:12.808Z"
   },
   {
    "duration": 13,
    "start_time": "2022-06-29T18:59:35.145Z"
   },
   {
    "duration": 10,
    "start_time": "2022-06-29T18:59:43.022Z"
   },
   {
    "duration": 14,
    "start_time": "2022-06-29T18:59:58.168Z"
   },
   {
    "duration": 10,
    "start_time": "2022-06-29T19:00:05.578Z"
   },
   {
    "duration": 10,
    "start_time": "2022-06-29T19:00:20.764Z"
   },
   {
    "duration": 8,
    "start_time": "2022-06-29T19:01:20.917Z"
   },
   {
    "duration": 11,
    "start_time": "2022-06-29T19:01:26.030Z"
   },
   {
    "duration": 10,
    "start_time": "2022-06-29T19:01:31.077Z"
   },
   {
    "duration": 11,
    "start_time": "2022-06-29T19:02:45.919Z"
   },
   {
    "duration": 32,
    "start_time": "2022-06-29T19:03:30.500Z"
   },
   {
    "duration": 11,
    "start_time": "2022-06-29T19:06:07.383Z"
   },
   {
    "duration": 12,
    "start_time": "2022-06-29T19:06:19.119Z"
   },
   {
    "duration": 4,
    "start_time": "2022-06-29T19:09:17.991Z"
   },
   {
    "duration": 5,
    "start_time": "2022-06-29T19:09:27.334Z"
   },
   {
    "duration": 11,
    "start_time": "2022-06-29T19:09:34.152Z"
   },
   {
    "duration": 7,
    "start_time": "2022-06-29T19:09:46.830Z"
   },
   {
    "duration": 7,
    "start_time": "2022-06-29T19:10:05.192Z"
   },
   {
    "duration": 6,
    "start_time": "2022-06-29T19:10:11.552Z"
   },
   {
    "duration": 7,
    "start_time": "2022-06-29T19:10:14.685Z"
   },
   {
    "duration": 16,
    "start_time": "2022-06-29T19:10:37.539Z"
   },
   {
    "duration": 4,
    "start_time": "2022-06-29T19:11:11.842Z"
   },
   {
    "duration": 1021,
    "start_time": "2022-06-29T19:11:18.449Z"
   },
   {
    "duration": 6,
    "start_time": "2022-06-29T19:14:10.738Z"
   },
   {
    "duration": 1423,
    "start_time": "2022-06-29T19:16:03.489Z"
   },
   {
    "duration": 11,
    "start_time": "2022-06-29T19:16:11.305Z"
   },
   {
    "duration": 6,
    "start_time": "2022-06-29T19:16:29.113Z"
   },
   {
    "duration": 13,
    "start_time": "2022-06-29T19:16:33.186Z"
   },
   {
    "duration": 12,
    "start_time": "2022-06-29T19:17:00.467Z"
   },
   {
    "duration": 14,
    "start_time": "2022-06-29T19:17:15.338Z"
   },
   {
    "duration": 1171,
    "start_time": "2022-06-29T19:19:12.018Z"
   },
   {
    "duration": 4,
    "start_time": "2022-06-29T19:19:30.262Z"
   },
   {
    "duration": 12,
    "start_time": "2022-06-29T19:19:40.007Z"
   },
   {
    "duration": 14,
    "start_time": "2022-06-29T19:20:01.063Z"
   },
   {
    "duration": 14,
    "start_time": "2022-06-29T19:20:45.752Z"
   },
   {
    "duration": 4,
    "start_time": "2022-06-29T19:20:49.268Z"
   },
   {
    "duration": 977,
    "start_time": "2022-06-29T19:23:29.312Z"
   },
   {
    "duration": 4,
    "start_time": "2022-06-29T19:23:41.793Z"
   },
   {
    "duration": 5,
    "start_time": "2022-06-29T19:23:47.586Z"
   },
   {
    "duration": 9,
    "start_time": "2022-06-29T19:23:55.638Z"
   },
   {
    "duration": 55,
    "start_time": "2022-06-29T19:24:14.585Z"
   },
   {
    "duration": 7,
    "start_time": "2022-06-29T19:24:19.698Z"
   },
   {
    "duration": 6,
    "start_time": "2022-06-29T19:24:28.233Z"
   },
   {
    "duration": 7,
    "start_time": "2022-06-29T19:24:40.236Z"
   },
   {
    "duration": 7,
    "start_time": "2022-06-29T19:24:42.875Z"
   },
   {
    "duration": 6,
    "start_time": "2022-06-29T19:24:45.100Z"
   },
   {
    "duration": 16,
    "start_time": "2022-06-29T19:24:53.546Z"
   },
   {
    "duration": 7,
    "start_time": "2022-06-29T19:24:57.466Z"
   },
   {
    "duration": 5,
    "start_time": "2022-06-29T19:25:05.148Z"
   },
   {
    "duration": 3,
    "start_time": "2022-06-29T19:27:20.628Z"
   },
   {
    "duration": 14,
    "start_time": "2022-06-29T19:28:49.866Z"
   },
   {
    "duration": 15,
    "start_time": "2022-06-29T19:29:03.448Z"
   },
   {
    "duration": 6,
    "start_time": "2022-06-29T19:35:28.392Z"
   },
   {
    "duration": 9,
    "start_time": "2022-06-29T19:35:33.538Z"
   },
   {
    "duration": 6,
    "start_time": "2022-06-29T19:35:56.521Z"
   },
   {
    "duration": 10,
    "start_time": "2022-06-29T19:35:59.068Z"
   },
   {
    "duration": 11,
    "start_time": "2022-06-29T19:36:04.850Z"
   },
   {
    "duration": 9,
    "start_time": "2022-06-29T19:36:12.364Z"
   },
   {
    "duration": 5,
    "start_time": "2022-06-29T19:37:37.774Z"
   },
   {
    "duration": 10,
    "start_time": "2022-06-29T19:37:40.612Z"
   },
   {
    "duration": 10,
    "start_time": "2022-06-29T19:38:06.182Z"
   },
   {
    "duration": 11,
    "start_time": "2022-06-29T19:38:12.648Z"
   },
   {
    "duration": 8,
    "start_time": "2022-06-29T19:38:19.095Z"
   },
   {
    "duration": 1116,
    "start_time": "2022-06-29T19:38:31.765Z"
   },
   {
    "duration": 34,
    "start_time": "2022-06-29T19:38:32.883Z"
   },
   {
    "duration": 4,
    "start_time": "2022-06-29T19:38:32.918Z"
   },
   {
    "duration": 13,
    "start_time": "2022-06-29T19:38:32.924Z"
   },
   {
    "duration": 19,
    "start_time": "2022-06-29T19:38:32.939Z"
   },
   {
    "duration": 18,
    "start_time": "2022-06-29T19:38:32.959Z"
   },
   {
    "duration": 58,
    "start_time": "2022-06-29T19:38:32.979Z"
   },
   {
    "duration": 4,
    "start_time": "2022-06-29T19:38:33.038Z"
   },
   {
    "duration": 25,
    "start_time": "2022-06-29T19:38:33.044Z"
   },
   {
    "duration": 13,
    "start_time": "2022-06-29T19:38:33.070Z"
   },
   {
    "duration": 12,
    "start_time": "2022-06-29T19:38:33.085Z"
   },
   {
    "duration": 211,
    "start_time": "2022-06-29T19:38:33.098Z"
   },
   {
    "duration": 131,
    "start_time": "2022-06-29T19:38:33.310Z"
   },
   {
    "duration": 138,
    "start_time": "2022-06-29T19:38:33.451Z"
   },
   {
    "duration": 11,
    "start_time": "2022-06-29T19:38:33.590Z"
   },
   {
    "duration": 69,
    "start_time": "2022-06-29T19:38:33.603Z"
   },
   {
    "duration": 289,
    "start_time": "2022-06-29T19:38:33.673Z"
   },
   {
    "duration": 196,
    "start_time": "2022-06-29T19:38:33.970Z"
   },
   {
    "duration": 9,
    "start_time": "2022-06-29T19:38:34.168Z"
   },
   {
    "duration": 265,
    "start_time": "2022-06-29T19:38:34.179Z"
   },
   {
    "duration": 5,
    "start_time": "2022-06-29T19:38:34.452Z"
   },
   {
    "duration": 31,
    "start_time": "2022-06-29T19:38:34.462Z"
   },
   {
    "duration": 185,
    "start_time": "2022-06-29T19:38:34.494Z"
   },
   {
    "duration": 15,
    "start_time": "2022-06-29T19:38:34.681Z"
   },
   {
    "duration": 284,
    "start_time": "2022-06-29T19:38:34.697Z"
   },
   {
    "duration": 14,
    "start_time": "2022-06-29T19:38:34.982Z"
   },
   {
    "duration": 172,
    "start_time": "2022-06-29T19:38:34.997Z"
   },
   {
    "duration": 4,
    "start_time": "2022-06-29T19:38:35.171Z"
   },
   {
    "duration": 185,
    "start_time": "2022-06-29T19:38:35.177Z"
   },
   {
    "duration": 10,
    "start_time": "2022-06-29T19:38:35.365Z"
   },
   {
    "duration": 47,
    "start_time": "2022-06-29T19:38:35.377Z"
   },
   {
    "duration": 52,
    "start_time": "2022-06-29T19:38:35.426Z"
   },
   {
    "duration": 10,
    "start_time": "2022-06-29T19:38:35.480Z"
   },
   {
    "duration": 14,
    "start_time": "2022-06-29T19:38:35.492Z"
   },
   {
    "duration": 25,
    "start_time": "2022-06-29T19:38:35.509Z"
   },
   {
    "duration": 14,
    "start_time": "2022-06-29T19:38:35.535Z"
   },
   {
    "duration": 51,
    "start_time": "2022-06-29T19:38:35.551Z"
   },
   {
    "duration": 106,
    "start_time": "2022-06-29T19:38:35.605Z"
   },
   {
    "duration": 0,
    "start_time": "2022-06-29T19:38:35.713Z"
   },
   {
    "duration": 0,
    "start_time": "2022-06-29T19:38:35.714Z"
   },
   {
    "duration": 11,
    "start_time": "2022-06-29T19:40:03.138Z"
   },
   {
    "duration": 10,
    "start_time": "2022-06-29T19:40:10.428Z"
   },
   {
    "duration": 9,
    "start_time": "2022-06-29T19:40:14.616Z"
   },
   {
    "duration": 9,
    "start_time": "2022-06-29T19:40:27.246Z"
   },
   {
    "duration": 14,
    "start_time": "2022-06-29T19:40:33.867Z"
   },
   {
    "duration": 9,
    "start_time": "2022-06-29T19:41:06.855Z"
   },
   {
    "duration": 11,
    "start_time": "2022-06-29T19:41:11.568Z"
   },
   {
    "duration": 20,
    "start_time": "2022-06-29T19:41:25.840Z"
   },
   {
    "duration": 11,
    "start_time": "2022-06-29T19:41:42.694Z"
   },
   {
    "duration": 13,
    "start_time": "2022-06-29T19:41:49.485Z"
   },
   {
    "duration": 28,
    "start_time": "2022-06-29T19:43:00.846Z"
   },
   {
    "duration": 1009,
    "start_time": "2022-06-29T19:43:24.640Z"
   },
   {
    "duration": 13,
    "start_time": "2022-06-29T19:43:37.630Z"
   },
   {
    "duration": 12,
    "start_time": "2022-06-29T19:43:47.671Z"
   },
   {
    "duration": 14,
    "start_time": "2022-06-29T19:43:58.057Z"
   },
   {
    "duration": 15,
    "start_time": "2022-06-29T19:44:01.050Z"
   },
   {
    "duration": 11,
    "start_time": "2022-06-29T19:44:25.360Z"
   },
   {
    "duration": 10,
    "start_time": "2022-06-29T19:44:30.023Z"
   },
   {
    "duration": 13,
    "start_time": "2022-06-29T19:44:34.182Z"
   },
   {
    "duration": 12,
    "start_time": "2022-06-29T19:45:03.682Z"
   },
   {
    "duration": 14,
    "start_time": "2022-06-29T19:45:07.012Z"
   },
   {
    "duration": 12,
    "start_time": "2022-06-29T19:45:30.366Z"
   },
   {
    "duration": 15,
    "start_time": "2022-06-29T19:45:36.722Z"
   },
   {
    "duration": 39,
    "start_time": "2022-06-29T19:46:50.628Z"
   },
   {
    "duration": 35,
    "start_time": "2022-06-29T19:47:21.437Z"
   },
   {
    "duration": 17,
    "start_time": "2022-06-29T19:48:37.055Z"
   },
   {
    "duration": 38,
    "start_time": "2022-06-29T19:48:39.097Z"
   },
   {
    "duration": 38,
    "start_time": "2022-06-29T19:48:40.947Z"
   },
   {
    "duration": 12,
    "start_time": "2022-06-29T19:48:43.351Z"
   },
   {
    "duration": 7,
    "start_time": "2022-06-29T19:49:14.987Z"
   },
   {
    "duration": 6,
    "start_time": "2022-06-29T19:50:24.887Z"
   },
   {
    "duration": 10,
    "start_time": "2022-06-29T19:52:58.313Z"
   },
   {
    "duration": 10,
    "start_time": "2022-06-29T19:54:44.847Z"
   },
   {
    "duration": 7,
    "start_time": "2022-06-30T16:57:02.450Z"
   },
   {
    "duration": 9,
    "start_time": "2022-06-30T16:57:10.669Z"
   },
   {
    "duration": 8,
    "start_time": "2022-06-30T17:01:43.099Z"
   },
   {
    "duration": 8,
    "start_time": "2022-06-30T17:07:51.473Z"
   },
   {
    "duration": 12,
    "start_time": "2022-06-30T17:09:11.151Z"
   },
   {
    "duration": 16,
    "start_time": "2022-06-30T17:09:42.352Z"
   },
   {
    "duration": 14,
    "start_time": "2022-06-30T17:10:35.607Z"
   },
   {
    "duration": 5,
    "start_time": "2022-06-30T17:57:24.452Z"
   },
   {
    "duration": 68,
    "start_time": "2022-06-30T17:59:26.048Z"
   },
   {
    "duration": 11,
    "start_time": "2022-06-30T17:59:47.396Z"
   },
   {
    "duration": 166,
    "start_time": "2022-06-30T18:01:44.580Z"
   },
   {
    "duration": 1243,
    "start_time": "2022-06-30T18:06:00.716Z"
   },
   {
    "duration": 43,
    "start_time": "2022-06-30T18:06:01.961Z"
   },
   {
    "duration": 4,
    "start_time": "2022-06-30T18:06:02.006Z"
   },
   {
    "duration": 34,
    "start_time": "2022-06-30T18:06:02.013Z"
   },
   {
    "duration": 18,
    "start_time": "2022-06-30T18:06:02.051Z"
   },
   {
    "duration": 16,
    "start_time": "2022-06-30T18:06:02.071Z"
   },
   {
    "duration": 77,
    "start_time": "2022-06-30T18:06:02.089Z"
   },
   {
    "duration": 5,
    "start_time": "2022-06-30T18:06:02.168Z"
   },
   {
    "duration": 24,
    "start_time": "2022-06-30T18:06:02.175Z"
   },
   {
    "duration": 27,
    "start_time": "2022-06-30T18:06:02.202Z"
   },
   {
    "duration": 16,
    "start_time": "2022-06-30T18:06:02.233Z"
   },
   {
    "duration": 238,
    "start_time": "2022-06-30T18:06:02.252Z"
   },
   {
    "duration": 169,
    "start_time": "2022-06-30T18:06:02.492Z"
   },
   {
    "duration": 182,
    "start_time": "2022-06-30T18:06:02.664Z"
   },
   {
    "duration": 18,
    "start_time": "2022-06-30T18:06:02.847Z"
   },
   {
    "duration": 23,
    "start_time": "2022-06-30T18:06:02.867Z"
   },
   {
    "duration": 285,
    "start_time": "2022-06-30T18:06:02.892Z"
   },
   {
    "duration": 226,
    "start_time": "2022-06-30T18:06:03.178Z"
   },
   {
    "duration": 8,
    "start_time": "2022-06-30T18:06:03.406Z"
   },
   {
    "duration": 302,
    "start_time": "2022-06-30T18:06:03.426Z"
   },
   {
    "duration": 8,
    "start_time": "2022-06-30T18:06:03.737Z"
   },
   {
    "duration": 50,
    "start_time": "2022-06-30T18:06:03.746Z"
   },
   {
    "duration": 252,
    "start_time": "2022-06-30T18:06:03.799Z"
   },
   {
    "duration": 14,
    "start_time": "2022-06-30T18:06:04.053Z"
   },
   {
    "duration": 347,
    "start_time": "2022-06-30T18:06:04.070Z"
   },
   {
    "duration": 26,
    "start_time": "2022-06-30T18:06:04.420Z"
   },
   {
    "duration": 206,
    "start_time": "2022-06-30T18:06:04.448Z"
   },
   {
    "duration": 6,
    "start_time": "2022-06-30T18:06:04.656Z"
   },
   {
    "duration": 195,
    "start_time": "2022-06-30T18:06:04.664Z"
   },
   {
    "duration": 4,
    "start_time": "2022-06-30T18:06:04.861Z"
   },
   {
    "duration": 36,
    "start_time": "2022-06-30T18:06:04.866Z"
   },
   {
    "duration": 56,
    "start_time": "2022-06-30T18:06:04.903Z"
   },
   {
    "duration": 9,
    "start_time": "2022-06-30T18:06:04.961Z"
   },
   {
    "duration": 11,
    "start_time": "2022-06-30T18:06:04.972Z"
   },
   {
    "duration": 35,
    "start_time": "2022-06-30T18:06:04.984Z"
   },
   {
    "duration": 43,
    "start_time": "2022-06-30T18:06:05.021Z"
   },
   {
    "duration": 17,
    "start_time": "2022-06-30T18:06:05.066Z"
   },
   {
    "duration": 28,
    "start_time": "2022-06-30T18:06:05.085Z"
   },
   {
    "duration": 32,
    "start_time": "2022-06-30T18:06:05.115Z"
   },
   {
    "duration": 42,
    "start_time": "2022-06-30T18:06:05.149Z"
   },
   {
    "duration": 54,
    "start_time": "2022-06-30T18:06:05.195Z"
   },
   {
    "duration": 38,
    "start_time": "2022-06-30T18:06:05.251Z"
   },
   {
    "duration": 11,
    "start_time": "2022-06-30T18:06:05.291Z"
   },
   {
    "duration": 38,
    "start_time": "2022-06-30T18:06:05.304Z"
   },
   {
    "duration": 1179,
    "start_time": "2022-07-01T14:25:51.016Z"
   },
   {
    "duration": 33,
    "start_time": "2022-07-01T14:25:52.197Z"
   },
   {
    "duration": 4,
    "start_time": "2022-07-01T14:25:52.232Z"
   },
   {
    "duration": 8,
    "start_time": "2022-07-01T14:25:52.238Z"
   },
   {
    "duration": 18,
    "start_time": "2022-07-01T14:25:52.247Z"
   },
   {
    "duration": 12,
    "start_time": "2022-07-01T14:25:52.268Z"
   },
   {
    "duration": 67,
    "start_time": "2022-07-01T14:25:52.282Z"
   },
   {
    "duration": 3,
    "start_time": "2022-07-01T14:25:52.351Z"
   },
   {
    "duration": 24,
    "start_time": "2022-07-01T14:25:52.356Z"
   },
   {
    "duration": 14,
    "start_time": "2022-07-01T14:25:52.383Z"
   },
   {
    "duration": 35,
    "start_time": "2022-07-01T14:25:52.399Z"
   },
   {
    "duration": 213,
    "start_time": "2022-07-01T14:25:52.436Z"
   },
   {
    "duration": 137,
    "start_time": "2022-07-01T14:25:52.650Z"
   },
   {
    "duration": 143,
    "start_time": "2022-07-01T14:25:52.789Z"
   },
   {
    "duration": 14,
    "start_time": "2022-07-01T14:25:52.934Z"
   },
   {
    "duration": 17,
    "start_time": "2022-07-01T14:25:52.950Z"
   },
   {
    "duration": 289,
    "start_time": "2022-07-01T14:25:52.969Z"
   },
   {
    "duration": 193,
    "start_time": "2022-07-01T14:25:53.260Z"
   },
   {
    "duration": 6,
    "start_time": "2022-07-01T14:25:53.455Z"
   },
   {
    "duration": 279,
    "start_time": "2022-07-01T14:25:53.462Z"
   },
   {
    "duration": 4,
    "start_time": "2022-07-01T14:25:53.743Z"
   },
   {
    "duration": 27,
    "start_time": "2022-07-01T14:25:53.749Z"
   },
   {
    "duration": 217,
    "start_time": "2022-07-01T14:25:53.777Z"
   },
   {
    "duration": 32,
    "start_time": "2022-07-01T14:25:53.996Z"
   },
   {
    "duration": 328,
    "start_time": "2022-07-01T14:25:54.030Z"
   },
   {
    "duration": 16,
    "start_time": "2022-07-01T14:25:54.360Z"
   },
   {
    "duration": 228,
    "start_time": "2022-07-01T14:25:54.378Z"
   },
   {
    "duration": 16,
    "start_time": "2022-07-01T14:25:54.610Z"
   },
   {
    "duration": 180,
    "start_time": "2022-07-01T14:25:54.628Z"
   },
   {
    "duration": 4,
    "start_time": "2022-07-01T14:25:54.810Z"
   },
   {
    "duration": 51,
    "start_time": "2022-07-01T14:25:54.816Z"
   },
   {
    "duration": 35,
    "start_time": "2022-07-01T14:25:54.868Z"
   },
   {
    "duration": 24,
    "start_time": "2022-07-01T14:25:54.906Z"
   },
   {
    "duration": 7,
    "start_time": "2022-07-01T14:25:54.931Z"
   },
   {
    "duration": 14,
    "start_time": "2022-07-01T14:25:54.940Z"
   },
   {
    "duration": 14,
    "start_time": "2022-07-01T14:25:54.956Z"
   },
   {
    "duration": 11,
    "start_time": "2022-07-01T14:25:54.971Z"
   },
   {
    "duration": 43,
    "start_time": "2022-07-01T14:25:54.984Z"
   },
   {
    "duration": 14,
    "start_time": "2022-07-01T14:25:55.029Z"
   },
   {
    "duration": 44,
    "start_time": "2022-07-01T14:25:55.045Z"
   },
   {
    "duration": 38,
    "start_time": "2022-07-01T14:25:55.091Z"
   },
   {
    "duration": 9,
    "start_time": "2022-07-01T14:25:55.131Z"
   },
   {
    "duration": 21,
    "start_time": "2022-07-01T14:25:55.142Z"
   },
   {
    "duration": 36,
    "start_time": "2022-07-01T14:25:55.165Z"
   },
   {
    "duration": 1127,
    "start_time": "2022-07-01T14:28:38.981Z"
   },
   {
    "duration": 34,
    "start_time": "2022-07-01T14:28:40.110Z"
   },
   {
    "duration": 4,
    "start_time": "2022-07-01T14:28:40.146Z"
   },
   {
    "duration": 13,
    "start_time": "2022-07-01T14:28:40.152Z"
   },
   {
    "duration": 14,
    "start_time": "2022-07-01T14:28:40.167Z"
   },
   {
    "duration": 12,
    "start_time": "2022-07-01T14:28:40.183Z"
   },
   {
    "duration": 55,
    "start_time": "2022-07-01T14:28:40.196Z"
   },
   {
    "duration": 4,
    "start_time": "2022-07-01T14:28:40.252Z"
   },
   {
    "duration": 19,
    "start_time": "2022-07-01T14:28:40.258Z"
   },
   {
    "duration": 23,
    "start_time": "2022-07-01T14:28:40.279Z"
   },
   {
    "duration": 26,
    "start_time": "2022-07-01T14:28:40.304Z"
   },
   {
    "duration": 205,
    "start_time": "2022-07-01T14:28:40.331Z"
   },
   {
    "duration": 136,
    "start_time": "2022-07-01T14:28:40.538Z"
   },
   {
    "duration": 149,
    "start_time": "2022-07-01T14:28:40.677Z"
   },
   {
    "duration": 13,
    "start_time": "2022-07-01T14:28:40.828Z"
   },
   {
    "duration": 21,
    "start_time": "2022-07-01T14:28:40.842Z"
   },
   {
    "duration": 289,
    "start_time": "2022-07-01T14:28:40.865Z"
   },
   {
    "duration": 217,
    "start_time": "2022-07-01T14:28:41.155Z"
   },
   {
    "duration": 7,
    "start_time": "2022-07-01T14:28:41.374Z"
   },
   {
    "duration": 323,
    "start_time": "2022-07-01T14:28:41.382Z"
   },
   {
    "duration": 4,
    "start_time": "2022-07-01T14:28:41.707Z"
   },
   {
    "duration": 33,
    "start_time": "2022-07-01T14:28:41.713Z"
   },
   {
    "duration": 201,
    "start_time": "2022-07-01T14:28:41.748Z"
   },
   {
    "duration": 13,
    "start_time": "2022-07-01T14:28:41.951Z"
   },
   {
    "duration": 270,
    "start_time": "2022-07-01T14:28:41.965Z"
   },
   {
    "duration": 13,
    "start_time": "2022-07-01T14:28:42.237Z"
   },
   {
    "duration": 170,
    "start_time": "2022-07-01T14:28:42.251Z"
   },
   {
    "duration": 4,
    "start_time": "2022-07-01T14:28:42.427Z"
   },
   {
    "duration": 189,
    "start_time": "2022-07-01T14:28:42.433Z"
   },
   {
    "duration": 6,
    "start_time": "2022-07-01T14:28:42.624Z"
   },
   {
    "duration": 45,
    "start_time": "2022-07-01T14:28:42.632Z"
   },
   {
    "duration": 64,
    "start_time": "2022-07-01T14:28:42.679Z"
   },
   {
    "duration": 14,
    "start_time": "2022-07-01T14:28:42.746Z"
   },
   {
    "duration": 13,
    "start_time": "2022-07-01T14:28:42.761Z"
   },
   {
    "duration": 14,
    "start_time": "2022-07-01T14:28:42.776Z"
   },
   {
    "duration": 40,
    "start_time": "2022-07-01T14:28:42.792Z"
   },
   {
    "duration": 13,
    "start_time": "2022-07-01T14:28:42.834Z"
   },
   {
    "duration": 13,
    "start_time": "2022-07-01T14:28:42.849Z"
   },
   {
    "duration": 21,
    "start_time": "2022-07-01T14:28:42.864Z"
   },
   {
    "duration": 58,
    "start_time": "2022-07-01T14:28:42.888Z"
   },
   {
    "duration": 33,
    "start_time": "2022-07-01T14:28:42.951Z"
   },
   {
    "duration": 40,
    "start_time": "2022-07-01T14:28:42.986Z"
   },
   {
    "duration": 7,
    "start_time": "2022-07-01T14:28:43.028Z"
   },
   {
    "duration": 17,
    "start_time": "2022-07-01T14:28:43.036Z"
   },
   {
    "duration": 48,
    "start_time": "2022-07-01T19:02:12.619Z"
   },
   {
    "duration": 1226,
    "start_time": "2022-07-01T19:02:18.376Z"
   },
   {
    "duration": 54,
    "start_time": "2022-07-01T19:02:19.604Z"
   },
   {
    "duration": 3,
    "start_time": "2022-07-01T19:02:19.660Z"
   },
   {
    "duration": 11,
    "start_time": "2022-07-01T19:02:19.665Z"
   },
   {
    "duration": 17,
    "start_time": "2022-07-01T19:02:19.678Z"
   },
   {
    "duration": 11,
    "start_time": "2022-07-01T19:02:19.696Z"
   },
   {
    "duration": 115,
    "start_time": "2022-07-01T19:02:19.708Z"
   },
   {
    "duration": 4,
    "start_time": "2022-07-01T19:02:19.825Z"
   },
   {
    "duration": 20,
    "start_time": "2022-07-01T19:02:19.831Z"
   },
   {
    "duration": 16,
    "start_time": "2022-07-01T19:02:19.853Z"
   },
   {
    "duration": 15,
    "start_time": "2022-07-01T19:02:19.870Z"
   },
   {
    "duration": 209,
    "start_time": "2022-07-01T19:02:19.887Z"
   },
   {
    "duration": 140,
    "start_time": "2022-07-01T19:02:20.098Z"
   },
   {
    "duration": 137,
    "start_time": "2022-07-01T19:02:20.239Z"
   },
   {
    "duration": 12,
    "start_time": "2022-07-01T19:02:20.378Z"
   },
   {
    "duration": 18,
    "start_time": "2022-07-01T19:02:20.392Z"
   },
   {
    "duration": 269,
    "start_time": "2022-07-01T19:02:20.427Z"
   },
   {
    "duration": 181,
    "start_time": "2022-07-01T19:02:20.698Z"
   },
   {
    "duration": 5,
    "start_time": "2022-07-01T19:02:20.881Z"
   },
   {
    "duration": 371,
    "start_time": "2022-07-01T19:02:20.888Z"
   },
   {
    "duration": 4,
    "start_time": "2022-07-01T19:02:21.261Z"
   },
   {
    "duration": 32,
    "start_time": "2022-07-01T19:02:21.268Z"
   },
   {
    "duration": 190,
    "start_time": "2022-07-01T19:02:21.302Z"
   },
   {
    "duration": 18,
    "start_time": "2022-07-01T19:02:21.494Z"
   },
   {
    "duration": 296,
    "start_time": "2022-07-01T19:02:21.514Z"
   },
   {
    "duration": 18,
    "start_time": "2022-07-01T19:02:21.812Z"
   },
   {
    "duration": 152,
    "start_time": "2022-07-01T19:02:21.832Z"
   },
   {
    "duration": 4,
    "start_time": "2022-07-01T19:02:21.987Z"
   },
   {
    "duration": 166,
    "start_time": "2022-07-01T19:02:21.992Z"
   },
   {
    "duration": 4,
    "start_time": "2022-07-01T19:02:22.160Z"
   },
   {
    "duration": 35,
    "start_time": "2022-07-01T19:02:22.165Z"
   },
   {
    "duration": 44,
    "start_time": "2022-07-01T19:02:22.201Z"
   },
   {
    "duration": 9,
    "start_time": "2022-07-01T19:02:22.246Z"
   },
   {
    "duration": 12,
    "start_time": "2022-07-01T19:02:22.257Z"
   },
   {
    "duration": 42,
    "start_time": "2022-07-01T19:02:22.271Z"
   },
   {
    "duration": 25,
    "start_time": "2022-07-01T19:02:22.316Z"
   },
   {
    "duration": 24,
    "start_time": "2022-07-01T19:02:22.343Z"
   },
   {
    "duration": 20,
    "start_time": "2022-07-01T19:02:22.369Z"
   },
   {
    "duration": 15,
    "start_time": "2022-07-01T19:02:22.391Z"
   },
   {
    "duration": 28,
    "start_time": "2022-07-01T19:02:22.408Z"
   },
   {
    "duration": 26,
    "start_time": "2022-07-01T19:02:22.438Z"
   },
   {
    "duration": 8,
    "start_time": "2022-07-01T19:02:22.466Z"
   },
   {
    "duration": 10,
    "start_time": "2022-07-01T19:02:22.476Z"
   },
   {
    "duration": 21,
    "start_time": "2022-07-01T19:02:22.488Z"
   },
   {
    "duration": 302,
    "start_time": "2022-07-01T19:04:45.682Z"
   },
   {
    "duration": 474,
    "start_time": "2022-07-01T19:04:58.602Z"
   },
   {
    "duration": 399,
    "start_time": "2022-07-01T19:05:09.109Z"
   },
   {
    "duration": 288,
    "start_time": "2022-07-01T19:05:25.576Z"
   },
   {
    "duration": 300,
    "start_time": "2022-07-01T19:05:31.905Z"
   },
   {
    "duration": 226,
    "start_time": "2022-07-01T19:05:41.073Z"
   },
   {
    "duration": 205,
    "start_time": "2022-07-01T19:06:07.814Z"
   },
   {
    "duration": 224,
    "start_time": "2022-07-01T19:06:19.724Z"
   },
   {
    "duration": 199,
    "start_time": "2022-07-01T19:06:38.855Z"
   },
   {
    "duration": 189,
    "start_time": "2022-07-01T19:07:04.919Z"
   },
   {
    "duration": 201,
    "start_time": "2022-07-01T19:07:18.601Z"
   },
   {
    "duration": 197,
    "start_time": "2022-07-01T19:07:29.185Z"
   },
   {
    "duration": 296,
    "start_time": "2022-07-01T19:07:47.944Z"
   },
   {
    "duration": 198,
    "start_time": "2022-07-01T19:08:08.070Z"
   },
   {
    "duration": 213,
    "start_time": "2022-07-01T19:08:28.286Z"
   },
   {
    "duration": 262,
    "start_time": "2022-07-01T19:08:54.581Z"
   },
   {
    "duration": 193,
    "start_time": "2022-07-01T19:09:09.270Z"
   },
   {
    "duration": 219,
    "start_time": "2022-07-01T19:09:31.130Z"
   },
   {
    "duration": 234,
    "start_time": "2022-07-01T19:09:41.319Z"
   },
   {
    "duration": 193,
    "start_time": "2022-07-01T19:09:47.891Z"
   },
   {
    "duration": 231,
    "start_time": "2022-07-01T19:10:01.433Z"
   },
   {
    "duration": 262,
    "start_time": "2022-07-01T19:10:17.850Z"
   },
   {
    "duration": 293,
    "start_time": "2022-07-01T19:11:39.553Z"
   },
   {
    "duration": 291,
    "start_time": "2022-07-01T19:11:48.443Z"
   },
   {
    "duration": 328,
    "start_time": "2022-07-01T19:11:53.709Z"
   },
   {
    "duration": 315,
    "start_time": "2022-07-01T19:12:13.795Z"
   },
   {
    "duration": 308,
    "start_time": "2022-07-01T19:12:50.495Z"
   },
   {
    "duration": 181,
    "start_time": "2022-07-01T19:12:55.743Z"
   },
   {
    "duration": 199,
    "start_time": "2022-07-01T19:14:24.768Z"
   },
   {
    "duration": 198,
    "start_time": "2022-07-01T19:14:29.197Z"
   },
   {
    "duration": 231,
    "start_time": "2022-07-01T19:15:37.726Z"
   },
   {
    "duration": 288,
    "start_time": "2022-07-01T19:15:53.714Z"
   },
   {
    "duration": 271,
    "start_time": "2022-07-01T19:16:03.081Z"
   },
   {
    "duration": 326,
    "start_time": "2022-07-01T19:17:01.994Z"
   },
   {
    "duration": 307,
    "start_time": "2022-07-01T19:17:07.684Z"
   },
   {
    "duration": 270,
    "start_time": "2022-07-01T19:17:15.843Z"
   },
   {
    "duration": 52,
    "start_time": "2022-07-01T19:18:02.682Z"
   },
   {
    "duration": 307,
    "start_time": "2022-07-01T19:18:13.785Z"
   },
   {
    "duration": 162,
    "start_time": "2022-07-01T19:21:42.776Z"
   },
   {
    "duration": 155,
    "start_time": "2022-07-01T19:21:46.251Z"
   },
   {
    "duration": 307,
    "start_time": "2022-07-01T19:22:10.188Z"
   },
   {
    "duration": 263,
    "start_time": "2022-07-01T19:22:15.565Z"
   },
   {
    "duration": 264,
    "start_time": "2022-07-01T19:22:22.465Z"
   },
   {
    "duration": 158,
    "start_time": "2022-07-01T19:22:58.459Z"
   },
   {
    "duration": 192,
    "start_time": "2022-07-01T19:23:01.531Z"
   },
   {
    "duration": 396,
    "start_time": "2022-07-01T19:25:05.532Z"
   },
   {
    "duration": 157,
    "start_time": "2022-07-01T19:25:12.374Z"
   },
   {
    "duration": 49,
    "start_time": "2022-07-01T19:25:18.172Z"
   },
   {
    "duration": 155,
    "start_time": "2022-07-01T19:25:22.879Z"
   },
   {
    "duration": 80,
    "start_time": "2022-07-01T19:26:14.708Z"
   },
   {
    "duration": 168,
    "start_time": "2022-07-01T19:26:20.031Z"
   },
   {
    "duration": 158,
    "start_time": "2022-07-01T19:26:29.527Z"
   },
   {
    "duration": 14,
    "start_time": "2022-07-01T19:26:44.284Z"
   },
   {
    "duration": 15,
    "start_time": "2022-07-01T19:27:07.499Z"
   },
   {
    "duration": 68,
    "start_time": "2022-07-01T19:27:12.865Z"
   },
   {
    "duration": 21,
    "start_time": "2022-07-01T19:27:38.315Z"
   },
   {
    "duration": 13,
    "start_time": "2022-07-01T19:27:49.060Z"
   },
   {
    "duration": 46,
    "start_time": "2022-07-01T19:29:10.479Z"
   },
   {
    "duration": 12,
    "start_time": "2022-07-01T19:29:17.254Z"
   },
   {
    "duration": 12,
    "start_time": "2022-07-01T19:30:10.910Z"
   },
   {
    "duration": 13,
    "start_time": "2022-07-01T19:30:17.526Z"
   },
   {
    "duration": 12,
    "start_time": "2022-07-01T19:30:33.429Z"
   },
   {
    "duration": 178,
    "start_time": "2022-07-01T19:30:42.572Z"
   },
   {
    "duration": 164,
    "start_time": "2022-07-01T19:30:47.082Z"
   },
   {
    "duration": 194,
    "start_time": "2022-07-01T19:30:54.361Z"
   },
   {
    "duration": 170,
    "start_time": "2022-07-01T19:31:00.925Z"
   },
   {
    "duration": 160,
    "start_time": "2022-07-01T19:31:18.739Z"
   },
   {
    "duration": 147,
    "start_time": "2022-07-01T19:31:25.524Z"
   },
   {
    "duration": 158,
    "start_time": "2022-07-01T19:32:18.110Z"
   },
   {
    "duration": 13,
    "start_time": "2022-07-01T19:34:13.282Z"
   },
   {
    "duration": 12,
    "start_time": "2022-07-01T19:34:19.212Z"
   },
   {
    "duration": 6,
    "start_time": "2022-07-01T19:34:23.726Z"
   },
   {
    "duration": 7,
    "start_time": "2022-07-01T19:34:35.105Z"
   },
   {
    "duration": 7,
    "start_time": "2022-07-01T19:35:19.371Z"
   },
   {
    "duration": 5,
    "start_time": "2022-07-01T19:36:36.131Z"
   },
   {
    "duration": 8,
    "start_time": "2022-07-01T19:36:42.342Z"
   },
   {
    "duration": 559,
    "start_time": "2022-07-01T19:37:09.369Z"
   },
   {
    "duration": 5,
    "start_time": "2022-07-01T19:37:27.667Z"
   },
   {
    "duration": 9,
    "start_time": "2022-07-01T19:37:33.505Z"
   },
   {
    "duration": 7,
    "start_time": "2022-07-01T19:39:12.643Z"
   },
   {
    "duration": 5,
    "start_time": "2022-07-01T19:39:32.890Z"
   },
   {
    "duration": 7,
    "start_time": "2022-07-01T19:39:39.805Z"
   },
   {
    "duration": 7,
    "start_time": "2022-07-01T19:39:46.505Z"
   },
   {
    "duration": 7,
    "start_time": "2022-07-01T19:39:50.371Z"
   },
   {
    "duration": 5,
    "start_time": "2022-07-01T19:40:07.510Z"
   },
   {
    "duration": 7,
    "start_time": "2022-07-01T19:40:12.861Z"
   },
   {
    "duration": 8,
    "start_time": "2022-07-01T19:40:31.236Z"
   },
   {
    "duration": 6,
    "start_time": "2022-07-01T19:43:49.773Z"
   },
   {
    "duration": 10,
    "start_time": "2022-07-01T19:43:55.074Z"
   },
   {
    "duration": 16,
    "start_time": "2022-07-01T19:45:30.145Z"
   },
   {
    "duration": 14,
    "start_time": "2022-07-01T19:45:41.939Z"
   },
   {
    "duration": 19,
    "start_time": "2022-07-01T19:45:49.017Z"
   },
   {
    "duration": 13,
    "start_time": "2022-07-01T19:45:55.841Z"
   },
   {
    "duration": 3,
    "start_time": "2022-07-01T19:47:52.296Z"
   },
   {
    "duration": 4,
    "start_time": "2022-07-01T19:47:58.789Z"
   },
   {
    "duration": 4,
    "start_time": "2022-07-01T19:48:03.108Z"
   },
   {
    "duration": 11,
    "start_time": "2022-07-01T19:48:30.280Z"
   },
   {
    "duration": 6,
    "start_time": "2022-07-01T19:50:27.610Z"
   },
   {
    "duration": 58,
    "start_time": "2022-07-01T19:50:56.418Z"
   },
   {
    "duration": 7,
    "start_time": "2022-07-01T19:51:01.340Z"
   },
   {
    "duration": 5,
    "start_time": "2022-07-01T19:51:16.971Z"
   },
   {
    "duration": 9,
    "start_time": "2022-07-01T19:51:30.239Z"
   },
   {
    "duration": 5,
    "start_time": "2022-07-01T19:53:09.173Z"
   },
   {
    "duration": 13,
    "start_time": "2022-07-01T19:53:13.321Z"
   },
   {
    "duration": 12,
    "start_time": "2022-07-01T19:53:31.616Z"
   },
   {
    "duration": 12,
    "start_time": "2022-07-01T19:53:35.896Z"
   },
   {
    "duration": 12,
    "start_time": "2022-07-01T19:53:52.924Z"
   },
   {
    "duration": 14,
    "start_time": "2022-07-01T19:54:09.216Z"
   },
   {
    "duration": 57,
    "start_time": "2022-07-01T19:54:15.893Z"
   },
   {
    "duration": 14,
    "start_time": "2022-07-01T19:54:19.226Z"
   },
   {
    "duration": 11,
    "start_time": "2022-07-01T19:55:24.522Z"
   },
   {
    "duration": 17,
    "start_time": "2022-07-01T19:55:38.796Z"
   },
   {
    "duration": 849,
    "start_time": "2022-07-01T19:55:54.205Z"
   },
   {
    "duration": 803,
    "start_time": "2022-07-01T19:55:58.097Z"
   },
   {
    "duration": 7,
    "start_time": "2022-07-01T19:56:01.842Z"
   },
   {
    "duration": 17,
    "start_time": "2022-07-01T19:56:12.152Z"
   },
   {
    "duration": 14,
    "start_time": "2022-07-01T19:56:19.600Z"
   },
   {
    "duration": 469,
    "start_time": "2022-07-01T20:00:02.207Z"
   },
   {
    "duration": 14,
    "start_time": "2022-07-01T20:00:23.078Z"
   },
   {
    "duration": 10,
    "start_time": "2022-07-01T20:00:33.797Z"
   },
   {
    "duration": 9,
    "start_time": "2022-07-01T20:00:40.713Z"
   },
   {
    "duration": 8,
    "start_time": "2022-07-01T20:00:44.614Z"
   },
   {
    "duration": 11,
    "start_time": "2022-07-01T20:00:50.152Z"
   },
   {
    "duration": 405,
    "start_time": "2022-07-01T20:01:04.305Z"
   },
   {
    "duration": 15,
    "start_time": "2022-07-01T20:02:38.435Z"
   },
   {
    "duration": 12,
    "start_time": "2022-07-01T20:03:11.488Z"
   },
   {
    "duration": 6,
    "start_time": "2022-07-01T20:03:43.589Z"
   },
   {
    "duration": 14,
    "start_time": "2022-07-01T20:03:46.417Z"
   },
   {
    "duration": 13,
    "start_time": "2022-07-01T20:04:05.585Z"
   },
   {
    "duration": 15,
    "start_time": "2022-07-01T20:04:19.042Z"
   },
   {
    "duration": 14,
    "start_time": "2022-07-01T20:04:56.378Z"
   },
   {
    "duration": 15,
    "start_time": "2022-07-01T20:05:10.974Z"
   },
   {
    "duration": 11,
    "start_time": "2022-07-01T20:06:36.581Z"
   },
   {
    "duration": 10,
    "start_time": "2022-07-01T20:06:44.803Z"
   },
   {
    "duration": 11,
    "start_time": "2022-07-01T20:06:52.278Z"
   },
   {
    "duration": 6,
    "start_time": "2022-07-01T20:06:56.492Z"
   },
   {
    "duration": 11,
    "start_time": "2022-07-01T20:09:45.871Z"
   },
   {
    "duration": 18,
    "start_time": "2022-07-01T20:10:10.235Z"
   },
   {
    "duration": 17,
    "start_time": "2022-07-01T20:10:19.820Z"
   },
   {
    "duration": 14,
    "start_time": "2022-07-01T20:10:47.342Z"
   },
   {
    "duration": 19,
    "start_time": "2022-07-01T20:10:57.544Z"
   },
   {
    "duration": 22,
    "start_time": "2022-07-01T20:11:14.373Z"
   },
   {
    "duration": 19,
    "start_time": "2022-07-01T20:11:40.175Z"
   },
   {
    "duration": 22,
    "start_time": "2022-07-01T20:11:45.950Z"
   },
   {
    "duration": 14,
    "start_time": "2022-07-01T20:11:49.210Z"
   },
   {
    "duration": 17,
    "start_time": "2022-07-01T20:12:07.670Z"
   },
   {
    "duration": 18,
    "start_time": "2022-07-01T20:12:21.636Z"
   },
   {
    "duration": 15,
    "start_time": "2022-07-01T20:12:38.578Z"
   },
   {
    "duration": 23,
    "start_time": "2022-07-01T20:14:02.935Z"
   },
   {
    "duration": 16,
    "start_time": "2022-07-01T20:14:46.864Z"
   },
   {
    "duration": 1530,
    "start_time": "2022-07-01T20:15:24.575Z"
   },
   {
    "duration": 33,
    "start_time": "2022-07-01T20:15:36.019Z"
   },
   {
    "duration": 20,
    "start_time": "2022-07-01T20:16:47.821Z"
   },
   {
    "duration": 1092,
    "start_time": "2022-07-01T20:17:14.292Z"
   },
   {
    "duration": 15,
    "start_time": "2022-07-01T20:17:27.087Z"
   },
   {
    "duration": 17,
    "start_time": "2022-07-01T20:17:40.021Z"
   },
   {
    "duration": 20,
    "start_time": "2022-07-01T20:17:55.323Z"
   },
   {
    "duration": 23,
    "start_time": "2022-07-01T20:18:40.624Z"
   },
   {
    "duration": 13,
    "start_time": "2022-07-01T20:18:48.949Z"
   },
   {
    "duration": 7,
    "start_time": "2022-07-01T20:23:25.360Z"
   },
   {
    "duration": 12,
    "start_time": "2022-07-01T20:23:30.014Z"
   },
   {
    "duration": 13,
    "start_time": "2022-07-01T20:24:14.941Z"
   },
   {
    "duration": 212,
    "start_time": "2022-07-01T20:24:45.192Z"
   },
   {
    "duration": 13,
    "start_time": "2022-07-01T20:25:33.550Z"
   },
   {
    "duration": 17,
    "start_time": "2022-07-01T20:25:44.990Z"
   },
   {
    "duration": 223,
    "start_time": "2022-07-01T20:26:09.527Z"
   },
   {
    "duration": 6,
    "start_time": "2022-07-01T20:26:16.331Z"
   },
   {
    "duration": 13,
    "start_time": "2022-07-01T20:26:19.422Z"
   },
   {
    "duration": 7,
    "start_time": "2022-07-01T20:26:36.026Z"
   },
   {
    "duration": 7,
    "start_time": "2022-07-01T20:27:00.187Z"
   },
   {
    "duration": 4,
    "start_time": "2022-07-01T20:27:13.435Z"
   },
   {
    "duration": 7,
    "start_time": "2022-07-01T20:27:18.914Z"
   },
   {
    "duration": 13,
    "start_time": "2022-07-01T20:28:06.475Z"
   },
   {
    "duration": 7,
    "start_time": "2022-07-01T20:28:10.975Z"
   },
   {
    "duration": 10,
    "start_time": "2022-07-01T20:28:51.399Z"
   },
   {
    "duration": 13,
    "start_time": "2022-07-01T20:30:06.538Z"
   },
   {
    "duration": 12,
    "start_time": "2022-07-01T20:30:30.477Z"
   },
   {
    "duration": 13,
    "start_time": "2022-07-01T20:30:51.381Z"
   },
   {
    "duration": 6,
    "start_time": "2022-07-01T20:30:59.302Z"
   },
   {
    "duration": 13,
    "start_time": "2022-07-01T20:31:08.210Z"
   },
   {
    "duration": 11,
    "start_time": "2022-07-01T20:31:53.449Z"
   },
   {
    "duration": 21,
    "start_time": "2022-07-01T20:31:59.275Z"
   },
   {
    "duration": 7,
    "start_time": "2022-07-01T20:33:14.051Z"
   },
   {
    "duration": 5,
    "start_time": "2022-07-01T20:33:52.010Z"
   },
   {
    "duration": 86,
    "start_time": "2022-07-01T20:33:58.519Z"
   },
   {
    "duration": 331,
    "start_time": "2022-07-01T20:34:17.574Z"
   },
   {
    "duration": 98,
    "start_time": "2022-07-01T20:34:27.201Z"
   },
   {
    "duration": 95,
    "start_time": "2022-07-01T20:34:32.978Z"
   },
   {
    "duration": 101,
    "start_time": "2022-07-01T20:34:45.290Z"
   },
   {
    "duration": 111,
    "start_time": "2022-07-01T20:34:55.919Z"
   },
   {
    "duration": 96,
    "start_time": "2022-07-01T20:35:09.007Z"
   },
   {
    "duration": 82,
    "start_time": "2022-07-01T20:35:36.540Z"
   },
   {
    "duration": 95,
    "start_time": "2022-07-01T20:35:41.309Z"
   },
   {
    "duration": 91,
    "start_time": "2022-07-01T20:35:47.050Z"
   },
   {
    "duration": 90,
    "start_time": "2022-07-01T20:35:55.174Z"
   },
   {
    "duration": 110,
    "start_time": "2022-07-01T20:36:05.205Z"
   },
   {
    "duration": 127,
    "start_time": "2022-07-01T20:36:16.926Z"
   },
   {
    "duration": 97,
    "start_time": "2022-07-01T20:36:31.116Z"
   },
   {
    "duration": 109,
    "start_time": "2022-07-01T20:36:39.299Z"
   },
   {
    "duration": 117,
    "start_time": "2022-07-01T20:38:26.575Z"
   },
   {
    "duration": 299,
    "start_time": "2022-07-01T20:38:35.670Z"
   },
   {
    "duration": 367,
    "start_time": "2022-07-01T20:38:40.746Z"
   },
   {
    "duration": 100,
    "start_time": "2022-07-01T20:38:58.575Z"
   },
   {
    "duration": 109,
    "start_time": "2022-07-01T20:39:27.077Z"
   },
   {
    "duration": 94,
    "start_time": "2022-07-01T20:39:38.158Z"
   },
   {
    "duration": 90,
    "start_time": "2022-07-01T20:40:09.596Z"
   },
   {
    "duration": 110,
    "start_time": "2022-07-01T20:40:13.578Z"
   },
   {
    "duration": 99,
    "start_time": "2022-07-01T20:40:32.277Z"
   },
   {
    "duration": 110,
    "start_time": "2022-07-01T20:42:41.727Z"
   },
   {
    "duration": 89,
    "start_time": "2022-07-01T20:43:27.766Z"
   },
   {
    "duration": 91,
    "start_time": "2022-07-01T20:43:56.980Z"
   },
   {
    "duration": 111,
    "start_time": "2022-07-01T20:44:53.509Z"
   },
   {
    "duration": 75,
    "start_time": "2022-07-01T20:45:56.031Z"
   },
   {
    "duration": 86,
    "start_time": "2022-07-01T20:46:04.898Z"
   },
   {
    "duration": 83,
    "start_time": "2022-07-01T20:46:37.185Z"
   },
   {
    "duration": 12,
    "start_time": "2022-07-01T20:51:22.217Z"
   },
   {
    "duration": 12,
    "start_time": "2022-07-01T20:51:38.479Z"
   },
   {
    "duration": 12,
    "start_time": "2022-07-01T20:51:43.652Z"
   },
   {
    "duration": 12,
    "start_time": "2022-07-01T20:51:52.056Z"
   },
   {
    "duration": 82,
    "start_time": "2022-07-01T20:53:03.678Z"
   },
   {
    "duration": 90,
    "start_time": "2022-07-01T20:53:24.862Z"
   },
   {
    "duration": 1084,
    "start_time": "2022-07-01T20:53:54.712Z"
   },
   {
    "duration": 31,
    "start_time": "2022-07-01T20:53:55.798Z"
   },
   {
    "duration": 3,
    "start_time": "2022-07-01T20:53:55.831Z"
   },
   {
    "duration": 6,
    "start_time": "2022-07-01T20:53:55.836Z"
   },
   {
    "duration": 14,
    "start_time": "2022-07-01T20:53:55.844Z"
   },
   {
    "duration": 7,
    "start_time": "2022-07-01T20:53:55.860Z"
   },
   {
    "duration": 56,
    "start_time": "2022-07-01T20:53:55.869Z"
   },
   {
    "duration": 4,
    "start_time": "2022-07-01T20:53:55.927Z"
   },
   {
    "duration": 16,
    "start_time": "2022-07-01T20:53:55.933Z"
   },
   {
    "duration": 21,
    "start_time": "2022-07-01T20:53:55.951Z"
   },
   {
    "duration": 13,
    "start_time": "2022-07-01T20:53:55.973Z"
   },
   {
    "duration": 201,
    "start_time": "2022-07-01T20:53:55.987Z"
   },
   {
    "duration": 150,
    "start_time": "2022-07-01T20:53:56.189Z"
   },
   {
    "duration": 132,
    "start_time": "2022-07-01T20:53:56.340Z"
   },
   {
    "duration": 12,
    "start_time": "2022-07-01T20:53:56.474Z"
   },
   {
    "duration": 17,
    "start_time": "2022-07-01T20:53:56.488Z"
   },
   {
    "duration": 296,
    "start_time": "2022-07-01T20:53:56.506Z"
   },
   {
    "duration": 204,
    "start_time": "2022-07-01T20:53:56.803Z"
   },
   {
    "duration": 7,
    "start_time": "2022-07-01T20:53:57.009Z"
   },
   {
    "duration": 310,
    "start_time": "2022-07-01T20:53:57.018Z"
   },
   {
    "duration": 4,
    "start_time": "2022-07-01T20:53:57.329Z"
   },
   {
    "duration": 26,
    "start_time": "2022-07-01T20:53:57.335Z"
   },
   {
    "duration": 205,
    "start_time": "2022-07-01T20:53:57.363Z"
   },
   {
    "duration": 13,
    "start_time": "2022-07-01T20:53:57.570Z"
   },
   {
    "duration": 332,
    "start_time": "2022-07-01T20:53:57.585Z"
   },
   {
    "duration": 18,
    "start_time": "2022-07-01T20:53:57.919Z"
   },
   {
    "duration": 159,
    "start_time": "2022-07-01T20:53:57.938Z"
   },
   {
    "duration": 5,
    "start_time": "2022-07-01T20:53:58.100Z"
   },
   {
    "duration": 166,
    "start_time": "2022-07-01T20:53:58.106Z"
   },
   {
    "duration": 170,
    "start_time": "2022-07-01T20:53:58.274Z"
   },
   {
    "duration": 4,
    "start_time": "2022-07-01T20:53:58.445Z"
   },
   {
    "duration": 107,
    "start_time": "2022-07-01T20:53:58.451Z"
   },
   {
    "duration": 12,
    "start_time": "2022-07-01T20:53:58.559Z"
   },
   {
    "duration": 118,
    "start_time": "2022-07-01T20:53:58.572Z"
   },
   {
    "duration": 39,
    "start_time": "2022-07-01T20:53:58.692Z"
   },
   {
    "duration": 7,
    "start_time": "2022-07-01T20:53:58.733Z"
   },
   {
    "duration": 11,
    "start_time": "2022-07-01T20:53:58.742Z"
   },
   {
    "duration": 32,
    "start_time": "2022-07-01T20:53:58.754Z"
   },
   {
    "duration": 9,
    "start_time": "2022-07-01T20:53:58.787Z"
   },
   {
    "duration": 11,
    "start_time": "2022-07-01T20:53:58.798Z"
   },
   {
    "duration": 18,
    "start_time": "2022-07-01T20:53:58.810Z"
   },
   {
    "duration": 13,
    "start_time": "2022-07-01T20:53:58.829Z"
   },
   {
    "duration": 31,
    "start_time": "2022-07-01T20:53:58.844Z"
   },
   {
    "duration": 49,
    "start_time": "2022-07-01T20:53:58.877Z"
   },
   {
    "duration": 9,
    "start_time": "2022-07-01T20:53:58.928Z"
   },
   {
    "duration": 6,
    "start_time": "2022-07-01T20:53:58.939Z"
   },
   {
    "duration": 12,
    "start_time": "2022-07-01T20:53:58.946Z"
   },
   {
    "duration": 9,
    "start_time": "2022-07-01T20:55:23.540Z"
   },
   {
    "duration": 1026,
    "start_time": "2022-07-01T20:56:25.883Z"
   },
   {
    "duration": 33,
    "start_time": "2022-07-01T20:56:26.911Z"
   },
   {
    "duration": 4,
    "start_time": "2022-07-01T20:56:26.946Z"
   },
   {
    "duration": 10,
    "start_time": "2022-07-01T20:56:26.952Z"
   },
   {
    "duration": 14,
    "start_time": "2022-07-01T20:56:26.963Z"
   },
   {
    "duration": 8,
    "start_time": "2022-07-01T20:56:26.979Z"
   },
   {
    "duration": 55,
    "start_time": "2022-07-01T20:56:26.988Z"
   },
   {
    "duration": 4,
    "start_time": "2022-07-01T20:56:27.045Z"
   },
   {
    "duration": 17,
    "start_time": "2022-07-01T20:56:27.050Z"
   },
   {
    "duration": 15,
    "start_time": "2022-07-01T20:56:27.070Z"
   },
   {
    "duration": 10,
    "start_time": "2022-07-01T20:56:27.086Z"
   },
   {
    "duration": 226,
    "start_time": "2022-07-01T20:56:27.097Z"
   },
   {
    "duration": 137,
    "start_time": "2022-07-01T20:56:27.325Z"
   },
   {
    "duration": 139,
    "start_time": "2022-07-01T20:56:27.463Z"
   },
   {
    "duration": 12,
    "start_time": "2022-07-01T20:56:27.604Z"
   },
   {
    "duration": 14,
    "start_time": "2022-07-01T20:56:27.626Z"
   },
   {
    "duration": 293,
    "start_time": "2022-07-01T20:56:27.641Z"
   },
   {
    "duration": 209,
    "start_time": "2022-07-01T20:56:27.935Z"
   },
   {
    "duration": 6,
    "start_time": "2022-07-01T20:56:28.145Z"
   },
   {
    "duration": 299,
    "start_time": "2022-07-01T20:56:28.153Z"
   },
   {
    "duration": 5,
    "start_time": "2022-07-01T20:56:28.454Z"
   },
   {
    "duration": 36,
    "start_time": "2022-07-01T20:56:28.460Z"
   },
   {
    "duration": 209,
    "start_time": "2022-07-01T20:56:28.497Z"
   },
   {
    "duration": 19,
    "start_time": "2022-07-01T20:56:28.707Z"
   },
   {
    "duration": 318,
    "start_time": "2022-07-01T20:56:28.728Z"
   },
   {
    "duration": 14,
    "start_time": "2022-07-01T20:56:29.048Z"
   },
   {
    "duration": 174,
    "start_time": "2022-07-01T20:56:29.063Z"
   },
   {
    "duration": 4,
    "start_time": "2022-07-01T20:56:29.241Z"
   },
   {
    "duration": 173,
    "start_time": "2022-07-01T20:56:29.246Z"
   },
   {
    "duration": 166,
    "start_time": "2022-07-01T20:56:29.425Z"
   },
   {
    "duration": 5,
    "start_time": "2022-07-01T20:56:29.592Z"
   },
   {
    "duration": 106,
    "start_time": "2022-07-01T20:56:29.598Z"
   },
   {
    "duration": 9,
    "start_time": "2022-07-01T20:56:29.705Z"
   },
   {
    "duration": 112,
    "start_time": "2022-07-01T20:56:29.727Z"
   },
   {
    "duration": 29,
    "start_time": "2022-07-01T20:56:29.841Z"
   },
   {
    "duration": 9,
    "start_time": "2022-07-01T20:56:29.872Z"
   },
   {
    "duration": 9,
    "start_time": "2022-07-01T20:56:29.883Z"
   },
   {
    "duration": 40,
    "start_time": "2022-07-01T20:56:29.894Z"
   },
   {
    "duration": 10,
    "start_time": "2022-07-01T20:56:29.936Z"
   },
   {
    "duration": 10,
    "start_time": "2022-07-01T20:56:29.948Z"
   },
   {
    "duration": 16,
    "start_time": "2022-07-01T20:56:29.960Z"
   },
   {
    "duration": 26,
    "start_time": "2022-07-01T20:56:29.977Z"
   },
   {
    "duration": 42,
    "start_time": "2022-07-01T20:56:30.005Z"
   },
   {
    "duration": 39,
    "start_time": "2022-07-01T20:56:30.049Z"
   },
   {
    "duration": 9,
    "start_time": "2022-07-01T20:56:30.090Z"
   },
   {
    "duration": 26,
    "start_time": "2022-07-01T20:56:30.101Z"
   },
   {
    "duration": 11,
    "start_time": "2022-07-01T20:56:30.130Z"
   },
   {
    "duration": 61,
    "start_time": "2022-07-01T21:03:16.100Z"
   },
   {
    "duration": 1131,
    "start_time": "2022-07-01T21:08:01.962Z"
   },
   {
    "duration": 33,
    "start_time": "2022-07-01T21:08:03.095Z"
   },
   {
    "duration": 4,
    "start_time": "2022-07-01T21:08:03.130Z"
   },
   {
    "duration": 12,
    "start_time": "2022-07-01T21:08:03.136Z"
   },
   {
    "duration": 18,
    "start_time": "2022-07-01T21:08:03.150Z"
   },
   {
    "duration": 11,
    "start_time": "2022-07-01T21:08:03.170Z"
   },
   {
    "duration": 61,
    "start_time": "2022-07-01T21:08:03.183Z"
   },
   {
    "duration": 6,
    "start_time": "2022-07-01T21:08:03.246Z"
   },
   {
    "duration": 23,
    "start_time": "2022-07-01T21:08:03.254Z"
   },
   {
    "duration": 13,
    "start_time": "2022-07-01T21:08:03.280Z"
   },
   {
    "duration": 32,
    "start_time": "2022-07-01T21:08:03.294Z"
   },
   {
    "duration": 216,
    "start_time": "2022-07-01T21:08:03.328Z"
   },
   {
    "duration": 145,
    "start_time": "2022-07-01T21:08:03.546Z"
   },
   {
    "duration": 124,
    "start_time": "2022-07-01T21:08:03.693Z"
   },
   {
    "duration": 16,
    "start_time": "2022-07-01T21:08:03.819Z"
   },
   {
    "duration": 15,
    "start_time": "2022-07-01T21:08:03.836Z"
   },
   {
    "duration": 300,
    "start_time": "2022-07-01T21:08:03.852Z"
   },
   {
    "duration": 235,
    "start_time": "2022-07-01T21:08:04.153Z"
   },
   {
    "duration": 13,
    "start_time": "2022-07-01T21:08:04.390Z"
   },
   {
    "duration": 369,
    "start_time": "2022-07-01T21:08:04.405Z"
   },
   {
    "duration": 7,
    "start_time": "2022-07-01T21:08:04.776Z"
   },
   {
    "duration": 29,
    "start_time": "2022-07-01T21:08:04.785Z"
   },
   {
    "duration": 213,
    "start_time": "2022-07-01T21:08:04.816Z"
   },
   {
    "duration": 15,
    "start_time": "2022-07-01T21:08:05.031Z"
   },
   {
    "duration": 293,
    "start_time": "2022-07-01T21:08:05.047Z"
   },
   {
    "duration": 14,
    "start_time": "2022-07-01T21:08:05.341Z"
   },
   {
    "duration": 174,
    "start_time": "2022-07-01T21:08:05.357Z"
   },
   {
    "duration": 5,
    "start_time": "2022-07-01T21:08:05.535Z"
   },
   {
    "duration": 172,
    "start_time": "2022-07-01T21:08:05.542Z"
   },
   {
    "duration": 171,
    "start_time": "2022-07-01T21:08:05.715Z"
   },
   {
    "duration": 4,
    "start_time": "2022-07-01T21:08:05.888Z"
   },
   {
    "duration": 104,
    "start_time": "2022-07-01T21:08:05.893Z"
   },
   {
    "duration": 10,
    "start_time": "2022-07-01T21:08:05.998Z"
   },
   {
    "duration": 127,
    "start_time": "2022-07-01T21:08:06.009Z"
   },
   {
    "duration": 29,
    "start_time": "2022-07-01T21:08:06.138Z"
   },
   {
    "duration": 9,
    "start_time": "2022-07-01T21:08:06.169Z"
   },
   {
    "duration": 5,
    "start_time": "2022-07-01T21:08:06.180Z"
   },
   {
    "duration": 45,
    "start_time": "2022-07-01T21:08:06.186Z"
   },
   {
    "duration": 11,
    "start_time": "2022-07-01T21:08:06.233Z"
   },
   {
    "duration": 11,
    "start_time": "2022-07-01T21:08:06.245Z"
   },
   {
    "duration": 12,
    "start_time": "2022-07-01T21:08:06.258Z"
   },
   {
    "duration": 16,
    "start_time": "2022-07-01T21:08:06.272Z"
   },
   {
    "duration": 53,
    "start_time": "2022-07-01T21:08:06.290Z"
   },
   {
    "duration": 27,
    "start_time": "2022-07-01T21:08:06.345Z"
   },
   {
    "duration": 10,
    "start_time": "2022-07-01T21:08:06.374Z"
   },
   {
    "duration": 9,
    "start_time": "2022-07-01T21:08:06.386Z"
   },
   {
    "duration": 35,
    "start_time": "2022-07-01T21:08:06.397Z"
   },
   {
    "duration": 232,
    "start_time": "2022-07-01T21:10:59.256Z"
   },
   {
    "duration": 227,
    "start_time": "2022-07-01T21:11:08.178Z"
   },
   {
    "duration": 333,
    "start_time": "2022-07-01T21:11:15.224Z"
   },
   {
    "duration": 221,
    "start_time": "2022-07-01T21:11:23.972Z"
   },
   {
    "duration": 282,
    "start_time": "2022-07-01T21:11:31.757Z"
   },
   {
    "duration": 325,
    "start_time": "2022-07-01T21:11:39.240Z"
   },
   {
    "duration": 165,
    "start_time": "2022-07-01T21:11:52.445Z"
   },
   {
    "duration": 173,
    "start_time": "2022-07-01T21:12:03.967Z"
   },
   {
    "duration": 191,
    "start_time": "2022-07-01T21:12:09.651Z"
   },
   {
    "duration": 1101,
    "start_time": "2022-07-02T08:39:02.174Z"
   },
   {
    "duration": 31,
    "start_time": "2022-07-02T08:39:03.277Z"
   },
   {
    "duration": 3,
    "start_time": "2022-07-02T08:39:03.310Z"
   },
   {
    "duration": 12,
    "start_time": "2022-07-02T08:39:03.315Z"
   },
   {
    "duration": 19,
    "start_time": "2022-07-02T08:39:03.328Z"
   },
   {
    "duration": 23,
    "start_time": "2022-07-02T08:39:03.349Z"
   },
   {
    "duration": 47,
    "start_time": "2022-07-02T08:39:03.373Z"
   },
   {
    "duration": 4,
    "start_time": "2022-07-02T08:39:03.421Z"
   },
   {
    "duration": 36,
    "start_time": "2022-07-02T08:39:03.426Z"
   },
   {
    "duration": 22,
    "start_time": "2022-07-02T08:39:03.464Z"
   },
   {
    "duration": 12,
    "start_time": "2022-07-02T08:39:03.488Z"
   },
   {
    "duration": 189,
    "start_time": "2022-07-02T08:39:03.502Z"
   },
   {
    "duration": 137,
    "start_time": "2022-07-02T08:39:03.693Z"
   },
   {
    "duration": 145,
    "start_time": "2022-07-02T08:39:03.835Z"
   },
   {
    "duration": 12,
    "start_time": "2022-07-02T08:39:03.981Z"
   },
   {
    "duration": 24,
    "start_time": "2022-07-02T08:39:03.995Z"
   },
   {
    "duration": 346,
    "start_time": "2022-07-02T08:39:04.021Z"
   },
   {
    "duration": 243,
    "start_time": "2022-07-02T08:39:04.369Z"
   },
   {
    "duration": 6,
    "start_time": "2022-07-02T08:39:04.614Z"
   },
   {
    "duration": 370,
    "start_time": "2022-07-02T08:39:04.622Z"
   },
   {
    "duration": 4,
    "start_time": "2022-07-02T08:39:04.993Z"
   },
   {
    "duration": 35,
    "start_time": "2022-07-02T08:39:04.999Z"
   },
   {
    "duration": 257,
    "start_time": "2022-07-02T08:39:05.036Z"
   },
   {
    "duration": 15,
    "start_time": "2022-07-02T08:39:05.297Z"
   },
   {
    "duration": 385,
    "start_time": "2022-07-02T08:39:05.315Z"
   },
   {
    "duration": 12,
    "start_time": "2022-07-02T08:39:05.702Z"
   },
   {
    "duration": 209,
    "start_time": "2022-07-02T08:39:05.716Z"
   },
   {
    "duration": 5,
    "start_time": "2022-07-02T08:39:05.926Z"
   },
   {
    "duration": 211,
    "start_time": "2022-07-02T08:39:05.933Z"
   },
   {
    "duration": 196,
    "start_time": "2022-07-02T08:39:06.147Z"
   },
   {
    "duration": 19,
    "start_time": "2022-07-02T08:39:06.345Z"
   },
   {
    "duration": 129,
    "start_time": "2022-07-02T08:39:06.366Z"
   },
   {
    "duration": 10,
    "start_time": "2022-07-02T08:39:06.497Z"
   },
   {
    "duration": 116,
    "start_time": "2022-07-02T08:39:06.509Z"
   },
   {
    "duration": 38,
    "start_time": "2022-07-02T08:39:06.626Z"
   },
   {
    "duration": 15,
    "start_time": "2022-07-02T08:39:06.666Z"
   },
   {
    "duration": 17,
    "start_time": "2022-07-02T08:39:06.683Z"
   },
   {
    "duration": 30,
    "start_time": "2022-07-02T08:39:06.702Z"
   },
   {
    "duration": 13,
    "start_time": "2022-07-02T08:39:06.734Z"
   },
   {
    "duration": 28,
    "start_time": "2022-07-02T08:39:06.748Z"
   },
   {
    "duration": 24,
    "start_time": "2022-07-02T08:39:06.780Z"
   },
   {
    "duration": 20,
    "start_time": "2022-07-02T08:39:06.806Z"
   },
   {
    "duration": 50,
    "start_time": "2022-07-02T08:39:06.827Z"
   },
   {
    "duration": 38,
    "start_time": "2022-07-02T08:39:06.879Z"
   },
   {
    "duration": 19,
    "start_time": "2022-07-02T08:39:06.919Z"
   },
   {
    "duration": 17,
    "start_time": "2022-07-02T08:39:06.941Z"
   },
   {
    "duration": 18,
    "start_time": "2022-07-02T08:39:06.963Z"
   },
   {
    "duration": 1033,
    "start_time": "2022-07-02T08:40:15.867Z"
   },
   {
    "duration": 31,
    "start_time": "2022-07-02T08:40:16.901Z"
   },
   {
    "duration": 4,
    "start_time": "2022-07-02T08:40:16.933Z"
   },
   {
    "duration": 14,
    "start_time": "2022-07-02T08:40:16.939Z"
   },
   {
    "duration": 13,
    "start_time": "2022-07-02T08:40:16.954Z"
   },
   {
    "duration": 8,
    "start_time": "2022-07-02T08:40:16.968Z"
   },
   {
    "duration": 53,
    "start_time": "2022-07-02T08:40:16.977Z"
   },
   {
    "duration": 3,
    "start_time": "2022-07-02T08:40:17.032Z"
   },
   {
    "duration": 16,
    "start_time": "2022-07-02T08:40:17.037Z"
   },
   {
    "duration": 11,
    "start_time": "2022-07-02T08:40:17.055Z"
   },
   {
    "duration": 8,
    "start_time": "2022-07-02T08:40:17.068Z"
   },
   {
    "duration": 205,
    "start_time": "2022-07-02T08:40:17.078Z"
   },
   {
    "duration": 177,
    "start_time": "2022-07-02T08:40:17.285Z"
   },
   {
    "duration": 124,
    "start_time": "2022-07-02T08:40:17.463Z"
   },
   {
    "duration": 12,
    "start_time": "2022-07-02T08:40:17.589Z"
   },
   {
    "duration": 16,
    "start_time": "2022-07-02T08:40:17.602Z"
   },
   {
    "duration": 391,
    "start_time": "2022-07-02T08:40:17.619Z"
   },
   {
    "duration": 347,
    "start_time": "2022-07-02T08:40:18.012Z"
   },
   {
    "duration": 5,
    "start_time": "2022-07-02T08:40:18.361Z"
   },
   {
    "duration": 339,
    "start_time": "2022-07-02T08:40:18.368Z"
   },
   {
    "duration": 5,
    "start_time": "2022-07-02T08:40:18.708Z"
   },
   {
    "duration": 27,
    "start_time": "2022-07-02T08:40:18.714Z"
   },
   {
    "duration": 235,
    "start_time": "2022-07-02T08:40:18.752Z"
   },
   {
    "duration": 13,
    "start_time": "2022-07-02T08:40:18.989Z"
   },
   {
    "duration": 343,
    "start_time": "2022-07-02T08:40:19.003Z"
   },
   {
    "duration": 13,
    "start_time": "2022-07-02T08:40:19.352Z"
   },
   {
    "duration": 181,
    "start_time": "2022-07-02T08:40:19.367Z"
   },
   {
    "duration": 4,
    "start_time": "2022-07-02T08:40:19.552Z"
   },
   {
    "duration": 186,
    "start_time": "2022-07-02T08:40:19.557Z"
   },
   {
    "duration": 192,
    "start_time": "2022-07-02T08:40:19.744Z"
   },
   {
    "duration": 4,
    "start_time": "2022-07-02T08:40:19.937Z"
   },
   {
    "duration": 118,
    "start_time": "2022-07-02T08:40:19.952Z"
   },
   {
    "duration": 10,
    "start_time": "2022-07-02T08:40:20.072Z"
   },
   {
    "duration": 111,
    "start_time": "2022-07-02T08:40:20.084Z"
   },
   {
    "duration": 27,
    "start_time": "2022-07-02T08:40:20.197Z"
   },
   {
    "duration": 30,
    "start_time": "2022-07-02T08:40:20.225Z"
   },
   {
    "duration": 7,
    "start_time": "2022-07-02T08:40:20.258Z"
   },
   {
    "duration": 13,
    "start_time": "2022-07-02T08:40:20.266Z"
   },
   {
    "duration": 10,
    "start_time": "2022-07-02T08:40:20.281Z"
   },
   {
    "duration": 9,
    "start_time": "2022-07-02T08:40:20.293Z"
   },
   {
    "duration": 11,
    "start_time": "2022-07-02T08:40:20.303Z"
   },
   {
    "duration": 13,
    "start_time": "2022-07-02T08:40:20.351Z"
   },
   {
    "duration": 32,
    "start_time": "2022-07-02T08:40:20.365Z"
   },
   {
    "duration": 29,
    "start_time": "2022-07-02T08:40:20.398Z"
   },
   {
    "duration": 29,
    "start_time": "2022-07-02T08:40:20.429Z"
   },
   {
    "duration": 8,
    "start_time": "2022-07-02T08:40:20.460Z"
   },
   {
    "duration": 13,
    "start_time": "2022-07-02T08:40:20.470Z"
   }
  ],
  "kernelspec": {
   "display_name": "Python 3 (ipykernel)",
   "language": "python",
   "name": "python3"
  },
  "language_info": {
   "codemirror_mode": {
    "name": "ipython",
    "version": 3
   },
   "file_extension": ".py",
   "mimetype": "text/x-python",
   "name": "python",
   "nbconvert_exporter": "python",
   "pygments_lexer": "ipython3",
   "version": "3.9.7"
  },
  "toc": {
   "base_numbering": 1,
   "nav_menu": {},
   "number_sections": true,
   "sideBar": false,
   "skip_h1_title": true,
   "title_cell": "Table of Contents",
   "title_sidebar": "Contents",
   "toc_cell": true,
   "toc_position": {
    "height": "calc(100% - 180px)",
    "left": "10px",
    "top": "150px",
    "width": "384px"
   },
   "toc_section_display": false,
   "toc_window_display": false
  }
 },
 "nbformat": 4,
 "nbformat_minor": 2
}
