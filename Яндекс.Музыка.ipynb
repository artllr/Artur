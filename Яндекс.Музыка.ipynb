{
 "cells": [
  {
   "cell_type": "markdown",
   "metadata": {
    "id": "E0vqbgi9ay0H"
   },
   "source": [
    "# Яндекс.Музыка"
   ]
  },
  {
   "cell_type": "markdown",
   "metadata": {
    "id": "VUC88oWjTJw2"
   },
   "source": [
    "Сравнение Москвы и Петербурга окружено мифами. Например:\n",
    " * Москва — мегаполис, подчинённый жёсткому ритму рабочей недели;\n",
    " * Петербург — культурная столица, со своими вкусами.\n",
    "\n",
    "На данных Яндекс.Музыки вы сравните поведение пользователей двух столиц.\n",
    "\n",
    "**Цель исследования** — проверьте три гипотезы:\n",
    "1. Активность пользователей зависит от дня недели. Причём в Москве и Петербурге это проявляется по-разному.\n",
    "2. В понедельник утром в Москве преобладают одни жанры, а в Петербурге — другие. Так же и вечером пятницы преобладают разные жанры — в зависимости от города. \n",
    "3. Москва и Петербург предпочитают разные жанры музыки. В Москве чаще слушают поп-музыку, в Петербурге — русский рэп.\n",
    "\n",
    "**Ход исследования**\n",
    "\n",
    "Данные о поведении пользователей вы получите из файла `yandex_music_project.csv`. О качестве данных ничего не известно. Поэтому перед проверкой гипотез понадобится обзор данных. \n",
    "\n",
    "Вы проверите данные на ошибки и оцените их влияние на исследование. Затем, на этапе предобработки вы поищете возможность исправить самые критичные ошибки данных.\n",
    " \n",
    "Таким образом, исследование пройдёт в три этапа:\n",
    " 1. Обзор данных.\n",
    " 2. Предобработка данных.\n",
    " 3. Проверка гипотез.\n",
    "\n"
   ]
  },
  {
   "cell_type": "markdown",
   "metadata": {
    "id": "Ml1hmfXC_Zcs"
   },
   "source": [
    "## Обзор данных\n",
    "\n",
    "Составьте первое представление о данных Яндекс.Музыки.\n",
    "\n",
    "\n"
   ]
  },
  {
   "cell_type": "markdown",
   "metadata": {
    "id": "57eAOGIz_Zcs"
   },
   "source": [
    "Основной инструмент аналитика — `pandas`. Импортируйте эту библиотеку."
   ]
  },
  {
   "cell_type": "code",
   "execution_count": 1,
   "metadata": {
    "id": "AXN7PHPN_Zcs"
   },
   "outputs": [],
   "source": [
    "# импорт библиотеки pandas\n",
    "import pandas as pd"
   ]
  },
  {
   "cell_type": "markdown",
   "metadata": {
    "id": "SG23P8tt_Zcs"
   },
   "source": [
    "Прочитайте файл `yandex_music_project.csv` из папки `/datasets` и сохраните его в переменной `df`:"
   ]
  },
  {
   "cell_type": "code",
   "execution_count": 2,
   "metadata": {
    "id": "fFVu7vqh_Zct"
   },
   "outputs": [],
   "source": [
    "# чтение файла с данными и сохранение в df\n",
    "df = pd.read_csv('/datasets/yandex_music_project.csv')"
   ]
  },
  {
   "cell_type": "markdown",
   "metadata": {
    "id": "rDoOMd3uTqnZ"
   },
   "source": [
    "Выведите на экран первые десять строк таблицы:"
   ]
  },
  {
   "cell_type": "code",
   "execution_count": 3,
   "metadata": {
    "id": "oWTVX3gW_Zct",
    "scrolled": true
   },
   "outputs": [
    {
     "data": {
      "text/html": [
       "<div>\n",
       "<style scoped>\n",
       "    .dataframe tbody tr th:only-of-type {\n",
       "        vertical-align: middle;\n",
       "    }\n",
       "\n",
       "    .dataframe tbody tr th {\n",
       "        vertical-align: top;\n",
       "    }\n",
       "\n",
       "    .dataframe thead th {\n",
       "        text-align: right;\n",
       "    }\n",
       "</style>\n",
       "<table border=\"1\" class=\"dataframe\">\n",
       "  <thead>\n",
       "    <tr style=\"text-align: right;\">\n",
       "      <th></th>\n",
       "      <th>userID</th>\n",
       "      <th>Track</th>\n",
       "      <th>artist</th>\n",
       "      <th>genre</th>\n",
       "      <th>City</th>\n",
       "      <th>time</th>\n",
       "      <th>Day</th>\n",
       "    </tr>\n",
       "  </thead>\n",
       "  <tbody>\n",
       "    <tr>\n",
       "      <td>0</td>\n",
       "      <td>FFB692EC</td>\n",
       "      <td>Kamigata To Boots</td>\n",
       "      <td>The Mass Missile</td>\n",
       "      <td>rock</td>\n",
       "      <td>Saint-Petersburg</td>\n",
       "      <td>20:28:33</td>\n",
       "      <td>Wednesday</td>\n",
       "    </tr>\n",
       "    <tr>\n",
       "      <td>1</td>\n",
       "      <td>55204538</td>\n",
       "      <td>Delayed Because of Accident</td>\n",
       "      <td>Andreas Rönnberg</td>\n",
       "      <td>rock</td>\n",
       "      <td>Moscow</td>\n",
       "      <td>14:07:09</td>\n",
       "      <td>Friday</td>\n",
       "    </tr>\n",
       "    <tr>\n",
       "      <td>2</td>\n",
       "      <td>20EC38</td>\n",
       "      <td>Funiculì funiculà</td>\n",
       "      <td>Mario Lanza</td>\n",
       "      <td>pop</td>\n",
       "      <td>Saint-Petersburg</td>\n",
       "      <td>20:58:07</td>\n",
       "      <td>Wednesday</td>\n",
       "    </tr>\n",
       "    <tr>\n",
       "      <td>3</td>\n",
       "      <td>A3DD03C9</td>\n",
       "      <td>Dragons in the Sunset</td>\n",
       "      <td>Fire + Ice</td>\n",
       "      <td>folk</td>\n",
       "      <td>Saint-Petersburg</td>\n",
       "      <td>08:37:09</td>\n",
       "      <td>Monday</td>\n",
       "    </tr>\n",
       "    <tr>\n",
       "      <td>4</td>\n",
       "      <td>E2DC1FAE</td>\n",
       "      <td>Soul People</td>\n",
       "      <td>Space Echo</td>\n",
       "      <td>dance</td>\n",
       "      <td>Moscow</td>\n",
       "      <td>08:34:34</td>\n",
       "      <td>Monday</td>\n",
       "    </tr>\n",
       "    <tr>\n",
       "      <td>5</td>\n",
       "      <td>842029A1</td>\n",
       "      <td>Преданная</td>\n",
       "      <td>IMPERVTOR</td>\n",
       "      <td>rusrap</td>\n",
       "      <td>Saint-Petersburg</td>\n",
       "      <td>13:09:41</td>\n",
       "      <td>Friday</td>\n",
       "    </tr>\n",
       "    <tr>\n",
       "      <td>6</td>\n",
       "      <td>4CB90AA5</td>\n",
       "      <td>True</td>\n",
       "      <td>Roman Messer</td>\n",
       "      <td>dance</td>\n",
       "      <td>Moscow</td>\n",
       "      <td>13:00:07</td>\n",
       "      <td>Wednesday</td>\n",
       "    </tr>\n",
       "    <tr>\n",
       "      <td>7</td>\n",
       "      <td>F03E1C1F</td>\n",
       "      <td>Feeling This Way</td>\n",
       "      <td>Polina Griffith</td>\n",
       "      <td>dance</td>\n",
       "      <td>Moscow</td>\n",
       "      <td>20:47:49</td>\n",
       "      <td>Wednesday</td>\n",
       "    </tr>\n",
       "    <tr>\n",
       "      <td>8</td>\n",
       "      <td>8FA1D3BE</td>\n",
       "      <td>И вновь продолжается бой</td>\n",
       "      <td>NaN</td>\n",
       "      <td>ruspop</td>\n",
       "      <td>Moscow</td>\n",
       "      <td>09:17:40</td>\n",
       "      <td>Friday</td>\n",
       "    </tr>\n",
       "    <tr>\n",
       "      <td>9</td>\n",
       "      <td>E772D5C0</td>\n",
       "      <td>Pessimist</td>\n",
       "      <td>NaN</td>\n",
       "      <td>dance</td>\n",
       "      <td>Saint-Petersburg</td>\n",
       "      <td>21:20:49</td>\n",
       "      <td>Wednesday</td>\n",
       "    </tr>\n",
       "  </tbody>\n",
       "</table>\n",
       "</div>"
      ],
      "text/plain": [
       "     userID                        Track            artist   genre  \\\n",
       "0  FFB692EC            Kamigata To Boots  The Mass Missile    rock   \n",
       "1  55204538  Delayed Because of Accident  Andreas Rönnberg    rock   \n",
       "2    20EC38            Funiculì funiculà       Mario Lanza     pop   \n",
       "3  A3DD03C9        Dragons in the Sunset        Fire + Ice    folk   \n",
       "4  E2DC1FAE                  Soul People        Space Echo   dance   \n",
       "5  842029A1                    Преданная         IMPERVTOR  rusrap   \n",
       "6  4CB90AA5                         True      Roman Messer   dance   \n",
       "7  F03E1C1F             Feeling This Way   Polina Griffith   dance   \n",
       "8  8FA1D3BE     И вновь продолжается бой               NaN  ruspop   \n",
       "9  E772D5C0                    Pessimist               NaN   dance   \n",
       "\n",
       "             City        time        Day  \n",
       "0  Saint-Petersburg  20:28:33  Wednesday  \n",
       "1            Moscow  14:07:09     Friday  \n",
       "2  Saint-Petersburg  20:58:07  Wednesday  \n",
       "3  Saint-Petersburg  08:37:09     Monday  \n",
       "4            Moscow  08:34:34     Monday  \n",
       "5  Saint-Petersburg  13:09:41     Friday  \n",
       "6            Moscow  13:00:07  Wednesday  \n",
       "7            Moscow  20:47:49  Wednesday  \n",
       "8            Moscow  09:17:40     Friday  \n",
       "9  Saint-Petersburg  21:20:49  Wednesday  "
      ]
     },
     "execution_count": 3,
     "metadata": {},
     "output_type": "execute_result"
    }
   ],
   "source": [
    "# получение первых 10 строк таблицы df\n",
    "df.head(10)"
   ]
  },
  {
   "cell_type": "markdown",
   "metadata": {
    "id": "EO73Kwic_Zct"
   },
   "source": [
    "Одной командой получить общую информацию о таблице:"
   ]
  },
  {
   "cell_type": "code",
   "execution_count": 4,
   "metadata": {
    "id": "DSf2kIb-_Zct",
    "scrolled": true
   },
   "outputs": [
    {
     "name": "stdout",
     "output_type": "stream",
     "text": [
      "<class 'pandas.core.frame.DataFrame'>\n",
      "RangeIndex: 65079 entries, 0 to 65078\n",
      "Data columns (total 7 columns):\n",
      "  userID    65079 non-null object\n",
      "Track       63848 non-null object\n",
      "artist      57876 non-null object\n",
      "genre       63881 non-null object\n",
      "  City      65079 non-null object\n",
      "time        65079 non-null object\n",
      "Day         65079 non-null object\n",
      "dtypes: object(7)\n",
      "memory usage: 3.5+ MB\n"
     ]
    }
   ],
   "source": [
    "# получение общей информации о данных в таблице df\n",
    "df.info()"
   ]
  },
  {
   "cell_type": "markdown",
   "metadata": {
    "id": "TaQ2Iwbr_Zct"
   },
   "source": [
    "Итак, в таблице семь столбцов. Тип данных во всех столбцах — `object`.\n",
    "\n",
    "Согласно документации к данным:\n",
    "* `userID` — идентификатор пользователя;\n",
    "* `Track` — название трека;  \n",
    "* `artist` — имя исполнителя;\n",
    "* `genre` — название жанра;\n",
    "* `City` — город пользователя;\n",
    "* `time` — время начала прослушивания;\n",
    "* `Day` — день недели.\n",
    "\n",
    "В названиях колонок видны три нарушения стиля:\n",
    "1. Строчные буквы сочетаются с прописными.\n",
    "2. Встречаются пробелы.\n",
    "3. Найдите ещё одну проблему в названии колонок и опишите её в этом пункте.\n",
    "\n",
    "\n",
    "\n",
    "Количество значений в столбцах различается. Значит, в данных есть пропущенные значения.\n"
   ]
  },
  {
   "cell_type": "markdown",
   "metadata": {
    "id": "MCB6-dXG_Zct"
   },
   "source": [
    "**Выводы**\n",
    "\n",
    "В каждой строке таблицы — данные о прослушанном треке. Часть колонок описывает саму композицию: название, исполнителя и жанр. Остальные данные рассказывают о пользователе: из какого он города, когда он слушал музыку. \n",
    "\n",
    "Предварительно можно утверждать, что, данных достаточно для проверки гипотез. Но встречаются пропуски в данных, а в названиях колонок — расхождения с хорошим стилем.\n",
    "\n",
    "Чтобы двигаться дальше, нужно устранить проблемы в данных."
   ]
  },
  {
   "cell_type": "markdown",
   "metadata": {
    "id": "SjYF6Ub9_Zct"
   },
   "source": [
    "## Предобработка данных\n",
    "Исправьте стиль в заголовках столбцов, исключите пропуски. Затем проверьте данные на дубликаты."
   ]
  },
  {
   "cell_type": "markdown",
   "metadata": {
    "id": "dIaKXr29_Zct"
   },
   "source": [
    "### Стиль заголовков\n",
    "Выведите на экран названия столбцов:"
   ]
  },
  {
   "cell_type": "code",
   "execution_count": 5,
   "metadata": {
    "id": "oKOTdF_Q_Zct"
   },
   "outputs": [
    {
     "data": {
      "text/plain": [
       "Index(['  userID', 'Track', 'artist', 'genre', '  City  ', 'time', 'Day'], dtype='object')"
      ]
     },
     "execution_count": 5,
     "metadata": {},
     "output_type": "execute_result"
    }
   ],
   "source": [
    "# перечень названий столбцов таблицы df\n",
    "df.columns\n"
   ]
  },
  {
   "cell_type": "markdown",
   "metadata": {
    "id": "zj5534cv_Zct"
   },
   "source": [
    "Приведите названия в соответствие с хорошим стилем:\n",
    "* несколько слов в названии запишите в «змеином_регистре»,\n",
    "* все символы сделайте строчными,\n",
    "* устраните пробелы.\n",
    "\n",
    "Для этого переименуйте колонки так:\n",
    "* `'  userID'` → `'user_id'`;\n",
    "* `'Track'` → `'track'`;\n",
    "* `'  City  '` → `'city'`;\n",
    "* `'Day'` → `'day'`."
   ]
  },
  {
   "cell_type": "code",
   "execution_count": 6,
   "metadata": {
    "id": "ISlFqs5y_Zct"
   },
   "outputs": [],
   "source": [
    "# переименование столбцов\n",
    "df = df.rename(columns={'  userID': 'user_id', 'Track': 'track', '  City  ': 'city', 'Day': 'day'}) "
   ]
  },
  {
   "cell_type": "markdown",
   "metadata": {
    "id": "1dqbh00J_Zct"
   },
   "source": [
    "Проверьте результат. Для этого ещё раз выведите на экран названия столбцов:"
   ]
  },
  {
   "cell_type": "code",
   "execution_count": 7,
   "metadata": {
    "id": "d4NOAmTW_Zct"
   },
   "outputs": [
    {
     "data": {
      "text/plain": [
       "Index(['user_id', 'track', 'artist', 'genre', 'city', 'time', 'day'], dtype='object')"
      ]
     },
     "execution_count": 7,
     "metadata": {},
     "output_type": "execute_result"
    }
   ],
   "source": [
    "# проверка результатов - перечень названий столбцов\n",
    "df.columns"
   ]
  },
  {
   "cell_type": "markdown",
   "metadata": {
    "id": "5ISfbcfY_Zct"
   },
   "source": [
    "### Пропуски значений\n",
    "Сначала посчитайте, сколько в таблице пропущенных значений. Для этого достаточно двух методов `pandas`:"
   ]
  },
  {
   "cell_type": "code",
   "execution_count": 8,
   "metadata": {
    "id": "RskX29qr_Zct"
   },
   "outputs": [
    {
     "data": {
      "text/plain": [
       "user_id       0\n",
       "track      1231\n",
       "artist     7203\n",
       "genre      1198\n",
       "city          0\n",
       "time          0\n",
       "day           0\n",
       "dtype: int64"
      ]
     },
     "execution_count": 8,
     "metadata": {},
     "output_type": "execute_result"
    }
   ],
   "source": [
    "# подсчёт пропусков\n",
    "df.isna().sum()\n"
   ]
  },
  {
   "cell_type": "markdown",
   "metadata": {
    "id": "qubhgnlO_Zct"
   },
   "source": [
    "Не все пропущенные значения влияют на исследование. Так в `track` и `artist` пропуски не важны для вашей работы. Достаточно заменить их явными обозначениями.\n",
    "\n",
    "Но пропуски в `genre` могут помешать сравнению музыкальных вкусов в Москве и Санкт-Петербурге. На практике было бы правильно установить причину пропусков и восстановить данные. Такой возможности нет в учебном проекте. Придётся:\n",
    "* заполнить и эти пропуски явными обозначениями,\n",
    "* оценить, насколько они повредят расчётам. "
   ]
  },
  {
   "cell_type": "markdown",
   "metadata": {
    "id": "fSv2laPA_Zct"
   },
   "source": [
    "Замените пропущенные значения в столбцах `track`, `artist` и `genre` на строку `'unknown'`. Для этого создайте список `columns_to_replace`, переберите его элементы циклом `for` и для каждого столбца выполните замену пропущенных значений:"
   ]
  },
  {
   "cell_type": "code",
   "execution_count": 9,
   "metadata": {
    "id": "KplB5qWs_Zct"
   },
   "outputs": [],
   "source": [
    "# перебор названий столбцов в цикле и замена пропущенных значений на 'unknown'\n",
    "columns_to_replace = ['track', 'artist', 'genre']\n",
    "for column in columns_to_replace:\n",
    "    df[column] = df[column].fillna('unknown')\n",
    "    \n"
   ]
  },
  {
   "cell_type": "markdown",
   "metadata": {
    "id": "Ilsm-MZo_Zct"
   },
   "source": [
    "Убедитесь, что в таблице не осталось пропусков. Для этого ещё раз посчитайте пропущенные значения."
   ]
  },
  {
   "cell_type": "code",
   "execution_count": 10,
   "metadata": {
    "id": "Tq4nYRX4_Zct"
   },
   "outputs": [
    {
     "data": {
      "text/plain": [
       "user_id    0\n",
       "track      0\n",
       "artist     0\n",
       "genre      0\n",
       "city       0\n",
       "time       0\n",
       "day        0\n",
       "dtype: int64"
      ]
     },
     "execution_count": 10,
     "metadata": {},
     "output_type": "execute_result"
    }
   ],
   "source": [
    "# подсчёт пропусков\n",
    "df.isna().sum()\n"
   ]
  },
  {
   "cell_type": "markdown",
   "metadata": {
    "id": "BWKRtBJ3_Zct"
   },
   "source": [
    "### Дубликаты\n",
    "Посчитайте явные дубликаты в таблице одной командой:"
   ]
  },
  {
   "cell_type": "code",
   "execution_count": 11,
   "metadata": {
    "id": "36eES_S0_Zct"
   },
   "outputs": [
    {
     "name": "stdout",
     "output_type": "stream",
     "text": [
      "3826\n"
     ]
    }
   ],
   "source": [
    "# подсчёт явных дубликатов\n",
    "print(df.duplicated().sum())\n"
   ]
  },
  {
   "cell_type": "markdown",
   "metadata": {
    "id": "Ot25h6XR_Zct"
   },
   "source": [
    "Вызовите специальный метод `pandas`, чтобы удалить явные дубликаты:"
   ]
  },
  {
   "cell_type": "code",
   "execution_count": 12,
   "metadata": {
    "id": "exFHq6tt_Zct"
   },
   "outputs": [],
   "source": [
    "# удаление явных дубликатов (с удалением старых индексов и формированием новых)\n",
    "df = df.drop_duplicates().reset_index(drop=True) "
   ]
  },
  {
   "cell_type": "markdown",
   "metadata": {
    "id": "Im2YwBEG_Zct"
   },
   "source": [
    "Ещё раз посчитайте явные дубликаты в таблице — убедитесь, что полностью от них избавились:"
   ]
  },
  {
   "cell_type": "code",
   "execution_count": 13,
   "metadata": {
    "id": "-8PuNWQ0_Zct"
   },
   "outputs": [
    {
     "name": "stdout",
     "output_type": "stream",
     "text": [
      "0\n"
     ]
    }
   ],
   "source": [
    "# проверка на отсутствие дубликатов\n",
    "print(df.duplicated().sum())"
   ]
  },
  {
   "cell_type": "markdown",
   "metadata": {
    "id": "QlFBsxAr_Zct"
   },
   "source": [
    "Теперь избавьтесь от неявных дубликатов в колонке `genre`. Например, название одного и того же жанра может быть записано немного по-разному. Такие ошибки тоже повлияют на результат исследования."
   ]
  },
  {
   "cell_type": "markdown",
   "metadata": {
    "id": "eSjWwsOh_Zct"
   },
   "source": [
    "Выведите на экран список уникальных названий жанров, отсортированный в алфавитном порядке. Для этого:\n",
    "* извлеките нужный столбец датафрейма, \n",
    "* примените к нему метод сортировки,\n",
    "* для отсортированного столбца вызовите метод, который вернёт уникальные значения из столбца."
   ]
  },
  {
   "cell_type": "code",
   "execution_count": 14,
   "metadata": {
    "id": "JIUcqzZN_Zct"
   },
   "outputs": [
    {
     "data": {
      "text/plain": [
       "array(['acid', 'acoustic', 'action', 'adult', 'africa', 'afrikaans',\n",
       "       'alternative', 'alternativepunk', 'ambient', 'americana',\n",
       "       'animated', 'anime', 'arabesk', 'arabic', 'arena',\n",
       "       'argentinetango', 'art', 'audiobook', 'author', 'avantgarde',\n",
       "       'axé', 'baile', 'balkan', 'beats', 'bigroom', 'black', 'bluegrass',\n",
       "       'blues', 'bollywood', 'bossa', 'brazilian', 'breakbeat', 'breaks',\n",
       "       'broadway', 'cantautori', 'cantopop', 'canzone', 'caribbean',\n",
       "       'caucasian', 'celtic', 'chamber', 'chanson', 'children', 'chill',\n",
       "       'chinese', 'choral', 'christian', 'christmas', 'classical',\n",
       "       'classicmetal', 'club', 'colombian', 'comedy', 'conjazz',\n",
       "       'contemporary', 'country', 'cuban', 'dance', 'dancehall',\n",
       "       'dancepop', 'dark', 'death', 'deep', 'deutschrock', 'deutschspr',\n",
       "       'dirty', 'disco', 'dnb', 'documentary', 'downbeat', 'downtempo',\n",
       "       'drum', 'dub', 'dubstep', 'eastern', 'easy', 'electronic',\n",
       "       'electropop', 'emo', 'entehno', 'epicmetal', 'estrada', 'ethnic',\n",
       "       'eurofolk', 'european', 'experimental', 'extrememetal', 'fado',\n",
       "       'fairytail', 'film', 'fitness', 'flamenco', 'folk', 'folklore',\n",
       "       'folkmetal', 'folkrock', 'folktronica', 'forró', 'frankreich',\n",
       "       'französisch', 'french', 'funk', 'future', 'gangsta', 'garage',\n",
       "       'german', 'ghazal', 'gitarre', 'glitch', 'gospel', 'gothic',\n",
       "       'grime', 'grunge', 'gypsy', 'handsup', \"hard'n'heavy\", 'hardcore',\n",
       "       'hardstyle', 'hardtechno', 'hip', 'hip-hop', 'hiphop',\n",
       "       'historisch', 'holiday', 'hop', 'horror', 'house', 'hymn', 'idm',\n",
       "       'independent', 'indian', 'indie', 'indipop', 'industrial',\n",
       "       'inspirational', 'instrumental', 'international', 'irish', 'jam',\n",
       "       'japanese', 'jazz', 'jewish', 'jpop', 'jungle', 'k-pop',\n",
       "       'karadeniz', 'karaoke', 'kayokyoku', 'korean', 'laiko', 'latin',\n",
       "       'latino', 'leftfield', 'local', 'lounge', 'loungeelectronic',\n",
       "       'lovers', 'malaysian', 'mandopop', 'marschmusik', 'meditative',\n",
       "       'mediterranean', 'melodic', 'metal', 'metalcore', 'mexican',\n",
       "       'middle', 'minimal', 'miscellaneous', 'modern', 'mood', 'mpb',\n",
       "       'muslim', 'native', 'neoklassik', 'neue', 'new', 'newage',\n",
       "       'newwave', 'nu', 'nujazz', 'numetal', 'oceania', 'old', 'opera',\n",
       "       'orchestral', 'other', 'piano', 'podcasts', 'pop', 'popdance',\n",
       "       'popelectronic', 'popeurodance', 'poprussian', 'post',\n",
       "       'posthardcore', 'postrock', 'power', 'progmetal', 'progressive',\n",
       "       'psychedelic', 'punjabi', 'punk', 'quebecois', 'ragga', 'ram',\n",
       "       'rancheras', 'rap', 'rave', 'reggae', 'reggaeton', 'regional',\n",
       "       'relax', 'religious', 'retro', 'rhythm', 'rnb', 'rnr', 'rock',\n",
       "       'rockabilly', 'rockalternative', 'rockindie', 'rockother',\n",
       "       'romance', 'roots', 'ruspop', 'rusrap', 'rusrock', 'russian',\n",
       "       'salsa', 'samba', 'scenic', 'schlager', 'self', 'sertanejo',\n",
       "       'shanson', 'shoegazing', 'showtunes', 'singer', 'ska', 'skarock',\n",
       "       'slow', 'smooth', 'soft', 'soul', 'soulful', 'sound', 'soundtrack',\n",
       "       'southern', 'specialty', 'speech', 'spiritual', 'sport',\n",
       "       'stonerrock', 'surf', 'swing', 'synthpop', 'synthrock',\n",
       "       'sängerportrait', 'tango', 'tanzorchester', 'taraftar', 'tatar',\n",
       "       'tech', 'techno', 'teen', 'thrash', 'top', 'traditional',\n",
       "       'tradjazz', 'trance', 'tribal', 'trip', 'triphop', 'tropical',\n",
       "       'türk', 'türkçe', 'ukrrock', 'unknown', 'urban', 'uzbek',\n",
       "       'variété', 'vi', 'videogame', 'vocal', 'western', 'world',\n",
       "       'worldbeat', 'ïîï', 'электроника'], dtype=object)"
      ]
     },
     "execution_count": 14,
     "metadata": {},
     "output_type": "execute_result"
    }
   ],
   "source": [
    "# Просмотр уникальных названий жанров\n",
    "df['genre'].sort_values(ascending=True).unique()"
   ]
  },
  {
   "cell_type": "markdown",
   "metadata": {
    "id": "qej-Qmuo_Zct"
   },
   "source": [
    "Просмотрите список и найдите неявные дубликаты названия `hiphop`. Это могут быть названия с ошибками или альтернативные названия того же жанра.\n",
    "\n",
    "Вы увидите следующие неявные дубликаты:\n",
    "* *hip*,\n",
    "* *hop*,\n",
    "* *hip-hop*.\n",
    "\n",
    "Чтобы очистить от них таблицу, напишите функцию `replace_wrong_genres()` с двумя параметрами: \n",
    "* `wrong_genres` — список дубликатов,\n",
    "* `correct_genre` — строка с правильным значением.\n",
    "\n",
    "Функция должна исправить колонку `genre` в таблице `df`: заменить каждое значение из списка `wrong_genres` на значение из `correct_genre`."
   ]
  },
  {
   "cell_type": "code",
   "execution_count": 1,
   "metadata": {
    "id": "ErNDkmns_Zct"
   },
   "outputs": [],
   "source": [
    "# Функция для замены неявных дубликатов\n",
    "def replace_wrong_genres(wrong_genres, correct_genre):\n",
    "    for wrong_genre in wrong_genres:\n",
    "        df['genre'] = df['genre'].replace(wrong_genre,  correct_genre)"
   ]
  },
  {
   "cell_type": "markdown",
   "metadata": {
    "id": "aDoBJxbA_Zct"
   },
   "source": [
    "Вызовите `replace_wrong_genres()` и передайте ей такие аргументы, чтобы она устранила неявные дубликаты: вместо `hip`, `hop` и `hip-hop` в таблице должно быть значение `hiphop`:"
   ]
  },
  {
   "cell_type": "code",
   "execution_count": 16,
   "metadata": {
    "id": "YN5i2hpmSo09"
   },
   "outputs": [],
   "source": [
    "# Устранение неявных дубликатов\n",
    "duplicates = ['hip', 'hop', 'hip-hop']\n",
    "name = 'hiphop'\n",
    "replace_wrong_genres(duplicates, name)"
   ]
  },
  {
   "cell_type": "markdown",
   "metadata": {
    "id": "zQKF16_RG15m"
   },
   "source": [
    "Проверьте, что заменили неправильные названия:\n",
    "\n",
    "*   hip\n",
    "*   hop\n",
    "*   hip-hop\n",
    "\n",
    "Выведите отсортированный список уникальных значений столбца `genre`:"
   ]
  },
  {
   "cell_type": "code",
   "execution_count": 17,
   "metadata": {
    "id": "wvixALnFG15m"
   },
   "outputs": [
    {
     "data": {
      "text/plain": [
       "array(['acid', 'acoustic', 'action', 'adult', 'africa', 'afrikaans',\n",
       "       'alternative', 'alternativepunk', 'ambient', 'americana',\n",
       "       'animated', 'anime', 'arabesk', 'arabic', 'arena',\n",
       "       'argentinetango', 'art', 'audiobook', 'author', 'avantgarde',\n",
       "       'axé', 'baile', 'balkan', 'beats', 'bigroom', 'black', 'bluegrass',\n",
       "       'blues', 'bollywood', 'bossa', 'brazilian', 'breakbeat', 'breaks',\n",
       "       'broadway', 'cantautori', 'cantopop', 'canzone', 'caribbean',\n",
       "       'caucasian', 'celtic', 'chamber', 'chanson', 'children', 'chill',\n",
       "       'chinese', 'choral', 'christian', 'christmas', 'classical',\n",
       "       'classicmetal', 'club', 'colombian', 'comedy', 'conjazz',\n",
       "       'contemporary', 'country', 'cuban', 'dance', 'dancehall',\n",
       "       'dancepop', 'dark', 'death', 'deep', 'deutschrock', 'deutschspr',\n",
       "       'dirty', 'disco', 'dnb', 'documentary', 'downbeat', 'downtempo',\n",
       "       'drum', 'dub', 'dubstep', 'eastern', 'easy', 'electronic',\n",
       "       'electropop', 'emo', 'entehno', 'epicmetal', 'estrada', 'ethnic',\n",
       "       'eurofolk', 'european', 'experimental', 'extrememetal', 'fado',\n",
       "       'fairytail', 'film', 'fitness', 'flamenco', 'folk', 'folklore',\n",
       "       'folkmetal', 'folkrock', 'folktronica', 'forró', 'frankreich',\n",
       "       'französisch', 'french', 'funk', 'future', 'gangsta', 'garage',\n",
       "       'german', 'ghazal', 'gitarre', 'glitch', 'gospel', 'gothic',\n",
       "       'grime', 'grunge', 'gypsy', 'handsup', \"hard'n'heavy\", 'hardcore',\n",
       "       'hardstyle', 'hardtechno', 'hiphop', 'historisch', 'holiday',\n",
       "       'horror', 'house', 'hymn', 'idm', 'independent', 'indian', 'indie',\n",
       "       'indipop', 'industrial', 'inspirational', 'instrumental',\n",
       "       'international', 'irish', 'jam', 'japanese', 'jazz', 'jewish',\n",
       "       'jpop', 'jungle', 'k-pop', 'karadeniz', 'karaoke', 'kayokyoku',\n",
       "       'korean', 'laiko', 'latin', 'latino', 'leftfield', 'local',\n",
       "       'lounge', 'loungeelectronic', 'lovers', 'malaysian', 'mandopop',\n",
       "       'marschmusik', 'meditative', 'mediterranean', 'melodic', 'metal',\n",
       "       'metalcore', 'mexican', 'middle', 'minimal', 'miscellaneous',\n",
       "       'modern', 'mood', 'mpb', 'muslim', 'native', 'neoklassik', 'neue',\n",
       "       'new', 'newage', 'newwave', 'nu', 'nujazz', 'numetal', 'oceania',\n",
       "       'old', 'opera', 'orchestral', 'other', 'piano', 'podcasts', 'pop',\n",
       "       'popdance', 'popelectronic', 'popeurodance', 'poprussian', 'post',\n",
       "       'posthardcore', 'postrock', 'power', 'progmetal', 'progressive',\n",
       "       'psychedelic', 'punjabi', 'punk', 'quebecois', 'ragga', 'ram',\n",
       "       'rancheras', 'rap', 'rave', 'reggae', 'reggaeton', 'regional',\n",
       "       'relax', 'religious', 'retro', 'rhythm', 'rnb', 'rnr', 'rock',\n",
       "       'rockabilly', 'rockalternative', 'rockindie', 'rockother',\n",
       "       'romance', 'roots', 'ruspop', 'rusrap', 'rusrock', 'russian',\n",
       "       'salsa', 'samba', 'scenic', 'schlager', 'self', 'sertanejo',\n",
       "       'shanson', 'shoegazing', 'showtunes', 'singer', 'ska', 'skarock',\n",
       "       'slow', 'smooth', 'soft', 'soul', 'soulful', 'sound', 'soundtrack',\n",
       "       'southern', 'specialty', 'speech', 'spiritual', 'sport',\n",
       "       'stonerrock', 'surf', 'swing', 'synthpop', 'synthrock',\n",
       "       'sängerportrait', 'tango', 'tanzorchester', 'taraftar', 'tatar',\n",
       "       'tech', 'techno', 'teen', 'thrash', 'top', 'traditional',\n",
       "       'tradjazz', 'trance', 'tribal', 'trip', 'triphop', 'tropical',\n",
       "       'türk', 'türkçe', 'ukrrock', 'unknown', 'urban', 'uzbek',\n",
       "       'variété', 'vi', 'videogame', 'vocal', 'western', 'world',\n",
       "       'worldbeat', 'ïîï', 'электроника'], dtype=object)"
      ]
     },
     "execution_count": 17,
     "metadata": {},
     "output_type": "execute_result"
    }
   ],
   "source": [
    "# Проверка на неявные дубликаты\n",
    "df['genre'].sort_values(ascending=True).unique()"
   ]
  },
  {
   "cell_type": "markdown",
   "metadata": {
    "id": "jz6a9-7HQUDd"
   },
   "source": [
    "**Выводы**\n",
    "\n",
    "Предобработка обнаружила три проблемы в данных:\n",
    "\n",
    "- нарушения в стиле заголовков,\n",
    "- пропущенные значения,\n",
    "- дубликаты — явные и неявные.\n",
    "\n",
    "Вы исправили заголовки, чтобы упростить работу с таблицей. Без дубликатов исследование станет более точным.\n",
    "\n",
    "Пропущенные значения вы заменили на `'unknown'`. Ещё предстоит увидеть, не повредят ли исследованию пропуски в колонке `genre`.\n",
    "\n",
    "Теперь можно перейти к проверке гипотез. "
   ]
  },
  {
   "cell_type": "markdown",
   "metadata": {
    "id": "WttZHXH0SqKk"
   },
   "source": [
    "## Проверка гипотез"
   ]
  },
  {
   "cell_type": "markdown",
   "metadata": {
    "id": "Im936VVi_Zcu"
   },
   "source": [
    "### Сравнение поведения пользователей двух столиц"
   ]
  },
  {
   "cell_type": "markdown",
   "metadata": {
    "id": "nwt_MuaL_Zcu"
   },
   "source": [
    "Первая гипотеза утверждает, что пользователи по-разному слушают музыку в Москве и Санкт-Петербурге. Проверьте это предположение по данным о трёх днях недели — понедельнике, среде и пятнице. Для этого:\n",
    "\n",
    "* Разделите пользователей Москвы и Санкт-Петербурга\n",
    "* Сравните, сколько треков послушала каждая группа пользователей в понедельник, среду и пятницу.\n"
   ]
  },
  {
   "cell_type": "markdown",
   "metadata": {
    "id": "8Dw_YMmT_Zcu"
   },
   "source": [
    "Для тренировки сначала выполните каждый из расчётов по отдельности. \n",
    "\n",
    "Оцените активность пользователей в каждом городе. Сгруппируйте данные по городу и посчитайте прослушивания в каждой группе.\n",
    "\n"
   ]
  },
  {
   "cell_type": "code",
   "execution_count": 18,
   "metadata": {
    "id": "0_Qs96oh_Zcu"
   },
   "outputs": [
    {
     "name": "stdout",
     "output_type": "stream",
     "text": [
      "city\n",
      "Moscow              42741\n",
      "Saint-Petersburg    18512\n",
      "Name: time, dtype: int64\n"
     ]
    }
   ],
   "source": [
    "# Подсчёт прослушиваний в каждом городе\n",
    "city_time = df.groupby('city')['time'].count()\n",
    "print(city_time) \n"
   ]
  },
  {
   "cell_type": "markdown",
   "metadata": {
    "id": "dzli3w8o_Zcu"
   },
   "source": [
    "В Москве прослушиваний больше, чем в Петербурге. Из этого не следует, что московские пользователи чаще слушают музыку. Просто самих пользователей в Москве больше.\n",
    "\n",
    "Теперь сгруппируйте данные по дню недели и подсчитайте прослушивания в понедельник, среду и пятницу. Учтите, что в данных есть информация только о прослушиваниях только за эти дни.\n"
   ]
  },
  {
   "cell_type": "code",
   "execution_count": 19,
   "metadata": {
    "id": "uZMKjiJz_Zcu"
   },
   "outputs": [
    {
     "data": {
      "text/plain": [
       "day\n",
       "Friday       21840\n",
       "Monday       21354\n",
       "Wednesday    18059\n",
       "Name: time, dtype: int64"
      ]
     },
     "execution_count": 19,
     "metadata": {},
     "output_type": "execute_result"
    }
   ],
   "source": [
    "# Подсчёт прослушиваний в каждый из трёх дней\n",
    "df.groupby('day')['time'].count()"
   ]
  },
  {
   "cell_type": "markdown",
   "metadata": {
    "id": "cC2tNrlL_Zcu"
   },
   "source": [
    "В среднем пользователи из двух городов менее активны по средам. Но картина может измениться, если рассмотреть каждый город в отдельности."
   ]
  },
  {
   "cell_type": "markdown",
   "metadata": {
    "id": "POzs8bGa_Zcu"
   },
   "source": [
    "Вы видели, как работает группировка по городу и по дням недели. Теперь напишите функцию, которая объединит два эти расчёта.\n",
    "\n",
    "Создайте функцию `number_tracks()`, которая посчитает прослушивания для заданного дня и города. Ей понадобятся два параметра:\n",
    "* день недели,\n",
    "* название города.\n",
    "\n",
    "В функции сохраните в переменную строки исходной таблицы, у которых значение:\n",
    "  * в колонке `day` равно параметру `day`,\n",
    "  * в колонке `city` равно параметру `city`.\n",
    "\n",
    "Для этого примените последовательную фильтрацию с логической индексацией.\n",
    "\n",
    "Затем посчитайте значения в столбце `user_id` получившейся таблицы. Результат сохраните в новую переменную. Верните эту переменную из функции."
   ]
  },
  {
   "cell_type": "code",
   "execution_count": 20,
   "metadata": {
    "id": "Nz3GdQB1_Zcu"
   },
   "outputs": [],
   "source": [
    "def number_tracks(day, city):\n",
    "    track_list = df[df['day'] == day]\n",
    "    track_list = track_list[track_list['city'] == city]\n",
    "    track_list_count = track_list ['user_id'].count()\n",
    "    return track_list_count\n",
    "\n",
    "\n",
    "# <создание функции number_tracks()>\n",
    "# Объявляется функция с двумя параметрами: day, city.\n",
    "# В переменной track_list сохраняются те строки таблицы df, для которых \n",
    "# значение в столбце 'day' равно параметру day и одновременно значение\n",
    "# в столбце 'city' равно параметру city (используйте последовательную фильтрацию\n",
    "# с помощью логической индексации).\n",
    "# В переменной track_list_count сохраняется число значений столбца 'user_id',\n",
    "# рассчитанное методом count() для таблицы track_list.\n",
    "# Функция возвращает число - значение track_list_count.\n",
    "\n",
    "# Функция для подсчёта прослушиваний для конкретного города и дня.\n",
    "\n",
    "\n",
    "# С помощью последовательной фильтрации с логической индексацией она \n",
    "# сначала получит из исходной таблицы строки с нужным днём,\n",
    "# затем из результата отфильтрует строки с нужным городом,\n",
    "# методом count() посчитает количество значений в колонке user_id. \n",
    "# Это количество функция вернёт в качестве результата"
   ]
  },
  {
   "cell_type": "markdown",
   "metadata": {
    "id": "ytf7xFrFJQ2r"
   },
   "source": [
    "Вызовите `number_tracks()` шесть раз, меняя значение параметров — так, чтобы получить данные для каждого города в каждый из трёх дней."
   ]
  },
  {
   "cell_type": "code",
   "execution_count": 21,
   "metadata": {
    "id": "rJcRATNQ_Zcu"
   },
   "outputs": [
    {
     "data": {
      "text/plain": [
       "15740"
      ]
     },
     "execution_count": 21,
     "metadata": {},
     "output_type": "execute_result"
    }
   ],
   "source": [
    "# количество прослушиваний в Москве по понедельникам\n",
    "number_tracks ('Monday', 'Moscow')"
   ]
  },
  {
   "cell_type": "code",
   "execution_count": 22,
   "metadata": {
    "id": "hq_ncZ5T_Zcu"
   },
   "outputs": [
    {
     "data": {
      "text/plain": [
       "5614"
      ]
     },
     "execution_count": 22,
     "metadata": {},
     "output_type": "execute_result"
    }
   ],
   "source": [
    "# количество прослушиваний в Санкт-Петербурге по понедельникам\n",
    "number_tracks ('Monday', 'Saint-Petersburg')"
   ]
  },
  {
   "cell_type": "code",
   "execution_count": 23,
   "metadata": {
    "id": "_NTy2VPU_Zcu"
   },
   "outputs": [
    {
     "data": {
      "text/plain": [
       "11056"
      ]
     },
     "execution_count": 23,
     "metadata": {},
     "output_type": "execute_result"
    }
   ],
   "source": [
    "# количество прослушиваний в Москве по средам\n",
    "number_tracks ('Wednesday', 'Moscow')"
   ]
  },
  {
   "cell_type": "code",
   "execution_count": 24,
   "metadata": {
    "id": "j2y3TAwo_Zcu"
   },
   "outputs": [
    {
     "data": {
      "text/plain": [
       "7003"
      ]
     },
     "execution_count": 24,
     "metadata": {},
     "output_type": "execute_result"
    }
   ],
   "source": [
    "# количество прослушиваний в Санкт-Петербурге по средам\n",
    "number_tracks ('Wednesday', 'Saint-Petersburg')"
   ]
  },
  {
   "cell_type": "code",
   "execution_count": 25,
   "metadata": {
    "id": "vYDw5u_K_Zcu"
   },
   "outputs": [
    {
     "data": {
      "text/plain": [
       "15740"
      ]
     },
     "execution_count": 25,
     "metadata": {},
     "output_type": "execute_result"
    }
   ],
   "source": [
    "# количество прослушиваний в Москве по пятницам\n",
    "number_tracks ('Monday', 'Moscow')"
   ]
  },
  {
   "cell_type": "code",
   "execution_count": 26,
   "metadata": {
    "id": "8_yzFtW3_Zcu"
   },
   "outputs": [
    {
     "data": {
      "text/plain": [
       "5895"
      ]
     },
     "execution_count": 26,
     "metadata": {},
     "output_type": "execute_result"
    }
   ],
   "source": [
    "# количество прослушиваний в Санкт-Петербурге по пятницам\n",
    "number_tracks ('Friday', 'Saint-Petersburg')"
   ]
  },
  {
   "cell_type": "markdown",
   "metadata": {
    "id": "7QXffbO-_Zcu"
   },
   "source": [
    "Создайте c помощью конструктора `pd.DataFrame` таблицу, где\n",
    "* названия колонок — `['city', 'monday', 'wednesday', 'friday']`;\n",
    "* данные — результаты, которые вы получили с помощью `number_tracks`."
   ]
  },
  {
   "cell_type": "code",
   "execution_count": 27,
   "metadata": {
    "id": "APAcLpOr_Zcu"
   },
   "outputs": [
    {
     "name": "stdout",
     "output_type": "stream",
     "text": [
      "               city  monday  wednesday  friday\n",
      "0            Moscow   15740      11056   15740\n",
      "1  Saint-Petersburg    5614       7003    5895\n"
     ]
    }
   ],
   "source": [
    "# Таблица с результатами\n",
    "columns = ['city', 'monday', 'wednesday', 'friday']\n",
    "data = [['Moscow', 15740, 11056, 15740], ['Saint-Petersburg', 5614, 7003, 5895]]\n",
    "print (pd.DataFrame (data = data, columns=columns))\n",
    "\n",
    "\n"
   ]
  },
  {
   "cell_type": "markdown",
   "metadata": {
    "id": "-EgPIHYu_Zcu"
   },
   "source": [
    "**Выводы**\n",
    "\n",
    "Данные показывают разницу поведения пользователей:\n",
    "\n",
    "- В Москве пик прослушиваний приходится на понедельник и пятницу, а в среду заметен спад.\n",
    "- В Петербурге, наоборот, больше слушают музыку по средам. Активность в понедельник и пятницу здесь почти в равной мере уступает среде.\n",
    "\n",
    "Значит, данные говорят в пользу первой гипотезы."
   ]
  },
  {
   "cell_type": "markdown",
   "metadata": {
    "id": "atZAxtq4_Zcu"
   },
   "source": [
    "### Музыка в начале и в конце недели"
   ]
  },
  {
   "cell_type": "markdown",
   "metadata": {
    "id": "eXrQqXFH_Zcu"
   },
   "source": [
    "Согласно второй гипотезе, утром в понедельник в Москве преобладают одни жанры, а в Петербурге — другие. Так же и вечером пятницы преобладают разные жанры — в зависимости от города."
   ]
  },
  {
   "cell_type": "markdown",
   "metadata": {
    "id": "S8UcW6Hw_Zcu"
   },
   "source": [
    "Сохраните таблицы с данными в две переменные:\n",
    "* по Москве — в `moscow_general`;\n",
    "* по Санкт-Петербургу — в `spb_general`."
   ]
  },
  {
   "cell_type": "code",
   "execution_count": 28,
   "metadata": {
    "id": "qeaFfM_P_Zcu"
   },
   "outputs": [],
   "source": [
    "# получение таблицы moscow_general из тех строк таблицы df, \n",
    "# для которых значение в столбце 'city' равно 'Moscow'\n",
    "moscow_general = df[df['city'] == 'Moscow']"
   ]
  },
  {
   "cell_type": "code",
   "execution_count": 29,
   "metadata": {
    "id": "ORaVRKto_Zcu"
   },
   "outputs": [],
   "source": [
    "# получение таблицы spb_general из тех строк таблицы df,\n",
    "# для которых значение в столбце 'city' равно 'Saint-Petersburg'\n",
    "spb_general = df[df['city'] == 'Saint-Petersburg']"
   ]
  },
  {
   "cell_type": "markdown",
   "metadata": {
    "id": "MEJV-CX2_Zcu"
   },
   "source": [
    "Создайте функцию `genre_weekday()` с четырьмя параметрами:\n",
    "* таблица (датафрейм) с данными,\n",
    "* день недели,\n",
    "* начальная временная метка в формате 'hh:mm', \n",
    "* последняя временная метка в формате 'hh:mm'.\n",
    "\n",
    "Функция должна вернуть информацию о топ-10 жанров тех треков, которые прослушивали в указанный день, в промежутке между двумя отметками времени."
   ]
  },
  {
   "cell_type": "code",
   "execution_count": 30,
   "metadata": {
    "id": "laJT9BYl_Zcu"
   },
   "outputs": [],
   "source": [
    "def genre_weekday(table, day, time1, time2):\n",
    "    genre_df = table[table['day'] == day]\n",
    "    genre_df = genre_df[genre_df['time'] > time1]\n",
    "    genre_df = genre_df[genre_df['time'] < time2]\n",
    "    genre_df_count = genre_df.groupby('genre')['day'].count()\n",
    "    genre_df_sorted = genre_df_count.sort_values(ascending=False)\n",
    "    return genre_df_sorted.head(10)\n",
    "\n",
    "\n",
    "\n",
    "# Объявление функции genre_weekday() с параметрами table, day, time1, time2,\n",
    "# которая возвращает информацию о самых популярных жанрах в указанный день в\n",
    "# заданное время:\n",
    "# 1) в переменную genre_df сохраняются те строки переданного датафрейма table, для\n",
    "#    которых одновременно:\n",
    "#    - значение в столбце day равно значению аргумента day\n",
    "#    - значение в столбце time больше значения аргумента time1\n",
    "#    - значение в столбце time меньше значения аргумента time2\n",
    "#    Используйте последовательную фильтрацию с помощью логической индексации.\n",
    "# 2) сгруппировать датафрейм genre_df по столбцу genre, взять один из его\n",
    "#    столбцов и посчитать методом count() количество записей для каждого из\n",
    "#    присутствующих жанров, получившийся Series записать в переменную\n",
    "#    genre_df_count\n",
    "# 3) отсортировать genre_df_count по убыванию встречаемости и сохранить\n",
    "#    в переменную genre_df_sorted\n",
    "# 4) вернуть Series из 10 первых значений genre_df_sorted, это будут топ-10\n",
    "#    популярных жанров (в указанный день, в заданное время)"
   ]
  },
  {
   "cell_type": "markdown",
   "metadata": {
    "id": "la2s2_PF_Zcu"
   },
   "source": [
    "Cравните результаты функции `genre_weekday()` для Москвы и Санкт-Петербурга в понедельник утром (с 7:00 до 11:00) и в пятницу вечером (с 17:00 до 23:00):"
   ]
  },
  {
   "cell_type": "code",
   "execution_count": 31,
   "metadata": {
    "id": "yz7itPUQ_Zcu"
   },
   "outputs": [
    {
     "data": {
      "text/plain": [
       "genre\n",
       "pop            781\n",
       "dance          549\n",
       "electronic     480\n",
       "rock           474\n",
       "hiphop         286\n",
       "ruspop         186\n",
       "world          181\n",
       "rusrap         175\n",
       "alternative    164\n",
       "unknown        161\n",
       "Name: day, dtype: int64"
      ]
     },
     "execution_count": 31,
     "metadata": {},
     "output_type": "execute_result"
    }
   ],
   "source": [
    "# вызов функции для утра понедельника в Москве (вместо df — таблица moscow_general)\n",
    "# объекты, хранящие время, являются строками и сравниваются как строки\n",
    "# пример вызова: genre_weekday(moscow_general, 'Monday', '07:00', '11:00')\n",
    "\n",
    "genre_weekday (moscow_general, 'Monday', '07:00', '11:00')"
   ]
  },
  {
   "cell_type": "code",
   "execution_count": 32,
   "metadata": {
    "id": "kwUcHPdy_Zcu"
   },
   "outputs": [
    {
     "data": {
      "text/plain": [
       "genre\n",
       "pop            218\n",
       "dance          182\n",
       "rock           162\n",
       "electronic     147\n",
       "hiphop          80\n",
       "ruspop          64\n",
       "alternative     58\n",
       "rusrap          55\n",
       "jazz            44\n",
       "classical       40\n",
       "Name: day, dtype: int64"
      ]
     },
     "execution_count": 32,
     "metadata": {},
     "output_type": "execute_result"
    }
   ],
   "source": [
    "# вызов функции для утра понедельника в Петербурге (вместо df — таблица spb_general)\n",
    "\n",
    "genre_weekday (spb_general, 'Monday', '07:00', '11:00')"
   ]
  },
  {
   "cell_type": "code",
   "execution_count": 33,
   "metadata": {
    "id": "EzXVRE1o_Zcu"
   },
   "outputs": [
    {
     "data": {
      "text/plain": [
       "genre\n",
       "pop            713\n",
       "rock           517\n",
       "dance          495\n",
       "electronic     482\n",
       "hiphop         273\n",
       "world          208\n",
       "ruspop         170\n",
       "alternative    163\n",
       "classical      163\n",
       "rusrap         142\n",
       "Name: day, dtype: int64"
      ]
     },
     "execution_count": 33,
     "metadata": {},
     "output_type": "execute_result"
    }
   ],
   "source": [
    "# вызов функции для вечера пятницы в Москве\n",
    "genre_weekday (moscow_general, 'Friday', '17:00', '23:00')"
   ]
  },
  {
   "cell_type": "code",
   "execution_count": 34,
   "metadata": {
    "id": "JZaEKu5v_Zcu"
   },
   "outputs": [
    {
     "data": {
      "text/plain": [
       "genre\n",
       "pop            256\n",
       "rock           216\n",
       "electronic     216\n",
       "dance          210\n",
       "hiphop          97\n",
       "alternative     63\n",
       "jazz            61\n",
       "classical       60\n",
       "rusrap          59\n",
       "world           54\n",
       "Name: day, dtype: int64"
      ]
     },
     "execution_count": 34,
     "metadata": {},
     "output_type": "execute_result"
    }
   ],
   "source": [
    "# вызов функции для вечера пятницы в Петербурге\n",
    "genre_weekday (spb_general, 'Friday', '17:00', '23:00')"
   ]
  },
  {
   "cell_type": "markdown",
   "metadata": {
    "id": "wrCe4MNX_Zcu"
   },
   "source": [
    "**Выводы**\n",
    "\n",
    "Если сравнить топ-10 жанров в понедельник утром, можно сделать такие выводы:\n",
    "\n",
    "1. В Москве и Петербурге слушают похожую музыку. Единственное отличие — в московский рейтинг вошёл жанр “world”, а в петербургский — джаз и классика.\n",
    "\n",
    "2. В Москве пропущенных значений оказалось так много, что значение `'unknown'` заняло десятое место среди самых популярных жанров. Значит, пропущенные значения занимают существенную долю в данных и угрожают достоверности исследования.\n",
    "\n",
    "Вечер пятницы не меняет эту картину. Некоторые жанры поднимаются немного выше, другие спускаются, но в целом топ-10 остаётся тем же самым.\n",
    "\n",
    "Таким образом, вторая гипотеза подтвердилась лишь частично:\n",
    "* Пользователи слушают похожую музыку в начале недели и в конце.\n",
    "* Разница между Москвой и Петербургом не слишком выражена. В Москве чаще слушают русскую популярную музыку, в Петербурге — джаз.\n",
    "\n",
    "Однако пропуски в данных ставят под сомнение этот результат. В Москве их так много, что рейтинг топ-10 мог бы выглядеть иначе, если бы не утерянные  данные о жанрах."
   ]
  },
  {
   "cell_type": "markdown",
   "metadata": {
    "id": "JolODAqr_Zcu"
   },
   "source": [
    "### Жанровые предпочтения в Москве и Петербурге\n",
    "\n",
    "Гипотеза: Петербург — столица рэпа, музыку этого жанра там слушают чаще, чем в Москве.  А Москва — город контрастов, в котором, тем не менее, преобладает поп-музыка."
   ]
  },
  {
   "cell_type": "markdown",
   "metadata": {
    "id": "DlegSvaT_Zcu"
   },
   "source": [
    "Сгруппируйте таблицу `moscow_general` по жанру и посчитайте прослушивания треков каждого жанра методом `count()`. Затем отсортируйте результат в порядке убывания и сохраните его в таблице `moscow_genres`."
   ]
  },
  {
   "cell_type": "code",
   "execution_count": 35,
   "metadata": {
    "id": "r19lIPke_Zcu"
   },
   "outputs": [],
   "source": [
    "moscow_genres = (moscow_general.groupby('genre')['city']).count().sort_values(ascending = False)\n",
    "\n",
    "# одной строкой: группировка таблицы moscow_general по столбцу 'genre', \n",
    "# подсчёт числа значений 'genre' в этой группировке методом count(), \n",
    "# сортировка получившегося Series в порядке убывания и сохранение в moscow_genres"
   ]
  },
  {
   "cell_type": "markdown",
   "metadata": {
    "id": "6kMuomxTiIr8"
   },
   "source": [
    "Выведите на экран первые десять строк `moscow_genres`:"
   ]
  },
  {
   "cell_type": "code",
   "execution_count": 36,
   "metadata": {
    "id": "WhCSooF8_Zcv"
   },
   "outputs": [
    {
     "data": {
      "text/plain": [
       "genre\n",
       "pop            5892\n",
       "dance          4435\n",
       "rock           3965\n",
       "electronic     3786\n",
       "hiphop         2096\n",
       "classical      1616\n",
       "world          1432\n",
       "alternative    1379\n",
       "ruspop         1372\n",
       "rusrap         1161\n",
       "Name: city, dtype: int64"
      ]
     },
     "execution_count": 36,
     "metadata": {},
     "output_type": "execute_result"
    }
   ],
   "source": [
    "moscow_genres.head(10)\n",
    "# просмотр первых 10 строк moscow_genres"
   ]
  },
  {
   "cell_type": "markdown",
   "metadata": {
    "id": "cnPG2vnN_Zcv"
   },
   "source": [
    "Теперь повторите то же и для Петербурга.\n",
    "\n",
    "Сгруппируйте таблицу `spb_general` по жанру. Посчитайте прослушивания треков каждого жанра. Результат отсортируйте в порядке убывания и сохраните в таблице `spb_genres`:\n"
   ]
  },
  {
   "cell_type": "code",
   "execution_count": 37,
   "metadata": {
    "id": "gluLIpE7_Zcv"
   },
   "outputs": [],
   "source": [
    "spb_genres = (spb_general.groupby('genre')['city']).count().sort_values(ascending = False)\n",
    "# одной строкой: группировка таблицы spb_general по столбцу 'genre', \n",
    "# подсчёт числа значений 'genre' в этой группировке методом count(), \n",
    "# сортировка получившегося Series в порядке убывания и сохранение в spb_genres"
   ]
  },
  {
   "cell_type": "markdown",
   "metadata": {
    "id": "5Doha_ODgyQ8"
   },
   "source": [
    "Выведите на экран первые десять строк `spb_genres`:"
   ]
  },
  {
   "cell_type": "code",
   "execution_count": 38,
   "metadata": {
    "id": "uaGJHjVU_Zcv"
   },
   "outputs": [
    {
     "data": {
      "text/plain": [
       "genre\n",
       "pop            2431\n",
       "dance          1932\n",
       "rock           1879\n",
       "electronic     1736\n",
       "hiphop          960\n",
       "alternative     649\n",
       "classical       646\n",
       "rusrap          564\n",
       "ruspop          538\n",
       "world           515\n",
       "Name: city, dtype: int64"
      ]
     },
     "execution_count": 38,
     "metadata": {},
     "output_type": "execute_result"
    }
   ],
   "source": [
    "spb_genres.head(10)\n",
    "# просмотр первых 10 строк spb_genres"
   ]
  },
  {
   "cell_type": "markdown",
   "metadata": {
    "id": "RY51YJYu_Zcv"
   },
   "source": [
    "**Выводы**"
   ]
  },
  {
   "cell_type": "markdown",
   "metadata": {
    "id": "nVhnJEm__Zcv"
   },
   "source": [
    "Гипотеза частично подтвердилась:\n",
    "* Поп-музыка — самый популярный жанр в Москве, как и предполагала гипотеза. Более того, в топ-10 жанров встречается близкий жанр — русская популярная музыка.\n",
    "* Вопреки ожиданиям, рэп одинаково популярен в Москве и Петербурге. \n"
   ]
  },
  {
   "cell_type": "markdown",
   "metadata": {
    "id": "ykKQ0N65_Zcv"
   },
   "source": [
    "## Итоги исследования"
   ]
  },
  {
   "cell_type": "markdown",
   "metadata": {
    "id": "tjUwbHb3_Zcv"
   },
   "source": [
    "Вы проверили три гипотезы и установили:\n",
    "\n",
    "1. День недели по-разному влияет на активность пользователей в Москве и Петербурге. \n",
    "\n",
    "Первая гипотеза полностью подтвердилась.\n",
    "\n",
    "2. Музыкальные предпочтения не сильно меняются в течение недели — будь то Москва или Петербург. Небольшие различия заметны в начале недели, по понедельникам:\n",
    "* в Москве слушают музыку жанра “world”,\n",
    "* в Петербурге — джаз и классику.\n",
    "\n",
    "Таким образом, вторая гипотеза подтвердилась лишь отчасти. Этот результат мог оказаться иным, если бы не пропуски в данных.\n",
    "\n",
    "3. Во вкусах пользователей Москвы и Петербурга больше общего чем различий. Вопреки ожиданиям, предпочтения жанров в Петербурге напоминают московские.\n",
    "\n",
    "Третья гипотеза не подтвердилась. Если различия в предпочтениях и существуют, на основной массе пользователей они незаметны.\n",
    "\n",
    "**На практике исследования содержат проверки статистических гипотез.**\n",
    "Из данных одного сервиса не всегда можно сделать вывод о всех жителях города.\n",
    "Проверки статистических гипотез покажут, насколько они достоверны, исходя из имеющихся данных. \n",
    "С методами проверок гипотез вы ещё познакомитесь в следующих темах."
   ]
  }
 ],
 "metadata": {
  "ExecuteTimeLog": [
   {
    "duration": 381,
    "start_time": "2022-02-27T10:15:15.975Z"
   },
   {
    "duration": 249,
    "start_time": "2022-02-27T10:15:22.795Z"
   },
   {
    "duration": 223,
    "start_time": "2022-02-27T10:15:36.464Z"
   },
   {
    "duration": 217,
    "start_time": "2022-02-27T10:15:56.094Z"
   },
   {
    "duration": 230,
    "start_time": "2022-02-27T10:16:45.884Z"
   },
   {
    "duration": 230,
    "start_time": "2022-02-27T10:17:59.235Z"
   },
   {
    "duration": 224,
    "start_time": "2022-02-27T10:18:07.374Z"
   },
   {
    "duration": 240,
    "start_time": "2022-02-27T10:18:12.802Z"
   },
   {
    "duration": 227,
    "start_time": "2022-02-27T10:18:18.194Z"
   },
   {
    "duration": 228,
    "start_time": "2022-02-27T10:18:34.705Z"
   },
   {
    "duration": 220,
    "start_time": "2022-02-27T10:19:18.060Z"
   },
   {
    "duration": 736,
    "start_time": "2022-02-27T10:19:37.103Z"
   },
   {
    "duration": 1520,
    "start_time": "2022-02-27T10:19:40.893Z"
   },
   {
    "duration": 200,
    "start_time": "2022-02-27T10:20:07.002Z"
   },
   {
    "duration": 25,
    "start_time": "2022-02-27T10:20:11.911Z"
   },
   {
    "duration": 34,
    "start_time": "2022-02-27T10:20:18.552Z"
   },
   {
    "duration": 4,
    "start_time": "2022-02-27T10:25:56.287Z"
   },
   {
    "duration": 5,
    "start_time": "2022-02-27T10:28:14.365Z"
   },
   {
    "duration": 29,
    "start_time": "2022-02-27T10:28:21.126Z"
   },
   {
    "duration": 4,
    "start_time": "2022-02-27T10:29:03.104Z"
   },
   {
    "duration": 30,
    "start_time": "2022-02-27T10:31:08.081Z"
   },
   {
    "duration": 31,
    "start_time": "2022-02-27T10:43:13.334Z"
   },
   {
    "duration": 29,
    "start_time": "2022-02-27T10:43:17.175Z"
   },
   {
    "duration": 30,
    "start_time": "2022-02-27T10:43:26.666Z"
   },
   {
    "duration": 29,
    "start_time": "2022-02-27T10:44:18.248Z"
   },
   {
    "duration": 128,
    "start_time": "2022-02-27T10:44:21.771Z"
   },
   {
    "duration": 26,
    "start_time": "2022-02-27T10:44:52.391Z"
   },
   {
    "duration": 29,
    "start_time": "2022-02-27T10:44:55.312Z"
   },
   {
    "duration": 86,
    "start_time": "2022-02-27T10:46:23.968Z"
   },
   {
    "duration": 216,
    "start_time": "2022-02-27T10:47:36.337Z"
   },
   {
    "duration": 210,
    "start_time": "2022-02-27T10:48:57.059Z"
   },
   {
    "duration": 217,
    "start_time": "2022-02-27T10:49:10.669Z"
   },
   {
    "duration": 275,
    "start_time": "2022-02-27T10:49:59.316Z"
   },
   {
    "duration": 249,
    "start_time": "2022-02-27T10:50:04.522Z"
   },
   {
    "duration": 229,
    "start_time": "2022-02-27T10:50:13.508Z"
   },
   {
    "duration": 270,
    "start_time": "2022-02-27T10:50:34.669Z"
   },
   {
    "duration": 230,
    "start_time": "2022-02-27T10:51:51.496Z"
   },
   {
    "duration": 237,
    "start_time": "2022-02-27T10:51:56.246Z"
   },
   {
    "duration": 232,
    "start_time": "2022-02-27T10:52:25.137Z"
   },
   {
    "duration": 226,
    "start_time": "2022-02-27T10:52:39.617Z"
   },
   {
    "duration": 224,
    "start_time": "2022-02-27T10:54:07.014Z"
   },
   {
    "duration": 276,
    "start_time": "2022-02-27T10:54:47.109Z"
   },
   {
    "duration": 14,
    "start_time": "2022-02-27T10:55:58.012Z"
   },
   {
    "duration": 17,
    "start_time": "2022-02-27T10:56:06.321Z"
   },
   {
    "duration": 18,
    "start_time": "2022-02-27T10:56:12.193Z"
   },
   {
    "duration": 19,
    "start_time": "2022-02-27T10:56:13.682Z"
   },
   {
    "duration": 18,
    "start_time": "2022-02-27T10:56:29.646Z"
   },
   {
    "duration": 18,
    "start_time": "2022-02-27T10:56:30.544Z"
   },
   {
    "duration": 19,
    "start_time": "2022-02-27T10:56:31.265Z"
   },
   {
    "duration": 18,
    "start_time": "2022-02-27T10:56:41.094Z"
   },
   {
    "duration": 19,
    "start_time": "2022-02-27T10:56:46.552Z"
   },
   {
    "duration": 6,
    "start_time": "2022-02-27T10:56:53.032Z"
   },
   {
    "duration": 29,
    "start_time": "2022-02-27T10:56:57.905Z"
   },
   {
    "duration": 6,
    "start_time": "2022-02-27T10:57:00.692Z"
   },
   {
    "duration": 31,
    "start_time": "2022-02-27T10:57:04.224Z"
   },
   {
    "duration": 31,
    "start_time": "2022-02-27T10:57:06.845Z"
   },
   {
    "duration": 34,
    "start_time": "2022-02-27T10:57:07.613Z"
   },
   {
    "duration": 5,
    "start_time": "2022-02-27T10:57:10.084Z"
   },
   {
    "duration": 30,
    "start_time": "2022-02-27T10:57:14.941Z"
   },
   {
    "duration": 28,
    "start_time": "2022-02-27T10:57:23.305Z"
   },
   {
    "duration": 25,
    "start_time": "2022-02-27T10:57:27.164Z"
   },
   {
    "duration": 30,
    "start_time": "2022-02-27T10:57:29.474Z"
   },
   {
    "duration": 19,
    "start_time": "2022-02-27T10:57:34.826Z"
   },
   {
    "duration": 85,
    "start_time": "2022-02-27T10:57:45.053Z"
   },
   {
    "duration": 198,
    "start_time": "2022-02-27T10:59:08.911Z"
   },
   {
    "duration": 76,
    "start_time": "2022-02-27T10:59:13.594Z"
   },
   {
    "duration": 97,
    "start_time": "2022-02-27T10:59:20.103Z"
   },
   {
    "duration": 76,
    "start_time": "2022-02-27T10:59:23.234Z"
   },
   {
    "duration": 13,
    "start_time": "2022-02-27T11:01:00.136Z"
   },
   {
    "duration": 8,
    "start_time": "2022-02-27T11:12:27.434Z"
   },
   {
    "duration": 283,
    "start_time": "2022-02-27T11:12:33.629Z"
   },
   {
    "duration": 5,
    "start_time": "2022-02-27T11:12:50.201Z"
   },
   {
    "duration": 434,
    "start_time": "2022-02-27T11:12:53.619Z"
   },
   {
    "duration": 5,
    "start_time": "2022-02-27T11:13:31.218Z"
   },
   {
    "duration": 5,
    "start_time": "2022-02-27T11:13:34.452Z"
   },
   {
    "duration": 454,
    "start_time": "2022-02-27T11:13:37.559Z"
   },
   {
    "duration": 4,
    "start_time": "2022-02-27T11:13:49.397Z"
   },
   {
    "duration": 575,
    "start_time": "2022-02-27T11:13:52.061Z"
   },
   {
    "duration": 5,
    "start_time": "2022-02-27T11:14:13.433Z"
   },
   {
    "duration": 460,
    "start_time": "2022-02-27T11:14:15.824Z"
   },
   {
    "duration": 4,
    "start_time": "2022-02-27T11:16:23.905Z"
   },
   {
    "duration": 488,
    "start_time": "2022-02-27T11:16:30.773Z"
   },
   {
    "duration": 9,
    "start_time": "2022-02-27T11:17:32.564Z"
   },
   {
    "duration": 8,
    "start_time": "2022-02-27T11:17:35.503Z"
   },
   {
    "duration": 519,
    "start_time": "2022-02-27T11:17:38.803Z"
   },
   {
    "duration": 4,
    "start_time": "2022-02-27T11:17:42.393Z"
   },
   {
    "duration": 477,
    "start_time": "2022-02-27T11:17:45.036Z"
   },
   {
    "duration": 9,
    "start_time": "2022-02-27T11:17:48.513Z"
   },
   {
    "duration": 13,
    "start_time": "2022-02-27T11:17:53.973Z"
   },
   {
    "duration": 85,
    "start_time": "2022-02-27T11:17:56.942Z"
   },
   {
    "duration": 8,
    "start_time": "2022-02-27T11:18:00.063Z"
   },
   {
    "duration": 5,
    "start_time": "2022-02-27T11:18:03.605Z"
   },
   {
    "duration": 448,
    "start_time": "2022-02-27T11:18:06.065Z"
   },
   {
    "duration": 8,
    "start_time": "2022-02-27T11:18:08.993Z"
   },
   {
    "duration": 4,
    "start_time": "2022-02-27T11:18:35.247Z"
   },
   {
    "duration": 444,
    "start_time": "2022-02-27T11:18:37.802Z"
   },
   {
    "duration": 6,
    "start_time": "2022-02-27T11:19:05.952Z"
   },
   {
    "duration": 449,
    "start_time": "2022-02-27T11:19:07.763Z"
   },
   {
    "duration": 4,
    "start_time": "2022-02-27T11:19:13.614Z"
   },
   {
    "duration": 419,
    "start_time": "2022-02-27T11:19:18.853Z"
   },
   {
    "duration": 4,
    "start_time": "2022-02-27T11:19:30.836Z"
   },
   {
    "duration": 456,
    "start_time": "2022-02-27T11:19:34.115Z"
   },
   {
    "duration": 4,
    "start_time": "2022-02-27T11:19:43.025Z"
   },
   {
    "duration": 14,
    "start_time": "2022-02-27T11:19:46.301Z"
   },
   {
    "duration": 9,
    "start_time": "2022-02-27T11:19:49.806Z"
   },
   {
    "duration": 9,
    "start_time": "2022-02-27T11:22:41.893Z"
   },
   {
    "duration": 8,
    "start_time": "2022-02-27T11:23:05.989Z"
   },
   {
    "duration": 13,
    "start_time": "2022-02-27T11:24:57.338Z"
   },
   {
    "duration": 14,
    "start_time": "2022-02-27T11:25:07.435Z"
   },
   {
    "duration": 8,
    "start_time": "2022-02-27T11:25:10.908Z"
   },
   {
    "duration": 286,
    "start_time": "2022-02-27T16:52:48.213Z"
   },
   {
    "duration": 272,
    "start_time": "2022-02-27T16:52:55.699Z"
   },
   {
    "duration": 282,
    "start_time": "2022-02-27T16:53:04.881Z"
   },
   {
    "duration": 534,
    "start_time": "2022-02-27T16:53:07.921Z"
   },
   {
    "duration": 129,
    "start_time": "2022-02-27T16:53:10.203Z"
   },
   {
    "duration": 14,
    "start_time": "2022-02-27T16:53:13.042Z"
   },
   {
    "duration": 23,
    "start_time": "2022-02-27T16:53:15.728Z"
   },
   {
    "duration": 21,
    "start_time": "2022-02-27T16:53:20.642Z"
   },
   {
    "duration": 3,
    "start_time": "2022-02-27T16:53:24.024Z"
   },
   {
    "duration": 19,
    "start_time": "2022-02-27T16:53:27.001Z"
   },
   {
    "duration": 3,
    "start_time": "2022-02-27T16:53:29.041Z"
   },
   {
    "duration": 21,
    "start_time": "2022-02-27T16:53:31.361Z"
   },
   {
    "duration": 15,
    "start_time": "2022-02-27T16:53:37.729Z"
   },
   {
    "duration": 20,
    "start_time": "2022-02-27T16:53:39.369Z"
   },
   {
    "duration": 55,
    "start_time": "2022-02-27T16:53:42.403Z"
   },
   {
    "duration": 58,
    "start_time": "2022-02-27T16:53:44.642Z"
   },
   {
    "duration": 46,
    "start_time": "2022-02-27T16:53:46.529Z"
   },
   {
    "duration": 6,
    "start_time": "2022-02-27T16:53:50.042Z"
   },
   {
    "duration": 3,
    "start_time": "2022-02-27T16:53:54.481Z"
   },
   {
    "duration": 10,
    "start_time": "2022-02-27T16:53:57.120Z"
   },
   {
    "duration": 6,
    "start_time": "2022-02-27T16:53:59.881Z"
   },
   {
    "duration": 3,
    "start_time": "2022-02-27T16:54:03.881Z"
   },
   {
    "duration": 2,
    "start_time": "2022-02-27T16:54:07.441Z"
   },
   {
    "duration": 3,
    "start_time": "2022-02-27T16:54:17.845Z"
   },
   {
    "duration": 3,
    "start_time": "2022-02-27T16:54:22.641Z"
   },
   {
    "duration": 2,
    "start_time": "2022-02-27T16:54:23.321Z"
   },
   {
    "duration": 3,
    "start_time": "2022-02-27T16:54:23.921Z"
   },
   {
    "duration": 4,
    "start_time": "2022-02-27T16:54:24.642Z"
   },
   {
    "duration": 3,
    "start_time": "2022-02-27T16:54:36.329Z"
   },
   {
    "duration": 2,
    "start_time": "2022-02-27T16:54:38.189Z"
   },
   {
    "duration": 3,
    "start_time": "2022-02-27T16:55:14.172Z"
   },
   {
    "duration": 294,
    "start_time": "2022-02-27T16:55:26.679Z"
   },
   {
    "duration": 268,
    "start_time": "2022-02-27T16:55:35.139Z"
   },
   {
    "duration": 5,
    "start_time": "2022-02-27T16:55:49.167Z"
   },
   {
    "duration": 341,
    "start_time": "2022-02-27T16:55:57.159Z"
   },
   {
    "duration": 287,
    "start_time": "2022-02-27T16:57:00.123Z"
   },
   {
    "duration": 8,
    "start_time": "2022-02-27T16:57:27.605Z"
   },
   {
    "duration": 7,
    "start_time": "2022-02-27T16:57:30.685Z"
   },
   {
    "duration": 388,
    "start_time": "2022-02-27T16:57:41.005Z"
   },
   {
    "duration": 611,
    "start_time": "2022-02-27T16:57:52.604Z"
   },
   {
    "duration": 272,
    "start_time": "2022-02-27T16:58:00.739Z"
   },
   {
    "duration": 372,
    "start_time": "2022-02-27T16:58:20.524Z"
   },
   {
    "duration": 282,
    "start_time": "2022-02-27T16:58:39.099Z"
   },
   {
    "duration": 265,
    "start_time": "2022-02-27T16:59:20.399Z"
   },
   {
    "duration": 287,
    "start_time": "2022-02-27T17:00:05.053Z"
   },
   {
    "duration": 6,
    "start_time": "2022-02-27T17:00:17.777Z"
   },
   {
    "duration": 5,
    "start_time": "2022-02-27T17:00:31.626Z"
   },
   {
    "duration": 3,
    "start_time": "2022-02-27T17:00:36.026Z"
   },
   {
    "duration": 8,
    "start_time": "2022-02-27T17:00:38.027Z"
   },
   {
    "duration": 5,
    "start_time": "2022-02-27T17:00:41.266Z"
   },
   {
    "duration": 274,
    "start_time": "2022-02-27T17:00:46.866Z"
   },
   {
    "duration": 267,
    "start_time": "2022-02-27T17:01:04.587Z"
   },
   {
    "duration": 369,
    "start_time": "2022-02-27T17:01:20.467Z"
   },
   {
    "duration": 286,
    "start_time": "2022-02-27T17:01:29.915Z"
   },
   {
    "duration": 281,
    "start_time": "2022-02-27T17:01:38.146Z"
   },
   {
    "duration": 306,
    "start_time": "2022-02-27T17:02:51.513Z"
   },
   {
    "duration": 276,
    "start_time": "2022-02-27T17:03:47.185Z"
   },
   {
    "duration": 9,
    "start_time": "2022-02-27T17:04:12.450Z"
   },
   {
    "duration": 9,
    "start_time": "2022-02-27T17:04:15.786Z"
   },
   {
    "duration": 9,
    "start_time": "2022-02-27T17:04:16.466Z"
   },
   {
    "duration": 8,
    "start_time": "2022-02-27T17:04:17.833Z"
   },
   {
    "duration": 288,
    "start_time": "2022-02-27T17:04:30.515Z"
   },
   {
    "duration": 367,
    "start_time": "2022-02-27T17:04:32.027Z"
   },
   {
    "duration": 286,
    "start_time": "2022-02-27T17:04:50.945Z"
   },
   {
    "duration": 4,
    "start_time": "2022-02-27T17:05:00.314Z"
   },
   {
    "duration": 3,
    "start_time": "2022-02-27T17:05:01.684Z"
   },
   {
    "duration": 3,
    "start_time": "2022-02-27T17:05:07.425Z"
   },
   {
    "duration": 17,
    "start_time": "2022-02-27T17:05:10.654Z"
   },
   {
    "duration": 3,
    "start_time": "2022-02-27T17:05:12.913Z"
   },
   {
    "duration": 19,
    "start_time": "2022-02-27T17:05:16.707Z"
   },
   {
    "duration": 20,
    "start_time": "2022-02-27T17:05:20.948Z"
   },
   {
    "duration": 20,
    "start_time": "2022-02-27T17:05:22.060Z"
   },
   {
    "duration": 15,
    "start_time": "2022-02-27T17:05:24.870Z"
   },
   {
    "duration": 21,
    "start_time": "2022-02-27T17:05:26.793Z"
   },
   {
    "duration": 48,
    "start_time": "2022-02-27T17:05:28.034Z"
   },
   {
    "duration": 53,
    "start_time": "2022-02-27T17:05:29.344Z"
   },
   {
    "duration": 45,
    "start_time": "2022-02-27T17:05:30.519Z"
   },
   {
    "duration": 5,
    "start_time": "2022-02-27T17:05:32.226Z"
   },
   {
    "duration": 3,
    "start_time": "2022-02-27T17:05:33.550Z"
   },
   {
    "duration": 11,
    "start_time": "2022-02-27T17:05:35.181Z"
   },
   {
    "duration": 6,
    "start_time": "2022-02-27T17:05:37.443Z"
   },
   {
    "duration": 8,
    "start_time": "2022-02-27T17:05:42.729Z"
   },
   {
    "duration": 274,
    "start_time": "2022-02-27T17:05:58.961Z"
   },
   {
    "duration": 584,
    "start_time": "2022-02-27T17:06:20.081Z"
   },
   {
    "duration": 281,
    "start_time": "2022-02-27T17:06:29.040Z"
   },
   {
    "duration": 294,
    "start_time": "2022-02-27T17:06:56.189Z"
   },
   {
    "duration": 285,
    "start_time": "2022-02-27T17:07:07.297Z"
   },
   {
    "duration": 2487,
    "start_time": "2022-02-27T17:07:26.984Z"
   },
   {
    "duration": 2129,
    "start_time": "2022-02-27T17:07:59.622Z"
   },
   {
    "duration": 2249,
    "start_time": "2022-02-27T17:08:04.290Z"
   },
   {
    "duration": 457,
    "start_time": "2022-02-27T17:08:44.232Z"
   },
   {
    "duration": 276,
    "start_time": "2022-02-27T17:08:54.868Z"
   },
   {
    "duration": 3,
    "start_time": "2022-02-27T17:09:35.540Z"
   },
   {
    "duration": 3,
    "start_time": "2022-02-27T17:09:37.759Z"
   },
   {
    "duration": 6,
    "start_time": "2022-02-27T17:09:43.998Z"
   },
   {
    "duration": 3,
    "start_time": "2022-02-27T17:09:51.958Z"
   },
   {
    "duration": 115,
    "start_time": "2022-02-27T17:09:53.058Z"
   },
   {
    "duration": 375,
    "start_time": "2022-02-27T17:09:54.598Z"
   },
   {
    "duration": 324,
    "start_time": "2022-02-27T17:09:56.391Z"
   },
   {
    "duration": 3,
    "start_time": "2022-02-27T17:09:59.360Z"
   },
   {
    "duration": 20,
    "start_time": "2022-02-27T17:10:01.290Z"
   },
   {
    "duration": 3,
    "start_time": "2022-02-27T17:10:02.331Z"
   },
   {
    "duration": 20,
    "start_time": "2022-02-27T17:10:04.438Z"
   },
   {
    "duration": 15,
    "start_time": "2022-02-27T17:10:06.431Z"
   },
   {
    "duration": 19,
    "start_time": "2022-02-27T17:10:07.521Z"
   },
   {
    "duration": 49,
    "start_time": "2022-02-27T17:10:08.578Z"
   },
   {
    "duration": 54,
    "start_time": "2022-02-27T17:10:09.598Z"
   },
   {
    "duration": 45,
    "start_time": "2022-02-27T17:10:10.659Z"
   },
   {
    "duration": 6,
    "start_time": "2022-02-27T17:10:12.531Z"
   },
   {
    "duration": 3,
    "start_time": "2022-02-27T17:10:14.298Z"
   },
   {
    "duration": 9,
    "start_time": "2022-02-27T17:10:15.131Z"
   },
   {
    "duration": 6,
    "start_time": "2022-02-27T17:10:16.859Z"
   },
   {
    "duration": 4,
    "start_time": "2022-02-27T17:10:19.930Z"
   },
   {
    "duration": 11,
    "start_time": "2022-02-27T17:11:03.798Z"
   },
   {
    "duration": 16,
    "start_time": "2022-02-27T17:11:18.939Z"
   },
   {
    "duration": 26,
    "start_time": "2022-02-27T17:11:38.538Z"
   },
   {
    "duration": 11,
    "start_time": "2022-02-27T17:11:49.258Z"
   },
   {
    "duration": 11,
    "start_time": "2022-02-27T17:12:01.698Z"
   },
   {
    "duration": 280,
    "start_time": "2022-02-27T17:12:09.018Z"
   },
   {
    "duration": 9,
    "start_time": "2022-02-27T17:12:16.849Z"
   },
   {
    "duration": 291,
    "start_time": "2022-02-27T17:13:40.806Z"
   },
   {
    "duration": 20,
    "start_time": "2022-02-27T17:13:52.293Z"
   },
   {
    "duration": 118,
    "start_time": "2022-02-27T17:14:02.127Z"
   },
   {
    "duration": 281,
    "start_time": "2022-02-27T17:14:05.827Z"
   },
   {
    "duration": 278,
    "start_time": "2022-02-27T17:14:15.566Z"
   },
   {
    "duration": 263,
    "start_time": "2022-02-27T17:14:16.695Z"
   },
   {
    "duration": 2,
    "start_time": "2022-02-27T17:14:19.734Z"
   },
   {
    "duration": 119,
    "start_time": "2022-02-27T17:14:20.566Z"
   },
   {
    "duration": 344,
    "start_time": "2022-02-27T17:14:22.325Z"
   },
   {
    "duration": 6,
    "start_time": "2022-02-27T17:14:36.969Z"
   },
   {
    "duration": 279,
    "start_time": "2022-02-27T17:14:46.286Z"
   },
   {
    "duration": 2,
    "start_time": "2022-02-27T17:14:52.448Z"
   },
   {
    "duration": 3,
    "start_time": "2022-02-27T17:14:53.007Z"
   },
   {
    "duration": 3,
    "start_time": "2022-02-27T17:14:54.366Z"
   },
   {
    "duration": 118,
    "start_time": "2022-02-27T17:14:56.287Z"
   },
   {
    "duration": 270,
    "start_time": "2022-02-27T17:14:58.448Z"
   },
   {
    "duration": 22,
    "start_time": "2022-02-27T17:15:01.886Z"
   },
   {
    "duration": 4,
    "start_time": "2022-02-27T17:15:10.606Z"
   },
   {
    "duration": 14,
    "start_time": "2022-02-27T17:15:13.774Z"
   },
   {
    "duration": 4,
    "start_time": "2022-02-27T17:15:15.775Z"
   },
   {
    "duration": 132,
    "start_time": "2022-02-27T17:15:25.049Z"
   },
   {
    "duration": 124,
    "start_time": "2022-02-27T17:15:27.293Z"
   },
   {
    "duration": 353,
    "start_time": "2022-02-27T17:15:29.926Z"
   },
   {
    "duration": 300,
    "start_time": "2022-02-27T17:15:43.845Z"
   },
   {
    "duration": 258,
    "start_time": "2022-02-27T17:15:59.237Z"
   },
   {
    "duration": 276,
    "start_time": "2022-02-27T17:18:00.118Z"
   },
   {
    "duration": 285,
    "start_time": "2022-02-27T17:18:01.758Z"
   },
   {
    "duration": 6,
    "start_time": "2022-02-27T17:18:58.197Z"
   },
   {
    "duration": 282,
    "start_time": "2022-02-27T17:23:19.062Z"
   },
   {
    "duration": 6,
    "start_time": "2022-02-27T17:23:32.439Z"
   },
   {
    "duration": 3,
    "start_time": "2022-02-27T17:23:42.354Z"
   },
   {
    "duration": 112,
    "start_time": "2022-02-27T17:23:42.731Z"
   },
   {
    "duration": 6,
    "start_time": "2022-02-27T17:23:43.135Z"
   },
   {
    "duration": 22,
    "start_time": "2022-02-27T17:23:43.571Z"
   },
   {
    "duration": 3,
    "start_time": "2022-02-27T17:23:44.976Z"
   },
   {
    "duration": 20,
    "start_time": "2022-02-27T17:23:45.275Z"
   },
   {
    "duration": 3,
    "start_time": "2022-02-27T17:23:45.739Z"
   },
   {
    "duration": 22,
    "start_time": "2022-02-27T17:23:46.196Z"
   },
   {
    "duration": 18,
    "start_time": "2022-02-27T17:23:47.102Z"
   },
   {
    "duration": 22,
    "start_time": "2022-02-27T17:23:47.343Z"
   },
   {
    "duration": 57,
    "start_time": "2022-02-27T17:23:47.815Z"
   },
   {
    "duration": 57,
    "start_time": "2022-02-27T17:23:48.324Z"
   },
   {
    "duration": 47,
    "start_time": "2022-02-27T17:23:48.802Z"
   },
   {
    "duration": 6,
    "start_time": "2022-02-27T17:23:50.064Z"
   },
   {
    "duration": 3,
    "start_time": "2022-02-27T17:23:50.951Z"
   },
   {
    "duration": 9,
    "start_time": "2022-02-27T17:23:51.752Z"
   },
   {
    "duration": 5,
    "start_time": "2022-02-27T17:23:52.896Z"
   },
   {
    "duration": 282,
    "start_time": "2022-02-27T17:23:56.166Z"
   },
   {
    "duration": 9,
    "start_time": "2022-02-27T17:24:24.962Z"
   },
   {
    "duration": 8,
    "start_time": "2022-02-27T17:24:29.033Z"
   },
   {
    "duration": 277,
    "start_time": "2022-02-27T17:24:56.272Z"
   },
   {
    "duration": 278,
    "start_time": "2022-02-27T17:25:21.312Z"
   },
   {
    "duration": 370,
    "start_time": "2022-02-27T17:25:46.448Z"
   },
   {
    "duration": 275,
    "start_time": "2022-02-27T17:26:05.257Z"
   },
   {
    "duration": 284,
    "start_time": "2022-02-27T17:26:34.013Z"
   },
   {
    "duration": 6,
    "start_time": "2022-02-27T17:26:40.004Z"
   },
   {
    "duration": 10,
    "start_time": "2022-02-27T17:27:35.261Z"
   },
   {
    "duration": 315,
    "start_time": "2022-02-27T17:27:38.352Z"
   },
   {
    "duration": 291,
    "start_time": "2022-02-27T17:28:38.280Z"
   },
   {
    "duration": 9,
    "start_time": "2022-02-27T17:29:09.439Z"
   },
   {
    "duration": 10,
    "start_time": "2022-02-27T17:30:19.266Z"
   },
   {
    "duration": 10,
    "start_time": "2022-02-27T17:30:22.126Z"
   },
   {
    "duration": 11,
    "start_time": "2022-02-27T17:30:33.175Z"
   },
   {
    "duration": 87,
    "start_time": "2022-02-27T17:30:46.226Z"
   },
   {
    "duration": 278,
    "start_time": "2022-02-27T17:30:57.817Z"
   },
   {
    "duration": 323,
    "start_time": "2022-02-27T17:31:36.775Z"
   },
   {
    "duration": 299,
    "start_time": "2022-02-27T17:31:55.810Z"
   },
   {
    "duration": 302,
    "start_time": "2022-02-27T17:32:14.975Z"
   },
   {
    "duration": 323,
    "start_time": "2022-02-27T17:32:38.537Z"
   },
   {
    "duration": 12,
    "start_time": "2022-02-27T17:33:39.760Z"
   },
   {
    "duration": 24,
    "start_time": "2022-02-27T17:36:07.698Z"
   },
   {
    "duration": 25,
    "start_time": "2022-02-27T17:36:31.357Z"
   },
   {
    "duration": 10,
    "start_time": "2022-02-27T17:37:30.601Z"
   },
   {
    "duration": 21,
    "start_time": "2022-02-27T17:37:40.602Z"
   },
   {
    "duration": 4,
    "start_time": "2022-02-27T17:37:51.402Z"
   },
   {
    "duration": 4,
    "start_time": "2022-02-27T17:37:59.482Z"
   },
   {
    "duration": 20,
    "start_time": "2022-02-27T17:38:06.122Z"
   },
   {
    "duration": 19,
    "start_time": "2022-02-27T17:38:12.562Z"
   },
   {
    "duration": 20,
    "start_time": "2022-02-27T17:38:17.762Z"
   },
   {
    "duration": 14,
    "start_time": "2022-02-27T17:38:21.082Z"
   },
   {
    "duration": 20,
    "start_time": "2022-02-27T17:38:26.802Z"
   },
   {
    "duration": 47,
    "start_time": "2022-02-27T17:38:32.751Z"
   },
   {
    "duration": 48,
    "start_time": "2022-02-27T17:38:38.751Z"
   },
   {
    "duration": 48,
    "start_time": "2022-02-27T17:38:43.210Z"
   },
   {
    "duration": 20,
    "start_time": "2022-02-27T17:38:47.082Z"
   },
   {
    "duration": 47,
    "start_time": "2022-02-27T17:38:52.362Z"
   },
   {
    "duration": 58,
    "start_time": "2022-02-27T17:38:55.311Z"
   },
   {
    "duration": 49,
    "start_time": "2022-02-27T17:38:57.241Z"
   },
   {
    "duration": 48,
    "start_time": "2022-02-27T17:39:01.082Z"
   },
   {
    "duration": 5,
    "start_time": "2022-02-27T17:39:05.091Z"
   },
   {
    "duration": 7,
    "start_time": "2022-02-27T17:39:14.111Z"
   },
   {
    "duration": 9,
    "start_time": "2022-02-27T17:39:20.444Z"
   },
   {
    "duration": 26,
    "start_time": "2022-02-27T17:39:23.523Z"
   },
   {
    "duration": 3,
    "start_time": "2022-02-27T18:17:50.632Z"
   },
   {
    "duration": 3,
    "start_time": "2022-02-27T18:18:16.908Z"
   },
   {
    "duration": 3,
    "start_time": "2022-02-27T18:19:14.546Z"
   },
   {
    "duration": 271,
    "start_time": "2022-02-27T18:19:51.060Z"
   },
   {
    "duration": 8,
    "start_time": "2022-02-27T18:20:16.333Z"
   },
   {
    "duration": 8,
    "start_time": "2022-02-27T18:20:47.579Z"
   },
   {
    "duration": 8,
    "start_time": "2022-02-27T18:21:04.858Z"
   },
   {
    "duration": 7,
    "start_time": "2022-02-27T18:21:07.378Z"
   },
   {
    "duration": 7,
    "start_time": "2022-02-27T18:22:23.353Z"
   },
   {
    "duration": 8,
    "start_time": "2022-02-27T18:22:25.587Z"
   },
   {
    "duration": 7,
    "start_time": "2022-02-27T18:22:27.615Z"
   },
   {
    "duration": 3,
    "start_time": "2022-02-27T18:22:31.546Z"
   },
   {
    "duration": 8,
    "start_time": "2022-02-27T18:22:32.585Z"
   },
   {
    "duration": 25,
    "start_time": "2022-02-27T18:22:36.075Z"
   },
   {
    "duration": 14,
    "start_time": "2022-02-27T18:23:59.903Z"
   },
   {
    "duration": 14,
    "start_time": "2022-02-27T18:25:32.101Z"
   },
   {
    "duration": 15,
    "start_time": "2022-02-27T18:25:34.347Z"
   },
   {
    "duration": 12,
    "start_time": "2022-02-27T18:25:36.351Z"
   },
   {
    "duration": 13,
    "start_time": "2022-02-27T18:25:38.467Z"
   },
   {
    "duration": 14,
    "start_time": "2022-02-27T18:25:41.220Z"
   },
   {
    "duration": 16,
    "start_time": "2022-02-27T18:25:44.022Z"
   },
   {
    "duration": 282,
    "start_time": "2022-02-27T18:29:43.336Z"
   },
   {
    "duration": 309,
    "start_time": "2022-02-27T18:32:06.938Z"
   },
   {
    "duration": 274,
    "start_time": "2022-02-27T18:32:18.079Z"
   },
   {
    "duration": 414,
    "start_time": "2022-02-27T18:33:01.814Z"
   },
   {
    "duration": 301,
    "start_time": "2022-02-27T18:33:14.352Z"
   },
   {
    "duration": 303,
    "start_time": "2022-02-27T18:33:23.391Z"
   },
   {
    "duration": 2,
    "start_time": "2022-02-27T18:34:22.941Z"
   },
   {
    "duration": 271,
    "start_time": "2022-02-27T18:37:32.244Z"
   },
   {
    "duration": 13,
    "start_time": "2022-02-27T18:38:01.966Z"
   },
   {
    "duration": 454,
    "start_time": "2022-02-27T18:38:32.516Z"
   },
   {
    "duration": 278,
    "start_time": "2022-02-27T18:38:48.758Z"
   },
   {
    "duration": 316,
    "start_time": "2022-02-27T18:42:26.865Z"
   },
   {
    "duration": 352,
    "start_time": "2022-02-27T18:42:37.822Z"
   },
   {
    "duration": 277,
    "start_time": "2022-02-27T18:42:51.985Z"
   },
   {
    "duration": 298,
    "start_time": "2022-02-27T18:43:13.224Z"
   },
   {
    "duration": 285,
    "start_time": "2022-02-27T18:43:23.530Z"
   },
   {
    "duration": 288,
    "start_time": "2022-02-27T18:44:42.816Z"
   },
   {
    "duration": 304,
    "start_time": "2022-02-27T18:47:49.580Z"
   },
   {
    "duration": 313,
    "start_time": "2022-02-27T18:48:38.407Z"
   },
   {
    "duration": 280,
    "start_time": "2022-02-27T18:48:49.991Z"
   },
   {
    "duration": 300,
    "start_time": "2022-02-27T18:49:05.200Z"
   },
   {
    "duration": 692,
    "start_time": "2022-02-27T18:49:34.041Z"
   },
   {
    "duration": 714,
    "start_time": "2022-02-27T18:49:42.990Z"
   },
   {
    "duration": 283,
    "start_time": "2022-02-27T18:50:12.421Z"
   },
   {
    "duration": 287,
    "start_time": "2022-02-27T18:50:28.475Z"
   },
   {
    "duration": 344,
    "start_time": "2022-02-27T18:50:37.353Z"
   },
   {
    "duration": 309,
    "start_time": "2022-02-27T18:50:47.999Z"
   },
   {
    "duration": 277,
    "start_time": "2022-02-27T18:51:01.530Z"
   },
   {
    "duration": 287,
    "start_time": "2022-02-27T18:51:56.246Z"
   },
   {
    "duration": 294,
    "start_time": "2022-02-27T18:52:06.333Z"
   },
   {
    "duration": 282,
    "start_time": "2022-02-27T18:52:17.003Z"
   },
   {
    "duration": 6,
    "start_time": "2022-02-27T18:52:48.022Z"
   },
   {
    "duration": 6,
    "start_time": "2022-02-27T18:54:30.777Z"
   },
   {
    "duration": 5,
    "start_time": "2022-02-27T18:54:44.861Z"
   },
   {
    "duration": 9,
    "start_time": "2022-02-27T18:55:22.378Z"
   },
   {
    "duration": 3,
    "start_time": "2022-02-27T19:04:21.340Z"
   },
   {
    "duration": 3,
    "start_time": "2022-02-27T19:04:38.428Z"
   },
   {
    "duration": 3,
    "start_time": "2022-02-27T19:07:08.079Z"
   },
   {
    "duration": 4,
    "start_time": "2022-02-27T19:07:09.648Z"
   },
   {
    "duration": 4,
    "start_time": "2022-02-27T19:07:11.163Z"
   },
   {
    "duration": 3996,
    "start_time": "2022-02-27T19:10:21.374Z"
   },
   {
    "duration": 5555,
    "start_time": "2022-02-27T19:10:40.227Z"
   },
   {
    "duration": 10,
    "start_time": "2022-02-27T19:11:59.529Z"
   },
   {
    "duration": 3971,
    "start_time": "2022-02-27T19:12:04.979Z"
   },
   {
    "duration": 4061,
    "start_time": "2022-02-27T19:12:22.753Z"
   },
   {
    "duration": 11,
    "start_time": "2022-02-27T19:12:46.987Z"
   },
   {
    "duration": 12,
    "start_time": "2022-02-27T19:12:58.786Z"
   },
   {
    "duration": 10,
    "start_time": "2022-02-27T19:13:00.785Z"
   },
   {
    "duration": 5,
    "start_time": "2022-02-27T19:13:03.266Z"
   },
   {
    "duration": 12,
    "start_time": "2022-02-27T19:13:06.426Z"
   },
   {
    "duration": 9,
    "start_time": "2022-02-27T19:13:08.508Z"
   },
   {
    "duration": 3,
    "start_time": "2022-02-27T19:13:11.287Z"
   },
   {
    "duration": 12,
    "start_time": "2022-02-27T19:13:14.908Z"
   },
   {
    "duration": 10,
    "start_time": "2022-02-27T19:13:21.146Z"
   },
   {
    "duration": 13,
    "start_time": "2022-02-27T19:13:48.425Z"
   },
   {
    "duration": 13,
    "start_time": "2022-02-27T19:14:41.963Z"
   },
   {
    "duration": 17,
    "start_time": "2022-02-27T19:15:05.706Z"
   },
   {
    "duration": 10,
    "start_time": "2022-02-27T19:15:08.747Z"
   },
   {
    "duration": 12,
    "start_time": "2022-02-27T19:15:12.148Z"
   },
   {
    "duration": 10,
    "start_time": "2022-02-27T19:15:22.146Z"
   },
   {
    "duration": 10,
    "start_time": "2022-02-27T19:15:29.026Z"
   },
   {
    "duration": 8,
    "start_time": "2022-02-27T19:15:33.669Z"
   },
   {
    "duration": 13,
    "start_time": "2022-02-27T19:15:47.457Z"
   },
   {
    "duration": 9,
    "start_time": "2022-02-27T19:15:54.324Z"
   },
   {
    "duration": 10,
    "start_time": "2022-02-27T19:16:00.826Z"
   },
   {
    "duration": 18,
    "start_time": "2022-02-27T19:17:28.244Z"
   },
   {
    "duration": 16,
    "start_time": "2022-02-27T19:18:27.276Z"
   },
   {
    "duration": 4,
    "start_time": "2022-02-27T19:18:49.159Z"
   },
   {
    "duration": 5,
    "start_time": "2022-02-27T19:19:01.954Z"
   },
   {
    "duration": 14,
    "start_time": "2022-02-27T19:19:05.227Z"
   },
   {
    "duration": 17,
    "start_time": "2022-02-27T19:19:07.907Z"
   },
   {
    "duration": 19,
    "start_time": "2022-02-27T19:19:12.867Z"
   },
   {
    "duration": 18,
    "start_time": "2022-02-27T19:19:15.907Z"
   },
   {
    "duration": 17,
    "start_time": "2022-02-27T19:19:44.746Z"
   },
   {
    "duration": 17,
    "start_time": "2022-02-27T19:19:46.908Z"
   },
   {
    "duration": 4,
    "start_time": "2022-02-27T19:19:51.153Z"
   },
   {
    "duration": 13,
    "start_time": "2022-02-27T19:19:58.187Z"
   },
   {
    "duration": 10,
    "start_time": "2022-02-27T19:19:58.827Z"
   },
   {
    "duration": 15,
    "start_time": "2022-02-27T19:19:59.826Z"
   },
   {
    "duration": 12,
    "start_time": "2022-02-27T19:20:00.725Z"
   },
   {
    "duration": 12,
    "start_time": "2022-02-27T19:21:08.475Z"
   },
   {
    "duration": 13,
    "start_time": "2022-02-27T19:21:22.273Z"
   },
   {
    "duration": 4,
    "start_time": "2022-02-27T19:22:01.803Z"
   },
   {
    "duration": 12,
    "start_time": "2022-02-27T19:22:02.949Z"
   },
   {
    "duration": 10,
    "start_time": "2022-02-27T19:22:03.827Z"
   },
   {
    "duration": 15,
    "start_time": "2022-02-27T19:22:04.787Z"
   },
   {
    "duration": 11,
    "start_time": "2022-02-27T19:22:05.712Z"
   },
   {
    "duration": 15,
    "start_time": "2022-02-27T19:22:20.871Z"
   },
   {
    "duration": 13,
    "start_time": "2022-02-27T19:22:25.673Z"
   },
   {
    "duration": 12,
    "start_time": "2022-02-27T19:22:26.190Z"
   },
   {
    "duration": 13,
    "start_time": "2022-02-27T19:22:26.909Z"
   },
   {
    "duration": 12,
    "start_time": "2022-02-27T19:22:28.070Z"
   },
   {
    "duration": 9,
    "start_time": "2022-02-27T19:22:28.589Z"
   },
   {
    "duration": 13,
    "start_time": "2022-02-27T19:22:42.994Z"
   },
   {
    "duration": 10,
    "start_time": "2022-02-27T19:22:43.470Z"
   },
   {
    "duration": 12,
    "start_time": "2022-02-27T19:23:04.470Z"
   },
   {
    "duration": 13,
    "start_time": "2022-02-27T19:23:14.028Z"
   },
   {
    "duration": 13,
    "start_time": "2022-02-27T19:23:20.071Z"
   },
   {
    "duration": 13,
    "start_time": "2022-02-27T19:23:24.589Z"
   },
   {
    "duration": 13,
    "start_time": "2022-02-27T19:23:29.749Z"
   },
   {
    "duration": 13,
    "start_time": "2022-02-27T19:23:53.572Z"
   },
   {
    "duration": 13,
    "start_time": "2022-02-27T19:23:59.817Z"
   },
   {
    "duration": 13,
    "start_time": "2022-02-27T19:24:02.667Z"
   },
   {
    "duration": 12,
    "start_time": "2022-02-27T19:24:05.627Z"
   },
   {
    "duration": 10,
    "start_time": "2022-02-27T19:24:09.406Z"
   },
   {
    "duration": 16,
    "start_time": "2022-02-27T19:24:10.078Z"
   },
   {
    "duration": 11,
    "start_time": "2022-02-27T19:24:11.199Z"
   },
   {
    "duration": 16,
    "start_time": "2022-02-27T19:24:43.627Z"
   },
   {
    "duration": 15,
    "start_time": "2022-02-27T19:24:48.617Z"
   },
   {
    "duration": 13,
    "start_time": "2022-02-27T19:25:33.958Z"
   },
   {
    "duration": 10,
    "start_time": "2022-02-27T19:25:34.559Z"
   },
   {
    "duration": 15,
    "start_time": "2022-02-27T19:25:35.708Z"
   },
   {
    "duration": 11,
    "start_time": "2022-02-27T19:25:36.277Z"
   },
   {
    "duration": 311,
    "start_time": "2022-02-27T19:30:29.346Z"
   },
   {
    "duration": 8,
    "start_time": "2022-02-27T19:32:39.009Z"
   },
   {
    "duration": 8,
    "start_time": "2022-02-27T19:32:43.291Z"
   },
   {
    "duration": 4,
    "start_time": "2022-02-27T19:33:08.154Z"
   },
   {
    "duration": 375,
    "start_time": "2022-02-27T19:34:28.152Z"
   },
   {
    "duration": 5,
    "start_time": "2022-02-27T19:34:40.265Z"
   },
   {
    "duration": 4,
    "start_time": "2022-02-27T19:34:41.304Z"
   },
   {
    "duration": 11,
    "start_time": "2022-02-27T19:34:56.745Z"
   },
   {
    "duration": 13,
    "start_time": "2022-02-27T19:35:02.546Z"
   },
   {
    "duration": 9,
    "start_time": "2022-02-27T19:35:03.545Z"
   },
   {
    "duration": 12,
    "start_time": "2022-02-27T19:35:13.681Z"
   },
   {
    "duration": 13,
    "start_time": "2022-02-27T19:35:25.029Z"
   },
   {
    "duration": 9,
    "start_time": "2022-02-27T19:35:25.630Z"
   },
   {
    "duration": 14,
    "start_time": "2022-02-27T19:35:26.386Z"
   },
   {
    "duration": 15,
    "start_time": "2022-02-27T19:35:33.786Z"
   },
   {
    "duration": 12,
    "start_time": "2022-02-27T19:35:42.455Z"
   },
   {
    "duration": 17,
    "start_time": "2022-02-27T19:35:46.370Z"
   },
   {
    "duration": 11,
    "start_time": "2022-02-27T19:35:50.932Z"
   },
   {
    "duration": 15,
    "start_time": "2022-02-27T19:35:57.794Z"
   },
   {
    "duration": 11,
    "start_time": "2022-02-27T19:35:59.812Z"
   },
   {
    "duration": 8,
    "start_time": "2022-02-27T19:36:57.579Z"
   },
   {
    "duration": 10,
    "start_time": "2022-02-27T19:37:00.855Z"
   },
   {
    "duration": 3,
    "start_time": "2022-02-27T19:37:04.110Z"
   },
   {
    "duration": 18,
    "start_time": "2022-02-27T19:37:05.534Z"
   },
   {
    "duration": 11,
    "start_time": "2022-02-27T19:37:05.703Z"
   },
   {
    "duration": 15,
    "start_time": "2022-02-27T19:37:06.233Z"
   },
   {
    "duration": 11,
    "start_time": "2022-02-27T19:37:06.822Z"
   },
   {
    "duration": 17,
    "start_time": "2022-02-27T19:37:20.263Z"
   },
   {
    "duration": 12,
    "start_time": "2022-02-27T19:37:21.184Z"
   },
   {
    "duration": 16,
    "start_time": "2022-02-27T19:37:24.614Z"
   },
   {
    "duration": 12,
    "start_time": "2022-02-27T19:37:25.503Z"
   },
   {
    "duration": 774,
    "start_time": "2022-03-07T10:35:21.411Z"
   },
   {
    "duration": 214,
    "start_time": "2022-03-07T10:35:22.188Z"
   },
   {
    "duration": 25,
    "start_time": "2022-03-07T10:35:22.405Z"
   },
   {
    "duration": 57,
    "start_time": "2022-03-07T10:35:22.433Z"
   },
   {
    "duration": 19,
    "start_time": "2022-03-07T10:35:22.493Z"
   },
   {
    "duration": 50,
    "start_time": "2022-03-07T10:35:22.515Z"
   },
   {
    "duration": 33,
    "start_time": "2022-03-07T10:35:22.568Z"
   },
   {
    "duration": 43,
    "start_time": "2022-03-07T10:35:22.607Z"
   },
   {
    "duration": 34,
    "start_time": "2022-03-07T10:35:22.654Z"
   },
   {
    "duration": 43,
    "start_time": "2022-03-07T10:35:22.691Z"
   },
   {
    "duration": 100,
    "start_time": "2022-03-07T10:35:22.737Z"
   },
   {
    "duration": 120,
    "start_time": "2022-03-07T10:35:22.839Z"
   },
   {
    "duration": 90,
    "start_time": "2022-03-07T10:35:22.961Z"
   },
   {
    "duration": 27,
    "start_time": "2022-03-07T10:35:23.054Z"
   },
   {
    "duration": 18,
    "start_time": "2022-03-07T10:35:23.084Z"
   },
   {
    "duration": 26,
    "start_time": "2022-03-07T10:35:23.105Z"
   },
   {
    "duration": 11,
    "start_time": "2022-03-07T10:35:23.134Z"
   },
   {
    "duration": 52,
    "start_time": "2022-03-07T10:35:23.147Z"
   },
   {
    "duration": 46,
    "start_time": "2022-03-07T10:35:23.202Z"
   },
   {
    "duration": 5,
    "start_time": "2022-03-07T10:35:23.250Z"
   },
   {
    "duration": 56,
    "start_time": "2022-03-07T10:35:23.257Z"
   },
   {
    "duration": 20,
    "start_time": "2022-03-07T10:35:23.315Z"
   },
   {
    "duration": 29,
    "start_time": "2022-03-07T10:35:23.339Z"
   },
   {
    "duration": 37,
    "start_time": "2022-03-07T10:35:23.371Z"
   },
   {
    "duration": 29,
    "start_time": "2022-03-07T10:35:23.411Z"
   },
   {
    "duration": 19,
    "start_time": "2022-03-07T10:35:23.443Z"
   },
   {
    "duration": 30,
    "start_time": "2022-03-07T10:35:23.464Z"
   },
   {
    "duration": 23,
    "start_time": "2022-03-07T10:35:23.497Z"
   },
   {
    "duration": 31,
    "start_time": "2022-03-07T10:35:23.523Z"
   },
   {
    "duration": 21,
    "start_time": "2022-03-07T10:35:23.557Z"
   },
   {
    "duration": 42,
    "start_time": "2022-03-07T10:35:23.581Z"
   },
   {
    "duration": 16,
    "start_time": "2022-03-07T10:35:23.626Z"
   },
   {
    "duration": 38,
    "start_time": "2022-03-07T10:35:23.644Z"
   },
   {
    "duration": 18,
    "start_time": "2022-03-07T10:35:23.685Z"
   },
   {
    "duration": 14,
    "start_time": "2022-03-07T10:35:23.705Z"
   },
   {
    "duration": 17,
    "start_time": "2022-03-07T10:35:23.721Z"
   },
   {
    "duration": 36,
    "start_time": "2022-03-07T10:35:23.741Z"
   },
   {
    "duration": 36,
    "start_time": "2022-03-07T10:35:23.780Z"
   },
   {
    "duration": 301,
    "start_time": "2022-03-09T16:35:03.192Z"
   },
   {
    "duration": 226,
    "start_time": "2022-03-09T16:35:14.568Z"
   },
   {
    "duration": 223,
    "start_time": "2022-03-09T16:35:18.455Z"
   },
   {
    "duration": 761,
    "start_time": "2022-03-09T16:35:38.992Z"
   },
   {
    "duration": 190,
    "start_time": "2022-03-09T16:35:39.756Z"
   },
   {
    "duration": 40,
    "start_time": "2022-03-09T16:35:39.949Z"
   },
   {
    "duration": 34,
    "start_time": "2022-03-09T16:35:39.991Z"
   },
   {
    "duration": 5,
    "start_time": "2022-03-09T16:35:40.027Z"
   },
   {
    "duration": 53,
    "start_time": "2022-03-09T16:35:40.034Z"
   },
   {
    "duration": 10,
    "start_time": "2022-03-09T16:35:40.089Z"
   },
   {
    "duration": 32,
    "start_time": "2022-03-09T16:35:40.101Z"
   },
   {
    "duration": 21,
    "start_time": "2022-03-09T16:35:40.137Z"
   },
   {
    "duration": 49,
    "start_time": "2022-03-09T16:35:40.162Z"
   },
   {
    "duration": 102,
    "start_time": "2022-03-09T16:35:40.214Z"
   },
   {
    "duration": 114,
    "start_time": "2022-03-09T16:35:40.318Z"
   },
   {
    "duration": 82,
    "start_time": "2022-03-09T16:35:40.435Z"
   },
   {
    "duration": 349,
    "start_time": "2022-03-09T16:35:40.519Z"
   },
   {
    "duration": -1091,
    "start_time": "2022-03-09T16:35:41.962Z"
   },
   {
    "duration": -1091,
    "start_time": "2022-03-09T16:35:41.964Z"
   },
   {
    "duration": -1092,
    "start_time": "2022-03-09T16:35:41.966Z"
   },
   {
    "duration": -1112,
    "start_time": "2022-03-09T16:35:41.988Z"
   },
   {
    "duration": -1118,
    "start_time": "2022-03-09T16:35:41.995Z"
   },
   {
    "duration": -1120,
    "start_time": "2022-03-09T16:35:41.999Z"
   },
   {
    "duration": -1122,
    "start_time": "2022-03-09T16:35:42.002Z"
   },
   {
    "duration": -1125,
    "start_time": "2022-03-09T16:35:42.006Z"
   },
   {
    "duration": -1126,
    "start_time": "2022-03-09T16:35:42.008Z"
   },
   {
    "duration": -1127,
    "start_time": "2022-03-09T16:35:42.011Z"
   },
   {
    "duration": -1130,
    "start_time": "2022-03-09T16:35:42.015Z"
   },
   {
    "duration": -1131,
    "start_time": "2022-03-09T16:35:42.018Z"
   },
   {
    "duration": -1133,
    "start_time": "2022-03-09T16:35:42.021Z"
   },
   {
    "duration": -1140,
    "start_time": "2022-03-09T16:35:42.029Z"
   },
   {
    "duration": -1163,
    "start_time": "2022-03-09T16:35:42.054Z"
   },
   {
    "duration": -1170,
    "start_time": "2022-03-09T16:35:42.062Z"
   },
   {
    "duration": -1183,
    "start_time": "2022-03-09T16:35:42.076Z"
   },
   {
    "duration": -1192,
    "start_time": "2022-03-09T16:35:42.087Z"
   },
   {
    "duration": -1193,
    "start_time": "2022-03-09T16:35:42.089Z"
   },
   {
    "duration": -1195,
    "start_time": "2022-03-09T16:35:42.092Z"
   },
   {
    "duration": -1195,
    "start_time": "2022-03-09T16:35:42.094Z"
   },
   {
    "duration": -1197,
    "start_time": "2022-03-09T16:35:42.097Z"
   },
   {
    "duration": -1198,
    "start_time": "2022-03-09T16:35:42.099Z"
   },
   {
    "duration": -1201,
    "start_time": "2022-03-09T16:35:42.103Z"
   },
   {
    "duration": 21,
    "start_time": "2022-03-09T16:36:03.292Z"
   },
   {
    "duration": 21,
    "start_time": "2022-03-09T16:36:06.688Z"
   },
   {
    "duration": 224,
    "start_time": "2022-03-09T16:39:12.280Z"
   },
   {
    "duration": 234,
    "start_time": "2022-03-09T16:39:42.851Z"
   },
   {
    "duration": 75,
    "start_time": "2022-03-09T16:39:56.038Z"
   },
   {
    "duration": 302,
    "start_time": "2022-03-09T16:40:25.240Z"
   },
   {
    "duration": 231,
    "start_time": "2022-03-09T16:41:08.911Z"
   },
   {
    "duration": 57,
    "start_time": "2022-03-09T16:42:44.394Z"
   },
   {
    "duration": 57,
    "start_time": "2022-03-09T16:43:02.376Z"
   },
   {
    "duration": 83,
    "start_time": "2022-03-09T16:43:08.054Z"
   },
   {
    "duration": 58,
    "start_time": "2022-03-09T16:43:18.496Z"
   },
   {
    "duration": 60,
    "start_time": "2022-03-09T16:43:33.981Z"
   },
   {
    "duration": 55,
    "start_time": "2022-03-09T16:44:05.740Z"
   },
   {
    "duration": 56,
    "start_time": "2022-03-09T16:44:26.893Z"
   },
   {
    "duration": 303,
    "start_time": "2022-03-09T16:44:39.886Z"
   },
   {
    "duration": 223,
    "start_time": "2022-03-09T16:44:48.314Z"
   },
   {
    "duration": 231,
    "start_time": "2022-03-09T16:45:11.010Z"
   },
   {
    "duration": 60,
    "start_time": "2022-03-09T16:45:40.083Z"
   },
   {
    "duration": 58,
    "start_time": "2022-03-09T16:45:48.840Z"
   },
   {
    "duration": 56,
    "start_time": "2022-03-09T16:46:00.454Z"
   },
   {
    "duration": 57,
    "start_time": "2022-03-09T16:46:14.220Z"
   },
   {
    "duration": 55,
    "start_time": "2022-03-09T16:46:25.578Z"
   },
   {
    "duration": 58,
    "start_time": "2022-03-09T16:46:56.943Z"
   },
   {
    "duration": 64,
    "start_time": "2022-03-09T16:47:38.692Z"
   },
   {
    "duration": 85,
    "start_time": "2022-03-09T16:48:00.593Z"
   },
   {
    "duration": 12,
    "start_time": "2022-03-09T16:48:07.355Z"
   },
   {
    "duration": 77,
    "start_time": "2022-03-09T16:48:19.890Z"
   },
   {
    "duration": 68,
    "start_time": "2022-03-09T16:48:23.036Z"
   },
   {
    "duration": 74,
    "start_time": "2022-03-09T16:48:36.312Z"
   },
   {
    "duration": 58,
    "start_time": "2022-03-09T16:48:42.925Z"
   },
   {
    "duration": 342,
    "start_time": "2022-03-09T16:49:03.912Z"
   },
   {
    "duration": 290,
    "start_time": "2022-03-09T16:49:37.872Z"
   },
   {
    "duration": 76,
    "start_time": "2022-03-09T16:50:01.321Z"
   },
   {
    "duration": 292,
    "start_time": "2022-03-09T16:50:12.520Z"
   },
   {
    "duration": 80,
    "start_time": "2022-03-09T16:50:21.372Z"
   },
   {
    "duration": 293,
    "start_time": "2022-03-09T16:50:43.084Z"
   },
   {
    "duration": 91,
    "start_time": "2022-03-09T16:50:51.052Z"
   },
   {
    "duration": 237,
    "start_time": "2022-03-09T16:51:24.208Z"
   },
   {
    "duration": 257,
    "start_time": "2022-03-09T16:51:32.767Z"
   },
   {
    "duration": 250,
    "start_time": "2022-03-09T16:51:45.011Z"
   },
   {
    "duration": 81,
    "start_time": "2022-03-09T16:51:48.088Z"
   },
   {
    "duration": 73,
    "start_time": "2022-03-09T16:51:49.686Z"
   },
   {
    "duration": 220,
    "start_time": "2022-03-09T16:51:52.128Z"
   },
   {
    "duration": 234,
    "start_time": "2022-03-09T16:52:20.048Z"
   },
   {
    "duration": 269,
    "start_time": "2022-03-09T16:52:24.967Z"
   },
   {
    "duration": 8,
    "start_time": "2022-03-09T16:52:30.607Z"
   },
   {
    "duration": 235,
    "start_time": "2022-03-09T16:52:51.234Z"
   },
   {
    "duration": 227,
    "start_time": "2022-03-09T16:53:47.276Z"
   },
   {
    "duration": 262,
    "start_time": "2022-03-09T16:53:54.828Z"
   },
   {
    "duration": 280,
    "start_time": "2022-03-09T16:54:08.554Z"
   },
   {
    "duration": 56,
    "start_time": "2022-03-09T16:54:20.792Z"
   },
   {
    "duration": 60,
    "start_time": "2022-03-09T16:54:33.607Z"
   },
   {
    "duration": 58,
    "start_time": "2022-03-09T16:54:46.158Z"
   },
   {
    "duration": 60,
    "start_time": "2022-03-09T16:54:51.417Z"
   },
   {
    "duration": 239,
    "start_time": "2022-03-09T16:55:19.287Z"
   },
   {
    "duration": 291,
    "start_time": "2022-03-09T16:55:28.048Z"
   },
   {
    "duration": 78,
    "start_time": "2022-03-09T16:55:36.807Z"
   },
   {
    "duration": 305,
    "start_time": "2022-03-09T16:55:39.888Z"
   },
   {
    "duration": 94,
    "start_time": "2022-03-09T16:55:59.929Z"
   },
   {
    "duration": 74,
    "start_time": "2022-03-09T16:56:07.888Z"
   },
   {
    "duration": 60,
    "start_time": "2022-03-09T16:57:59.580Z"
   },
   {
    "duration": 98,
    "start_time": "2022-03-09T16:58:11.655Z"
   },
   {
    "duration": 60,
    "start_time": "2022-03-09T16:59:24.223Z"
   },
   {
    "duration": 37,
    "start_time": "2022-03-09T17:00:29.674Z"
   },
   {
    "duration": 56,
    "start_time": "2022-03-09T17:02:07.474Z"
   },
   {
    "duration": 14,
    "start_time": "2022-03-09T17:02:18.334Z"
   },
   {
    "duration": 15,
    "start_time": "2022-03-09T17:02:33.892Z"
   },
   {
    "duration": 749,
    "start_time": "2022-03-09T17:04:25.579Z"
   },
   {
    "duration": 205,
    "start_time": "2022-03-09T17:04:26.331Z"
   },
   {
    "duration": 26,
    "start_time": "2022-03-09T17:04:26.539Z"
   },
   {
    "duration": 45,
    "start_time": "2022-03-09T17:04:26.567Z"
   },
   {
    "duration": 7,
    "start_time": "2022-03-09T17:04:26.615Z"
   },
   {
    "duration": 26,
    "start_time": "2022-03-09T17:04:26.624Z"
   },
   {
    "duration": 37,
    "start_time": "2022-03-09T17:04:26.652Z"
   },
   {
    "duration": 36,
    "start_time": "2022-03-09T17:04:26.693Z"
   },
   {
    "duration": 24,
    "start_time": "2022-03-09T17:04:26.732Z"
   },
   {
    "duration": 51,
    "start_time": "2022-03-09T17:04:26.758Z"
   },
   {
    "duration": 97,
    "start_time": "2022-03-09T17:04:26.811Z"
   },
   {
    "duration": 108,
    "start_time": "2022-03-09T17:04:26.910Z"
   },
   {
    "duration": 82,
    "start_time": "2022-03-09T17:04:27.021Z"
   },
   {
    "duration": 58,
    "start_time": "2022-03-09T17:04:27.105Z"
   },
   {
    "duration": 22,
    "start_time": "2022-03-09T17:04:27.165Z"
   },
   {
    "duration": 15,
    "start_time": "2022-03-09T17:04:27.190Z"
   },
   {
    "duration": 56,
    "start_time": "2022-03-09T17:04:27.207Z"
   },
   {
    "duration": 14,
    "start_time": "2022-03-09T17:04:27.286Z"
   },
   {
    "duration": 13,
    "start_time": "2022-03-09T17:04:27.303Z"
   },
   {
    "duration": 5,
    "start_time": "2022-03-09T17:04:27.318Z"
   },
   {
    "duration": 28,
    "start_time": "2022-03-09T17:04:27.325Z"
   },
   {
    "duration": 18,
    "start_time": "2022-03-09T17:04:27.387Z"
   },
   {
    "duration": 18,
    "start_time": "2022-03-09T17:04:27.410Z"
   },
   {
    "duration": 18,
    "start_time": "2022-03-09T17:04:27.431Z"
   },
   {
    "duration": 55,
    "start_time": "2022-03-09T17:04:27.451Z"
   },
   {
    "duration": 21,
    "start_time": "2022-03-09T17:04:27.509Z"
   },
   {
    "duration": 10,
    "start_time": "2022-03-09T17:04:27.533Z"
   },
   {
    "duration": 51,
    "start_time": "2022-03-09T17:04:27.545Z"
   },
   {
    "duration": 13,
    "start_time": "2022-03-09T17:04:27.599Z"
   },
   {
    "duration": 5,
    "start_time": "2022-03-09T17:04:27.615Z"
   },
   {
    "duration": 30,
    "start_time": "2022-03-09T17:04:27.623Z"
   },
   {
    "duration": 17,
    "start_time": "2022-03-09T17:04:27.687Z"
   },
   {
    "duration": 20,
    "start_time": "2022-03-09T17:04:27.707Z"
   },
   {
    "duration": 16,
    "start_time": "2022-03-09T17:04:27.729Z"
   },
   {
    "duration": 45,
    "start_time": "2022-03-09T17:04:27.748Z"
   },
   {
    "duration": 6,
    "start_time": "2022-03-09T17:04:27.796Z"
   },
   {
    "duration": 8,
    "start_time": "2022-03-09T17:04:27.805Z"
   },
   {
    "duration": 7,
    "start_time": "2022-03-09T17:04:27.816Z"
   }
  ],
  "colab": {
   "collapsed_sections": [
    "E0vqbgi9ay0H",
    "VUC88oWjTJw2"
   ],
   "name": "yandex_music_project_2021.2.ipynb",
   "provenance": []
  },
  "kernelspec": {
   "display_name": "Python 3 (ipykernel)",
   "language": "python",
   "name": "python3"
  },
  "language_info": {
   "codemirror_mode": {
    "name": "ipython",
    "version": 3
   },
   "file_extension": ".py",
   "mimetype": "text/x-python",
   "name": "python",
   "nbconvert_exporter": "python",
   "pygments_lexer": "ipython3",
   "version": "3.9.7"
  },
  "toc": {
   "base_numbering": 1,
   "nav_menu": {
    "height": "215px",
    "width": "275px"
   },
   "number_sections": true,
   "sideBar": true,
   "skip_h1_title": true,
   "title_cell": "Table of Contents",
   "title_sidebar": "Contents",
   "toc_cell": false,
   "toc_position": {},
   "toc_section_display": true,
   "toc_window_display": true
  }
 },
 "nbformat": 4,
 "nbformat_minor": 1
}
