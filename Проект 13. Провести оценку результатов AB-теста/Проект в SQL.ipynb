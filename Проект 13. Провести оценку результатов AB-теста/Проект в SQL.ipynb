{
 "cells": [
  {
   "cell_type": "markdown",
   "metadata": {},
   "source": [
    "# Проект по SQL"
   ]
  },
  {
   "cell_type": "markdown",
   "metadata": {},
   "source": [
    "## Введение"
   ]
  },
  {
   "cell_type": "markdown",
   "metadata": {},
   "source": [
    "Из-за эпидемии под названием \"коронавирус\" в свободное время жители городов больше не выходят на улицу, не посещают кафе и торговые центры, но стало больше времени для книг. Исходя из данного факта, наша команда решила купить крупный сервис для чтения книг по подписке. \n",
    "\n",
    "**Цель исследования:** проанализировать базу данных. В ней — информация о книгах, издательствах, авторах, а также пользовательские обзоры книг. Эти данные помогут сформулировать ценностное предложение для нового продукта\n",
    "\n",
    "**Ход исследования:** \n",
    "- Посчитайте, сколько книг вышло после 1 января 2000 года;\n",
    "- Для каждой книги посчитайте количество обзоров и среднюю оценку;\n",
    "- Определите издательство, которое выпустило наибольшее число книг толще 50 страниц — так вы исключите из анализа брошюры;\n",
    "- Определите автора с самой высокой средней оценкой книг — учитывайте только книги с 50 и более оценками;\n",
    "- Посчитайте среднее количество обзоров от пользователей, которые поставили больше 50 оценок."
   ]
  },
  {
   "cell_type": "markdown",
   "metadata": {},
   "source": [
    "## Подключение к базе данных"
   ]
  },
  {
   "cell_type": "markdown",
   "metadata": {},
   "source": [
    "*Перед началом исследования подготовим подключения к базе:*"
   ]
  },
  {
   "cell_type": "code",
   "execution_count": 1,
   "metadata": {},
   "outputs": [],
   "source": [
    "# импортируем библиотеки\n",
    "import pandas as pd\n",
    "from sqlalchemy import create_engine\n",
    "# устанавливаем параметры\n",
    "db_config = {'user': 'praktikum_student', # имя пользователя\n",
    "'pwd': 'Sdf4$2;d-d30pp', # пароль\n",
    "'host': 'rc1b-wcoijxj3yxfsf3fs.mdb.yandexcloud.net',\n",
    "'port': 6432, # порт подключения\n",
    "'db': 'data-analyst-final-project-db'} # название базы данных\n",
    "connection_string = 'postgresql://{}:{}@{}:{}/{}'.format(db_config['user'],\n",
    " db_config['pwd'],\n",
    " db_config['host'],\n",
    " db_config['port'],\n",
    " db_config['db'])\n",
    "# сохраняем коннектор\n",
    "engine = create_engine(connection_string, connect_args={'sslmode':'require'}) "
   ]
  },
  {
   "cell_type": "markdown",
   "metadata": {},
   "source": [
    "    Результат проделанной работы: Данные готовы к дальнейшему исследованию!"
   ]
  },
  {
   "cell_type": "markdown",
   "metadata": {},
   "source": [
    "## Посчитаем, сколько книг вышло после 1 января 2000 года"
   ]
  },
  {
   "cell_type": "code",
   "execution_count": 2,
   "metadata": {
    "scrolled": true
   },
   "outputs": [
    {
     "data": {
      "text/html": [
       "<div>\n",
       "<style scoped>\n",
       "    .dataframe tbody tr th:only-of-type {\n",
       "        vertical-align: middle;\n",
       "    }\n",
       "\n",
       "    .dataframe tbody tr th {\n",
       "        vertical-align: top;\n",
       "    }\n",
       "\n",
       "    .dataframe thead th {\n",
       "        text-align: right;\n",
       "    }\n",
       "</style>\n",
       "<table border=\"1\" class=\"dataframe\">\n",
       "  <thead>\n",
       "    <tr style=\"text-align: right;\">\n",
       "      <th></th>\n",
       "      <th>count</th>\n",
       "    </tr>\n",
       "  </thead>\n",
       "  <tbody>\n",
       "    <tr>\n",
       "      <th>0</th>\n",
       "      <td>819</td>\n",
       "    </tr>\n",
       "  </tbody>\n",
       "</table>\n",
       "</div>"
      ],
      "text/plain": [
       "   count\n",
       "0    819"
      ]
     },
     "execution_count": 2,
     "metadata": {},
     "output_type": "execute_result"
    }
   ],
   "source": [
    "query = ''' SELECT COUNT(title)\n",
    "FROM books\n",
    "WHERE publication_date > '2000-01-01'\n",
    "'''\n",
    "pd.io.sql.read_sql(query, con = engine)"
   ]
  },
  {
   "cell_type": "markdown",
   "metadata": {},
   "source": [
    "    Результат: книг вышло после 1 января 2000 года - 819"
   ]
  },
  {
   "cell_type": "markdown",
   "metadata": {},
   "source": [
    "## Для каждой книги посчитаем количество обзоров и среднюю оценку"
   ]
  },
  {
   "cell_type": "code",
   "execution_count": 59,
   "metadata": {
    "scrolled": true
   },
   "outputs": [
    {
     "data": {
      "text/html": [
       "<div>\n",
       "<style scoped>\n",
       "    .dataframe tbody tr th:only-of-type {\n",
       "        vertical-align: middle;\n",
       "    }\n",
       "\n",
       "    .dataframe tbody tr th {\n",
       "        vertical-align: top;\n",
       "    }\n",
       "\n",
       "    .dataframe thead th {\n",
       "        text-align: right;\n",
       "    }\n",
       "</style>\n",
       "<table border=\"1\" class=\"dataframe\">\n",
       "  <thead>\n",
       "    <tr style=\"text-align: right;\">\n",
       "      <th></th>\n",
       "      <th>title</th>\n",
       "      <th>book_id</th>\n",
       "      <th>count</th>\n",
       "      <th>round</th>\n",
       "    </tr>\n",
       "  </thead>\n",
       "  <tbody>\n",
       "    <tr>\n",
       "      <th>0</th>\n",
       "      <td>Twilight (Twilight  #1)</td>\n",
       "      <td>948</td>\n",
       "      <td>7</td>\n",
       "      <td>3.66</td>\n",
       "    </tr>\n",
       "    <tr>\n",
       "      <th>1</th>\n",
       "      <td>The Road</td>\n",
       "      <td>854</td>\n",
       "      <td>6</td>\n",
       "      <td>3.77</td>\n",
       "    </tr>\n",
       "    <tr>\n",
       "      <th>2</th>\n",
       "      <td>The Book Thief</td>\n",
       "      <td>656</td>\n",
       "      <td>6</td>\n",
       "      <td>4.26</td>\n",
       "    </tr>\n",
       "    <tr>\n",
       "      <th>3</th>\n",
       "      <td>The Glass Castle</td>\n",
       "      <td>734</td>\n",
       "      <td>6</td>\n",
       "      <td>4.21</td>\n",
       "    </tr>\n",
       "    <tr>\n",
       "      <th>4</th>\n",
       "      <td>Water for Elephants</td>\n",
       "      <td>963</td>\n",
       "      <td>6</td>\n",
       "      <td>3.98</td>\n",
       "    </tr>\n",
       "    <tr>\n",
       "      <th>...</th>\n",
       "      <td>...</td>\n",
       "      <td>...</td>\n",
       "      <td>...</td>\n",
       "      <td>...</td>\n",
       "    </tr>\n",
       "    <tr>\n",
       "      <th>989</th>\n",
       "      <td>Naked Empire (Sword of Truth  #8)</td>\n",
       "      <td>465</td>\n",
       "      <td>1</td>\n",
       "      <td>3.50</td>\n",
       "    </tr>\n",
       "    <tr>\n",
       "      <th>990</th>\n",
       "      <td>Moo  Baa  La La La!</td>\n",
       "      <td>446</td>\n",
       "      <td>1</td>\n",
       "      <td>3.00</td>\n",
       "    </tr>\n",
       "    <tr>\n",
       "      <th>991</th>\n",
       "      <td>Merrick (The Vampire Chronicles #7)</td>\n",
       "      <td>431</td>\n",
       "      <td>1</td>\n",
       "      <td>4.00</td>\n",
       "    </tr>\n",
       "    <tr>\n",
       "      <th>992</th>\n",
       "      <td>Babyville</td>\n",
       "      <td>92</td>\n",
       "      <td>1</td>\n",
       "      <td>3.50</td>\n",
       "    </tr>\n",
       "    <tr>\n",
       "      <th>993</th>\n",
       "      <td>Lysistrata</td>\n",
       "      <td>413</td>\n",
       "      <td>1</td>\n",
       "      <td>4.00</td>\n",
       "    </tr>\n",
       "  </tbody>\n",
       "</table>\n",
       "<p>994 rows × 4 columns</p>\n",
       "</div>"
      ],
      "text/plain": [
       "                                   title  book_id  count  round\n",
       "0                Twilight (Twilight  #1)      948      7   3.66\n",
       "1                               The Road      854      6   3.77\n",
       "2                         The Book Thief      656      6   4.26\n",
       "3                       The Glass Castle      734      6   4.21\n",
       "4                    Water for Elephants      963      6   3.98\n",
       "..                                   ...      ...    ...    ...\n",
       "989    Naked Empire (Sword of Truth  #8)      465      1   3.50\n",
       "990                  Moo  Baa  La La La!      446      1   3.00\n",
       "991  Merrick (The Vampire Chronicles #7)      431      1   4.00\n",
       "992                            Babyville       92      1   3.50\n",
       "993                           Lysistrata      413      1   4.00\n",
       "\n",
       "[994 rows x 4 columns]"
      ]
     },
     "execution_count": 59,
     "metadata": {},
     "output_type": "execute_result"
    }
   ],
   "source": [
    "query = ''' SELECT b.title AS title, b.book_id, COUNT(DISTINCT reviews.text) AS count, ROUND(AVG(ratings.rating), 2)\n",
    "FROM books AS b\n",
    "\n",
    "INNER JOIN ratings ON ratings.book_id = b.book_id\n",
    "INNER JOIN reviews ON reviews.book_id = b.book_id\n",
    "\n",
    "GROUP BY b.title, b.book_id     \n",
    "ORDER BY count DESC\n",
    "'''\n",
    "pd.io.sql.read_sql(query, con = engine)"
   ]
  },
  {
   "cell_type": "markdown",
   "metadata": {},
   "source": [
    "    Результат: для каждой книги было посчитано количество обзоров и средняя оценка"
   ]
  },
  {
   "cell_type": "markdown",
   "metadata": {},
   "source": [
    "## Определим издательство, которое выпустило наибольшее число книг толще 50 страниц"
   ]
  },
  {
   "cell_type": "code",
   "execution_count": 4,
   "metadata": {},
   "outputs": [
    {
     "data": {
      "text/html": [
       "<div>\n",
       "<style scoped>\n",
       "    .dataframe tbody tr th:only-of-type {\n",
       "        vertical-align: middle;\n",
       "    }\n",
       "\n",
       "    .dataframe tbody tr th {\n",
       "        vertical-align: top;\n",
       "    }\n",
       "\n",
       "    .dataframe thead th {\n",
       "        text-align: right;\n",
       "    }\n",
       "</style>\n",
       "<table border=\"1\" class=\"dataframe\">\n",
       "  <thead>\n",
       "    <tr style=\"text-align: right;\">\n",
       "      <th></th>\n",
       "      <th>publisher</th>\n",
       "      <th>count</th>\n",
       "    </tr>\n",
       "  </thead>\n",
       "  <tbody>\n",
       "    <tr>\n",
       "      <th>0</th>\n",
       "      <td>Penguin Books</td>\n",
       "      <td>42</td>\n",
       "    </tr>\n",
       "  </tbody>\n",
       "</table>\n",
       "</div>"
      ],
      "text/plain": [
       "       publisher  count\n",
       "0  Penguin Books     42"
      ]
     },
     "execution_count": 4,
     "metadata": {},
     "output_type": "execute_result"
    }
   ],
   "source": [
    "query = ''' SELECT publisher, COUNT(title)\n",
    "FROM publishers AS p\n",
    "LEFT JOIN books as b ON p.publisher_id = b.publisher_id\n",
    "WHERE num_pages > 50\n",
    "GROUP BY publisher\n",
    "ORDER BY count DESC\n",
    "LIMIT 1\n",
    "'''\n",
    "\n",
    "pd.io.sql.read_sql(query, con = engine)"
   ]
  },
  {
   "cell_type": "markdown",
   "metadata": {},
   "source": [
    "    Результат: определили издательство, которое выпустило наибольшее число книг при их толщине более 50 страниц - это \"Penguin Books\""
   ]
  },
  {
   "cell_type": "markdown",
   "metadata": {},
   "source": [
    "## Определим автора с самой высокой средней оценкой книг (с 50 и более оценками)"
   ]
  },
  {
   "cell_type": "code",
   "execution_count": 5,
   "metadata": {},
   "outputs": [
    {
     "data": {
      "text/html": [
       "<div>\n",
       "<style scoped>\n",
       "    .dataframe tbody tr th:only-of-type {\n",
       "        vertical-align: middle;\n",
       "    }\n",
       "\n",
       "    .dataframe tbody tr th {\n",
       "        vertical-align: top;\n",
       "    }\n",
       "\n",
       "    .dataframe thead th {\n",
       "        text-align: right;\n",
       "    }\n",
       "</style>\n",
       "<table border=\"1\" class=\"dataframe\">\n",
       "  <thead>\n",
       "    <tr style=\"text-align: right;\">\n",
       "      <th></th>\n",
       "      <th>author</th>\n",
       "      <th>avg_rating</th>\n",
       "    </tr>\n",
       "  </thead>\n",
       "  <tbody>\n",
       "    <tr>\n",
       "      <th>0</th>\n",
       "      <td>J.K. Rowling/Mary GrandPré</td>\n",
       "      <td>4.283844</td>\n",
       "    </tr>\n",
       "  </tbody>\n",
       "</table>\n",
       "</div>"
      ],
      "text/plain": [
       "                       author  avg_rating\n",
       "0  J.K. Rowling/Mary GrandPré    4.283844"
      ]
     },
     "execution_count": 5,
     "metadata": {},
     "output_type": "execute_result"
    }
   ],
   "source": [
    "query = ''' SELECT\n",
    "      a.author, AVG(a.avg_rating) AS avg_rating\n",
    "FROM \n",
    "     (SELECT author, b.book_id AS id, AVG(rating) AS avg_rating, COUNT(rating) AS cnt_rating\n",
    "      FROM\n",
    "      authors AS au\n",
    "      \n",
    "      LEFT JOIN books AS b ON b.author_id = au.author_id\n",
    "      LEFT JOIN ratings AS r ON r.book_id = b.book_id\n",
    "      \n",
    "      GROUP BY\n",
    "      author, id\n",
    "      HAVING\n",
    "      COUNT(rating) >= 50) AS a\n",
    "      \n",
    "GROUP BY\n",
    "    author\n",
    "ORDER BY\n",
    "    avg_rating DESC\n",
    "    \n",
    "LIMIT 1\n",
    "'''\n",
    "\n",
    "pd.io.sql.read_sql(query, con = engine)"
   ]
  },
  {
   "cell_type": "markdown",
   "metadata": {},
   "source": [
    "    Результат: определили автора с самой высокой средней оценкой книг (с 50 и более оценками) - J.K. Rowling/Mary GrandPré. Средняя оценка ее книг составляет  - 4.284"
   ]
  },
  {
   "cell_type": "markdown",
   "metadata": {},
   "source": [
    "## Посчитаем среднее количество обзоров от пользователей, которые поставили больше 50 оценок"
   ]
  },
  {
   "cell_type": "code",
   "execution_count": 6,
   "metadata": {
    "scrolled": false
   },
   "outputs": [
    {
     "data": {
      "text/html": [
       "<div>\n",
       "<style scoped>\n",
       "    .dataframe tbody tr th:only-of-type {\n",
       "        vertical-align: middle;\n",
       "    }\n",
       "\n",
       "    .dataframe tbody tr th {\n",
       "        vertical-align: top;\n",
       "    }\n",
       "\n",
       "    .dataframe thead th {\n",
       "        text-align: right;\n",
       "    }\n",
       "</style>\n",
       "<table border=\"1\" class=\"dataframe\">\n",
       "  <thead>\n",
       "    <tr style=\"text-align: right;\">\n",
       "      <th></th>\n",
       "      <th>round</th>\n",
       "    </tr>\n",
       "  </thead>\n",
       "  <tbody>\n",
       "    <tr>\n",
       "      <th>0</th>\n",
       "      <td>24.0</td>\n",
       "    </tr>\n",
       "  </tbody>\n",
       "</table>\n",
       "</div>"
      ],
      "text/plain": [
       "   round\n",
       "0   24.0"
      ]
     },
     "execution_count": 6,
     "metadata": {},
     "output_type": "execute_result"
    }
   ],
   "source": [
    "query = ''' SELECT ROUND(avg(count)) \n",
    "FROM (SELECT COUNT(text)\n",
    "     FROM reviews AS r\n",
    "     LEFT JOIN (SELECT username, COUNT(rating_id)\n",
    "                FROM ratings\n",
    "                GROUP BY username) AS r1 ON r1.username = r.username\n",
    "     WHERE count > 50\n",
    "     GROUP BY r.username) AS count                                  \n",
    "'''\n",
    "\n",
    "pd.io.sql.read_sql(query, con = engine)"
   ]
  },
  {
   "cell_type": "markdown",
   "metadata": {},
   "source": [
    "    Результат: Среднее количество обзоров от пользователей, которые поставили больше 50 оценок - 24"
   ]
  },
  {
   "cell_type": "markdown",
   "metadata": {},
   "source": [
    "## Общий вывод"
   ]
  },
  {
   "cell_type": "markdown",
   "metadata": {},
   "source": [
    "Проанализировав базу данных, вывод получился слежующим:\n",
    "- Книг вышло после 1 января 2000 года - 819;\n",
    "- Для каждой книги было посчитано количество обзоров и средняя оценка;\n",
    "- Определили издательство, которое выпустило наибольшее число книг при их толщине более 50 страниц - это \"Penguin Books\";\n",
    "- Определили автора с самой высокой средней оценкой книг (с 50 и более оценками) - J.K. Rowling/Mary GrandPré. Средняя оценка ее книг составляет  - 4.284 из 5 возможных;\n",
    "- Среднее количество обзоров от пользователей, которые поставили больше 50 оценок - 24<br><br>\n",
    "\n",
    "**Вышеперечисленные данные помогут сформулировать ценностное предложение для нового продукта!**"
   ]
  }
 ],
 "metadata": {
  "ExecuteTimeLog": [
   {
    "duration": 9460,
    "start_time": "2022-09-21T18:48:52.453Z"
   },
   {
    "duration": 75,
    "start_time": "2022-09-21T18:49:22.703Z"
   },
   {
    "duration": 3,
    "start_time": "2022-09-21T18:58:28.184Z"
   },
   {
    "duration": 275,
    "start_time": "2022-09-21T18:58:40.425Z"
   },
   {
    "duration": 112,
    "start_time": "2022-09-21T18:58:46.657Z"
   },
   {
    "duration": 100,
    "start_time": "2022-09-21T19:50:09.767Z"
   },
   {
    "duration": 101,
    "start_time": "2022-09-21T19:50:18.429Z"
   },
   {
    "duration": 197,
    "start_time": "2022-09-21T19:53:56.197Z"
   },
   {
    "duration": 76,
    "start_time": "2022-09-21T19:54:10.916Z"
   },
   {
    "duration": 77,
    "start_time": "2022-09-21T19:54:20.018Z"
   },
   {
    "duration": 2,
    "start_time": "2022-09-21T19:54:47.658Z"
   },
   {
    "duration": 139,
    "start_time": "2022-09-21T19:54:49.777Z"
   },
   {
    "duration": 3,
    "start_time": "2022-09-21T19:54:56.506Z"
   },
   {
    "duration": 81,
    "start_time": "2022-09-21T19:54:58.448Z"
   },
   {
    "duration": 3,
    "start_time": "2022-09-21T19:55:03.975Z"
   },
   {
    "duration": 151,
    "start_time": "2022-09-21T19:55:05.546Z"
   },
   {
    "duration": 2,
    "start_time": "2022-09-21T19:56:04.033Z"
   },
   {
    "duration": 133,
    "start_time": "2022-09-21T19:56:06.092Z"
   },
   {
    "duration": 135,
    "start_time": "2022-09-21T19:56:20.786Z"
   },
   {
    "duration": 101,
    "start_time": "2022-09-21T19:56:25.336Z"
   },
   {
    "duration": 75,
    "start_time": "2022-09-21T19:56:37.587Z"
   },
   {
    "duration": 74,
    "start_time": "2022-09-21T19:56:48.628Z"
   },
   {
    "duration": 99,
    "start_time": "2022-09-21T19:56:54.197Z"
   },
   {
    "duration": 88,
    "start_time": "2022-09-21T19:57:02.760Z"
   },
   {
    "duration": 85,
    "start_time": "2022-09-21T19:57:18.239Z"
   },
   {
    "duration": 75,
    "start_time": "2022-09-21T19:57:42.435Z"
   },
   {
    "duration": 86,
    "start_time": "2022-09-21T19:58:31.587Z"
   },
   {
    "duration": 76,
    "start_time": "2022-09-21T19:58:59.639Z"
   },
   {
    "duration": 80,
    "start_time": "2022-09-21T19:59:04.458Z"
   },
   {
    "duration": 7,
    "start_time": "2022-09-21T19:59:09.332Z"
   },
   {
    "duration": 78,
    "start_time": "2022-09-21T19:59:12.687Z"
   },
   {
    "duration": 74,
    "start_time": "2022-09-21T19:59:34.896Z"
   },
   {
    "duration": 81,
    "start_time": "2022-09-21T19:59:37.980Z"
   },
   {
    "duration": 79,
    "start_time": "2022-09-21T20:00:16.810Z"
   },
   {
    "duration": 71,
    "start_time": "2022-09-21T20:00:28.543Z"
   },
   {
    "duration": 61,
    "start_time": "2022-09-21T20:00:43.828Z"
   },
   {
    "duration": 72,
    "start_time": "2022-09-21T20:00:51.451Z"
   },
   {
    "duration": 52,
    "start_time": "2022-09-21T20:02:58.142Z"
   },
   {
    "duration": 98,
    "start_time": "2022-09-21T20:03:11.530Z"
   },
   {
    "duration": 57,
    "start_time": "2022-09-21T20:03:34.843Z"
   },
   {
    "duration": 44,
    "start_time": "2022-09-21T20:04:54.500Z"
   },
   {
    "duration": 125,
    "start_time": "2022-09-21T20:05:02.405Z"
   },
   {
    "duration": 74,
    "start_time": "2022-09-21T20:05:12.153Z"
   },
   {
    "duration": 72,
    "start_time": "2022-09-21T20:05:18.143Z"
   },
   {
    "duration": 2,
    "start_time": "2022-09-21T20:05:22.310Z"
   },
   {
    "duration": 153,
    "start_time": "2022-09-21T20:05:24.305Z"
   },
   {
    "duration": 135,
    "start_time": "2022-09-21T20:05:29.876Z"
   },
   {
    "duration": 124,
    "start_time": "2022-09-21T20:05:37.155Z"
   },
   {
    "duration": 82,
    "start_time": "2022-09-21T20:06:25.894Z"
   },
   {
    "duration": 6,
    "start_time": "2022-09-21T20:06:34.274Z"
   },
   {
    "duration": 41,
    "start_time": "2022-09-21T20:06:39.277Z"
   },
   {
    "duration": 72,
    "start_time": "2022-09-21T20:07:02.485Z"
   },
   {
    "duration": 46,
    "start_time": "2022-09-21T20:07:11.798Z"
   },
   {
    "duration": 62,
    "start_time": "2022-09-21T20:07:17.552Z"
   },
   {
    "duration": 86,
    "start_time": "2022-09-21T20:07:37.094Z"
   },
   {
    "duration": 45,
    "start_time": "2022-09-21T20:07:41.666Z"
   },
   {
    "duration": 46,
    "start_time": "2022-09-21T20:08:37.475Z"
   },
   {
    "duration": 54,
    "start_time": "2022-09-21T20:08:42.899Z"
   },
   {
    "duration": 42,
    "start_time": "2022-09-21T20:09:13.767Z"
   },
   {
    "duration": 100,
    "start_time": "2022-09-21T20:09:21.148Z"
   },
   {
    "duration": 80,
    "start_time": "2022-09-21T20:09:25.429Z"
   },
   {
    "duration": 82,
    "start_time": "2022-09-21T20:09:41.726Z"
   },
   {
    "duration": 44,
    "start_time": "2022-09-21T20:09:49.863Z"
   },
   {
    "duration": 57,
    "start_time": "2022-09-21T20:11:03.155Z"
   },
   {
    "duration": 51,
    "start_time": "2022-09-21T20:11:13.946Z"
   },
   {
    "duration": 105,
    "start_time": "2022-09-21T20:11:17.218Z"
   },
   {
    "duration": 101,
    "start_time": "2022-09-21T20:11:27.547Z"
   },
   {
    "duration": 73,
    "start_time": "2022-09-21T20:11:41.769Z"
   },
   {
    "duration": 156,
    "start_time": "2022-09-21T20:17:22.510Z"
   },
   {
    "duration": 203,
    "start_time": "2022-09-21T20:18:57.861Z"
   },
   {
    "duration": 271,
    "start_time": "2022-09-21T20:19:10.660Z"
   },
   {
    "duration": 103,
    "start_time": "2022-09-21T20:20:16.655Z"
   },
   {
    "duration": 101,
    "start_time": "2022-09-21T20:20:37.384Z"
   },
   {
    "duration": 108,
    "start_time": "2022-09-21T20:22:31.828Z"
   },
   {
    "duration": 111,
    "start_time": "2022-09-21T20:22:57.255Z"
   },
   {
    "duration": 2147,
    "start_time": "2022-09-21T20:25:12.242Z"
   },
   {
    "duration": 107,
    "start_time": "2022-09-21T20:25:25.828Z"
   },
   {
    "duration": 108,
    "start_time": "2022-09-21T20:25:42.617Z"
   },
   {
    "duration": 107,
    "start_time": "2022-09-21T20:26:01.017Z"
   },
   {
    "duration": 106,
    "start_time": "2022-09-21T20:26:17.617Z"
   },
   {
    "duration": 40,
    "start_time": "2022-09-21T20:28:20.427Z"
   },
   {
    "duration": 76,
    "start_time": "2022-09-21T20:28:36.106Z"
   },
   {
    "duration": 74,
    "start_time": "2022-09-21T20:28:38.917Z"
   },
   {
    "duration": 139,
    "start_time": "2022-09-21T20:29:44.277Z"
   },
   {
    "duration": 141,
    "start_time": "2022-09-21T20:30:28.777Z"
   },
   {
    "duration": 139,
    "start_time": "2022-09-21T20:30:31.455Z"
   },
   {
    "duration": 145,
    "start_time": "2022-09-21T20:30:53.255Z"
   },
   {
    "duration": 925,
    "start_time": "2022-09-21T20:31:24.725Z"
   },
   {
    "duration": 116,
    "start_time": "2022-09-21T20:31:43.862Z"
   },
   {
    "duration": 113,
    "start_time": "2022-09-21T20:32:20.054Z"
   },
   {
    "duration": 87,
    "start_time": "2022-09-21T20:32:36.024Z"
   },
   {
    "duration": 75,
    "start_time": "2022-09-21T20:33:15.332Z"
   },
   {
    "duration": 73,
    "start_time": "2022-09-21T20:36:15.950Z"
   },
   {
    "duration": 93,
    "start_time": "2022-09-21T20:36:31.015Z"
   },
   {
    "duration": 49,
    "start_time": "2022-09-22T06:12:56.141Z"
   },
   {
    "duration": 7641,
    "start_time": "2022-09-22T06:13:01.489Z"
   },
   {
    "duration": 248,
    "start_time": "2022-09-22T06:13:09.132Z"
   },
   {
    "duration": 85,
    "start_time": "2022-09-22T06:13:09.381Z"
   },
   {
    "duration": 73,
    "start_time": "2022-09-22T06:13:09.468Z"
   },
   {
    "duration": 85,
    "start_time": "2022-09-22T06:13:09.542Z"
   },
   {
    "duration": 114,
    "start_time": "2022-09-22T06:14:34.766Z"
   },
   {
    "duration": 178,
    "start_time": "2022-09-22T06:15:25.469Z"
   },
   {
    "duration": 74,
    "start_time": "2022-09-22T06:15:45.158Z"
   },
   {
    "duration": 173,
    "start_time": "2022-09-22T06:16:10.286Z"
   },
   {
    "duration": 228,
    "start_time": "2022-09-22T06:17:01.445Z"
   },
   {
    "duration": 93,
    "start_time": "2022-09-22T06:17:19.465Z"
   },
   {
    "duration": 77,
    "start_time": "2022-09-22T06:17:50.041Z"
   },
   {
    "duration": 140,
    "start_time": "2022-09-22T06:18:42.342Z"
   },
   {
    "duration": 164,
    "start_time": "2022-09-22T06:18:48.255Z"
   },
   {
    "duration": 79,
    "start_time": "2022-09-22T06:18:53.162Z"
   },
   {
    "duration": 182,
    "start_time": "2022-09-22T06:19:12.247Z"
   },
   {
    "duration": 319,
    "start_time": "2022-09-22T06:20:11.523Z"
   },
   {
    "duration": 139,
    "start_time": "2022-09-22T06:20:21.715Z"
   },
   {
    "duration": 254,
    "start_time": "2022-09-22T06:20:38.687Z"
   },
   {
    "duration": 126,
    "start_time": "2022-09-22T06:20:52.511Z"
   },
   {
    "duration": 91,
    "start_time": "2022-09-22T06:21:06.554Z"
   },
   {
    "duration": 79,
    "start_time": "2022-09-22T06:21:50.543Z"
   },
   {
    "duration": 82,
    "start_time": "2022-09-22T06:22:13.938Z"
   },
   {
    "duration": 79,
    "start_time": "2022-09-22T06:22:21.951Z"
   },
   {
    "duration": 79,
    "start_time": "2022-09-22T06:22:36.781Z"
   },
   {
    "duration": 77,
    "start_time": "2022-09-22T06:23:00.924Z"
   },
   {
    "duration": 77,
    "start_time": "2022-09-22T06:23:09.280Z"
   },
   {
    "duration": 5263,
    "start_time": "2022-09-22T06:24:14.207Z"
   },
   {
    "duration": 79,
    "start_time": "2022-09-22T06:24:26.044Z"
   },
   {
    "duration": 79,
    "start_time": "2022-09-22T06:24:32.120Z"
   },
   {
    "duration": 77,
    "start_time": "2022-09-22T06:24:36.373Z"
   },
   {
    "duration": 78,
    "start_time": "2022-09-22T06:24:40.273Z"
   },
   {
    "duration": 76,
    "start_time": "2022-09-22T06:24:48.813Z"
   },
   {
    "duration": 128,
    "start_time": "2022-09-22T06:27:55.816Z"
   },
   {
    "duration": 73,
    "start_time": "2022-09-22T06:30:12.903Z"
   },
   {
    "duration": 126,
    "start_time": "2022-09-22T06:31:19.738Z"
   },
   {
    "duration": 141,
    "start_time": "2022-09-22T06:34:39.352Z"
   },
   {
    "duration": 75,
    "start_time": "2022-09-22T06:34:46.745Z"
   },
   {
    "duration": 234,
    "start_time": "2022-09-22T06:36:15.660Z"
   },
   {
    "duration": 141,
    "start_time": "2022-09-22T06:36:58.348Z"
   },
   {
    "duration": 147,
    "start_time": "2022-09-22T06:37:30.861Z"
   },
   {
    "duration": 73,
    "start_time": "2022-09-22T06:37:54.150Z"
   },
   {
    "duration": 80,
    "start_time": "2022-09-22T06:38:27.471Z"
   },
   {
    "duration": 73,
    "start_time": "2022-09-22T06:40:15.018Z"
   },
   {
    "duration": 78,
    "start_time": "2022-09-22T06:41:08.009Z"
   },
   {
    "duration": 76,
    "start_time": "2022-09-22T06:41:13.826Z"
   },
   {
    "duration": 79,
    "start_time": "2022-09-22T06:43:34.845Z"
   },
   {
    "duration": 77,
    "start_time": "2022-09-22T06:44:11.899Z"
   },
   {
    "duration": 73,
    "start_time": "2022-09-22T06:44:45.926Z"
   },
   {
    "duration": 75,
    "start_time": "2022-09-22T06:54:00.334Z"
   },
   {
    "duration": 74,
    "start_time": "2022-09-22T06:54:05.944Z"
   },
   {
    "duration": 152,
    "start_time": "2022-09-22T06:54:44.924Z"
   },
   {
    "duration": 73,
    "start_time": "2022-09-22T06:56:18.503Z"
   },
   {
    "duration": 173,
    "start_time": "2022-09-22T06:56:28.023Z"
   },
   {
    "duration": 73,
    "start_time": "2022-09-22T06:56:32.471Z"
   },
   {
    "duration": 74,
    "start_time": "2022-09-22T06:57:15.239Z"
   },
   {
    "duration": 74,
    "start_time": "2022-09-22T06:57:42.035Z"
   },
   {
    "duration": 79,
    "start_time": "2022-09-22T06:57:54.821Z"
   },
   {
    "duration": 8862,
    "start_time": "2022-09-22T06:58:01.749Z"
   },
   {
    "duration": 280,
    "start_time": "2022-09-22T06:58:10.614Z"
   },
   {
    "duration": 88,
    "start_time": "2022-09-22T06:58:10.895Z"
   },
   {
    "duration": 79,
    "start_time": "2022-09-22T06:58:10.985Z"
   },
   {
    "duration": 81,
    "start_time": "2022-09-22T06:58:11.066Z"
   },
   {
    "duration": 80,
    "start_time": "2022-09-22T06:58:11.149Z"
   },
   {
    "duration": 12748,
    "start_time": "2022-09-22T07:02:13.431Z"
   },
   {
    "duration": 98,
    "start_time": "2022-09-22T07:02:26.973Z"
   },
   {
    "duration": 31,
    "start_time": "2022-09-22T07:02:28.055Z"
   },
   {
    "duration": 22,
    "start_time": "2022-09-22T07:02:31.094Z"
   },
   {
    "duration": 175,
    "start_time": "2022-09-22T07:02:40.513Z"
   },
   {
    "duration": 20,
    "start_time": "2022-09-22T07:03:14.116Z"
   },
   {
    "duration": 19,
    "start_time": "2022-09-22T07:03:53.708Z"
   },
   {
    "duration": 17,
    "start_time": "2022-09-22T07:03:55.413Z"
   },
   {
    "duration": 7383,
    "start_time": "2022-09-22T11:52:28.869Z"
   },
   {
    "duration": 249,
    "start_time": "2022-09-22T11:52:36.254Z"
   },
   {
    "duration": 85,
    "start_time": "2022-09-22T11:52:36.505Z"
   },
   {
    "duration": 73,
    "start_time": "2022-09-22T11:52:36.593Z"
   },
   {
    "duration": 78,
    "start_time": "2022-09-22T11:52:36.668Z"
   },
   {
    "duration": 78,
    "start_time": "2022-09-22T11:52:36.748Z"
   },
   {
    "duration": 68,
    "start_time": "2022-09-22T11:52:49.869Z"
   },
   {
    "duration": 108,
    "start_time": "2022-09-22T11:56:15.204Z"
   },
   {
    "duration": 77,
    "start_time": "2022-09-22T11:59:13.291Z"
   },
   {
    "duration": 82,
    "start_time": "2022-09-22T12:01:01.307Z"
   },
   {
    "duration": 78,
    "start_time": "2022-09-22T12:01:11.411Z"
   },
   {
    "duration": 79,
    "start_time": "2022-09-22T12:01:20.890Z"
   },
   {
    "duration": 264,
    "start_time": "2022-09-22T12:01:30.970Z"
   },
   {
    "duration": 77,
    "start_time": "2022-09-22T12:01:35.730Z"
   },
   {
    "duration": 77,
    "start_time": "2022-09-22T12:01:43.482Z"
   },
   {
    "duration": 79,
    "start_time": "2022-09-22T12:01:54.490Z"
   },
   {
    "duration": 12661,
    "start_time": "2022-09-22T12:04:29.772Z"
   },
   {
    "duration": 257,
    "start_time": "2022-09-22T12:04:42.436Z"
   },
   {
    "duration": 116,
    "start_time": "2022-09-22T12:04:42.695Z"
   },
   {
    "duration": 78,
    "start_time": "2022-09-22T12:04:42.813Z"
   },
   {
    "duration": 80,
    "start_time": "2022-09-22T12:04:42.892Z"
   },
   {
    "duration": 78,
    "start_time": "2022-09-22T12:04:42.974Z"
   },
   {
    "duration": 84,
    "start_time": "2022-09-22T12:05:21.693Z"
   },
   {
    "duration": 103,
    "start_time": "2022-09-22T12:10:11.034Z"
   },
   {
    "duration": 7,
    "start_time": "2022-09-22T12:11:02.981Z"
   },
   {
    "duration": 8,
    "start_time": "2022-09-22T12:11:36.505Z"
   },
   {
    "duration": 15,
    "start_time": "2022-09-22T12:13:26.043Z"
   },
   {
    "duration": 11,
    "start_time": "2022-09-22T12:13:39.442Z"
   },
   {
    "duration": 829,
    "start_time": "2022-09-22T12:14:57.751Z"
   },
   {
    "duration": 149,
    "start_time": "2022-09-22T12:17:31.849Z"
   },
   {
    "duration": 169,
    "start_time": "2022-09-22T12:18:15.683Z"
   },
   {
    "duration": 183,
    "start_time": "2022-09-22T12:19:49.300Z"
   },
   {
    "duration": 187,
    "start_time": "2022-09-22T12:20:04.473Z"
   },
   {
    "duration": 147,
    "start_time": "2022-09-22T12:22:35.966Z"
   },
   {
    "duration": 157,
    "start_time": "2022-09-22T12:23:22.783Z"
   },
   {
    "duration": 86,
    "start_time": "2022-09-22T12:23:48.694Z"
   },
   {
    "duration": 97,
    "start_time": "2022-09-22T12:24:09.079Z"
   },
   {
    "duration": 82,
    "start_time": "2022-09-22T12:24:30.709Z"
   },
   {
    "duration": 88,
    "start_time": "2022-09-22T12:24:46.808Z"
   },
   {
    "duration": 87,
    "start_time": "2022-09-22T12:25:02.373Z"
   },
   {
    "duration": 91,
    "start_time": "2022-09-22T12:25:14.993Z"
   },
   {
    "duration": 115,
    "start_time": "2022-09-22T12:26:14.677Z"
   },
   {
    "duration": 92,
    "start_time": "2022-09-22T12:26:29.009Z"
   },
   {
    "duration": 86,
    "start_time": "2022-09-22T12:27:01.340Z"
   },
   {
    "duration": 86,
    "start_time": "2022-09-22T12:27:47.154Z"
   },
   {
    "duration": 8343,
    "start_time": "2022-09-22T12:27:59.458Z"
   },
   {
    "duration": 255,
    "start_time": "2022-09-22T12:28:07.804Z"
   },
   {
    "duration": 123,
    "start_time": "2022-09-22T12:28:08.062Z"
   },
   {
    "duration": 78,
    "start_time": "2022-09-22T12:28:08.187Z"
   },
   {
    "duration": 83,
    "start_time": "2022-09-22T12:28:08.268Z"
   },
   {
    "duration": 81,
    "start_time": "2022-09-22T12:28:08.353Z"
   },
   {
    "duration": 7079,
    "start_time": "2022-09-22T12:29:50.886Z"
   },
   {
    "duration": 243,
    "start_time": "2022-09-22T12:29:57.967Z"
   },
   {
    "duration": 112,
    "start_time": "2022-09-22T12:29:58.214Z"
   },
   {
    "duration": 74,
    "start_time": "2022-09-22T12:29:58.329Z"
   },
   {
    "duration": 78,
    "start_time": "2022-09-22T12:29:58.405Z"
   },
   {
    "duration": 74,
    "start_time": "2022-09-22T12:29:58.485Z"
   },
   {
    "duration": 5662,
    "start_time": "2022-09-22T14:55:54.573Z"
   },
   {
    "duration": 266,
    "start_time": "2022-09-22T14:56:00.237Z"
   },
   {
    "duration": 633,
    "start_time": "2022-09-22T14:56:00.504Z"
   },
   {
    "duration": 77,
    "start_time": "2022-09-22T14:56:01.139Z"
   },
   {
    "duration": 83,
    "start_time": "2022-09-22T14:56:01.218Z"
   },
   {
    "duration": 77,
    "start_time": "2022-09-22T14:56:01.303Z"
   },
   {
    "duration": 123,
    "start_time": "2022-09-22T14:56:08.461Z"
   },
   {
    "duration": 111,
    "start_time": "2022-09-22T14:56:20.814Z"
   },
   {
    "duration": 3267,
    "start_time": "2022-09-22T14:56:30.994Z"
   },
   {
    "duration": 113,
    "start_time": "2022-09-22T14:56:38.542Z"
   },
   {
    "duration": 112,
    "start_time": "2022-09-22T14:56:46.394Z"
   },
   {
    "duration": 113,
    "start_time": "2022-09-22T14:56:56.693Z"
   },
   {
    "duration": 113,
    "start_time": "2022-09-22T14:57:02.454Z"
   },
   {
    "duration": 111,
    "start_time": "2022-09-22T14:57:10.525Z"
   },
   {
    "duration": 111,
    "start_time": "2022-09-22T14:57:15.017Z"
   },
   {
    "duration": 69,
    "start_time": "2022-09-22T14:59:05.635Z"
   },
   {
    "duration": 94,
    "start_time": "2022-09-22T14:59:23.764Z"
   },
   {
    "duration": 170,
    "start_time": "2022-09-22T15:00:14.522Z"
   },
   {
    "duration": 154,
    "start_time": "2022-09-22T15:00:20.564Z"
   },
   {
    "duration": 112,
    "start_time": "2022-09-22T15:01:11.959Z"
   },
   {
    "duration": 133,
    "start_time": "2022-09-22T15:01:22.751Z"
   },
   {
    "duration": 135,
    "start_time": "2022-09-22T15:01:55.742Z"
   },
   {
    "duration": 129,
    "start_time": "2022-09-22T15:02:57.999Z"
   },
   {
    "duration": 130,
    "start_time": "2022-09-22T15:03:30.248Z"
   },
   {
    "duration": 130,
    "start_time": "2022-09-22T15:03:37.273Z"
   },
   {
    "duration": 130,
    "start_time": "2022-09-22T15:03:42.072Z"
   },
   {
    "duration": 139,
    "start_time": "2022-09-22T15:03:57.773Z"
   },
   {
    "duration": 107,
    "start_time": "2022-09-22T15:06:33.925Z"
   },
   {
    "duration": 93,
    "start_time": "2022-09-22T15:08:01.740Z"
   },
   {
    "duration": 91,
    "start_time": "2022-09-22T15:08:45.524Z"
   },
   {
    "duration": 105,
    "start_time": "2022-09-22T15:08:51.662Z"
   },
   {
    "duration": 97,
    "start_time": "2022-09-22T15:09:01.626Z"
   },
   {
    "duration": 92,
    "start_time": "2022-09-22T15:09:22.894Z"
   },
   {
    "duration": 78,
    "start_time": "2022-09-22T15:10:06.921Z"
   },
   {
    "duration": 93,
    "start_time": "2022-09-22T15:10:17.680Z"
   },
   {
    "duration": 78,
    "start_time": "2022-09-22T15:10:25.080Z"
   },
   {
    "duration": 93,
    "start_time": "2022-09-22T15:10:47.211Z"
   },
   {
    "duration": 129,
    "start_time": "2022-09-22T15:11:33.042Z"
   },
   {
    "duration": 134,
    "start_time": "2022-09-22T15:11:38.110Z"
   },
   {
    "duration": 171,
    "start_time": "2022-09-22T15:11:51.243Z"
   },
   {
    "duration": 94,
    "start_time": "2022-09-22T15:11:56.951Z"
   },
   {
    "duration": 119,
    "start_time": "2022-09-22T15:12:04.291Z"
   },
   {
    "duration": 117,
    "start_time": "2022-09-22T15:12:24.203Z"
   },
   {
    "duration": 117,
    "start_time": "2022-09-22T15:13:03.594Z"
   },
   {
    "duration": 118,
    "start_time": "2022-09-22T15:13:20.941Z"
   },
   {
    "duration": 115,
    "start_time": "2022-09-22T15:14:16.435Z"
   },
   {
    "duration": 116,
    "start_time": "2022-09-22T15:14:51.474Z"
   },
   {
    "duration": 118,
    "start_time": "2022-09-22T15:14:56.828Z"
   },
   {
    "duration": 116,
    "start_time": "2022-09-22T15:15:10.998Z"
   },
   {
    "duration": 116,
    "start_time": "2022-09-22T15:16:02.747Z"
   },
   {
    "duration": 112,
    "start_time": "2022-09-22T15:16:53.135Z"
   },
   {
    "duration": 119,
    "start_time": "2022-09-22T15:17:02.037Z"
   },
   {
    "duration": 117,
    "start_time": "2022-09-22T15:17:16.097Z"
   },
   {
    "duration": 116,
    "start_time": "2022-09-22T15:17:20.388Z"
   },
   {
    "duration": 115,
    "start_time": "2022-09-22T15:17:33.139Z"
   },
   {
    "duration": 134,
    "start_time": "2022-09-22T15:18:36.701Z"
   },
   {
    "duration": 130,
    "start_time": "2022-09-22T15:18:47.089Z"
   },
   {
    "duration": 120,
    "start_time": "2022-09-22T15:18:54.569Z"
   },
   {
    "duration": 116,
    "start_time": "2022-09-22T15:19:03.162Z"
   }
  ],
  "kernelspec": {
   "display_name": "Python 3 (ipykernel)",
   "language": "python",
   "name": "python3"
  },
  "language_info": {
   "codemirror_mode": {
    "name": "ipython",
    "version": 3
   },
   "file_extension": ".py",
   "mimetype": "text/x-python",
   "name": "python",
   "nbconvert_exporter": "python",
   "pygments_lexer": "ipython3",
   "version": "3.9.7"
  },
  "toc": {
   "base_numbering": 1,
   "nav_menu": {},
   "number_sections": true,
   "sideBar": true,
   "skip_h1_title": true,
   "title_cell": "Table of Contents",
   "title_sidebar": "Contents",
   "toc_cell": false,
   "toc_position": {},
   "toc_section_display": true,
   "toc_window_display": false
  }
 },
 "nbformat": 4,
 "nbformat_minor": 2
}
